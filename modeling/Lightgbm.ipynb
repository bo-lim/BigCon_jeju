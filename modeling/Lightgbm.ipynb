{
 "cells": [
  {
   "cell_type": "code",
   "execution_count": 1,
   "id": "ceef5583",
   "metadata": {
    "ExecuteTime": {
     "end_time": "2021-09-13T10:26:38.022619Z",
     "start_time": "2021-09-13T10:26:31.747518Z"
    }
   },
   "outputs": [],
   "source": [
    "import xgboost as xgb ## XGBoost 불러오기\n",
    "from xgboost import plot_importance ## Feature Importance를 불러오기 위함\n",
    "import pandas as pd\n",
    "import numpy as np\n",
    "from sklearn.model_selection import train_test_split\n",
    "from sklearn.metrics import confusion_matrix, accuracy_score, precision_score, recall_score\n",
    "from sklearn.metrics import confusion_matrix, f1_score, roc_auc_score\n",
    "from sklearn.preprocessing import RobustScaler\n",
    "import warnings\n",
    "import matplotlib.pyplot as plt\n",
    "from sklearn.pipeline import make_pipeline\n",
    "from sklearn.model_selection import GridSearchCV\n",
    "warnings.filterwarnings('ignore')\n",
    "import lightgbm as lgb\n",
    "from lightgbm import LGBMRegressor"
   ]
  },
  {
   "cell_type": "code",
   "execution_count": 128,
   "id": "a4cbd245",
   "metadata": {
    "ExecuteTime": {
     "end_time": "2021-09-13T11:04:51.293171Z",
     "start_time": "2021-09-13T11:04:51.113821Z"
    }
   },
   "outputs": [],
   "source": [
    "data = pd.read_csv(\"eco jeju/final_final_train_0913.csv\")"
   ]
  },
  {
   "cell_type": "code",
   "execution_count": 129,
   "id": "c291b8cd",
   "metadata": {
    "ExecuteTime": {
     "end_time": "2021-09-13T11:04:52.291859Z",
     "start_time": "2021-09-13T11:04:52.262864Z"
    }
   },
   "outputs": [],
   "source": [
    "data.drop(columns=['Unnamed: 0'],inplace=True)"
   ]
  },
  {
   "cell_type": "code",
   "execution_count": 130,
   "id": "eeafb459",
   "metadata": {
    "ExecuteTime": {
     "end_time": "2021-09-13T11:04:52.773984Z",
     "start_time": "2021-09-13T11:04:52.722679Z"
    }
   },
   "outputs": [],
   "source": [
    "data.sort_values(by=['base_date'],inplace=True)"
   ]
  },
  {
   "cell_type": "code",
   "execution_count": 131,
   "id": "161d1fe7",
   "metadata": {
    "ExecuteTime": {
     "end_time": "2021-09-13T11:05:15.440365Z",
     "start_time": "2021-09-13T11:05:15.428015Z"
    }
   },
   "outputs": [],
   "source": [
    "data.reset_index(inplace=True)"
   ]
  },
  {
   "cell_type": "code",
   "execution_count": 132,
   "id": "67ec0a41",
   "metadata": {
    "ExecuteTime": {
     "end_time": "2021-09-13T11:05:16.170387Z",
     "start_time": "2021-09-13T11:05:16.137691Z"
    }
   },
   "outputs": [],
   "source": [
    "data.drop(columns=['index'],inplace=True)"
   ]
  },
  {
   "cell_type": "code",
   "execution_count": 133,
   "id": "4e63b218",
   "metadata": {
    "ExecuteTime": {
     "end_time": "2021-09-13T11:05:17.462591Z",
     "start_time": "2021-09-13T11:05:17.413557Z"
    }
   },
   "outputs": [
    {
     "data": {
      "text/html": [
       "<div>\n",
       "<style scoped>\n",
       "    .dataframe tbody tr th:only-of-type {\n",
       "        vertical-align: middle;\n",
       "    }\n",
       "\n",
       "    .dataframe tbody tr th {\n",
       "        vertical-align: top;\n",
       "    }\n",
       "\n",
       "    .dataframe thead th {\n",
       "        text-align: right;\n",
       "    }\n",
       "</style>\n",
       "<table border=\"1\" class=\"dataframe\">\n",
       "  <thead>\n",
       "    <tr style=\"text-align: right;\">\n",
       "      <th></th>\n",
       "      <th>base_date</th>\n",
       "      <th>emd_nm</th>\n",
       "      <th>em_g</th>\n",
       "      <th>total_pop</th>\n",
       "      <th>jeju_resd_pop</th>\n",
       "      <th>card_use_amt</th>\n",
       "      <th>delivery_amt</th>\n",
       "      <th>market_amt</th>\n",
       "      <th>card_use_cnt</th>\n",
       "      <th>delivery_cnt</th>\n",
       "      <th>market_cnt</th>\n",
       "      <th>em_cnt</th>\n",
       "      <th>visit_pop</th>\n",
       "      <th>work_pop</th>\n",
       "      <th>youth_pop</th>\n",
       "      <th>total_frgn_pop</th>\n",
       "    </tr>\n",
       "  </thead>\n",
       "  <tbody>\n",
       "    <tr>\n",
       "      <th>0</th>\n",
       "      <td>2018-01-01</td>\n",
       "      <td>전체</td>\n",
       "      <td>85755000</td>\n",
       "      <td>679922</td>\n",
       "      <td>535888.570169</td>\n",
       "      <td>3.786578e+09</td>\n",
       "      <td>20891720.0</td>\n",
       "      <td>1.602637e+09</td>\n",
       "      <td>108983.0</td>\n",
       "      <td>1057.0</td>\n",
       "      <td>40848.0</td>\n",
       "      <td>32512</td>\n",
       "      <td>7.210523e+06</td>\n",
       "      <td>830189.1305</td>\n",
       "      <td>54466.952499</td>\n",
       "      <td>2215.223209</td>\n",
       "    </tr>\n",
       "    <tr>\n",
       "      <th>1</th>\n",
       "      <td>2018-01-01</td>\n",
       "      <td>오라동</td>\n",
       "      <td>2128300</td>\n",
       "      <td>13829</td>\n",
       "      <td>12662.099974</td>\n",
       "      <td>9.421414e+07</td>\n",
       "      <td>436990.0</td>\n",
       "      <td>4.826442e+07</td>\n",
       "      <td>2652.0</td>\n",
       "      <td>25.0</td>\n",
       "      <td>1105.0</td>\n",
       "      <td>818</td>\n",
       "      <td>2.505763e+05</td>\n",
       "      <td>22012.2070</td>\n",
       "      <td>1377.472687</td>\n",
       "      <td>41.620260</td>\n",
       "    </tr>\n",
       "    <tr>\n",
       "      <th>2</th>\n",
       "      <td>2018-01-01</td>\n",
       "      <td>외도동</td>\n",
       "      <td>3476650</td>\n",
       "      <td>21105</td>\n",
       "      <td>8902.768868</td>\n",
       "      <td>1.373002e+08</td>\n",
       "      <td>359412.0</td>\n",
       "      <td>6.363159e+07</td>\n",
       "      <td>4313.0</td>\n",
       "      <td>15.0</td>\n",
       "      <td>1979.0</td>\n",
       "      <td>1425</td>\n",
       "      <td>1.126928e+05</td>\n",
       "      <td>10341.1722</td>\n",
       "      <td>839.760964</td>\n",
       "      <td>39.834595</td>\n",
       "    </tr>\n",
       "    <tr>\n",
       "      <th>3</th>\n",
       "      <td>2018-01-01</td>\n",
       "      <td>용담1동</td>\n",
       "      <td>1487100</td>\n",
       "      <td>7887</td>\n",
       "      <td>6631.149998</td>\n",
       "      <td>5.763687e+07</td>\n",
       "      <td>476270.0</td>\n",
       "      <td>3.462198e+07</td>\n",
       "      <td>1317.0</td>\n",
       "      <td>20.0</td>\n",
       "      <td>565.0</td>\n",
       "      <td>532</td>\n",
       "      <td>1.019396e+05</td>\n",
       "      <td>9363.6225</td>\n",
       "      <td>601.809124</td>\n",
       "      <td>28.697845</td>\n",
       "    </tr>\n",
       "    <tr>\n",
       "      <th>4</th>\n",
       "      <td>2018-01-01</td>\n",
       "      <td>용담2동</td>\n",
       "      <td>2581850</td>\n",
       "      <td>15916</td>\n",
       "      <td>10504.580161</td>\n",
       "      <td>1.051404e+08</td>\n",
       "      <td>291163.0</td>\n",
       "      <td>4.387306e+07</td>\n",
       "      <td>3173.0</td>\n",
       "      <td>20.0</td>\n",
       "      <td>1257.0</td>\n",
       "      <td>1052</td>\n",
       "      <td>2.892350e+05</td>\n",
       "      <td>44610.5275</td>\n",
       "      <td>1609.868207</td>\n",
       "      <td>139.279035</td>\n",
       "    </tr>\n",
       "    <tr>\n",
       "      <th>...</th>\n",
       "      <td>...</td>\n",
       "      <td>...</td>\n",
       "      <td>...</td>\n",
       "      <td>...</td>\n",
       "      <td>...</td>\n",
       "      <td>...</td>\n",
       "      <td>...</td>\n",
       "      <td>...</td>\n",
       "      <td>...</td>\n",
       "      <td>...</td>\n",
       "      <td>...</td>\n",
       "      <td>...</td>\n",
       "      <td>...</td>\n",
       "      <td>...</td>\n",
       "      <td>...</td>\n",
       "      <td>...</td>\n",
       "    </tr>\n",
       "    <tr>\n",
       "      <th>50881</th>\n",
       "      <td>2021-06-30</td>\n",
       "      <td>성산읍</td>\n",
       "      <td>3380000</td>\n",
       "      <td>16972</td>\n",
       "      <td>13809.659196</td>\n",
       "      <td>8.855328e+07</td>\n",
       "      <td>2250850.0</td>\n",
       "      <td>2.500685e+07</td>\n",
       "      <td>1720.0</td>\n",
       "      <td>101.0</td>\n",
       "      <td>624.0</td>\n",
       "      <td>737</td>\n",
       "      <td>2.503109e+05</td>\n",
       "      <td>24379.9565</td>\n",
       "      <td>1612.380993</td>\n",
       "      <td>29.272263</td>\n",
       "    </tr>\n",
       "    <tr>\n",
       "      <th>50882</th>\n",
       "      <td>2021-06-30</td>\n",
       "      <td>송산동</td>\n",
       "      <td>1090000</td>\n",
       "      <td>4510</td>\n",
       "      <td>1787.890608</td>\n",
       "      <td>3.939310e+07</td>\n",
       "      <td>968778.0</td>\n",
       "      <td>1.469781e+07</td>\n",
       "      <td>738.0</td>\n",
       "      <td>40.0</td>\n",
       "      <td>302.0</td>\n",
       "      <td>290</td>\n",
       "      <td>4.834354e+04</td>\n",
       "      <td>3387.0801</td>\n",
       "      <td>230.594645</td>\n",
       "      <td>14.582817</td>\n",
       "    </tr>\n",
       "    <tr>\n",
       "      <th>50883</th>\n",
       "      <td>2021-06-30</td>\n",
       "      <td>아라동</td>\n",
       "      <td>3565000</td>\n",
       "      <td>39396</td>\n",
       "      <td>42414.120501</td>\n",
       "      <td>2.900830e+08</td>\n",
       "      <td>24297973.0</td>\n",
       "      <td>8.831433e+07</td>\n",
       "      <td>9149.0</td>\n",
       "      <td>1066.0</td>\n",
       "      <td>2590.0</td>\n",
       "      <td>2001</td>\n",
       "      <td>3.830194e+05</td>\n",
       "      <td>121879.6674</td>\n",
       "      <td>4231.797354</td>\n",
       "      <td>41.029042</td>\n",
       "    </tr>\n",
       "    <tr>\n",
       "      <th>50884</th>\n",
       "      <td>2021-06-30</td>\n",
       "      <td>도두동</td>\n",
       "      <td>597050</td>\n",
       "      <td>3403</td>\n",
       "      <td>1183.279682</td>\n",
       "      <td>4.068692e+07</td>\n",
       "      <td>1303776.0</td>\n",
       "      <td>1.502919e+07</td>\n",
       "      <td>758.0</td>\n",
       "      <td>50.0</td>\n",
       "      <td>246.0</td>\n",
       "      <td>292</td>\n",
       "      <td>8.122313e+04</td>\n",
       "      <td>4625.5674</td>\n",
       "      <td>349.232990</td>\n",
       "      <td>11.704028</td>\n",
       "    </tr>\n",
       "    <tr>\n",
       "      <th>50885</th>\n",
       "      <td>2021-06-30</td>\n",
       "      <td>효돈동</td>\n",
       "      <td>1011050</td>\n",
       "      <td>5314</td>\n",
       "      <td>3726.154500</td>\n",
       "      <td>3.104390e+07</td>\n",
       "      <td>291740.0</td>\n",
       "      <td>1.556358e+07</td>\n",
       "      <td>714.0</td>\n",
       "      <td>15.0</td>\n",
       "      <td>322.0</td>\n",
       "      <td>313</td>\n",
       "      <td>4.439045e+04</td>\n",
       "      <td>5386.4946</td>\n",
       "      <td>283.896570</td>\n",
       "      <td>8.603778</td>\n",
       "    </tr>\n",
       "  </tbody>\n",
       "</table>\n",
       "<p>50886 rows × 16 columns</p>\n",
       "</div>"
      ],
      "text/plain": [
       "        base_date emd_nm      em_g  total_pop  jeju_resd_pop  card_use_amt  \\\n",
       "0      2018-01-01     전체  85755000     679922  535888.570169  3.786578e+09   \n",
       "1      2018-01-01    오라동   2128300      13829   12662.099974  9.421414e+07   \n",
       "2      2018-01-01    외도동   3476650      21105    8902.768868  1.373002e+08   \n",
       "3      2018-01-01   용담1동   1487100       7887    6631.149998  5.763687e+07   \n",
       "4      2018-01-01   용담2동   2581850      15916   10504.580161  1.051404e+08   \n",
       "...           ...    ...       ...        ...            ...           ...   \n",
       "50881  2021-06-30    성산읍   3380000      16972   13809.659196  8.855328e+07   \n",
       "50882  2021-06-30    송산동   1090000       4510    1787.890608  3.939310e+07   \n",
       "50883  2021-06-30    아라동   3565000      39396   42414.120501  2.900830e+08   \n",
       "50884  2021-06-30    도두동    597050       3403    1183.279682  4.068692e+07   \n",
       "50885  2021-06-30    효돈동   1011050       5314    3726.154500  3.104390e+07   \n",
       "\n",
       "       delivery_amt    market_amt  card_use_cnt  delivery_cnt  market_cnt  \\\n",
       "0        20891720.0  1.602637e+09      108983.0        1057.0     40848.0   \n",
       "1          436990.0  4.826442e+07        2652.0          25.0      1105.0   \n",
       "2          359412.0  6.363159e+07        4313.0          15.0      1979.0   \n",
       "3          476270.0  3.462198e+07        1317.0          20.0       565.0   \n",
       "4          291163.0  4.387306e+07        3173.0          20.0      1257.0   \n",
       "...             ...           ...           ...           ...         ...   \n",
       "50881     2250850.0  2.500685e+07        1720.0         101.0       624.0   \n",
       "50882      968778.0  1.469781e+07         738.0          40.0       302.0   \n",
       "50883    24297973.0  8.831433e+07        9149.0        1066.0      2590.0   \n",
       "50884     1303776.0  1.502919e+07         758.0          50.0       246.0   \n",
       "50885      291740.0  1.556358e+07         714.0          15.0       322.0   \n",
       "\n",
       "       em_cnt     visit_pop     work_pop     youth_pop  total_frgn_pop  \n",
       "0       32512  7.210523e+06  830189.1305  54466.952499     2215.223209  \n",
       "1         818  2.505763e+05   22012.2070   1377.472687       41.620260  \n",
       "2        1425  1.126928e+05   10341.1722    839.760964       39.834595  \n",
       "3         532  1.019396e+05    9363.6225    601.809124       28.697845  \n",
       "4        1052  2.892350e+05   44610.5275   1609.868207      139.279035  \n",
       "...       ...           ...          ...           ...             ...  \n",
       "50881     737  2.503109e+05   24379.9565   1612.380993       29.272263  \n",
       "50882     290  4.834354e+04    3387.0801    230.594645       14.582817  \n",
       "50883    2001  3.830194e+05  121879.6674   4231.797354       41.029042  \n",
       "50884     292  8.122313e+04    4625.5674    349.232990       11.704028  \n",
       "50885     313  4.439045e+04    5386.4946    283.896570        8.603778  \n",
       "\n",
       "[50886 rows x 16 columns]"
      ]
     },
     "execution_count": 133,
     "metadata": {},
     "output_type": "execute_result"
    }
   ],
   "source": [
    "data"
   ]
  },
  {
   "cell_type": "code",
   "execution_count": 216,
   "id": "4fe833fc",
   "metadata": {
    "ExecuteTime": {
     "end_time": "2021-09-13T12:16:07.798563Z",
     "start_time": "2021-09-13T12:16:07.765884Z"
    }
   },
   "outputs": [],
   "source": [
    "X_features = data.loc[:, ['base_date','youth_pop', 'total_frgn_pop', 'total_pop', \n",
    "                                'jeju_resd_pop', 'card_use_amt', 'delivery_amt',\n",
    "                                'market_amt', 'card_use_cnt','market_cnt','em_cnt','visit_pop','work_pop']]\n",
    "y_label = data.loc[:, 'em_g']"
   ]
  },
  {
   "cell_type": "code",
   "execution_count": 87,
   "id": "896e4e90",
   "metadata": {
    "ExecuteTime": {
     "end_time": "2021-09-13T10:48:18.612336Z",
     "start_time": "2021-09-13T10:48:18.574680Z"
    }
   },
   "outputs": [],
   "source": [
    "from sklearn.preprocessing import OrdinalEncoder\n",
    "order=OrdinalEncoder()\n",
    "X_features['base_date']=order.fit_transform(X_features['base_date'].values.reshape(-1,1))"
   ]
  },
  {
   "cell_type": "code",
   "execution_count": 88,
   "id": "423ceab2",
   "metadata": {
    "ExecuteTime": {
     "end_time": "2021-09-13T10:48:18.938878Z",
     "start_time": "2021-09-13T10:48:18.925436Z"
    }
   },
   "outputs": [
    {
     "data": {
      "text/plain": [
       "(50886, 13)"
      ]
     },
     "execution_count": 88,
     "metadata": {},
     "output_type": "execute_result"
    }
   ],
   "source": [
    "X_features.shape"
   ]
  },
  {
   "cell_type": "code",
   "execution_count": 217,
   "id": "ea950d8b",
   "metadata": {
    "ExecuteTime": {
     "end_time": "2021-09-13T12:16:17.094698Z",
     "start_time": "2021-09-13T12:16:17.074032Z"
    }
   },
   "outputs": [
    {
     "name": "stdout",
     "output_type": "stream",
     "text": [
      "(49638, 13) (1248, 13) (49638,) (1248,)\n"
     ]
    }
   ],
   "source": [
    "#6월1일까지 train\n",
    "X_train = X_features.iloc[:49638]\n",
    "X_valid = X_features.iloc[49638:]\n",
    "y_train = y_label.iloc[:49638]\n",
    "y_valid = y_label.loc[49638:]\n",
    "print(X_train.shape, X_valid.shape,y_train.shape,y_valid.shape)"
   ]
  },
  {
   "cell_type": "code",
   "execution_count": 90,
   "id": "d4a7de5f",
   "metadata": {
    "ExecuteTime": {
     "end_time": "2021-09-13T10:48:19.980976Z",
     "start_time": "2021-09-13T10:48:19.821684Z"
    }
   },
   "outputs": [],
   "source": [
    "scaler = RobustScaler()\n",
    "\n",
    "X_train[['youth_pop', 'total_frgn_pop', 'total_pop', \n",
    "                                'jeju_resd_pop', 'card_use_amt', 'delivery_amt',\n",
    "                                'market_amt', 'card_use_cnt','market_cnt','em_cnt','visit_pop','work_pop']] = scaler.fit_transform(X_train[['youth_pop', 'total_frgn_pop', 'total_pop', \n",
    "                                'jeju_resd_pop', 'card_use_amt', 'delivery_amt',\n",
    "                                'market_amt', 'card_use_cnt','market_cnt','em_cnt','visit_pop','work_pop']])\n",
    "X_valid[['youth_pop', 'total_frgn_pop', 'total_pop', \n",
    "                                'jeju_resd_pop', 'card_use_amt', 'delivery_amt',\n",
    "                                'market_amt', 'card_use_cnt','market_cnt','em_cnt','visit_pop','work_pop']] = scaler.transform(X_valid[['youth_pop', 'total_frgn_pop', 'total_pop', \n",
    "                                'jeju_resd_pop', 'card_use_amt', 'delivery_amt',\n",
    "                                'market_amt', 'card_use_cnt','market_cnt','em_cnt','visit_pop','work_pop']])\n",
    "\n",
    "X_scaled_train = pd.DataFrame(X_train , index = X_train.index , columns = X_train.columns)\n",
    "X_scaled_valid = pd.DataFrame(X_valid , index = X_valid.index , columns = X_valid.columns)"
   ]
  },
  {
   "cell_type": "code",
   "execution_count": 91,
   "id": "af384207",
   "metadata": {
    "ExecuteTime": {
     "end_time": "2021-09-13T10:48:20.402259Z",
     "start_time": "2021-09-13T10:48:20.396917Z"
    }
   },
   "outputs": [],
   "source": [
    "lightgbm = LGBMRegressor(objective='regression', \n",
    "                       num_leaves=10,\n",
    "                       learning_rate=0.01, \n",
    "                       n_estimators=8000,\n",
    "                       max_bin=200, \n",
    "                       verbose=-1,\n",
    "                       random_state=42)"
   ]
  },
  {
   "cell_type": "code",
   "execution_count": 92,
   "id": "998feb43",
   "metadata": {
    "ExecuteTime": {
     "end_time": "2021-09-13T10:48:30.338194Z",
     "start_time": "2021-09-13T10:48:20.823052Z"
    }
   },
   "outputs": [
    {
     "data": {
      "text/plain": [
       "LGBMRegressor(learning_rate=0.01, max_bin=200, n_estimators=8000, num_leaves=10,\n",
       "              objective='regression', random_state=42, verbose=-1)"
      ]
     },
     "execution_count": 92,
     "metadata": {},
     "output_type": "execute_result"
    }
   ],
   "source": [
    "lightgbm.fit(X_train,y_train)"
   ]
  },
  {
   "cell_type": "code",
   "execution_count": 93,
   "id": "f02443fa",
   "metadata": {
    "ExecuteTime": {
     "end_time": "2021-09-13T10:50:01.874634Z",
     "start_time": "2021-09-13T10:50:01.589355Z"
    }
   },
   "outputs": [],
   "source": [
    "pred=lightgbm.predict(X_valid)"
   ]
  },
  {
   "cell_type": "code",
   "execution_count": 95,
   "id": "ad72c8cd",
   "metadata": {
    "ExecuteTime": {
     "end_time": "2021-09-13T10:50:13.852760Z",
     "start_time": "2021-09-13T10:50:13.828106Z"
    }
   },
   "outputs": [
    {
     "data": {
      "text/html": [
       "<div>\n",
       "<style scoped>\n",
       "    .dataframe tbody tr th:only-of-type {\n",
       "        vertical-align: middle;\n",
       "    }\n",
       "\n",
       "    .dataframe tbody tr th {\n",
       "        vertical-align: top;\n",
       "    }\n",
       "\n",
       "    .dataframe thead th {\n",
       "        text-align: right;\n",
       "    }\n",
       "</style>\n",
       "<table border=\"1\" class=\"dataframe\">\n",
       "  <thead>\n",
       "    <tr style=\"text-align: right;\">\n",
       "      <th></th>\n",
       "      <th>predict</th>\n",
       "    </tr>\n",
       "  </thead>\n",
       "  <tbody>\n",
       "    <tr>\n",
       "      <th>0</th>\n",
       "      <td>2.980409e+06</td>\n",
       "    </tr>\n",
       "    <tr>\n",
       "      <th>1</th>\n",
       "      <td>1.021409e+06</td>\n",
       "    </tr>\n",
       "    <tr>\n",
       "      <th>2</th>\n",
       "      <td>5.851324e+06</td>\n",
       "    </tr>\n",
       "    <tr>\n",
       "      <th>3</th>\n",
       "      <td>3.212802e+06</td>\n",
       "    </tr>\n",
       "    <tr>\n",
       "      <th>4</th>\n",
       "      <td>1.422742e+06</td>\n",
       "    </tr>\n",
       "    <tr>\n",
       "      <th>...</th>\n",
       "      <td>...</td>\n",
       "    </tr>\n",
       "    <tr>\n",
       "      <th>1243</th>\n",
       "      <td>2.538348e+06</td>\n",
       "    </tr>\n",
       "    <tr>\n",
       "      <th>1244</th>\n",
       "      <td>8.897632e+05</td>\n",
       "    </tr>\n",
       "    <tr>\n",
       "      <th>1245</th>\n",
       "      <td>3.531024e+06</td>\n",
       "    </tr>\n",
       "    <tr>\n",
       "      <th>1246</th>\n",
       "      <td>8.304210e+05</td>\n",
       "    </tr>\n",
       "    <tr>\n",
       "      <th>1247</th>\n",
       "      <td>1.005429e+06</td>\n",
       "    </tr>\n",
       "  </tbody>\n",
       "</table>\n",
       "<p>1248 rows × 1 columns</p>\n",
       "</div>"
      ],
      "text/plain": [
       "           predict\n",
       "0     2.980409e+06\n",
       "1     1.021409e+06\n",
       "2     5.851324e+06\n",
       "3     3.212802e+06\n",
       "4     1.422742e+06\n",
       "...            ...\n",
       "1243  2.538348e+06\n",
       "1244  8.897632e+05\n",
       "1245  3.531024e+06\n",
       "1246  8.304210e+05\n",
       "1247  1.005429e+06\n",
       "\n",
       "[1248 rows x 1 columns]"
      ]
     },
     "execution_count": 95,
     "metadata": {},
     "output_type": "execute_result"
    }
   ],
   "source": [
    "predict = pd.DataFrame(pred, columns=['predict'])\n",
    "predict"
   ]
  },
  {
   "cell_type": "code",
   "execution_count": 96,
   "id": "25ca3be0",
   "metadata": {
    "ExecuteTime": {
     "end_time": "2021-09-13T10:50:15.804638Z",
     "start_time": "2021-09-13T10:50:15.788792Z"
    }
   },
   "outputs": [],
   "source": [
    "predict['y']=np.array(y_valid)"
   ]
  },
  {
   "cell_type": "code",
   "execution_count": 97,
   "id": "435fb910",
   "metadata": {
    "ExecuteTime": {
     "end_time": "2021-09-13T10:50:17.017288Z",
     "start_time": "2021-09-13T10:50:17.002050Z"
    }
   },
   "outputs": [],
   "source": [
    "predict['predict']=predict['predict'].astype('int')"
   ]
  },
  {
   "cell_type": "code",
   "execution_count": 98,
   "id": "33ec381a",
   "metadata": {
    "ExecuteTime": {
     "end_time": "2021-09-13T10:50:17.984511Z",
     "start_time": "2021-09-13T10:50:17.966554Z"
    }
   },
   "outputs": [
    {
     "data": {
      "text/html": [
       "<div>\n",
       "<style scoped>\n",
       "    .dataframe tbody tr th:only-of-type {\n",
       "        vertical-align: middle;\n",
       "    }\n",
       "\n",
       "    .dataframe tbody tr th {\n",
       "        vertical-align: top;\n",
       "    }\n",
       "\n",
       "    .dataframe thead th {\n",
       "        text-align: right;\n",
       "    }\n",
       "</style>\n",
       "<table border=\"1\" class=\"dataframe\">\n",
       "  <thead>\n",
       "    <tr style=\"text-align: right;\">\n",
       "      <th></th>\n",
       "      <th>predict</th>\n",
       "      <th>y</th>\n",
       "    </tr>\n",
       "  </thead>\n",
       "  <tbody>\n",
       "    <tr>\n",
       "      <th>0</th>\n",
       "      <td>2980409</td>\n",
       "      <td>2509350</td>\n",
       "    </tr>\n",
       "    <tr>\n",
       "      <th>1</th>\n",
       "      <td>1021409</td>\n",
       "      <td>928050</td>\n",
       "    </tr>\n",
       "    <tr>\n",
       "      <th>2</th>\n",
       "      <td>5851324</td>\n",
       "      <td>5635900</td>\n",
       "    </tr>\n",
       "    <tr>\n",
       "      <th>3</th>\n",
       "      <td>3212801</td>\n",
       "      <td>3296450</td>\n",
       "    </tr>\n",
       "    <tr>\n",
       "      <th>4</th>\n",
       "      <td>1422741</td>\n",
       "      <td>1582000</td>\n",
       "    </tr>\n",
       "    <tr>\n",
       "      <th>...</th>\n",
       "      <td>...</td>\n",
       "      <td>...</td>\n",
       "    </tr>\n",
       "    <tr>\n",
       "      <th>1243</th>\n",
       "      <td>2538347</td>\n",
       "      <td>3380000</td>\n",
       "    </tr>\n",
       "    <tr>\n",
       "      <th>1244</th>\n",
       "      <td>889763</td>\n",
       "      <td>1090000</td>\n",
       "    </tr>\n",
       "    <tr>\n",
       "      <th>1245</th>\n",
       "      <td>3531023</td>\n",
       "      <td>3565000</td>\n",
       "    </tr>\n",
       "    <tr>\n",
       "      <th>1246</th>\n",
       "      <td>830421</td>\n",
       "      <td>597050</td>\n",
       "    </tr>\n",
       "    <tr>\n",
       "      <th>1247</th>\n",
       "      <td>1005428</td>\n",
       "      <td>1011050</td>\n",
       "    </tr>\n",
       "  </tbody>\n",
       "</table>\n",
       "<p>1248 rows × 2 columns</p>\n",
       "</div>"
      ],
      "text/plain": [
       "      predict        y\n",
       "0     2980409  2509350\n",
       "1     1021409   928050\n",
       "2     5851324  5635900\n",
       "3     3212801  3296450\n",
       "4     1422741  1582000\n",
       "...       ...      ...\n",
       "1243  2538347  3380000\n",
       "1244   889763  1090000\n",
       "1245  3531023  3565000\n",
       "1246   830421   597050\n",
       "1247  1005428  1011050\n",
       "\n",
       "[1248 rows x 2 columns]"
      ]
     },
     "execution_count": 98,
     "metadata": {},
     "output_type": "execute_result"
    }
   ],
   "source": [
    "predict"
   ]
  },
  {
   "cell_type": "code",
   "execution_count": 94,
   "id": "8e3976a5",
   "metadata": {
    "ExecuteTime": {
     "end_time": "2021-09-13T10:50:12.605268Z",
     "start_time": "2021-09-13T10:50:02.301239Z"
    }
   },
   "outputs": [
    {
     "name": "stdout",
     "output_type": "stream",
     "text": [
      "638621.4609382043\n",
      "221641.7179955904\n",
      "0.9991535031896661\n",
      "0.9978685614835527\n"
     ]
    }
   ],
   "source": [
    "from sklearn.metrics import mean_squared_error, mean_absolute_error\n",
    "\n",
    "print(np.sqrt(mean_squared_error(y_valid,pred)))\n",
    "print(mean_absolute_error(y_valid,pred))\n",
    "print(lightgbm.score(X_train,y_train))\n",
    "print(lightgbm.score(X_valid,y_valid))"
   ]
  },
  {
   "cell_type": "code",
   "execution_count": null,
   "id": "0cdad2ea",
   "metadata": {},
   "outputs": [],
   "source": []
  }
 ],
 "metadata": {
  "kernelspec": {
   "display_name": "Python 3",
   "language": "python",
   "name": "python3"
  },
  "language_info": {
   "codemirror_mode": {
    "name": "ipython",
    "version": 3
   },
   "file_extension": ".py",
   "mimetype": "text/x-python",
   "name": "python",
   "nbconvert_exporter": "python",
   "pygments_lexer": "ipython3",
   "version": "3.8.8"
  },
  "toc": {
   "base_numbering": 1,
   "nav_menu": {},
   "number_sections": true,
   "sideBar": true,
   "skip_h1_title": false,
   "title_cell": "Table of Contents",
   "title_sidebar": "Contents",
   "toc_cell": false,
   "toc_position": {},
   "toc_section_display": true,
   "toc_window_display": false
  },
  "varInspector": {
   "cols": {
    "lenName": 16,
    "lenType": 16,
    "lenVar": 40
   },
   "kernels_config": {
    "python": {
     "delete_cmd_postfix": "",
     "delete_cmd_prefix": "del ",
     "library": "var_list.py",
     "varRefreshCmd": "print(var_dic_list())"
    },
    "r": {
     "delete_cmd_postfix": ") ",
     "delete_cmd_prefix": "rm(",
     "library": "var_list.r",
     "varRefreshCmd": "cat(var_dic_list()) "
    }
   },
   "types_to_exclude": [
    "module",
    "function",
    "builtin_function_or_method",
    "instance",
    "_Feature"
   ],
   "window_display": false
  }
 },
 "nbformat": 4,
 "nbformat_minor": 5
}
