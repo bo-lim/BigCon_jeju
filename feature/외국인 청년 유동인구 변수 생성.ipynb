{
 "cells": [
  {
   "cell_type": "code",
   "execution_count": 108,
   "id": "3a2e69f6",
   "metadata": {
    "ExecuteTime": {
     "end_time": "2021-09-13T08:01:23.195558Z",
     "start_time": "2021-09-13T08:01:23.095980Z"
    }
   },
   "outputs": [],
   "source": [
    "import gc\n",
    "from tqdm.notebook import tqdm\n",
    "\n",
    "import numpy as np\n",
    "import pandas as pd\n",
    "import seaborn as sns\n",
    "\n",
    "import matplotlib.pyplot as plt\n",
    "%matplotlib inline\n",
    "\n",
    "# 한글 폰트 사용을 위해서 세팅\n",
    "from matplotlib import font_manager, rc\n",
    "font_path = \"C:/Windows/Fonts/H2GTRM.TTF\"\n",
    "font = font_manager.FontProperties(fname=font_path).get_name()\n",
    "\n",
    "plt.rc('font', family = font)\n",
    "plt.rc('axes', unicode_minus=False)"
   ]
  },
  {
   "cell_type": "markdown",
   "id": "71498da9",
   "metadata": {},
   "source": [
    "# 외국인 인구"
   ]
  },
  {
   "cell_type": "code",
   "execution_count": 109,
   "id": "c830163f",
   "metadata": {
    "ExecuteTime": {
     "end_time": "2021-09-13T08:01:31.734141Z",
     "start_time": "2021-09-13T08:01:28.638868Z"
    }
   },
   "outputs": [
    {
     "name": "stderr",
     "output_type": "stream",
     "text": [
      "C:\\Users\\lg_gram\\anaconda3\\lib\\site-packages\\IPython\\core\\interactiveshell.py:3165: DtypeWarning: Columns (2) have mixed types.Specify dtype option on import or set low_memory=False.\n",
      "  has_raised = await self.run_ast_nodes(code_ast.body, cell_name,\n"
     ]
    }
   ],
   "source": [
    "waste=pd.read_csv(\"eco jeju/01_음식물쓰레기_FOOD_WASTE_210811_update.csv\",encoding=\"cp949\")"
   ]
  },
  {
   "cell_type": "code",
   "execution_count": 110,
   "id": "5074c3c9",
   "metadata": {
    "ExecuteTime": {
     "end_time": "2021-09-13T08:03:16.718579Z",
     "start_time": "2021-09-13T08:01:31.969670Z"
    }
   },
   "outputs": [],
   "source": [
    "frgn_long=pd.read_csv(\"eco jeju/02-2_장기체류 외국인 유동인구_LONG_TERM_FRGN.csv\",encoding=\"cp949\")"
   ]
  },
  {
   "cell_type": "code",
   "execution_count": 111,
   "id": "fba1d1c3",
   "metadata": {
    "ExecuteTime": {
     "end_time": "2021-09-13T08:09:24.639912Z",
     "start_time": "2021-09-13T08:09:15.099657Z"
    }
   },
   "outputs": [],
   "source": [
    "frgn_short=pd.read_csv(\"eco jeju/02-3_단기체류 외국인 유동인구_SHORT_TERM_FRGN.csv\",encoding=\"cp949\")"
   ]
  },
  {
   "cell_type": "code",
   "execution_count": 151,
   "id": "5377856d",
   "metadata": {
    "ExecuteTime": {
     "end_time": "2021-09-13T08:18:49.178739Z",
     "start_time": "2021-09-13T08:18:47.283282Z"
    }
   },
   "outputs": [
    {
     "data": {
      "text/html": [
       "<div>\n",
       "<style scoped>\n",
       "    .dataframe tbody tr th:only-of-type {\n",
       "        vertical-align: middle;\n",
       "    }\n",
       "\n",
       "    .dataframe tbody tr th {\n",
       "        vertical-align: top;\n",
       "    }\n",
       "\n",
       "    .dataframe thead th {\n",
       "        text-align: right;\n",
       "    }\n",
       "</style>\n",
       "<table border=\"1\" class=\"dataframe\">\n",
       "  <thead>\n",
       "    <tr style=\"text-align: right;\">\n",
       "      <th></th>\n",
       "      <th>base_date</th>\n",
       "      <th>emd_nm</th>\n",
       "      <th>short_visit_pop</th>\n",
       "    </tr>\n",
       "  </thead>\n",
       "  <tbody>\n",
       "    <tr>\n",
       "      <th>0</th>\n",
       "      <td>2018-01-01</td>\n",
       "      <td>건입동</td>\n",
       "      <td>26.248146</td>\n",
       "    </tr>\n",
       "    <tr>\n",
       "      <th>1</th>\n",
       "      <td>2018-01-01</td>\n",
       "      <td>구좌읍</td>\n",
       "      <td>17.154034</td>\n",
       "    </tr>\n",
       "    <tr>\n",
       "      <th>2</th>\n",
       "      <td>2018-01-01</td>\n",
       "      <td>남원읍</td>\n",
       "      <td>20.773841</td>\n",
       "    </tr>\n",
       "    <tr>\n",
       "      <th>3</th>\n",
       "      <td>2018-01-01</td>\n",
       "      <td>노형동</td>\n",
       "      <td>53.633532</td>\n",
       "    </tr>\n",
       "    <tr>\n",
       "      <th>4</th>\n",
       "      <td>2018-01-01</td>\n",
       "      <td>대륜동</td>\n",
       "      <td>10.523813</td>\n",
       "    </tr>\n",
       "    <tr>\n",
       "      <th>...</th>\n",
       "      <td>...</td>\n",
       "      <td>...</td>\n",
       "      <td>...</td>\n",
       "    </tr>\n",
       "    <tr>\n",
       "      <th>53711</th>\n",
       "      <td>2021-06-30</td>\n",
       "      <td>표선면</td>\n",
       "      <td>1.198136</td>\n",
       "    </tr>\n",
       "    <tr>\n",
       "      <th>53712</th>\n",
       "      <td>2021-06-30</td>\n",
       "      <td>한경면</td>\n",
       "      <td>0.657416</td>\n",
       "    </tr>\n",
       "    <tr>\n",
       "      <th>53713</th>\n",
       "      <td>2021-06-30</td>\n",
       "      <td>한림읍</td>\n",
       "      <td>0.701236</td>\n",
       "    </tr>\n",
       "    <tr>\n",
       "      <th>53714</th>\n",
       "      <td>2021-06-30</td>\n",
       "      <td>화북동</td>\n",
       "      <td>1.327803</td>\n",
       "    </tr>\n",
       "    <tr>\n",
       "      <th>53715</th>\n",
       "      <td>2021-06-30</td>\n",
       "      <td>효돈동</td>\n",
       "      <td>0.921200</td>\n",
       "    </tr>\n",
       "  </tbody>\n",
       "</table>\n",
       "<p>53716 rows × 3 columns</p>\n",
       "</div>"
      ],
      "text/plain": [
       "        base_date emd_nm  short_visit_pop\n",
       "0      2018-01-01    건입동        26.248146\n",
       "1      2018-01-01    구좌읍        17.154034\n",
       "2      2018-01-01    남원읍        20.773841\n",
       "3      2018-01-01    노형동        53.633532\n",
       "4      2018-01-01    대륜동        10.523813\n",
       "...           ...    ...              ...\n",
       "53711  2021-06-30    표선면         1.198136\n",
       "53712  2021-06-30    한경면         0.657416\n",
       "53713  2021-06-30    한림읍         0.701236\n",
       "53714  2021-06-30    화북동         1.327803\n",
       "53715  2021-06-30    효돈동         0.921200\n",
       "\n",
       "[53716 rows x 3 columns]"
      ]
     },
     "execution_count": 151,
     "metadata": {},
     "output_type": "execute_result"
    }
   ],
   "source": [
    "short_df = frgn_short.groupby(['base_date','emd_nm'])[['visit_pop_cnt']].mean().reset_index()\n",
    "short_df.rename(columns={'visit_pop_cnt':'short_visit_pop'},inplace=True)\n",
    "short_df"
   ]
  },
  {
   "cell_type": "code",
   "execution_count": 154,
   "id": "d81ec946",
   "metadata": {
    "ExecuteTime": {
     "end_time": "2021-09-13T08:20:49.291563Z",
     "start_time": "2021-09-13T08:20:43.257706Z"
    }
   },
   "outputs": [
    {
     "data": {
      "text/html": [
       "<div>\n",
       "<style scoped>\n",
       "    .dataframe tbody tr th:only-of-type {\n",
       "        vertical-align: middle;\n",
       "    }\n",
       "\n",
       "    .dataframe tbody tr th {\n",
       "        vertical-align: top;\n",
       "    }\n",
       "\n",
       "    .dataframe thead th {\n",
       "        text-align: right;\n",
       "    }\n",
       "</style>\n",
       "<table border=\"1\" class=\"dataframe\">\n",
       "  <thead>\n",
       "    <tr style=\"text-align: right;\">\n",
       "      <th></th>\n",
       "      <th>base_date</th>\n",
       "      <th>emd_nm</th>\n",
       "      <th>resd_pop_cnt</th>\n",
       "      <th>work_pop_cnt</th>\n",
       "      <th>visit_pop_cnt</th>\n",
       "    </tr>\n",
       "  </thead>\n",
       "  <tbody>\n",
       "    <tr>\n",
       "      <th>0</th>\n",
       "      <td>2018-01-01</td>\n",
       "      <td>건입동</td>\n",
       "      <td>12.226698</td>\n",
       "      <td>2.179820</td>\n",
       "      <td>13.054703</td>\n",
       "    </tr>\n",
       "    <tr>\n",
       "      <th>1</th>\n",
       "      <td>2018-01-01</td>\n",
       "      <td>구좌읍</td>\n",
       "      <td>13.681149</td>\n",
       "      <td>1.372111</td>\n",
       "      <td>6.322790</td>\n",
       "    </tr>\n",
       "    <tr>\n",
       "      <th>2</th>\n",
       "      <td>2018-01-01</td>\n",
       "      <td>남원읍</td>\n",
       "      <td>16.354599</td>\n",
       "      <td>2.403829</td>\n",
       "      <td>5.165862</td>\n",
       "    </tr>\n",
       "    <tr>\n",
       "      <th>3</th>\n",
       "      <td>2018-01-01</td>\n",
       "      <td>노형동</td>\n",
       "      <td>67.677266</td>\n",
       "      <td>4.825817</td>\n",
       "      <td>17.674662</td>\n",
       "    </tr>\n",
       "    <tr>\n",
       "      <th>4</th>\n",
       "      <td>2018-01-01</td>\n",
       "      <td>대륜동</td>\n",
       "      <td>8.031951</td>\n",
       "      <td>0.586331</td>\n",
       "      <td>7.365770</td>\n",
       "    </tr>\n",
       "    <tr>\n",
       "      <th>...</th>\n",
       "      <td>...</td>\n",
       "      <td>...</td>\n",
       "      <td>...</td>\n",
       "      <td>...</td>\n",
       "      <td>...</td>\n",
       "    </tr>\n",
       "    <tr>\n",
       "      <th>54906</th>\n",
       "      <td>2021-06-30</td>\n",
       "      <td>표선면</td>\n",
       "      <td>5.954509</td>\n",
       "      <td>0.803698</td>\n",
       "      <td>4.954526</td>\n",
       "    </tr>\n",
       "    <tr>\n",
       "      <th>54907</th>\n",
       "      <td>2021-06-30</td>\n",
       "      <td>한경면</td>\n",
       "      <td>11.465143</td>\n",
       "      <td>0.519235</td>\n",
       "      <td>9.524160</td>\n",
       "    </tr>\n",
       "    <tr>\n",
       "      <th>54908</th>\n",
       "      <td>2021-06-30</td>\n",
       "      <td>한림읍</td>\n",
       "      <td>28.695899</td>\n",
       "      <td>1.647876</td>\n",
       "      <td>17.284778</td>\n",
       "    </tr>\n",
       "    <tr>\n",
       "      <th>54909</th>\n",
       "      <td>2021-06-30</td>\n",
       "      <td>화북동</td>\n",
       "      <td>11.496794</td>\n",
       "      <td>1.525192</td>\n",
       "      <td>4.133723</td>\n",
       "    </tr>\n",
       "    <tr>\n",
       "      <th>54910</th>\n",
       "      <td>2021-06-30</td>\n",
       "      <td>효돈동</td>\n",
       "      <td>4.062940</td>\n",
       "      <td>0.361014</td>\n",
       "      <td>3.258625</td>\n",
       "    </tr>\n",
       "  </tbody>\n",
       "</table>\n",
       "<p>54911 rows × 5 columns</p>\n",
       "</div>"
      ],
      "text/plain": [
       "        base_date emd_nm  resd_pop_cnt  work_pop_cnt  visit_pop_cnt\n",
       "0      2018-01-01    건입동     12.226698      2.179820      13.054703\n",
       "1      2018-01-01    구좌읍     13.681149      1.372111       6.322790\n",
       "2      2018-01-01    남원읍     16.354599      2.403829       5.165862\n",
       "3      2018-01-01    노형동     67.677266      4.825817      17.674662\n",
       "4      2018-01-01    대륜동      8.031951      0.586331       7.365770\n",
       "...           ...    ...           ...           ...            ...\n",
       "54906  2021-06-30    표선면      5.954509      0.803698       4.954526\n",
       "54907  2021-06-30    한경면     11.465143      0.519235       9.524160\n",
       "54908  2021-06-30    한림읍     28.695899      1.647876      17.284778\n",
       "54909  2021-06-30    화북동     11.496794      1.525192       4.133723\n",
       "54910  2021-06-30    효돈동      4.062940      0.361014       3.258625\n",
       "\n",
       "[54911 rows x 5 columns]"
      ]
     },
     "execution_count": 154,
     "metadata": {},
     "output_type": "execute_result"
    }
   ],
   "source": [
    "long_df = frgn_long.groupby(['base_date', 'emd_nm'])[['resd_pop_cnt', 'work_pop_cnt', 'visit_pop_cnt']].mean().reset_index()\n",
    "long_df"
   ]
  },
  {
   "cell_type": "code",
   "execution_count": 188,
   "id": "ea544948",
   "metadata": {
    "ExecuteTime": {
     "end_time": "2021-09-13T08:25:28.355938Z",
     "start_time": "2021-09-13T08:25:28.325223Z"
    }
   },
   "outputs": [
    {
     "name": "stdout",
     "output_type": "stream",
     "text": [
      "<class 'pandas.core.frame.DataFrame'>\n",
      "RangeIndex: 54911 entries, 0 to 54910\n",
      "Data columns (total 5 columns):\n",
      " #   Column         Non-Null Count  Dtype  \n",
      "---  ------         --------------  -----  \n",
      " 0   base_date      54911 non-null  object \n",
      " 1   emd_nm         54911 non-null  object \n",
      " 2   resd_pop_cnt   54911 non-null  float64\n",
      " 3   work_pop_cnt   54911 non-null  float64\n",
      " 4   visit_pop_cnt  54911 non-null  float64\n",
      "dtypes: float64(3), object(2)\n",
      "memory usage: 2.1+ MB\n"
     ]
    }
   ],
   "source": [
    "long_df.info()"
   ]
  },
  {
   "cell_type": "code",
   "execution_count": 155,
   "id": "3c8facf7",
   "metadata": {
    "ExecuteTime": {
     "end_time": "2021-09-13T08:20:51.521378Z",
     "start_time": "2021-09-13T08:20:51.434240Z"
    },
    "scrolled": true
   },
   "outputs": [
    {
     "data": {
      "text/html": [
       "<div>\n",
       "<style scoped>\n",
       "    .dataframe tbody tr th:only-of-type {\n",
       "        vertical-align: middle;\n",
       "    }\n",
       "\n",
       "    .dataframe tbody tr th {\n",
       "        vertical-align: top;\n",
       "    }\n",
       "\n",
       "    .dataframe thead th {\n",
       "        text-align: right;\n",
       "    }\n",
       "</style>\n",
       "<table border=\"1\" class=\"dataframe\">\n",
       "  <thead>\n",
       "    <tr style=\"text-align: right;\">\n",
       "      <th></th>\n",
       "      <th>base_date</th>\n",
       "      <th>emd_nm</th>\n",
       "      <th>short_visit_pop</th>\n",
       "      <th>resd_pop_cnt</th>\n",
       "      <th>work_pop_cnt</th>\n",
       "      <th>visit_pop_cnt</th>\n",
       "    </tr>\n",
       "  </thead>\n",
       "  <tbody>\n",
       "    <tr>\n",
       "      <th>0</th>\n",
       "      <td>2018-01-01</td>\n",
       "      <td>건입동</td>\n",
       "      <td>26.248146</td>\n",
       "      <td>12.226698</td>\n",
       "      <td>2.179820</td>\n",
       "      <td>13.054703</td>\n",
       "    </tr>\n",
       "    <tr>\n",
       "      <th>1</th>\n",
       "      <td>2018-01-01</td>\n",
       "      <td>구좌읍</td>\n",
       "      <td>17.154034</td>\n",
       "      <td>13.681149</td>\n",
       "      <td>1.372111</td>\n",
       "      <td>6.322790</td>\n",
       "    </tr>\n",
       "    <tr>\n",
       "      <th>2</th>\n",
       "      <td>2018-01-01</td>\n",
       "      <td>남원읍</td>\n",
       "      <td>20.773841</td>\n",
       "      <td>16.354599</td>\n",
       "      <td>2.403829</td>\n",
       "      <td>5.165862</td>\n",
       "    </tr>\n",
       "    <tr>\n",
       "      <th>3</th>\n",
       "      <td>2018-01-01</td>\n",
       "      <td>노형동</td>\n",
       "      <td>53.633532</td>\n",
       "      <td>67.677266</td>\n",
       "      <td>4.825817</td>\n",
       "      <td>17.674662</td>\n",
       "    </tr>\n",
       "    <tr>\n",
       "      <th>4</th>\n",
       "      <td>2018-01-01</td>\n",
       "      <td>대륜동</td>\n",
       "      <td>10.523813</td>\n",
       "      <td>8.031951</td>\n",
       "      <td>0.586331</td>\n",
       "      <td>7.365770</td>\n",
       "    </tr>\n",
       "    <tr>\n",
       "      <th>...</th>\n",
       "      <td>...</td>\n",
       "      <td>...</td>\n",
       "      <td>...</td>\n",
       "      <td>...</td>\n",
       "      <td>...</td>\n",
       "      <td>...</td>\n",
       "    </tr>\n",
       "    <tr>\n",
       "      <th>54906</th>\n",
       "      <td>2021-06-30</td>\n",
       "      <td>표선면</td>\n",
       "      <td>1.198136</td>\n",
       "      <td>5.954509</td>\n",
       "      <td>0.803698</td>\n",
       "      <td>4.954526</td>\n",
       "    </tr>\n",
       "    <tr>\n",
       "      <th>54907</th>\n",
       "      <td>2021-06-30</td>\n",
       "      <td>한경면</td>\n",
       "      <td>0.657416</td>\n",
       "      <td>11.465143</td>\n",
       "      <td>0.519235</td>\n",
       "      <td>9.524160</td>\n",
       "    </tr>\n",
       "    <tr>\n",
       "      <th>54908</th>\n",
       "      <td>2021-06-30</td>\n",
       "      <td>한림읍</td>\n",
       "      <td>0.701236</td>\n",
       "      <td>28.695899</td>\n",
       "      <td>1.647876</td>\n",
       "      <td>17.284778</td>\n",
       "    </tr>\n",
       "    <tr>\n",
       "      <th>54909</th>\n",
       "      <td>2021-06-30</td>\n",
       "      <td>화북동</td>\n",
       "      <td>1.327803</td>\n",
       "      <td>11.496794</td>\n",
       "      <td>1.525192</td>\n",
       "      <td>4.133723</td>\n",
       "    </tr>\n",
       "    <tr>\n",
       "      <th>54910</th>\n",
       "      <td>2021-06-30</td>\n",
       "      <td>효돈동</td>\n",
       "      <td>0.921200</td>\n",
       "      <td>4.062940</td>\n",
       "      <td>0.361014</td>\n",
       "      <td>3.258625</td>\n",
       "    </tr>\n",
       "  </tbody>\n",
       "</table>\n",
       "<p>54911 rows × 6 columns</p>\n",
       "</div>"
      ],
      "text/plain": [
       "        base_date emd_nm  short_visit_pop  resd_pop_cnt  work_pop_cnt  \\\n",
       "0      2018-01-01    건입동        26.248146     12.226698      2.179820   \n",
       "1      2018-01-01    구좌읍        17.154034     13.681149      1.372111   \n",
       "2      2018-01-01    남원읍        20.773841     16.354599      2.403829   \n",
       "3      2018-01-01    노형동        53.633532     67.677266      4.825817   \n",
       "4      2018-01-01    대륜동        10.523813      8.031951      0.586331   \n",
       "...           ...    ...              ...           ...           ...   \n",
       "54906  2021-06-30    표선면         1.198136      5.954509      0.803698   \n",
       "54907  2021-06-30    한경면         0.657416     11.465143      0.519235   \n",
       "54908  2021-06-30    한림읍         0.701236     28.695899      1.647876   \n",
       "54909  2021-06-30    화북동         1.327803     11.496794      1.525192   \n",
       "54910  2021-06-30    효돈동         0.921200      4.062940      0.361014   \n",
       "\n",
       "       visit_pop_cnt  \n",
       "0          13.054703  \n",
       "1           6.322790  \n",
       "2           5.165862  \n",
       "3          17.674662  \n",
       "4           7.365770  \n",
       "...              ...  \n",
       "54906       4.954526  \n",
       "54907       9.524160  \n",
       "54908      17.284778  \n",
       "54909       4.133723  \n",
       "54910       3.258625  \n",
       "\n",
       "[54911 rows x 6 columns]"
      ]
     },
     "execution_count": 155,
     "metadata": {},
     "output_type": "execute_result"
    }
   ],
   "source": [
    "frgn=pd.merge(short_df,long_df,left_on=['base_date','emd_nm'],right_on=['base_date', 'emd_nm'],how='right')\n",
    "frgn"
   ]
  },
  {
   "cell_type": "code",
   "execution_count": 190,
   "id": "351ca557",
   "metadata": {
    "ExecuteTime": {
     "end_time": "2021-09-13T08:26:38.893531Z",
     "start_time": "2021-09-13T08:26:38.852413Z"
    }
   },
   "outputs": [],
   "source": [
    "frgn=frgn.fillna(0)"
   ]
  },
  {
   "cell_type": "code",
   "execution_count": 191,
   "id": "39b25202",
   "metadata": {
    "ExecuteTime": {
     "end_time": "2021-09-13T08:26:40.167770Z",
     "start_time": "2021-09-13T08:26:40.139506Z"
    }
   },
   "outputs": [
    {
     "data": {
      "text/html": [
       "<div>\n",
       "<style scoped>\n",
       "    .dataframe tbody tr th:only-of-type {\n",
       "        vertical-align: middle;\n",
       "    }\n",
       "\n",
       "    .dataframe tbody tr th {\n",
       "        vertical-align: top;\n",
       "    }\n",
       "\n",
       "    .dataframe thead th {\n",
       "        text-align: right;\n",
       "    }\n",
       "</style>\n",
       "<table border=\"1\" class=\"dataframe\">\n",
       "  <thead>\n",
       "    <tr style=\"text-align: right;\">\n",
       "      <th></th>\n",
       "      <th>base_date</th>\n",
       "      <th>emd_nm</th>\n",
       "      <th>short_visit_pop</th>\n",
       "      <th>resd_pop_cnt</th>\n",
       "      <th>work_pop_cnt</th>\n",
       "      <th>visit_pop_cnt</th>\n",
       "      <th>total_frgn_pop</th>\n",
       "    </tr>\n",
       "  </thead>\n",
       "  <tbody>\n",
       "    <tr>\n",
       "      <th>0</th>\n",
       "      <td>2018-01-01</td>\n",
       "      <td>건입동</td>\n",
       "      <td>26.248146</td>\n",
       "      <td>12.226698</td>\n",
       "      <td>2.179820</td>\n",
       "      <td>13.054703</td>\n",
       "      <td>53.709367</td>\n",
       "    </tr>\n",
       "    <tr>\n",
       "      <th>1</th>\n",
       "      <td>2018-01-01</td>\n",
       "      <td>구좌읍</td>\n",
       "      <td>17.154034</td>\n",
       "      <td>13.681149</td>\n",
       "      <td>1.372111</td>\n",
       "      <td>6.322790</td>\n",
       "      <td>38.530083</td>\n",
       "    </tr>\n",
       "    <tr>\n",
       "      <th>2</th>\n",
       "      <td>2018-01-01</td>\n",
       "      <td>남원읍</td>\n",
       "      <td>20.773841</td>\n",
       "      <td>16.354599</td>\n",
       "      <td>2.403829</td>\n",
       "      <td>5.165862</td>\n",
       "      <td>44.698131</td>\n",
       "    </tr>\n",
       "    <tr>\n",
       "      <th>3</th>\n",
       "      <td>2018-01-01</td>\n",
       "      <td>노형동</td>\n",
       "      <td>53.633532</td>\n",
       "      <td>67.677266</td>\n",
       "      <td>4.825817</td>\n",
       "      <td>17.674662</td>\n",
       "      <td>143.811278</td>\n",
       "    </tr>\n",
       "    <tr>\n",
       "      <th>4</th>\n",
       "      <td>2018-01-01</td>\n",
       "      <td>대륜동</td>\n",
       "      <td>10.523813</td>\n",
       "      <td>8.031951</td>\n",
       "      <td>0.586331</td>\n",
       "      <td>7.365770</td>\n",
       "      <td>26.507865</td>\n",
       "    </tr>\n",
       "    <tr>\n",
       "      <th>...</th>\n",
       "      <td>...</td>\n",
       "      <td>...</td>\n",
       "      <td>...</td>\n",
       "      <td>...</td>\n",
       "      <td>...</td>\n",
       "      <td>...</td>\n",
       "      <td>...</td>\n",
       "    </tr>\n",
       "    <tr>\n",
       "      <th>54906</th>\n",
       "      <td>2021-06-30</td>\n",
       "      <td>표선면</td>\n",
       "      <td>1.198136</td>\n",
       "      <td>5.954509</td>\n",
       "      <td>0.803698</td>\n",
       "      <td>4.954526</td>\n",
       "      <td>12.910869</td>\n",
       "    </tr>\n",
       "    <tr>\n",
       "      <th>54907</th>\n",
       "      <td>2021-06-30</td>\n",
       "      <td>한경면</td>\n",
       "      <td>0.657416</td>\n",
       "      <td>11.465143</td>\n",
       "      <td>0.519235</td>\n",
       "      <td>9.524160</td>\n",
       "      <td>22.165953</td>\n",
       "    </tr>\n",
       "    <tr>\n",
       "      <th>54908</th>\n",
       "      <td>2021-06-30</td>\n",
       "      <td>한림읍</td>\n",
       "      <td>0.701236</td>\n",
       "      <td>28.695899</td>\n",
       "      <td>1.647876</td>\n",
       "      <td>17.284778</td>\n",
       "      <td>48.329788</td>\n",
       "    </tr>\n",
       "    <tr>\n",
       "      <th>54909</th>\n",
       "      <td>2021-06-30</td>\n",
       "      <td>화북동</td>\n",
       "      <td>1.327803</td>\n",
       "      <td>11.496794</td>\n",
       "      <td>1.525192</td>\n",
       "      <td>4.133723</td>\n",
       "      <td>18.483512</td>\n",
       "    </tr>\n",
       "    <tr>\n",
       "      <th>54910</th>\n",
       "      <td>2021-06-30</td>\n",
       "      <td>효돈동</td>\n",
       "      <td>0.921200</td>\n",
       "      <td>4.062940</td>\n",
       "      <td>0.361014</td>\n",
       "      <td>3.258625</td>\n",
       "      <td>8.603778</td>\n",
       "    </tr>\n",
       "  </tbody>\n",
       "</table>\n",
       "<p>54911 rows × 7 columns</p>\n",
       "</div>"
      ],
      "text/plain": [
       "        base_date emd_nm  short_visit_pop  resd_pop_cnt  work_pop_cnt  \\\n",
       "0      2018-01-01    건입동        26.248146     12.226698      2.179820   \n",
       "1      2018-01-01    구좌읍        17.154034     13.681149      1.372111   \n",
       "2      2018-01-01    남원읍        20.773841     16.354599      2.403829   \n",
       "3      2018-01-01    노형동        53.633532     67.677266      4.825817   \n",
       "4      2018-01-01    대륜동        10.523813      8.031951      0.586331   \n",
       "...           ...    ...              ...           ...           ...   \n",
       "54906  2021-06-30    표선면         1.198136      5.954509      0.803698   \n",
       "54907  2021-06-30    한경면         0.657416     11.465143      0.519235   \n",
       "54908  2021-06-30    한림읍         0.701236     28.695899      1.647876   \n",
       "54909  2021-06-30    화북동         1.327803     11.496794      1.525192   \n",
       "54910  2021-06-30    효돈동         0.921200      4.062940      0.361014   \n",
       "\n",
       "       visit_pop_cnt  total_frgn_pop  \n",
       "0          13.054703       53.709367  \n",
       "1           6.322790       38.530083  \n",
       "2           5.165862       44.698131  \n",
       "3          17.674662      143.811278  \n",
       "4           7.365770       26.507865  \n",
       "...              ...             ...  \n",
       "54906       4.954526       12.910869  \n",
       "54907       9.524160       22.165953  \n",
       "54908      17.284778       48.329788  \n",
       "54909       4.133723       18.483512  \n",
       "54910       3.258625        8.603778  \n",
       "\n",
       "[54911 rows x 7 columns]"
      ]
     },
     "execution_count": 191,
     "metadata": {},
     "output_type": "execute_result"
    }
   ],
   "source": [
    "frgn['total_frgn_pop']=frgn['short_visit_pop']+frgn['resd_pop_cnt']+frgn['work_pop_cnt']+frgn['visit_pop_cnt']\n",
    "frgn"
   ]
  },
  {
   "cell_type": "code",
   "execution_count": 192,
   "id": "e6619926",
   "metadata": {
    "ExecuteTime": {
     "end_time": "2021-09-13T08:26:41.507292Z",
     "start_time": "2021-09-13T08:26:41.477887Z"
    }
   },
   "outputs": [
    {
     "name": "stdout",
     "output_type": "stream",
     "text": [
      "<class 'pandas.core.frame.DataFrame'>\n",
      "Int64Index: 54911 entries, 0 to 54910\n",
      "Data columns (total 7 columns):\n",
      " #   Column           Non-Null Count  Dtype  \n",
      "---  ------           --------------  -----  \n",
      " 0   base_date        54911 non-null  object \n",
      " 1   emd_nm           54911 non-null  object \n",
      " 2   short_visit_pop  54911 non-null  float64\n",
      " 3   resd_pop_cnt     54911 non-null  float64\n",
      " 4   work_pop_cnt     54911 non-null  float64\n",
      " 5   visit_pop_cnt    54911 non-null  float64\n",
      " 6   total_frgn_pop   54911 non-null  float64\n",
      "dtypes: float64(5), object(2)\n",
      "memory usage: 3.4+ MB\n"
     ]
    }
   ],
   "source": [
    "frgn.info()"
   ]
  },
  {
   "cell_type": "code",
   "execution_count": 193,
   "id": "bb79d908",
   "metadata": {
    "ExecuteTime": {
     "end_time": "2021-09-13T08:26:46.146659Z",
     "start_time": "2021-09-13T08:26:46.125479Z"
    }
   },
   "outputs": [],
   "source": [
    "total_frgn=frgn[['base_date','emd_nm','total_frgn_pop']]"
   ]
  },
  {
   "cell_type": "code",
   "execution_count": 194,
   "id": "c34cd575",
   "metadata": {
    "ExecuteTime": {
     "end_time": "2021-09-13T08:26:46.782448Z",
     "start_time": "2021-09-13T08:26:46.749009Z"
    }
   },
   "outputs": [
    {
     "name": "stdout",
     "output_type": "stream",
     "text": [
      "<class 'pandas.core.frame.DataFrame'>\n",
      "Int64Index: 54911 entries, 0 to 54910\n",
      "Data columns (total 3 columns):\n",
      " #   Column          Non-Null Count  Dtype  \n",
      "---  ------          --------------  -----  \n",
      " 0   base_date       54911 non-null  object \n",
      " 1   emd_nm          54911 non-null  object \n",
      " 2   total_frgn_pop  54911 non-null  float64\n",
      "dtypes: float64(1), object(2)\n",
      "memory usage: 1.7+ MB\n"
     ]
    }
   ],
   "source": [
    "total_frgn.info()"
   ]
  },
  {
   "cell_type": "code",
   "execution_count": 195,
   "id": "c62a13c0",
   "metadata": {
    "ExecuteTime": {
     "end_time": "2021-09-13T08:26:48.587518Z",
     "start_time": "2021-09-13T08:26:48.562589Z"
    }
   },
   "outputs": [
    {
     "data": {
      "text/html": [
       "<div>\n",
       "<style scoped>\n",
       "    .dataframe tbody tr th:only-of-type {\n",
       "        vertical-align: middle;\n",
       "    }\n",
       "\n",
       "    .dataframe tbody tr th {\n",
       "        vertical-align: top;\n",
       "    }\n",
       "\n",
       "    .dataframe thead th {\n",
       "        text-align: right;\n",
       "    }\n",
       "</style>\n",
       "<table border=\"1\" class=\"dataframe\">\n",
       "  <thead>\n",
       "    <tr style=\"text-align: right;\">\n",
       "      <th></th>\n",
       "      <th>base_date</th>\n",
       "      <th>emd_nm</th>\n",
       "      <th>total_frgn_pop</th>\n",
       "    </tr>\n",
       "  </thead>\n",
       "  <tbody>\n",
       "    <tr>\n",
       "      <th>0</th>\n",
       "      <td>2018-01-01</td>\n",
       "      <td>건입동</td>\n",
       "      <td>53.709367</td>\n",
       "    </tr>\n",
       "    <tr>\n",
       "      <th>1</th>\n",
       "      <td>2018-01-01</td>\n",
       "      <td>구좌읍</td>\n",
       "      <td>38.530083</td>\n",
       "    </tr>\n",
       "    <tr>\n",
       "      <th>2</th>\n",
       "      <td>2018-01-01</td>\n",
       "      <td>남원읍</td>\n",
       "      <td>44.698131</td>\n",
       "    </tr>\n",
       "    <tr>\n",
       "      <th>3</th>\n",
       "      <td>2018-01-01</td>\n",
       "      <td>노형동</td>\n",
       "      <td>143.811278</td>\n",
       "    </tr>\n",
       "    <tr>\n",
       "      <th>4</th>\n",
       "      <td>2018-01-01</td>\n",
       "      <td>대륜동</td>\n",
       "      <td>26.507865</td>\n",
       "    </tr>\n",
       "    <tr>\n",
       "      <th>...</th>\n",
       "      <td>...</td>\n",
       "      <td>...</td>\n",
       "      <td>...</td>\n",
       "    </tr>\n",
       "    <tr>\n",
       "      <th>54906</th>\n",
       "      <td>2021-06-30</td>\n",
       "      <td>표선면</td>\n",
       "      <td>12.910869</td>\n",
       "    </tr>\n",
       "    <tr>\n",
       "      <th>54907</th>\n",
       "      <td>2021-06-30</td>\n",
       "      <td>한경면</td>\n",
       "      <td>22.165953</td>\n",
       "    </tr>\n",
       "    <tr>\n",
       "      <th>54908</th>\n",
       "      <td>2021-06-30</td>\n",
       "      <td>한림읍</td>\n",
       "      <td>48.329788</td>\n",
       "    </tr>\n",
       "    <tr>\n",
       "      <th>54909</th>\n",
       "      <td>2021-06-30</td>\n",
       "      <td>화북동</td>\n",
       "      <td>18.483512</td>\n",
       "    </tr>\n",
       "    <tr>\n",
       "      <th>54910</th>\n",
       "      <td>2021-06-30</td>\n",
       "      <td>효돈동</td>\n",
       "      <td>8.603778</td>\n",
       "    </tr>\n",
       "  </tbody>\n",
       "</table>\n",
       "<p>54911 rows × 3 columns</p>\n",
       "</div>"
      ],
      "text/plain": [
       "        base_date emd_nm  total_frgn_pop\n",
       "0      2018-01-01    건입동       53.709367\n",
       "1      2018-01-01    구좌읍       38.530083\n",
       "2      2018-01-01    남원읍       44.698131\n",
       "3      2018-01-01    노형동      143.811278\n",
       "4      2018-01-01    대륜동       26.507865\n",
       "...           ...    ...             ...\n",
       "54906  2021-06-30    표선면       12.910869\n",
       "54907  2021-06-30    한경면       22.165953\n",
       "54908  2021-06-30    한림읍       48.329788\n",
       "54909  2021-06-30    화북동       18.483512\n",
       "54910  2021-06-30    효돈동        8.603778\n",
       "\n",
       "[54911 rows x 3 columns]"
      ]
     },
     "execution_count": 195,
     "metadata": {},
     "output_type": "execute_result"
    }
   ],
   "source": [
    "total_frgn"
   ]
  },
  {
   "cell_type": "code",
   "execution_count": 196,
   "id": "3b9a7873",
   "metadata": {
    "ExecuteTime": {
     "end_time": "2021-09-13T08:26:50.310465Z",
     "start_time": "2021-09-13T08:26:50.276407Z"
    }
   },
   "outputs": [
    {
     "data": {
      "text/html": [
       "<div>\n",
       "<style scoped>\n",
       "    .dataframe tbody tr th:only-of-type {\n",
       "        vertical-align: middle;\n",
       "    }\n",
       "\n",
       "    .dataframe tbody tr th {\n",
       "        vertical-align: top;\n",
       "    }\n",
       "\n",
       "    .dataframe thead th {\n",
       "        text-align: right;\n",
       "    }\n",
       "</style>\n",
       "<table border=\"1\" class=\"dataframe\">\n",
       "  <thead>\n",
       "    <tr style=\"text-align: right;\">\n",
       "      <th></th>\n",
       "      <th>base_date</th>\n",
       "      <th>total_frgn_pop</th>\n",
       "      <th>emd_nm</th>\n",
       "    </tr>\n",
       "  </thead>\n",
       "  <tbody>\n",
       "    <tr>\n",
       "      <th>0</th>\n",
       "      <td>2018-01-01</td>\n",
       "      <td>2215.223209</td>\n",
       "      <td>전체</td>\n",
       "    </tr>\n",
       "    <tr>\n",
       "      <th>1</th>\n",
       "      <td>2018-01-02</td>\n",
       "      <td>2221.350506</td>\n",
       "      <td>전체</td>\n",
       "    </tr>\n",
       "    <tr>\n",
       "      <th>2</th>\n",
       "      <td>2018-01-03</td>\n",
       "      <td>2172.085577</td>\n",
       "      <td>전체</td>\n",
       "    </tr>\n",
       "    <tr>\n",
       "      <th>3</th>\n",
       "      <td>2018-01-04</td>\n",
       "      <td>2111.044522</td>\n",
       "      <td>전체</td>\n",
       "    </tr>\n",
       "    <tr>\n",
       "      <th>4</th>\n",
       "      <td>2018-01-05</td>\n",
       "      <td>2055.834760</td>\n",
       "      <td>전체</td>\n",
       "    </tr>\n",
       "    <tr>\n",
       "      <th>...</th>\n",
       "      <td>...</td>\n",
       "      <td>...</td>\n",
       "      <td>...</td>\n",
       "    </tr>\n",
       "    <tr>\n",
       "      <th>1272</th>\n",
       "      <td>2021-06-26</td>\n",
       "      <td>1017.363470</td>\n",
       "      <td>전체</td>\n",
       "    </tr>\n",
       "    <tr>\n",
       "      <th>1273</th>\n",
       "      <td>2021-06-27</td>\n",
       "      <td>1003.190708</td>\n",
       "      <td>전체</td>\n",
       "    </tr>\n",
       "    <tr>\n",
       "      <th>1274</th>\n",
       "      <td>2021-06-28</td>\n",
       "      <td>1011.799786</td>\n",
       "      <td>전체</td>\n",
       "    </tr>\n",
       "    <tr>\n",
       "      <th>1275</th>\n",
       "      <td>2021-06-29</td>\n",
       "      <td>1035.339082</td>\n",
       "      <td>전체</td>\n",
       "    </tr>\n",
       "    <tr>\n",
       "      <th>1276</th>\n",
       "      <td>2021-06-30</td>\n",
       "      <td>1015.214485</td>\n",
       "      <td>전체</td>\n",
       "    </tr>\n",
       "  </tbody>\n",
       "</table>\n",
       "<p>1277 rows × 3 columns</p>\n",
       "</div>"
      ],
      "text/plain": [
       "       base_date  total_frgn_pop emd_nm\n",
       "0     2018-01-01     2215.223209     전체\n",
       "1     2018-01-02     2221.350506     전체\n",
       "2     2018-01-03     2172.085577     전체\n",
       "3     2018-01-04     2111.044522     전체\n",
       "4     2018-01-05     2055.834760     전체\n",
       "...          ...             ...    ...\n",
       "1272  2021-06-26     1017.363470     전체\n",
       "1273  2021-06-27     1003.190708     전체\n",
       "1274  2021-06-28     1011.799786     전체\n",
       "1275  2021-06-29     1035.339082     전체\n",
       "1276  2021-06-30     1015.214485     전체\n",
       "\n",
       "[1277 rows x 3 columns]"
      ]
     },
     "execution_count": 196,
     "metadata": {},
     "output_type": "execute_result"
    }
   ],
   "source": [
    "total = total_frgn.groupby(['base_date'])[['total_frgn_pop']].sum().reset_index()\n",
    "total['emd_nm'] = '전체'\n",
    "total"
   ]
  },
  {
   "cell_type": "code",
   "execution_count": 197,
   "id": "0d258d17",
   "metadata": {
    "ExecuteTime": {
     "end_time": "2021-09-13T08:26:51.822947Z",
     "start_time": "2021-09-13T08:26:51.810894Z"
    }
   },
   "outputs": [],
   "source": [
    "newt = pd.concat([total_frgn , total]).reset_index(drop = True)"
   ]
  },
  {
   "cell_type": "code",
   "execution_count": 198,
   "id": "b0b81978",
   "metadata": {
    "ExecuteTime": {
     "end_time": "2021-09-13T08:26:52.177361Z",
     "start_time": "2021-09-13T08:26:52.152153Z"
    }
   },
   "outputs": [
    {
     "name": "stdout",
     "output_type": "stream",
     "text": [
      "<class 'pandas.core.frame.DataFrame'>\n",
      "RangeIndex: 56188 entries, 0 to 56187\n",
      "Data columns (total 3 columns):\n",
      " #   Column          Non-Null Count  Dtype  \n",
      "---  ------          --------------  -----  \n",
      " 0   base_date       56188 non-null  object \n",
      " 1   emd_nm          56188 non-null  object \n",
      " 2   total_frgn_pop  56188 non-null  float64\n",
      "dtypes: float64(1), object(2)\n",
      "memory usage: 1.3+ MB\n"
     ]
    }
   ],
   "source": [
    "newt.info()"
   ]
  },
  {
   "cell_type": "code",
   "execution_count": 199,
   "id": "49f6637b",
   "metadata": {
    "ExecuteTime": {
     "end_time": "2021-09-13T08:26:53.862411Z",
     "start_time": "2021-09-13T08:26:53.827085Z"
    }
   },
   "outputs": [
    {
     "data": {
      "text/html": [
       "<div>\n",
       "<style scoped>\n",
       "    .dataframe tbody tr th:only-of-type {\n",
       "        vertical-align: middle;\n",
       "    }\n",
       "\n",
       "    .dataframe tbody tr th {\n",
       "        vertical-align: top;\n",
       "    }\n",
       "\n",
       "    .dataframe thead th {\n",
       "        text-align: right;\n",
       "    }\n",
       "</style>\n",
       "<table border=\"1\" class=\"dataframe\">\n",
       "  <thead>\n",
       "    <tr style=\"text-align: right;\">\n",
       "      <th></th>\n",
       "      <th>base_date</th>\n",
       "      <th>emd_nm</th>\n",
       "      <th>total_frgn_pop</th>\n",
       "    </tr>\n",
       "  </thead>\n",
       "  <tbody>\n",
       "    <tr>\n",
       "      <th>33011</th>\n",
       "      <td>2020-02-07</td>\n",
       "      <td>일도1동</td>\n",
       "      <td>6.625207</td>\n",
       "    </tr>\n",
       "  </tbody>\n",
       "</table>\n",
       "</div>"
      ],
      "text/plain": [
       "        base_date emd_nm  total_frgn_pop\n",
       "33011  2020-02-07   일도1동        6.625207"
      ]
     },
     "execution_count": 199,
     "metadata": {},
     "output_type": "execute_result"
    }
   ],
   "source": [
    "newt.loc[(newt['base_date']=='2020-02-07') & (newt['emd_nm']=='일도1동')]"
   ]
  },
  {
   "cell_type": "code",
   "execution_count": 200,
   "id": "7f2306ca",
   "metadata": {
    "ExecuteTime": {
     "end_time": "2021-09-13T08:26:57.474877Z",
     "start_time": "2021-09-13T08:26:57.449630Z"
    }
   },
   "outputs": [
    {
     "data": {
      "text/plain": [
       "base_date         0\n",
       "emd_nm            0\n",
       "total_frgn_pop    0\n",
       "dtype: int64"
      ]
     },
     "execution_count": 200,
     "metadata": {},
     "output_type": "execute_result"
    }
   ],
   "source": [
    "newt.isnull().sum()"
   ]
  },
  {
   "cell_type": "markdown",
   "id": "f3cca68e",
   "metadata": {},
   "source": [
    "# 청년 인구"
   ]
  },
  {
   "cell_type": "code",
   "execution_count": null,
   "id": "f07eae41",
   "metadata": {
    "ExecuteTime": {
     "end_time": "2021-09-13T08:12:00.936839Z",
     "start_time": "2021-09-13T08:11:44.396Z"
    }
   },
   "outputs": [],
   "source": [
    "korean=pd.read_pickle(\"eco jeju/02-1_내국인유동인구_KOREAN.pickle\")"
   ]
  },
  {
   "cell_type": "code",
   "execution_count": 126,
   "id": "795105c7",
   "metadata": {
    "ExecuteTime": {
     "end_time": "2021-09-13T08:12:58.486735Z",
     "start_time": "2021-09-13T08:12:58.329929Z"
    }
   },
   "outputs": [
    {
     "data": {
      "text/html": [
       "<div>\n",
       "<style scoped>\n",
       "    .dataframe tbody tr th:only-of-type {\n",
       "        vertical-align: middle;\n",
       "    }\n",
       "\n",
       "    .dataframe tbody tr th {\n",
       "        vertical-align: top;\n",
       "    }\n",
       "\n",
       "    .dataframe thead th {\n",
       "        text-align: right;\n",
       "    }\n",
       "</style>\n",
       "<table border=\"1\" class=\"dataframe\">\n",
       "  <thead>\n",
       "    <tr style=\"text-align: right;\">\n",
       "      <th></th>\n",
       "      <th>base_date</th>\n",
       "      <th>time</th>\n",
       "      <th>city</th>\n",
       "      <th>emd_cd</th>\n",
       "      <th>emd_nm</th>\n",
       "      <th>sex</th>\n",
       "      <th>age</th>\n",
       "      <th>resd_pop_cnt</th>\n",
       "      <th>work_pop_cnt</th>\n",
       "      <th>visit_pop_cnt</th>\n",
       "      <th>resd</th>\n",
       "      <th>total</th>\n",
       "    </tr>\n",
       "  </thead>\n",
       "  <tbody>\n",
       "    <tr>\n",
       "      <th>0</th>\n",
       "      <td>2018-01-01</td>\n",
       "      <td>1</td>\n",
       "      <td>제주시</td>\n",
       "      <td>50110250</td>\n",
       "      <td>한림읍</td>\n",
       "      <td>여성</td>\n",
       "      <td>0</td>\n",
       "      <td>638.5509</td>\n",
       "      <td>15.5400</td>\n",
       "      <td>151.5149</td>\n",
       "      <td>제주</td>\n",
       "      <td>805.6058</td>\n",
       "    </tr>\n",
       "    <tr>\n",
       "      <th>1</th>\n",
       "      <td>2018-01-01</td>\n",
       "      <td>1</td>\n",
       "      <td>제주시</td>\n",
       "      <td>50110250</td>\n",
       "      <td>한림읍</td>\n",
       "      <td>여성</td>\n",
       "      <td>0</td>\n",
       "      <td>0.0000</td>\n",
       "      <td>3.7249</td>\n",
       "      <td>171.3458</td>\n",
       "      <td>그외</td>\n",
       "      <td>175.0707</td>\n",
       "    </tr>\n",
       "    <tr>\n",
       "      <th>2</th>\n",
       "      <td>2018-01-01</td>\n",
       "      <td>1</td>\n",
       "      <td>제주시</td>\n",
       "      <td>50110250</td>\n",
       "      <td>한림읍</td>\n",
       "      <td>여성</td>\n",
       "      <td>10</td>\n",
       "      <td>668.4577</td>\n",
       "      <td>17.0308</td>\n",
       "      <td>166.0500</td>\n",
       "      <td>제주</td>\n",
       "      <td>851.5385</td>\n",
       "    </tr>\n",
       "    <tr>\n",
       "      <th>3</th>\n",
       "      <td>2018-01-01</td>\n",
       "      <td>1</td>\n",
       "      <td>제주시</td>\n",
       "      <td>50110250</td>\n",
       "      <td>한림읍</td>\n",
       "      <td>여성</td>\n",
       "      <td>10</td>\n",
       "      <td>0.0000</td>\n",
       "      <td>4.2577</td>\n",
       "      <td>195.8539</td>\n",
       "      <td>그외</td>\n",
       "      <td>200.1116</td>\n",
       "    </tr>\n",
       "    <tr>\n",
       "      <th>4</th>\n",
       "      <td>2018-01-01</td>\n",
       "      <td>1</td>\n",
       "      <td>제주시</td>\n",
       "      <td>50110250</td>\n",
       "      <td>한림읍</td>\n",
       "      <td>여성</td>\n",
       "      <td>20</td>\n",
       "      <td>609.7710</td>\n",
       "      <td>5.9490</td>\n",
       "      <td>148.7246</td>\n",
       "      <td>제주</td>\n",
       "      <td>764.4446</td>\n",
       "    </tr>\n",
       "    <tr>\n",
       "      <th>5</th>\n",
       "      <td>2018-01-01</td>\n",
       "      <td>1</td>\n",
       "      <td>제주시</td>\n",
       "      <td>50110250</td>\n",
       "      <td>한림읍</td>\n",
       "      <td>여성</td>\n",
       "      <td>20</td>\n",
       "      <td>0.0000</td>\n",
       "      <td>8.9235</td>\n",
       "      <td>359.9136</td>\n",
       "      <td>그외</td>\n",
       "      <td>368.8371</td>\n",
       "    </tr>\n",
       "    <tr>\n",
       "      <th>6</th>\n",
       "      <td>2018-01-01</td>\n",
       "      <td>1</td>\n",
       "      <td>제주시</td>\n",
       "      <td>50110250</td>\n",
       "      <td>한림읍</td>\n",
       "      <td>여성</td>\n",
       "      <td>30</td>\n",
       "      <td>1002.1208</td>\n",
       "      <td>10.1911</td>\n",
       "      <td>217.4093</td>\n",
       "      <td>제주</td>\n",
       "      <td>1229.7212</td>\n",
       "    </tr>\n",
       "    <tr>\n",
       "      <th>7</th>\n",
       "      <td>2018-01-01</td>\n",
       "      <td>1</td>\n",
       "      <td>제주시</td>\n",
       "      <td>50110250</td>\n",
       "      <td>한림읍</td>\n",
       "      <td>여성</td>\n",
       "      <td>30</td>\n",
       "      <td>0.0000</td>\n",
       "      <td>0.0000</td>\n",
       "      <td>478.9798</td>\n",
       "      <td>그외</td>\n",
       "      <td>478.9798</td>\n",
       "    </tr>\n",
       "    <tr>\n",
       "      <th>8</th>\n",
       "      <td>2018-01-01</td>\n",
       "      <td>1</td>\n",
       "      <td>제주시</td>\n",
       "      <td>50110250</td>\n",
       "      <td>한림읍</td>\n",
       "      <td>여성</td>\n",
       "      <td>40</td>\n",
       "      <td>1530.5014</td>\n",
       "      <td>38.2625</td>\n",
       "      <td>292.1866</td>\n",
       "      <td>제주</td>\n",
       "      <td>1860.9505</td>\n",
       "    </tr>\n",
       "    <tr>\n",
       "      <th>9</th>\n",
       "      <td>2018-01-01</td>\n",
       "      <td>1</td>\n",
       "      <td>제주시</td>\n",
       "      <td>50110250</td>\n",
       "      <td>한림읍</td>\n",
       "      <td>여성</td>\n",
       "      <td>40</td>\n",
       "      <td>0.0000</td>\n",
       "      <td>13.9136</td>\n",
       "      <td>340.8844</td>\n",
       "      <td>그외</td>\n",
       "      <td>354.7980</td>\n",
       "    </tr>\n",
       "  </tbody>\n",
       "</table>\n",
       "</div>"
      ],
      "text/plain": [
       "   base_date  time city    emd_cd emd_nm sex  age  resd_pop_cnt  work_pop_cnt  \\\n",
       "0 2018-01-01     1  제주시  50110250    한림읍  여성    0      638.5509       15.5400   \n",
       "1 2018-01-01     1  제주시  50110250    한림읍  여성    0        0.0000        3.7249   \n",
       "2 2018-01-01     1  제주시  50110250    한림읍  여성   10      668.4577       17.0308   \n",
       "3 2018-01-01     1  제주시  50110250    한림읍  여성   10        0.0000        4.2577   \n",
       "4 2018-01-01     1  제주시  50110250    한림읍  여성   20      609.7710        5.9490   \n",
       "5 2018-01-01     1  제주시  50110250    한림읍  여성   20        0.0000        8.9235   \n",
       "6 2018-01-01     1  제주시  50110250    한림읍  여성   30     1002.1208       10.1911   \n",
       "7 2018-01-01     1  제주시  50110250    한림읍  여성   30        0.0000        0.0000   \n",
       "8 2018-01-01     1  제주시  50110250    한림읍  여성   40     1530.5014       38.2625   \n",
       "9 2018-01-01     1  제주시  50110250    한림읍  여성   40        0.0000       13.9136   \n",
       "\n",
       "   visit_pop_cnt resd      total  \n",
       "0       151.5149   제주   805.6058  \n",
       "1       171.3458   그외   175.0707  \n",
       "2       166.0500   제주   851.5385  \n",
       "3       195.8539   그외   200.1116  \n",
       "4       148.7246   제주   764.4446  \n",
       "5       359.9136   그외   368.8371  \n",
       "6       217.4093   제주  1229.7212  \n",
       "7       478.9798   그외   478.9798  \n",
       "8       292.1866   제주  1860.9505  \n",
       "9       340.8844   그외   354.7980  "
      ]
     },
     "execution_count": 126,
     "metadata": {},
     "output_type": "execute_result"
    }
   ],
   "source": [
    "korean.head(10)"
   ]
  },
  {
   "cell_type": "code",
   "execution_count": 127,
   "id": "d4ba33b7",
   "metadata": {
    "ExecuteTime": {
     "end_time": "2021-09-13T08:13:39.781364Z",
     "start_time": "2021-09-13T08:13:06.752933Z"
    }
   },
   "outputs": [
    {
     "data": {
      "text/html": [
       "<div>\n",
       "<style scoped>\n",
       "    .dataframe tbody tr th:only-of-type {\n",
       "        vertical-align: middle;\n",
       "    }\n",
       "\n",
       "    .dataframe tbody tr th {\n",
       "        vertical-align: top;\n",
       "    }\n",
       "\n",
       "    .dataframe thead th {\n",
       "        text-align: right;\n",
       "    }\n",
       "</style>\n",
       "<table border=\"1\" class=\"dataframe\">\n",
       "  <thead>\n",
       "    <tr style=\"text-align: right;\">\n",
       "      <th></th>\n",
       "      <th>base_date</th>\n",
       "      <th>emd_nm</th>\n",
       "      <th>age</th>\n",
       "      <th>total</th>\n",
       "    </tr>\n",
       "  </thead>\n",
       "  <tbody>\n",
       "    <tr>\n",
       "      <th>0</th>\n",
       "      <td>2018-01-01</td>\n",
       "      <td>건입동</td>\n",
       "      <td>0</td>\n",
       "      <td>346.664382</td>\n",
       "    </tr>\n",
       "    <tr>\n",
       "      <th>1</th>\n",
       "      <td>2018-01-01</td>\n",
       "      <td>건입동</td>\n",
       "      <td>10</td>\n",
       "      <td>394.433470</td>\n",
       "    </tr>\n",
       "    <tr>\n",
       "      <th>2</th>\n",
       "      <td>2018-01-01</td>\n",
       "      <td>건입동</td>\n",
       "      <td>20</td>\n",
       "      <td>455.317890</td>\n",
       "    </tr>\n",
       "    <tr>\n",
       "      <th>3</th>\n",
       "      <td>2018-01-01</td>\n",
       "      <td>건입동</td>\n",
       "      <td>30</td>\n",
       "      <td>512.533308</td>\n",
       "    </tr>\n",
       "    <tr>\n",
       "      <th>4</th>\n",
       "      <td>2018-01-01</td>\n",
       "      <td>건입동</td>\n",
       "      <td>40</td>\n",
       "      <td>686.151531</td>\n",
       "    </tr>\n",
       "    <tr>\n",
       "      <th>...</th>\n",
       "      <td>...</td>\n",
       "      <td>...</td>\n",
       "      <td>...</td>\n",
       "      <td>...</td>\n",
       "    </tr>\n",
       "    <tr>\n",
       "      <th>494194</th>\n",
       "      <td>2021-06-30</td>\n",
       "      <td>효돈동</td>\n",
       "      <td>40</td>\n",
       "      <td>217.537528</td>\n",
       "    </tr>\n",
       "    <tr>\n",
       "      <th>494195</th>\n",
       "      <td>2021-06-30</td>\n",
       "      <td>효돈동</td>\n",
       "      <td>50</td>\n",
       "      <td>257.268985</td>\n",
       "    </tr>\n",
       "    <tr>\n",
       "      <th>494196</th>\n",
       "      <td>2021-06-30</td>\n",
       "      <td>효돈동</td>\n",
       "      <td>60</td>\n",
       "      <td>206.961295</td>\n",
       "    </tr>\n",
       "    <tr>\n",
       "      <th>494197</th>\n",
       "      <td>2021-06-30</td>\n",
       "      <td>효돈동</td>\n",
       "      <td>70</td>\n",
       "      <td>133.701384</td>\n",
       "    </tr>\n",
       "    <tr>\n",
       "      <th>494198</th>\n",
       "      <td>2021-06-30</td>\n",
       "      <td>효돈동</td>\n",
       "      <td>80</td>\n",
       "      <td>76.274564</td>\n",
       "    </tr>\n",
       "  </tbody>\n",
       "</table>\n",
       "<p>494199 rows × 4 columns</p>\n",
       "</div>"
      ],
      "text/plain": [
       "        base_date emd_nm  age       total\n",
       "0      2018-01-01    건입동    0  346.664382\n",
       "1      2018-01-01    건입동   10  394.433470\n",
       "2      2018-01-01    건입동   20  455.317890\n",
       "3      2018-01-01    건입동   30  512.533308\n",
       "4      2018-01-01    건입동   40  686.151531\n",
       "...           ...    ...  ...         ...\n",
       "494194 2021-06-30    효돈동   40  217.537528\n",
       "494195 2021-06-30    효돈동   50  257.268985\n",
       "494196 2021-06-30    효돈동   60  206.961295\n",
       "494197 2021-06-30    효돈동   70  133.701384\n",
       "494198 2021-06-30    효돈동   80   76.274564\n",
       "\n",
       "[494199 rows x 4 columns]"
      ]
     },
     "execution_count": 127,
     "metadata": {},
     "output_type": "execute_result"
    }
   ],
   "source": [
    "korean['total'] = korean.resd_pop_cnt + korean.work_pop_cnt + korean.visit_pop_cnt\n",
    "data = korean.groupby(['base_date','emd_nm','age'])[['total']].mean().reset_index()\n",
    "data"
   ]
  },
  {
   "cell_type": "code",
   "execution_count": 128,
   "id": "bb6b4e89",
   "metadata": {
    "ExecuteTime": {
     "end_time": "2021-09-13T08:13:46.644838Z",
     "start_time": "2021-09-13T08:13:46.429830Z"
    }
   },
   "outputs": [],
   "source": [
    "youth=data.query('age == [20, 30]').groupby(['base_date','emd_nm'])['total'].sum().reset_index()"
   ]
  },
  {
   "cell_type": "code",
   "execution_count": 129,
   "id": "be158efc",
   "metadata": {
    "ExecuteTime": {
     "end_time": "2021-09-13T08:13:47.812846Z",
     "start_time": "2021-09-13T08:13:47.430185Z"
    }
   },
   "outputs": [],
   "source": [
    "y_tot = youth.groupby(['base_date'])[['total']].sum().reset_index()\n",
    "y_tot['emd_nm'] = '전체'"
   ]
  },
  {
   "cell_type": "code",
   "execution_count": 130,
   "id": "2795cba8",
   "metadata": {
    "ExecuteTime": {
     "end_time": "2021-09-13T08:13:48.450070Z",
     "start_time": "2021-09-13T08:13:48.414721Z"
    }
   },
   "outputs": [
    {
     "data": {
      "text/html": [
       "<div>\n",
       "<style scoped>\n",
       "    .dataframe tbody tr th:only-of-type {\n",
       "        vertical-align: middle;\n",
       "    }\n",
       "\n",
       "    .dataframe tbody tr th {\n",
       "        vertical-align: top;\n",
       "    }\n",
       "\n",
       "    .dataframe thead th {\n",
       "        text-align: right;\n",
       "    }\n",
       "</style>\n",
       "<table border=\"1\" class=\"dataframe\">\n",
       "  <thead>\n",
       "    <tr style=\"text-align: right;\">\n",
       "      <th></th>\n",
       "      <th>base_date</th>\n",
       "      <th>total</th>\n",
       "      <th>emd_nm</th>\n",
       "    </tr>\n",
       "  </thead>\n",
       "  <tbody>\n",
       "    <tr>\n",
       "      <th>0</th>\n",
       "      <td>2018-01-01</td>\n",
       "      <td>54466.952499</td>\n",
       "      <td>전체</td>\n",
       "    </tr>\n",
       "    <tr>\n",
       "      <th>1</th>\n",
       "      <td>2018-01-02</td>\n",
       "      <td>53973.690842</td>\n",
       "      <td>전체</td>\n",
       "    </tr>\n",
       "    <tr>\n",
       "      <th>2</th>\n",
       "      <td>2018-01-03</td>\n",
       "      <td>53705.165769</td>\n",
       "      <td>전체</td>\n",
       "    </tr>\n",
       "    <tr>\n",
       "      <th>3</th>\n",
       "      <td>2018-01-04</td>\n",
       "      <td>53151.118467</td>\n",
       "      <td>전체</td>\n",
       "    </tr>\n",
       "    <tr>\n",
       "      <th>4</th>\n",
       "      <td>2018-01-05</td>\n",
       "      <td>53360.869746</td>\n",
       "      <td>전체</td>\n",
       "    </tr>\n",
       "    <tr>\n",
       "      <th>...</th>\n",
       "      <td>...</td>\n",
       "      <td>...</td>\n",
       "      <td>...</td>\n",
       "    </tr>\n",
       "    <tr>\n",
       "      <th>1272</th>\n",
       "      <td>2021-06-26</td>\n",
       "      <td>61800.971670</td>\n",
       "      <td>전체</td>\n",
       "    </tr>\n",
       "    <tr>\n",
       "      <th>1273</th>\n",
       "      <td>2021-06-27</td>\n",
       "      <td>61946.972602</td>\n",
       "      <td>전체</td>\n",
       "    </tr>\n",
       "    <tr>\n",
       "      <th>1274</th>\n",
       "      <td>2021-06-28</td>\n",
       "      <td>61802.207245</td>\n",
       "      <td>전체</td>\n",
       "    </tr>\n",
       "    <tr>\n",
       "      <th>1275</th>\n",
       "      <td>2021-06-29</td>\n",
       "      <td>61335.188042</td>\n",
       "      <td>전체</td>\n",
       "    </tr>\n",
       "    <tr>\n",
       "      <th>1276</th>\n",
       "      <td>2021-06-30</td>\n",
       "      <td>60676.964569</td>\n",
       "      <td>전체</td>\n",
       "    </tr>\n",
       "  </tbody>\n",
       "</table>\n",
       "<p>1277 rows × 3 columns</p>\n",
       "</div>"
      ],
      "text/plain": [
       "      base_date         total emd_nm\n",
       "0    2018-01-01  54466.952499     전체\n",
       "1    2018-01-02  53973.690842     전체\n",
       "2    2018-01-03  53705.165769     전체\n",
       "3    2018-01-04  53151.118467     전체\n",
       "4    2018-01-05  53360.869746     전체\n",
       "...         ...           ...    ...\n",
       "1272 2021-06-26  61800.971670     전체\n",
       "1273 2021-06-27  61946.972602     전체\n",
       "1274 2021-06-28  61802.207245     전체\n",
       "1275 2021-06-29  61335.188042     전체\n",
       "1276 2021-06-30  60676.964569     전체\n",
       "\n",
       "[1277 rows x 3 columns]"
      ]
     },
     "execution_count": 130,
     "metadata": {},
     "output_type": "execute_result"
    }
   ],
   "source": [
    "y_tot"
   ]
  },
  {
   "cell_type": "code",
   "execution_count": 131,
   "id": "1eedd06e",
   "metadata": {
    "ExecuteTime": {
     "end_time": "2021-09-13T08:13:51.391064Z",
     "start_time": "2021-09-13T08:13:51.355892Z"
    }
   },
   "outputs": [
    {
     "data": {
      "text/html": [
       "<div>\n",
       "<style scoped>\n",
       "    .dataframe tbody tr th:only-of-type {\n",
       "        vertical-align: middle;\n",
       "    }\n",
       "\n",
       "    .dataframe tbody tr th {\n",
       "        vertical-align: top;\n",
       "    }\n",
       "\n",
       "    .dataframe thead th {\n",
       "        text-align: right;\n",
       "    }\n",
       "</style>\n",
       "<table border=\"1\" class=\"dataframe\">\n",
       "  <thead>\n",
       "    <tr style=\"text-align: right;\">\n",
       "      <th></th>\n",
       "      <th>base_date</th>\n",
       "      <th>emd_nm</th>\n",
       "      <th>total</th>\n",
       "    </tr>\n",
       "  </thead>\n",
       "  <tbody>\n",
       "    <tr>\n",
       "      <th>0</th>\n",
       "      <td>2018-01-01</td>\n",
       "      <td>건입동</td>\n",
       "      <td>967.851198</td>\n",
       "    </tr>\n",
       "    <tr>\n",
       "      <th>1</th>\n",
       "      <td>2018-01-01</td>\n",
       "      <td>구좌읍</td>\n",
       "      <td>1441.415541</td>\n",
       "    </tr>\n",
       "    <tr>\n",
       "      <th>2</th>\n",
       "      <td>2018-01-01</td>\n",
       "      <td>남원읍</td>\n",
       "      <td>1163.849546</td>\n",
       "    </tr>\n",
       "    <tr>\n",
       "      <th>3</th>\n",
       "      <td>2018-01-01</td>\n",
       "      <td>노형동</td>\n",
       "      <td>4225.454776</td>\n",
       "    </tr>\n",
       "    <tr>\n",
       "      <th>4</th>\n",
       "      <td>2018-01-01</td>\n",
       "      <td>대륜동</td>\n",
       "      <td>1353.922709</td>\n",
       "    </tr>\n",
       "    <tr>\n",
       "      <th>...</th>\n",
       "      <td>...</td>\n",
       "      <td>...</td>\n",
       "      <td>...</td>\n",
       "    </tr>\n",
       "    <tr>\n",
       "      <th>56183</th>\n",
       "      <td>2021-06-26</td>\n",
       "      <td>전체</td>\n",
       "      <td>61800.971670</td>\n",
       "    </tr>\n",
       "    <tr>\n",
       "      <th>56184</th>\n",
       "      <td>2021-06-27</td>\n",
       "      <td>전체</td>\n",
       "      <td>61946.972602</td>\n",
       "    </tr>\n",
       "    <tr>\n",
       "      <th>56185</th>\n",
       "      <td>2021-06-28</td>\n",
       "      <td>전체</td>\n",
       "      <td>61802.207245</td>\n",
       "    </tr>\n",
       "    <tr>\n",
       "      <th>56186</th>\n",
       "      <td>2021-06-29</td>\n",
       "      <td>전체</td>\n",
       "      <td>61335.188042</td>\n",
       "    </tr>\n",
       "    <tr>\n",
       "      <th>56187</th>\n",
       "      <td>2021-06-30</td>\n",
       "      <td>전체</td>\n",
       "      <td>60676.964569</td>\n",
       "    </tr>\n",
       "  </tbody>\n",
       "</table>\n",
       "<p>56188 rows × 3 columns</p>\n",
       "</div>"
      ],
      "text/plain": [
       "       base_date emd_nm         total\n",
       "0     2018-01-01    건입동    967.851198\n",
       "1     2018-01-01    구좌읍   1441.415541\n",
       "2     2018-01-01    남원읍   1163.849546\n",
       "3     2018-01-01    노형동   4225.454776\n",
       "4     2018-01-01    대륜동   1353.922709\n",
       "...          ...    ...           ...\n",
       "56183 2021-06-26     전체  61800.971670\n",
       "56184 2021-06-27     전체  61946.972602\n",
       "56185 2021-06-28     전체  61802.207245\n",
       "56186 2021-06-29     전체  61335.188042\n",
       "56187 2021-06-30     전체  60676.964569\n",
       "\n",
       "[56188 rows x 3 columns]"
      ]
     },
     "execution_count": 131,
     "metadata": {},
     "output_type": "execute_result"
    }
   ],
   "source": [
    "newyouth = pd.concat([youth , y_tot]).reset_index(drop = True)\n",
    "newyouth"
   ]
  },
  {
   "cell_type": "code",
   "execution_count": 132,
   "id": "9d8a2a33",
   "metadata": {
    "ExecuteTime": {
     "end_time": "2021-09-13T08:13:55.533931Z",
     "start_time": "2021-09-13T08:13:55.514317Z"
    }
   },
   "outputs": [],
   "source": [
    "newyouth.rename(columns={'total':'youth_pop'},inplace=True)"
   ]
  },
  {
   "cell_type": "code",
   "execution_count": 147,
   "id": "ad35fa73",
   "metadata": {
    "ExecuteTime": {
     "end_time": "2021-09-13T08:15:31.890504Z",
     "start_time": "2021-09-13T08:15:31.853391Z"
    }
   },
   "outputs": [
    {
     "name": "stdout",
     "output_type": "stream",
     "text": [
      "<class 'pandas.core.frame.DataFrame'>\n",
      "RangeIndex: 56188 entries, 0 to 56187\n",
      "Data columns (total 3 columns):\n",
      " #   Column     Non-Null Count  Dtype  \n",
      "---  ------     --------------  -----  \n",
      " 0   base_date  56188 non-null  object \n",
      " 1   emd_nm     56188 non-null  object \n",
      " 2   youth_pop  56188 non-null  float64\n",
      "dtypes: float64(1), object(2)\n",
      "memory usage: 1.3+ MB\n"
     ]
    }
   ],
   "source": [
    "newyouth.info()"
   ]
  },
  {
   "cell_type": "markdown",
   "id": "1422799b",
   "metadata": {},
   "source": [
    "# merge 하기"
   ]
  },
  {
   "cell_type": "code",
   "execution_count": 201,
   "id": "adb4f935",
   "metadata": {
    "ExecuteTime": {
     "end_time": "2021-09-13T08:27:07.599028Z",
     "start_time": "2021-09-13T08:27:07.539465Z"
    }
   },
   "outputs": [],
   "source": [
    "waste=waste[['base_date','emd_nm','em_g']].groupby(['base_date','emd_nm']).sum().reset_index()"
   ]
  },
  {
   "cell_type": "code",
   "execution_count": 202,
   "id": "413bf3c4",
   "metadata": {
    "ExecuteTime": {
     "end_time": "2021-09-13T08:27:07.940403Z",
     "start_time": "2021-09-13T08:27:07.924100Z"
    }
   },
   "outputs": [
    {
     "data": {
      "text/html": [
       "<div>\n",
       "<style scoped>\n",
       "    .dataframe tbody tr th:only-of-type {\n",
       "        vertical-align: middle;\n",
       "    }\n",
       "\n",
       "    .dataframe tbody tr th {\n",
       "        vertical-align: top;\n",
       "    }\n",
       "\n",
       "    .dataframe thead th {\n",
       "        text-align: right;\n",
       "    }\n",
       "</style>\n",
       "<table border=\"1\" class=\"dataframe\">\n",
       "  <thead>\n",
       "    <tr style=\"text-align: right;\">\n",
       "      <th></th>\n",
       "      <th>base_date</th>\n",
       "      <th>emd_nm</th>\n",
       "      <th>em_g</th>\n",
       "    </tr>\n",
       "  </thead>\n",
       "  <tbody>\n",
       "    <tr>\n",
       "      <th>0</th>\n",
       "      <td>2018-01-01</td>\n",
       "      <td>건입동</td>\n",
       "      <td>1708250</td>\n",
       "    </tr>\n",
       "    <tr>\n",
       "      <th>1</th>\n",
       "      <td>2018-01-01</td>\n",
       "      <td>남원읍</td>\n",
       "      <td>1239600</td>\n",
       "    </tr>\n",
       "    <tr>\n",
       "      <th>2</th>\n",
       "      <td>2018-01-01</td>\n",
       "      <td>노형동</td>\n",
       "      <td>9357900</td>\n",
       "    </tr>\n",
       "    <tr>\n",
       "      <th>3</th>\n",
       "      <td>2018-01-01</td>\n",
       "      <td>대륜동</td>\n",
       "      <td>1717700</td>\n",
       "    </tr>\n",
       "    <tr>\n",
       "      <th>4</th>\n",
       "      <td>2018-01-01</td>\n",
       "      <td>대정읍</td>\n",
       "      <td>1264950</td>\n",
       "    </tr>\n",
       "    <tr>\n",
       "      <th>...</th>\n",
       "      <td>...</td>\n",
       "      <td>...</td>\n",
       "      <td>...</td>\n",
       "    </tr>\n",
       "    <tr>\n",
       "      <th>50517</th>\n",
       "      <td>2021-06-30</td>\n",
       "      <td>표선면</td>\n",
       "      <td>1377450</td>\n",
       "    </tr>\n",
       "    <tr>\n",
       "      <th>50518</th>\n",
       "      <td>2021-06-30</td>\n",
       "      <td>한경면</td>\n",
       "      <td>973850</td>\n",
       "    </tr>\n",
       "    <tr>\n",
       "      <th>50519</th>\n",
       "      <td>2021-06-30</td>\n",
       "      <td>한림읍</td>\n",
       "      <td>3298100</td>\n",
       "    </tr>\n",
       "    <tr>\n",
       "      <th>50520</th>\n",
       "      <td>2021-06-30</td>\n",
       "      <td>화북동</td>\n",
       "      <td>3749600</td>\n",
       "    </tr>\n",
       "    <tr>\n",
       "      <th>50521</th>\n",
       "      <td>2021-06-30</td>\n",
       "      <td>효돈동</td>\n",
       "      <td>1011050</td>\n",
       "    </tr>\n",
       "  </tbody>\n",
       "</table>\n",
       "<p>50522 rows × 3 columns</p>\n",
       "</div>"
      ],
      "text/plain": [
       "        base_date emd_nm     em_g\n",
       "0      2018-01-01    건입동  1708250\n",
       "1      2018-01-01    남원읍  1239600\n",
       "2      2018-01-01    노형동  9357900\n",
       "3      2018-01-01    대륜동  1717700\n",
       "4      2018-01-01    대정읍  1264950\n",
       "...           ...    ...      ...\n",
       "50517  2021-06-30    표선면  1377450\n",
       "50518  2021-06-30    한경면   973850\n",
       "50519  2021-06-30    한림읍  3298100\n",
       "50520  2021-06-30    화북동  3749600\n",
       "50521  2021-06-30    효돈동  1011050\n",
       "\n",
       "[50522 rows x 3 columns]"
      ]
     },
     "execution_count": 202,
     "metadata": {},
     "output_type": "execute_result"
    }
   ],
   "source": [
    "waste"
   ]
  },
  {
   "cell_type": "code",
   "execution_count": 203,
   "id": "f1b0cf93",
   "metadata": {
    "ExecuteTime": {
     "end_time": "2021-09-13T08:27:09.197537Z",
     "start_time": "2021-09-13T08:27:09.163372Z"
    }
   },
   "outputs": [],
   "source": [
    "waste_total = waste.groupby(['base_date'])[['em_g']].sum().reset_index()\n",
    "waste_total['emd_nm'] = '전체'"
   ]
  },
  {
   "cell_type": "code",
   "execution_count": 204,
   "id": "181afee8",
   "metadata": {
    "ExecuteTime": {
     "end_time": "2021-09-13T08:27:09.445558Z",
     "start_time": "2021-09-13T08:27:09.423893Z"
    }
   },
   "outputs": [],
   "source": [
    "waste_total = pd.concat([waste_total , waste]).reset_index(drop = True)"
   ]
  },
  {
   "cell_type": "code",
   "execution_count": 205,
   "id": "b90509e0",
   "metadata": {
    "ExecuteTime": {
     "end_time": "2021-09-13T08:27:09.725796Z",
     "start_time": "2021-09-13T08:27:09.695796Z"
    }
   },
   "outputs": [],
   "source": [
    "waste_total.drop(waste_total[waste_total['emd_nm']=='알수없음'].index,inplace=True)"
   ]
  },
  {
   "cell_type": "code",
   "execution_count": 206,
   "id": "e710da55",
   "metadata": {
    "ExecuteTime": {
     "end_time": "2021-09-13T08:27:10.734382Z",
     "start_time": "2021-09-13T08:27:10.718211Z"
    }
   },
   "outputs": [
    {
     "data": {
      "text/html": [
       "<div>\n",
       "<style scoped>\n",
       "    .dataframe tbody tr th:only-of-type {\n",
       "        vertical-align: middle;\n",
       "    }\n",
       "\n",
       "    .dataframe tbody tr th {\n",
       "        vertical-align: top;\n",
       "    }\n",
       "\n",
       "    .dataframe thead th {\n",
       "        text-align: right;\n",
       "    }\n",
       "</style>\n",
       "<table border=\"1\" class=\"dataframe\">\n",
       "  <thead>\n",
       "    <tr style=\"text-align: right;\">\n",
       "      <th></th>\n",
       "      <th>base_date</th>\n",
       "      <th>em_g</th>\n",
       "      <th>emd_nm</th>\n",
       "    </tr>\n",
       "  </thead>\n",
       "  <tbody>\n",
       "    <tr>\n",
       "      <th>0</th>\n",
       "      <td>2018-01-01</td>\n",
       "      <td>85755000</td>\n",
       "      <td>전체</td>\n",
       "    </tr>\n",
       "    <tr>\n",
       "      <th>1</th>\n",
       "      <td>2018-01-02</td>\n",
       "      <td>90217650</td>\n",
       "      <td>전체</td>\n",
       "    </tr>\n",
       "    <tr>\n",
       "      <th>2</th>\n",
       "      <td>2018-01-03</td>\n",
       "      <td>80277600</td>\n",
       "      <td>전체</td>\n",
       "    </tr>\n",
       "    <tr>\n",
       "      <th>3</th>\n",
       "      <td>2018-01-04</td>\n",
       "      <td>80138700</td>\n",
       "      <td>전체</td>\n",
       "    </tr>\n",
       "    <tr>\n",
       "      <th>4</th>\n",
       "      <td>2018-01-05</td>\n",
       "      <td>75798600</td>\n",
       "      <td>전체</td>\n",
       "    </tr>\n",
       "    <tr>\n",
       "      <th>...</th>\n",
       "      <td>...</td>\n",
       "      <td>...</td>\n",
       "      <td>...</td>\n",
       "    </tr>\n",
       "    <tr>\n",
       "      <th>51794</th>\n",
       "      <td>2021-06-30</td>\n",
       "      <td>1377450</td>\n",
       "      <td>표선면</td>\n",
       "    </tr>\n",
       "    <tr>\n",
       "      <th>51795</th>\n",
       "      <td>2021-06-30</td>\n",
       "      <td>973850</td>\n",
       "      <td>한경면</td>\n",
       "    </tr>\n",
       "    <tr>\n",
       "      <th>51796</th>\n",
       "      <td>2021-06-30</td>\n",
       "      <td>3298100</td>\n",
       "      <td>한림읍</td>\n",
       "    </tr>\n",
       "    <tr>\n",
       "      <th>51797</th>\n",
       "      <td>2021-06-30</td>\n",
       "      <td>3749600</td>\n",
       "      <td>화북동</td>\n",
       "    </tr>\n",
       "    <tr>\n",
       "      <th>51798</th>\n",
       "      <td>2021-06-30</td>\n",
       "      <td>1011050</td>\n",
       "      <td>효돈동</td>\n",
       "    </tr>\n",
       "  </tbody>\n",
       "</table>\n",
       "<p>50886 rows × 3 columns</p>\n",
       "</div>"
      ],
      "text/plain": [
       "        base_date      em_g emd_nm\n",
       "0      2018-01-01  85755000     전체\n",
       "1      2018-01-02  90217650     전체\n",
       "2      2018-01-03  80277600     전체\n",
       "3      2018-01-04  80138700     전체\n",
       "4      2018-01-05  75798600     전체\n",
       "...           ...       ...    ...\n",
       "51794  2021-06-30   1377450    표선면\n",
       "51795  2021-06-30    973850    한경면\n",
       "51796  2021-06-30   3298100    한림읍\n",
       "51797  2021-06-30   3749600    화북동\n",
       "51798  2021-06-30   1011050    효돈동\n",
       "\n",
       "[50886 rows x 3 columns]"
      ]
     },
     "execution_count": 206,
     "metadata": {},
     "output_type": "execute_result"
    }
   ],
   "source": [
    "waste_total"
   ]
  },
  {
   "cell_type": "code",
   "execution_count": 207,
   "id": "d77782e7",
   "metadata": {
    "ExecuteTime": {
     "end_time": "2021-09-13T08:27:12.179431Z",
     "start_time": "2021-09-13T08:27:12.150820Z"
    }
   },
   "outputs": [
    {
     "name": "stdout",
     "output_type": "stream",
     "text": [
      "<class 'pandas.core.frame.DataFrame'>\n",
      "Int64Index: 50886 entries, 0 to 51798\n",
      "Data columns (total 3 columns):\n",
      " #   Column     Non-Null Count  Dtype \n",
      "---  ------     --------------  ----- \n",
      " 0   base_date  50886 non-null  object\n",
      " 1   em_g       50886 non-null  int64 \n",
      " 2   emd_nm     50886 non-null  object\n",
      "dtypes: int64(1), object(2)\n",
      "memory usage: 1.6+ MB\n"
     ]
    }
   ],
   "source": [
    "waste_total.info()"
   ]
  },
  {
   "cell_type": "code",
   "execution_count": 208,
   "id": "388fa359",
   "metadata": {
    "ExecuteTime": {
     "end_time": "2021-09-13T08:27:14.046098Z",
     "start_time": "2021-09-13T08:27:14.026738Z"
    }
   },
   "outputs": [],
   "source": [
    "newyouth['base_date']=newyouth.base_date.astype('str')"
   ]
  },
  {
   "cell_type": "code",
   "execution_count": 209,
   "id": "6661ed70",
   "metadata": {
    "ExecuteTime": {
     "end_time": "2021-09-13T08:27:14.356354Z",
     "start_time": "2021-09-13T08:27:14.297948Z"
    }
   },
   "outputs": [],
   "source": [
    "total_data=pd.merge(waste_total,newyouth,left_on=['base_date','emd_nm'],right_on=['base_date','emd_nm'])"
   ]
  },
  {
   "cell_type": "code",
   "execution_count": 210,
   "id": "578e6cb1",
   "metadata": {
    "ExecuteTime": {
     "end_time": "2021-09-13T08:27:15.835410Z",
     "start_time": "2021-09-13T08:27:15.802929Z"
    }
   },
   "outputs": [
    {
     "data": {
      "text/html": [
       "<div>\n",
       "<style scoped>\n",
       "    .dataframe tbody tr th:only-of-type {\n",
       "        vertical-align: middle;\n",
       "    }\n",
       "\n",
       "    .dataframe tbody tr th {\n",
       "        vertical-align: top;\n",
       "    }\n",
       "\n",
       "    .dataframe thead th {\n",
       "        text-align: right;\n",
       "    }\n",
       "</style>\n",
       "<table border=\"1\" class=\"dataframe\">\n",
       "  <thead>\n",
       "    <tr style=\"text-align: right;\">\n",
       "      <th></th>\n",
       "      <th>base_date</th>\n",
       "      <th>em_g</th>\n",
       "      <th>emd_nm</th>\n",
       "      <th>youth_pop</th>\n",
       "    </tr>\n",
       "  </thead>\n",
       "  <tbody>\n",
       "    <tr>\n",
       "      <th>0</th>\n",
       "      <td>2018-01-01</td>\n",
       "      <td>85755000</td>\n",
       "      <td>전체</td>\n",
       "      <td>54466.952499</td>\n",
       "    </tr>\n",
       "    <tr>\n",
       "      <th>1</th>\n",
       "      <td>2018-01-02</td>\n",
       "      <td>90217650</td>\n",
       "      <td>전체</td>\n",
       "      <td>53973.690842</td>\n",
       "    </tr>\n",
       "    <tr>\n",
       "      <th>2</th>\n",
       "      <td>2018-01-03</td>\n",
       "      <td>80277600</td>\n",
       "      <td>전체</td>\n",
       "      <td>53705.165769</td>\n",
       "    </tr>\n",
       "    <tr>\n",
       "      <th>3</th>\n",
       "      <td>2018-01-04</td>\n",
       "      <td>80138700</td>\n",
       "      <td>전체</td>\n",
       "      <td>53151.118467</td>\n",
       "    </tr>\n",
       "    <tr>\n",
       "      <th>4</th>\n",
       "      <td>2018-01-05</td>\n",
       "      <td>75798600</td>\n",
       "      <td>전체</td>\n",
       "      <td>53360.869746</td>\n",
       "    </tr>\n",
       "    <tr>\n",
       "      <th>...</th>\n",
       "      <td>...</td>\n",
       "      <td>...</td>\n",
       "      <td>...</td>\n",
       "      <td>...</td>\n",
       "    </tr>\n",
       "    <tr>\n",
       "      <th>50881</th>\n",
       "      <td>2021-06-30</td>\n",
       "      <td>1377450</td>\n",
       "      <td>표선면</td>\n",
       "      <td>914.664667</td>\n",
       "    </tr>\n",
       "    <tr>\n",
       "      <th>50882</th>\n",
       "      <td>2021-06-30</td>\n",
       "      <td>973850</td>\n",
       "      <td>한경면</td>\n",
       "      <td>608.427552</td>\n",
       "    </tr>\n",
       "    <tr>\n",
       "      <th>50883</th>\n",
       "      <td>2021-06-30</td>\n",
       "      <td>3298100</td>\n",
       "      <td>한림읍</td>\n",
       "      <td>2064.041876</td>\n",
       "    </tr>\n",
       "    <tr>\n",
       "      <th>50884</th>\n",
       "      <td>2021-06-30</td>\n",
       "      <td>3749600</td>\n",
       "      <td>화북동</td>\n",
       "      <td>1810.431884</td>\n",
       "    </tr>\n",
       "    <tr>\n",
       "      <th>50885</th>\n",
       "      <td>2021-06-30</td>\n",
       "      <td>1011050</td>\n",
       "      <td>효돈동</td>\n",
       "      <td>283.896570</td>\n",
       "    </tr>\n",
       "  </tbody>\n",
       "</table>\n",
       "<p>50886 rows × 4 columns</p>\n",
       "</div>"
      ],
      "text/plain": [
       "        base_date      em_g emd_nm     youth_pop\n",
       "0      2018-01-01  85755000     전체  54466.952499\n",
       "1      2018-01-02  90217650     전체  53973.690842\n",
       "2      2018-01-03  80277600     전체  53705.165769\n",
       "3      2018-01-04  80138700     전체  53151.118467\n",
       "4      2018-01-05  75798600     전체  53360.869746\n",
       "...           ...       ...    ...           ...\n",
       "50881  2021-06-30   1377450    표선면    914.664667\n",
       "50882  2021-06-30    973850    한경면    608.427552\n",
       "50883  2021-06-30   3298100    한림읍   2064.041876\n",
       "50884  2021-06-30   3749600    화북동   1810.431884\n",
       "50885  2021-06-30   1011050    효돈동    283.896570\n",
       "\n",
       "[50886 rows x 4 columns]"
      ]
     },
     "execution_count": 210,
     "metadata": {},
     "output_type": "execute_result"
    }
   ],
   "source": [
    "total_data"
   ]
  },
  {
   "cell_type": "code",
   "execution_count": 211,
   "id": "a08d3341",
   "metadata": {
    "ExecuteTime": {
     "end_time": "2021-09-13T08:27:17.530945Z",
     "start_time": "2021-09-13T08:27:17.487667Z"
    }
   },
   "outputs": [],
   "source": [
    "total_data=pd.merge(total_data,newt,left_on=['base_date','emd_nm'],right_on=['base_date','emd_nm'],how='left')"
   ]
  },
  {
   "cell_type": "code",
   "execution_count": 212,
   "id": "0d0ca369",
   "metadata": {
    "ExecuteTime": {
     "end_time": "2021-09-13T08:27:18.976767Z",
     "start_time": "2021-09-13T08:27:18.939120Z"
    }
   },
   "outputs": [
    {
     "data": {
      "text/html": [
       "<div>\n",
       "<style scoped>\n",
       "    .dataframe tbody tr th:only-of-type {\n",
       "        vertical-align: middle;\n",
       "    }\n",
       "\n",
       "    .dataframe tbody tr th {\n",
       "        vertical-align: top;\n",
       "    }\n",
       "\n",
       "    .dataframe thead th {\n",
       "        text-align: right;\n",
       "    }\n",
       "</style>\n",
       "<table border=\"1\" class=\"dataframe\">\n",
       "  <thead>\n",
       "    <tr style=\"text-align: right;\">\n",
       "      <th></th>\n",
       "      <th>base_date</th>\n",
       "      <th>em_g</th>\n",
       "      <th>emd_nm</th>\n",
       "      <th>youth_pop</th>\n",
       "      <th>total_frgn_pop</th>\n",
       "    </tr>\n",
       "  </thead>\n",
       "  <tbody>\n",
       "    <tr>\n",
       "      <th>0</th>\n",
       "      <td>2018-01-01</td>\n",
       "      <td>85755000</td>\n",
       "      <td>전체</td>\n",
       "      <td>54466.952499</td>\n",
       "      <td>2215.223209</td>\n",
       "    </tr>\n",
       "    <tr>\n",
       "      <th>1</th>\n",
       "      <td>2018-01-02</td>\n",
       "      <td>90217650</td>\n",
       "      <td>전체</td>\n",
       "      <td>53973.690842</td>\n",
       "      <td>2221.350506</td>\n",
       "    </tr>\n",
       "    <tr>\n",
       "      <th>2</th>\n",
       "      <td>2018-01-03</td>\n",
       "      <td>80277600</td>\n",
       "      <td>전체</td>\n",
       "      <td>53705.165769</td>\n",
       "      <td>2172.085577</td>\n",
       "    </tr>\n",
       "    <tr>\n",
       "      <th>3</th>\n",
       "      <td>2018-01-04</td>\n",
       "      <td>80138700</td>\n",
       "      <td>전체</td>\n",
       "      <td>53151.118467</td>\n",
       "      <td>2111.044522</td>\n",
       "    </tr>\n",
       "    <tr>\n",
       "      <th>4</th>\n",
       "      <td>2018-01-05</td>\n",
       "      <td>75798600</td>\n",
       "      <td>전체</td>\n",
       "      <td>53360.869746</td>\n",
       "      <td>2055.834760</td>\n",
       "    </tr>\n",
       "    <tr>\n",
       "      <th>...</th>\n",
       "      <td>...</td>\n",
       "      <td>...</td>\n",
       "      <td>...</td>\n",
       "      <td>...</td>\n",
       "      <td>...</td>\n",
       "    </tr>\n",
       "    <tr>\n",
       "      <th>50881</th>\n",
       "      <td>2021-06-30</td>\n",
       "      <td>1377450</td>\n",
       "      <td>표선면</td>\n",
       "      <td>914.664667</td>\n",
       "      <td>12.910869</td>\n",
       "    </tr>\n",
       "    <tr>\n",
       "      <th>50882</th>\n",
       "      <td>2021-06-30</td>\n",
       "      <td>973850</td>\n",
       "      <td>한경면</td>\n",
       "      <td>608.427552</td>\n",
       "      <td>22.165953</td>\n",
       "    </tr>\n",
       "    <tr>\n",
       "      <th>50883</th>\n",
       "      <td>2021-06-30</td>\n",
       "      <td>3298100</td>\n",
       "      <td>한림읍</td>\n",
       "      <td>2064.041876</td>\n",
       "      <td>48.329788</td>\n",
       "    </tr>\n",
       "    <tr>\n",
       "      <th>50884</th>\n",
       "      <td>2021-06-30</td>\n",
       "      <td>3749600</td>\n",
       "      <td>화북동</td>\n",
       "      <td>1810.431884</td>\n",
       "      <td>18.483512</td>\n",
       "    </tr>\n",
       "    <tr>\n",
       "      <th>50885</th>\n",
       "      <td>2021-06-30</td>\n",
       "      <td>1011050</td>\n",
       "      <td>효돈동</td>\n",
       "      <td>283.896570</td>\n",
       "      <td>8.603778</td>\n",
       "    </tr>\n",
       "  </tbody>\n",
       "</table>\n",
       "<p>50886 rows × 5 columns</p>\n",
       "</div>"
      ],
      "text/plain": [
       "        base_date      em_g emd_nm     youth_pop  total_frgn_pop\n",
       "0      2018-01-01  85755000     전체  54466.952499     2215.223209\n",
       "1      2018-01-02  90217650     전체  53973.690842     2221.350506\n",
       "2      2018-01-03  80277600     전체  53705.165769     2172.085577\n",
       "3      2018-01-04  80138700     전체  53151.118467     2111.044522\n",
       "4      2018-01-05  75798600     전체  53360.869746     2055.834760\n",
       "...           ...       ...    ...           ...             ...\n",
       "50881  2021-06-30   1377450    표선면    914.664667       12.910869\n",
       "50882  2021-06-30    973850    한경면    608.427552       22.165953\n",
       "50883  2021-06-30   3298100    한림읍   2064.041876       48.329788\n",
       "50884  2021-06-30   3749600    화북동   1810.431884       18.483512\n",
       "50885  2021-06-30   1011050    효돈동    283.896570        8.603778\n",
       "\n",
       "[50886 rows x 5 columns]"
      ]
     },
     "execution_count": 212,
     "metadata": {},
     "output_type": "execute_result"
    }
   ],
   "source": [
    "total_data"
   ]
  },
  {
   "cell_type": "code",
   "execution_count": 213,
   "id": "f20e0668",
   "metadata": {
    "ExecuteTime": {
     "end_time": "2021-09-13T08:27:24.728509Z",
     "start_time": "2021-09-13T08:27:24.702495Z"
    }
   },
   "outputs": [],
   "source": [
    "total_data=total_data[['base_date','emd_nm','em_g','youth_pop','total_frgn_pop']]"
   ]
  },
  {
   "cell_type": "code",
   "execution_count": 214,
   "id": "be5f10e4",
   "metadata": {
    "ExecuteTime": {
     "end_time": "2021-09-13T08:27:25.166286Z",
     "start_time": "2021-09-13T08:27:25.137793Z"
    }
   },
   "outputs": [
    {
     "data": {
      "text/html": [
       "<div>\n",
       "<style scoped>\n",
       "    .dataframe tbody tr th:only-of-type {\n",
       "        vertical-align: middle;\n",
       "    }\n",
       "\n",
       "    .dataframe tbody tr th {\n",
       "        vertical-align: top;\n",
       "    }\n",
       "\n",
       "    .dataframe thead th {\n",
       "        text-align: right;\n",
       "    }\n",
       "</style>\n",
       "<table border=\"1\" class=\"dataframe\">\n",
       "  <thead>\n",
       "    <tr style=\"text-align: right;\">\n",
       "      <th></th>\n",
       "      <th>base_date</th>\n",
       "      <th>emd_nm</th>\n",
       "      <th>em_g</th>\n",
       "      <th>youth_pop</th>\n",
       "      <th>total_frgn_pop</th>\n",
       "    </tr>\n",
       "  </thead>\n",
       "  <tbody>\n",
       "    <tr>\n",
       "      <th>0</th>\n",
       "      <td>2018-01-01</td>\n",
       "      <td>전체</td>\n",
       "      <td>85755000</td>\n",
       "      <td>54466.952499</td>\n",
       "      <td>2215.223209</td>\n",
       "    </tr>\n",
       "    <tr>\n",
       "      <th>1</th>\n",
       "      <td>2018-01-02</td>\n",
       "      <td>전체</td>\n",
       "      <td>90217650</td>\n",
       "      <td>53973.690842</td>\n",
       "      <td>2221.350506</td>\n",
       "    </tr>\n",
       "    <tr>\n",
       "      <th>2</th>\n",
       "      <td>2018-01-03</td>\n",
       "      <td>전체</td>\n",
       "      <td>80277600</td>\n",
       "      <td>53705.165769</td>\n",
       "      <td>2172.085577</td>\n",
       "    </tr>\n",
       "    <tr>\n",
       "      <th>3</th>\n",
       "      <td>2018-01-04</td>\n",
       "      <td>전체</td>\n",
       "      <td>80138700</td>\n",
       "      <td>53151.118467</td>\n",
       "      <td>2111.044522</td>\n",
       "    </tr>\n",
       "    <tr>\n",
       "      <th>4</th>\n",
       "      <td>2018-01-05</td>\n",
       "      <td>전체</td>\n",
       "      <td>75798600</td>\n",
       "      <td>53360.869746</td>\n",
       "      <td>2055.834760</td>\n",
       "    </tr>\n",
       "    <tr>\n",
       "      <th>...</th>\n",
       "      <td>...</td>\n",
       "      <td>...</td>\n",
       "      <td>...</td>\n",
       "      <td>...</td>\n",
       "      <td>...</td>\n",
       "    </tr>\n",
       "    <tr>\n",
       "      <th>50881</th>\n",
       "      <td>2021-06-30</td>\n",
       "      <td>표선면</td>\n",
       "      <td>1377450</td>\n",
       "      <td>914.664667</td>\n",
       "      <td>12.910869</td>\n",
       "    </tr>\n",
       "    <tr>\n",
       "      <th>50882</th>\n",
       "      <td>2021-06-30</td>\n",
       "      <td>한경면</td>\n",
       "      <td>973850</td>\n",
       "      <td>608.427552</td>\n",
       "      <td>22.165953</td>\n",
       "    </tr>\n",
       "    <tr>\n",
       "      <th>50883</th>\n",
       "      <td>2021-06-30</td>\n",
       "      <td>한림읍</td>\n",
       "      <td>3298100</td>\n",
       "      <td>2064.041876</td>\n",
       "      <td>48.329788</td>\n",
       "    </tr>\n",
       "    <tr>\n",
       "      <th>50884</th>\n",
       "      <td>2021-06-30</td>\n",
       "      <td>화북동</td>\n",
       "      <td>3749600</td>\n",
       "      <td>1810.431884</td>\n",
       "      <td>18.483512</td>\n",
       "    </tr>\n",
       "    <tr>\n",
       "      <th>50885</th>\n",
       "      <td>2021-06-30</td>\n",
       "      <td>효돈동</td>\n",
       "      <td>1011050</td>\n",
       "      <td>283.896570</td>\n",
       "      <td>8.603778</td>\n",
       "    </tr>\n",
       "  </tbody>\n",
       "</table>\n",
       "<p>50886 rows × 5 columns</p>\n",
       "</div>"
      ],
      "text/plain": [
       "        base_date emd_nm      em_g     youth_pop  total_frgn_pop\n",
       "0      2018-01-01     전체  85755000  54466.952499     2215.223209\n",
       "1      2018-01-02     전체  90217650  53973.690842     2221.350506\n",
       "2      2018-01-03     전체  80277600  53705.165769     2172.085577\n",
       "3      2018-01-04     전체  80138700  53151.118467     2111.044522\n",
       "4      2018-01-05     전체  75798600  53360.869746     2055.834760\n",
       "...           ...    ...       ...           ...             ...\n",
       "50881  2021-06-30    표선면   1377450    914.664667       12.910869\n",
       "50882  2021-06-30    한경면    973850    608.427552       22.165953\n",
       "50883  2021-06-30    한림읍   3298100   2064.041876       48.329788\n",
       "50884  2021-06-30    화북동   3749600   1810.431884       18.483512\n",
       "50885  2021-06-30    효돈동   1011050    283.896570        8.603778\n",
       "\n",
       "[50886 rows x 5 columns]"
      ]
     },
     "execution_count": 214,
     "metadata": {},
     "output_type": "execute_result"
    }
   ],
   "source": [
    "total_data"
   ]
  },
  {
   "cell_type": "code",
   "execution_count": 215,
   "id": "442a4651",
   "metadata": {
    "ExecuteTime": {
     "end_time": "2021-09-13T08:27:26.817140Z",
     "start_time": "2021-09-13T08:27:26.802532Z"
    }
   },
   "outputs": [
    {
     "data": {
      "text/plain": [
       "base_date         0\n",
       "emd_nm            0\n",
       "em_g              0\n",
       "youth_pop         0\n",
       "total_frgn_pop    0\n",
       "dtype: int64"
      ]
     },
     "execution_count": 215,
     "metadata": {},
     "output_type": "execute_result"
    }
   ],
   "source": [
    "total_data.isnull().sum()"
   ]
  },
  {
   "cell_type": "code",
   "execution_count": 216,
   "id": "a8e592fe",
   "metadata": {
    "ExecuteTime": {
     "end_time": "2021-09-13T08:27:33.127319Z",
     "start_time": "2021-09-13T08:27:33.103084Z"
    }
   },
   "outputs": [
    {
     "data": {
      "text/html": [
       "<div>\n",
       "<style scoped>\n",
       "    .dataframe tbody tr th:only-of-type {\n",
       "        vertical-align: middle;\n",
       "    }\n",
       "\n",
       "    .dataframe tbody tr th {\n",
       "        vertical-align: top;\n",
       "    }\n",
       "\n",
       "    .dataframe thead th {\n",
       "        text-align: right;\n",
       "    }\n",
       "</style>\n",
       "<table border=\"1\" class=\"dataframe\">\n",
       "  <thead>\n",
       "    <tr style=\"text-align: right;\">\n",
       "      <th></th>\n",
       "      <th>base_date</th>\n",
       "      <th>emd_nm</th>\n",
       "      <th>em_g</th>\n",
       "      <th>youth_pop</th>\n",
       "      <th>total_frgn_pop</th>\n",
       "    </tr>\n",
       "  </thead>\n",
       "  <tbody>\n",
       "  </tbody>\n",
       "</table>\n",
       "</div>"
      ],
      "text/plain": [
       "Empty DataFrame\n",
       "Columns: [base_date, emd_nm, em_g, youth_pop, total_frgn_pop]\n",
       "Index: []"
      ]
     },
     "execution_count": 216,
     "metadata": {},
     "output_type": "execute_result"
    }
   ],
   "source": [
    "total_data.loc[total_data['total_frgn_pop'].isnull()]"
   ]
  },
  {
   "cell_type": "code",
   "execution_count": 150,
   "id": "0ed1048f",
   "metadata": {
    "ExecuteTime": {
     "end_time": "2021-09-13T08:17:08.284503Z",
     "start_time": "2021-09-13T08:17:08.254786Z"
    }
   },
   "outputs": [
    {
     "data": {
      "text/html": [
       "<div>\n",
       "<style scoped>\n",
       "    .dataframe tbody tr th:only-of-type {\n",
       "        vertical-align: middle;\n",
       "    }\n",
       "\n",
       "    .dataframe tbody tr th {\n",
       "        vertical-align: top;\n",
       "    }\n",
       "\n",
       "    .dataframe thead th {\n",
       "        text-align: right;\n",
       "    }\n",
       "</style>\n",
       "<table border=\"1\" class=\"dataframe\">\n",
       "  <thead>\n",
       "    <tr style=\"text-align: right;\">\n",
       "      <th></th>\n",
       "      <th>base_date</th>\n",
       "      <th>emd_nm</th>\n",
       "      <th>total_frgn_pop</th>\n",
       "    </tr>\n",
       "  </thead>\n",
       "  <tbody>\n",
       "    <tr>\n",
       "      <th>0</th>\n",
       "      <td>2018-01-01</td>\n",
       "      <td>건입동</td>\n",
       "      <td>53.709367</td>\n",
       "    </tr>\n",
       "    <tr>\n",
       "      <th>1</th>\n",
       "      <td>2018-01-01</td>\n",
       "      <td>구좌읍</td>\n",
       "      <td>38.530083</td>\n",
       "    </tr>\n",
       "    <tr>\n",
       "      <th>2</th>\n",
       "      <td>2018-01-01</td>\n",
       "      <td>남원읍</td>\n",
       "      <td>44.698131</td>\n",
       "    </tr>\n",
       "    <tr>\n",
       "      <th>3</th>\n",
       "      <td>2018-01-01</td>\n",
       "      <td>노형동</td>\n",
       "      <td>143.811278</td>\n",
       "    </tr>\n",
       "    <tr>\n",
       "      <th>4</th>\n",
       "      <td>2018-01-01</td>\n",
       "      <td>대륜동</td>\n",
       "      <td>26.507865</td>\n",
       "    </tr>\n",
       "    <tr>\n",
       "      <th>...</th>\n",
       "      <td>...</td>\n",
       "      <td>...</td>\n",
       "      <td>...</td>\n",
       "    </tr>\n",
       "    <tr>\n",
       "      <th>54988</th>\n",
       "      <td>2021-06-26</td>\n",
       "      <td>전체</td>\n",
       "      <td>956.689204</td>\n",
       "    </tr>\n",
       "    <tr>\n",
       "      <th>54989</th>\n",
       "      <td>2021-06-27</td>\n",
       "      <td>전체</td>\n",
       "      <td>968.255603</td>\n",
       "    </tr>\n",
       "    <tr>\n",
       "      <th>54990</th>\n",
       "      <td>2021-06-28</td>\n",
       "      <td>전체</td>\n",
       "      <td>954.634028</td>\n",
       "    </tr>\n",
       "    <tr>\n",
       "      <th>54991</th>\n",
       "      <td>2021-06-29</td>\n",
       "      <td>전체</td>\n",
       "      <td>998.849240</td>\n",
       "    </tr>\n",
       "    <tr>\n",
       "      <th>54992</th>\n",
       "      <td>2021-06-30</td>\n",
       "      <td>전체</td>\n",
       "      <td>1015.214485</td>\n",
       "    </tr>\n",
       "  </tbody>\n",
       "</table>\n",
       "<p>54993 rows × 3 columns</p>\n",
       "</div>"
      ],
      "text/plain": [
       "        base_date emd_nm  total_frgn_pop\n",
       "0      2018-01-01    건입동       53.709367\n",
       "1      2018-01-01    구좌읍       38.530083\n",
       "2      2018-01-01    남원읍       44.698131\n",
       "3      2018-01-01    노형동      143.811278\n",
       "4      2018-01-01    대륜동       26.507865\n",
       "...           ...    ...             ...\n",
       "54988  2021-06-26     전체      956.689204\n",
       "54989  2021-06-27     전체      968.255603\n",
       "54990  2021-06-28     전체      954.634028\n",
       "54991  2021-06-29     전체      998.849240\n",
       "54992  2021-06-30     전체     1015.214485\n",
       "\n",
       "[54993 rows x 3 columns]"
      ]
     },
     "execution_count": 150,
     "metadata": {},
     "output_type": "execute_result"
    }
   ],
   "source": [
    "newt"
   ]
  },
  {
   "cell_type": "code",
   "execution_count": null,
   "id": "52c5d3af",
   "metadata": {},
   "outputs": [],
   "source": []
  },
  {
   "cell_type": "code",
   "execution_count": 218,
   "id": "1be715cd",
   "metadata": {
    "ExecuteTime": {
     "end_time": "2021-09-13T08:27:43.262537Z",
     "start_time": "2021-09-13T08:27:42.913086Z"
    }
   },
   "outputs": [],
   "source": [
    "total_data.to_csv(\"youth_frgn_pop.csv\")"
   ]
  },
  {
   "cell_type": "code",
   "execution_count": 225,
   "id": "f4d4302d",
   "metadata": {
    "ExecuteTime": {
     "end_time": "2021-09-13T08:30:13.360017Z",
     "start_time": "2021-09-13T08:30:13.140017Z"
    }
   },
   "outputs": [],
   "source": [
    "final_train=pd.read_csv(\"eco jeju/merge_feature_210913.csv\",)"
   ]
  },
  {
   "cell_type": "code",
   "execution_count": 229,
   "id": "fb48e2c1",
   "metadata": {
    "ExecuteTime": {
     "end_time": "2021-09-13T08:31:00.040529Z",
     "start_time": "2021-09-13T08:31:00.015894Z"
    }
   },
   "outputs": [],
   "source": [
    "final_train.drop(columns=['youth_pop','total_frgn_pop'],inplace=True)"
   ]
  },
  {
   "cell_type": "code",
   "execution_count": 232,
   "id": "9cead273",
   "metadata": {
    "ExecuteTime": {
     "end_time": "2021-09-13T08:31:40.415612Z",
     "start_time": "2021-09-13T08:31:40.391694Z"
    }
   },
   "outputs": [],
   "source": [
    "final_train.drop(columns=['pay_amt'],inplace=True)"
   ]
  },
  {
   "cell_type": "code",
   "execution_count": 235,
   "id": "be824cee",
   "metadata": {
    "ExecuteTime": {
     "end_time": "2021-09-13T08:32:35.113763Z",
     "start_time": "2021-09-13T08:32:35.052147Z"
    }
   },
   "outputs": [],
   "source": [
    "final_train=pd.merge(final_train,total_data,left_on=['base_date','emd_nm'],right_on=['base_date','emd_nm'],how='left')"
   ]
  },
  {
   "cell_type": "code",
   "execution_count": 237,
   "id": "53fa7f85",
   "metadata": {
    "ExecuteTime": {
     "end_time": "2021-09-13T08:33:24.429574Z",
     "start_time": "2021-09-13T08:33:24.394300Z"
    }
   },
   "outputs": [],
   "source": [
    "final_train.drop(columns=['em_g_y','Unnamed: 0'],inplace=True)\n",
    "final_train.rename(columns={'em_g_x':'em_g'},inplace=True)"
   ]
  },
  {
   "cell_type": "code",
   "execution_count": 240,
   "id": "65411033",
   "metadata": {
    "ExecuteTime": {
     "end_time": "2021-09-13T08:34:01.422868Z",
     "start_time": "2021-09-13T08:34:00.628825Z"
    }
   },
   "outputs": [],
   "source": [
    "final_train.to_csv(\"final_final_train_0913.csv\")"
   ]
  },
  {
   "cell_type": "code",
   "execution_count": null,
   "id": "2ad282ab",
   "metadata": {},
   "outputs": [],
   "source": []
  }
 ],
 "metadata": {
  "kernelspec": {
   "display_name": "Python 3",
   "language": "python",
   "name": "python3"
  },
  "language_info": {
   "codemirror_mode": {
    "name": "ipython",
    "version": 3
   },
   "file_extension": ".py",
   "mimetype": "text/x-python",
   "name": "python",
   "nbconvert_exporter": "python",
   "pygments_lexer": "ipython3",
   "version": "3.8.8"
  },
  "toc": {
   "base_numbering": 1,
   "nav_menu": {},
   "number_sections": true,
   "sideBar": true,
   "skip_h1_title": false,
   "title_cell": "Table of Contents",
   "title_sidebar": "Contents",
   "toc_cell": false,
   "toc_position": {},
   "toc_section_display": true,
   "toc_window_display": false
  },
  "varInspector": {
   "cols": {
    "lenName": 16,
    "lenType": 16,
    "lenVar": 40
   },
   "kernels_config": {
    "python": {
     "delete_cmd_postfix": "",
     "delete_cmd_prefix": "del ",
     "library": "var_list.py",
     "varRefreshCmd": "print(var_dic_list())"
    },
    "r": {
     "delete_cmd_postfix": ") ",
     "delete_cmd_prefix": "rm(",
     "library": "var_list.r",
     "varRefreshCmd": "cat(var_dic_list()) "
    }
   },
   "types_to_exclude": [
    "module",
    "function",
    "builtin_function_or_method",
    "instance",
    "_Feature"
   ],
   "window_display": false
  }
 },
 "nbformat": 4,
 "nbformat_minor": 5
}
