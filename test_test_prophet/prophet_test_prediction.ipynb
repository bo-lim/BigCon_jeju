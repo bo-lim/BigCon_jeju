{
 "cells": [
  {
   "cell_type": "code",
   "execution_count": 1,
   "id": "2ac69acc",
   "metadata": {
    "ExecuteTime": {
     "end_time": "2021-09-10T07:07:09.490042Z",
     "start_time": "2021-09-10T07:07:07.980592Z"
    }
   },
   "outputs": [],
   "source": [
    "import warnings\n",
    "warnings.filterwarnings('ignore')\n",
    "from matplotlib import font_manager,rc\n",
    "f_name=font_manager.FontProperties(fname='C:/Windows/Fonts/NGULIM.ttf').get_name()\n",
    "rc('font',family=f_name)\n",
    "import pandas as pd\n",
    "import numpy as np\n",
    "import matplotlib.pyplot as plt"
   ]
  },
  {
   "cell_type": "code",
   "execution_count": 2,
   "id": "57f25820",
   "metadata": {
    "ExecuteTime": {
     "end_time": "2021-09-10T07:07:11.363990Z",
     "start_time": "2021-09-10T07:07:10.298262Z"
    }
   },
   "outputs": [
    {
     "name": "stderr",
     "output_type": "stream",
     "text": [
      "Importing plotly failed. Interactive plots will not work.\n"
     ]
    }
   ],
   "source": [
    "from fbprophet import Prophet "
   ]
  },
  {
   "cell_type": "code",
   "execution_count": 3,
   "id": "8dce765f",
   "metadata": {
    "ExecuteTime": {
     "end_time": "2021-09-10T07:07:12.254906Z",
     "start_time": "2021-09-10T07:07:12.025827Z"
    }
   },
   "outputs": [],
   "source": [
    "data=pd.read_csv(\"eco jeju/final_dataset.csv\")"
   ]
  },
  {
   "cell_type": "code",
   "execution_count": 4,
   "id": "bd580470",
   "metadata": {
    "ExecuteTime": {
     "end_time": "2021-09-10T07:07:12.705766Z",
     "start_time": "2021-09-10T07:07:12.687636Z"
    }
   },
   "outputs": [],
   "source": [
    "data.drop(['Unnamed: 0'],axis=1,inplace=True)"
   ]
  },
  {
   "cell_type": "code",
   "execution_count": 5,
   "id": "5f987761",
   "metadata": {
    "ExecuteTime": {
     "end_time": "2021-09-10T07:07:13.063994Z",
     "start_time": "2021-09-10T07:07:13.040365Z"
    }
   },
   "outputs": [],
   "source": [
    "data=data.loc[:,:'제주_resd_pop']"
   ]
  },
  {
   "cell_type": "code",
   "execution_count": 6,
   "id": "ebcb4473",
   "metadata": {
    "ExecuteTime": {
     "end_time": "2021-09-10T07:07:13.515149Z",
     "start_time": "2021-09-10T07:07:13.387591Z"
    }
   },
   "outputs": [],
   "source": [
    "data['year']=data['year'].astype(str)\n",
    "data['month']=data['month'].astype(str)\n",
    "data['date']=data['date'].astype(str)"
   ]
  },
  {
   "cell_type": "code",
   "execution_count": 7,
   "id": "ebae38c4",
   "metadata": {
    "ExecuteTime": {
     "end_time": "2021-09-10T07:07:13.860938Z",
     "start_time": "2021-09-10T07:07:13.761727Z"
    }
   },
   "outputs": [],
   "source": [
    "data['base_date']=data['year']+\"-\"+data['month']+\"-\"+data['date']\n",
    "data['base_date']=pd.to_datetime(data['base_date'])"
   ]
  },
  {
   "cell_type": "code",
   "execution_count": 8,
   "id": "a3916541",
   "metadata": {
    "ExecuteTime": {
     "end_time": "2021-09-10T07:07:14.204370Z",
     "start_time": "2021-09-10T07:07:14.177491Z"
    }
   },
   "outputs": [],
   "source": [
    "data.drop(['year','month','date'],axis=1,inplace=True)"
   ]
  },
  {
   "cell_type": "code",
   "execution_count": 9,
   "id": "4676ad6a",
   "metadata": {
    "ExecuteTime": {
     "end_time": "2021-09-10T07:07:15.922622Z",
     "start_time": "2021-09-10T07:07:15.874361Z"
    }
   },
   "outputs": [
    {
     "data": {
      "text/html": [
       "<div>\n",
       "<style scoped>\n",
       "    .dataframe tbody tr th:only-of-type {\n",
       "        vertical-align: middle;\n",
       "    }\n",
       "\n",
       "    .dataframe tbody tr th {\n",
       "        vertical-align: top;\n",
       "    }\n",
       "\n",
       "    .dataframe thead th {\n",
       "        text-align: right;\n",
       "    }\n",
       "</style>\n",
       "<table border=\"1\" class=\"dataframe\">\n",
       "  <thead>\n",
       "    <tr style=\"text-align: right;\">\n",
       "      <th></th>\n",
       "      <th>emd_nm</th>\n",
       "      <th>em_g</th>\n",
       "      <th>total_pop</th>\n",
       "      <th>제주_resd_ratio</th>\n",
       "      <th>제주_resd_pop</th>\n",
       "      <th>base_date</th>\n",
       "    </tr>\n",
       "  </thead>\n",
       "  <tbody>\n",
       "    <tr>\n",
       "      <th>0</th>\n",
       "      <td>건입동</td>\n",
       "      <td>1708250</td>\n",
       "      <td>10028</td>\n",
       "      <td>0.552623</td>\n",
       "      <td>7274.890502</td>\n",
       "      <td>2018-01-01</td>\n",
       "    </tr>\n",
       "    <tr>\n",
       "      <th>1</th>\n",
       "      <td>남원읍</td>\n",
       "      <td>1239600</td>\n",
       "      <td>19740</td>\n",
       "      <td>0.704247</td>\n",
       "      <td>12143.821692</td>\n",
       "      <td>2018-01-01</td>\n",
       "    </tr>\n",
       "    <tr>\n",
       "      <th>2</th>\n",
       "      <td>노형동</td>\n",
       "      <td>9357900</td>\n",
       "      <td>54958</td>\n",
       "      <td>0.769356</td>\n",
       "      <td>50660.687565</td>\n",
       "      <td>2018-01-01</td>\n",
       "    </tr>\n",
       "    <tr>\n",
       "      <th>3</th>\n",
       "      <td>대륜동</td>\n",
       "      <td>1717700</td>\n",
       "      <td>13651</td>\n",
       "      <td>0.667224</td>\n",
       "      <td>11185.575639</td>\n",
       "      <td>2018-01-01</td>\n",
       "    </tr>\n",
       "    <tr>\n",
       "      <th>4</th>\n",
       "      <td>대정읍</td>\n",
       "      <td>1264950</td>\n",
       "      <td>22603</td>\n",
       "      <td>0.784751</td>\n",
       "      <td>16075.181182</td>\n",
       "      <td>2018-01-01</td>\n",
       "    </tr>\n",
       "    <tr>\n",
       "      <th>...</th>\n",
       "      <td>...</td>\n",
       "      <td>...</td>\n",
       "      <td>...</td>\n",
       "      <td>...</td>\n",
       "      <td>...</td>\n",
       "      <td>...</td>\n",
       "    </tr>\n",
       "    <tr>\n",
       "      <th>50881</th>\n",
       "      <td>한경면</td>\n",
       "      <td>973850</td>\n",
       "      <td>9495</td>\n",
       "      <td>0.749118</td>\n",
       "      <td>7257.895822</td>\n",
       "      <td>2021-06-30</td>\n",
       "    </tr>\n",
       "    <tr>\n",
       "      <th>50882</th>\n",
       "      <td>한림읍</td>\n",
       "      <td>3298100</td>\n",
       "      <td>24462</td>\n",
       "      <td>0.769060</td>\n",
       "      <td>20632.727912</td>\n",
       "      <td>2021-06-30</td>\n",
       "    </tr>\n",
       "    <tr>\n",
       "      <th>50883</th>\n",
       "      <td>화북동</td>\n",
       "      <td>3749600</td>\n",
       "      <td>24630</td>\n",
       "      <td>0.705806</td>\n",
       "      <td>24117.268821</td>\n",
       "      <td>2021-06-30</td>\n",
       "    </tr>\n",
       "    <tr>\n",
       "      <th>50884</th>\n",
       "      <td>효돈동</td>\n",
       "      <td>1011050</td>\n",
       "      <td>5314</td>\n",
       "      <td>0.744489</td>\n",
       "      <td>3726.154500</td>\n",
       "      <td>2021-06-30</td>\n",
       "    </tr>\n",
       "    <tr>\n",
       "      <th>50885</th>\n",
       "      <td>전체</td>\n",
       "      <td>91728950</td>\n",
       "      <td>696950</td>\n",
       "      <td>0.685614</td>\n",
       "      <td>576750.852147</td>\n",
       "      <td>2021-06-30</td>\n",
       "    </tr>\n",
       "  </tbody>\n",
       "</table>\n",
       "<p>50886 rows × 6 columns</p>\n",
       "</div>"
      ],
      "text/plain": [
       "      emd_nm      em_g  total_pop  제주_resd_ratio    제주_resd_pop  base_date\n",
       "0        건입동   1708250      10028       0.552623    7274.890502 2018-01-01\n",
       "1        남원읍   1239600      19740       0.704247   12143.821692 2018-01-01\n",
       "2        노형동   9357900      54958       0.769356   50660.687565 2018-01-01\n",
       "3        대륜동   1717700      13651       0.667224   11185.575639 2018-01-01\n",
       "4        대정읍   1264950      22603       0.784751   16075.181182 2018-01-01\n",
       "...      ...       ...        ...            ...            ...        ...\n",
       "50881    한경면    973850       9495       0.749118    7257.895822 2021-06-30\n",
       "50882    한림읍   3298100      24462       0.769060   20632.727912 2021-06-30\n",
       "50883    화북동   3749600      24630       0.705806   24117.268821 2021-06-30\n",
       "50884    효돈동   1011050       5314       0.744489    3726.154500 2021-06-30\n",
       "50885     전체  91728950     696950       0.685614  576750.852147 2021-06-30\n",
       "\n",
       "[50886 rows x 6 columns]"
      ]
     },
     "execution_count": 9,
     "metadata": {},
     "output_type": "execute_result"
    }
   ],
   "source": [
    "data"
   ]
  },
  {
   "cell_type": "code",
   "execution_count": 10,
   "id": "4db22690",
   "metadata": {
    "ExecuteTime": {
     "end_time": "2021-09-10T07:07:18.515072Z",
     "start_time": "2021-09-10T07:07:18.499018Z"
    }
   },
   "outputs": [],
   "source": [
    "##2021년 5월 30일 train, 6월 1일에서 6월 18일까지 test로\n",
    "data_train=data.loc[data['base_date']<='2021-05-30']"
   ]
  },
  {
   "cell_type": "code",
   "execution_count": 11,
   "id": "fac01682",
   "metadata": {
    "ExecuteTime": {
     "end_time": "2021-09-10T07:07:19.028693Z",
     "start_time": "2021-09-10T07:07:19.015400Z"
    }
   },
   "outputs": [],
   "source": [
    "data_test=data.loc[(data['base_date']>='2021-06-01')&(data['base_date']<='2021-06-18')]"
   ]
  },
  {
   "cell_type": "code",
   "execution_count": 12,
   "id": "da61f89c",
   "metadata": {
    "ExecuteTime": {
     "end_time": "2021-09-10T07:07:19.434835Z",
     "start_time": "2021-09-10T07:07:19.400031Z"
    }
   },
   "outputs": [
    {
     "data": {
      "text/html": [
       "<div>\n",
       "<style scoped>\n",
       "    .dataframe tbody tr th:only-of-type {\n",
       "        vertical-align: middle;\n",
       "    }\n",
       "\n",
       "    .dataframe tbody tr th {\n",
       "        vertical-align: top;\n",
       "    }\n",
       "\n",
       "    .dataframe thead th {\n",
       "        text-align: right;\n",
       "    }\n",
       "</style>\n",
       "<table border=\"1\" class=\"dataframe\">\n",
       "  <thead>\n",
       "    <tr style=\"text-align: right;\">\n",
       "      <th></th>\n",
       "      <th>emd_nm</th>\n",
       "      <th>em_g</th>\n",
       "      <th>total_pop</th>\n",
       "      <th>제주_resd_ratio</th>\n",
       "      <th>제주_resd_pop</th>\n",
       "      <th>base_date</th>\n",
       "    </tr>\n",
       "  </thead>\n",
       "  <tbody>\n",
       "    <tr>\n",
       "      <th>49638</th>\n",
       "      <td>건입동</td>\n",
       "      <td>1320000</td>\n",
       "      <td>9110</td>\n",
       "      <td>0.536131</td>\n",
       "      <td>6749.072768</td>\n",
       "      <td>2021-06-01</td>\n",
       "    </tr>\n",
       "    <tr>\n",
       "      <th>49639</th>\n",
       "      <td>구좌읍</td>\n",
       "      <td>1179950</td>\n",
       "      <td>15955</td>\n",
       "      <td>0.762469</td>\n",
       "      <td>13881.063572</td>\n",
       "      <td>2021-06-01</td>\n",
       "    </tr>\n",
       "    <tr>\n",
       "      <th>49640</th>\n",
       "      <td>남원읍</td>\n",
       "      <td>1770800</td>\n",
       "      <td>19354</td>\n",
       "      <td>0.760316</td>\n",
       "      <td>14736.993588</td>\n",
       "      <td>2021-06-01</td>\n",
       "    </tr>\n",
       "    <tr>\n",
       "      <th>49641</th>\n",
       "      <td>노형동</td>\n",
       "      <td>7501050</td>\n",
       "      <td>57473</td>\n",
       "      <td>0.727099</td>\n",
       "      <td>54738.205330</td>\n",
       "      <td>2021-06-01</td>\n",
       "    </tr>\n",
       "    <tr>\n",
       "      <th>49642</th>\n",
       "      <td>대륜동</td>\n",
       "      <td>1494100</td>\n",
       "      <td>15277</td>\n",
       "      <td>0.724267</td>\n",
       "      <td>14593.421729</td>\n",
       "      <td>2021-06-01</td>\n",
       "    </tr>\n",
       "    <tr>\n",
       "      <th>...</th>\n",
       "      <td>...</td>\n",
       "      <td>...</td>\n",
       "      <td>...</td>\n",
       "      <td>...</td>\n",
       "      <td>...</td>\n",
       "      <td>...</td>\n",
       "    </tr>\n",
       "    <tr>\n",
       "      <th>50389</th>\n",
       "      <td>한경면</td>\n",
       "      <td>884350</td>\n",
       "      <td>9495</td>\n",
       "      <td>0.754707</td>\n",
       "      <td>7363.618917</td>\n",
       "      <td>2021-06-18</td>\n",
       "    </tr>\n",
       "    <tr>\n",
       "      <th>50390</th>\n",
       "      <td>한림읍</td>\n",
       "      <td>2575100</td>\n",
       "      <td>24462</td>\n",
       "      <td>0.775363</td>\n",
       "      <td>20990.875850</td>\n",
       "      <td>2021-06-18</td>\n",
       "    </tr>\n",
       "    <tr>\n",
       "      <th>50391</th>\n",
       "      <td>화북동</td>\n",
       "      <td>3273750</td>\n",
       "      <td>24630</td>\n",
       "      <td>0.711459</td>\n",
       "      <td>24719.499267</td>\n",
       "      <td>2021-06-18</td>\n",
       "    </tr>\n",
       "    <tr>\n",
       "      <th>50392</th>\n",
       "      <td>효돈동</td>\n",
       "      <td>929950</td>\n",
       "      <td>5314</td>\n",
       "      <td>0.760800</td>\n",
       "      <td>3856.153048</td>\n",
       "      <td>2021-06-18</td>\n",
       "    </tr>\n",
       "    <tr>\n",
       "      <th>50393</th>\n",
       "      <td>전체</td>\n",
       "      <td>84958750</td>\n",
       "      <td>696950</td>\n",
       "      <td>0.695429</td>\n",
       "      <td>592414.730773</td>\n",
       "      <td>2021-06-18</td>\n",
       "    </tr>\n",
       "  </tbody>\n",
       "</table>\n",
       "<p>756 rows × 6 columns</p>\n",
       "</div>"
      ],
      "text/plain": [
       "      emd_nm      em_g  total_pop  제주_resd_ratio    제주_resd_pop  base_date\n",
       "49638    건입동   1320000       9110       0.536131    6749.072768 2021-06-01\n",
       "49639    구좌읍   1179950      15955       0.762469   13881.063572 2021-06-01\n",
       "49640    남원읍   1770800      19354       0.760316   14736.993588 2021-06-01\n",
       "49641    노형동   7501050      57473       0.727099   54738.205330 2021-06-01\n",
       "49642    대륜동   1494100      15277       0.724267   14593.421729 2021-06-01\n",
       "...      ...       ...        ...            ...            ...        ...\n",
       "50389    한경면    884350       9495       0.754707    7363.618917 2021-06-18\n",
       "50390    한림읍   2575100      24462       0.775363   20990.875850 2021-06-18\n",
       "50391    화북동   3273750      24630       0.711459   24719.499267 2021-06-18\n",
       "50392    효돈동    929950       5314       0.760800    3856.153048 2021-06-18\n",
       "50393     전체  84958750     696950       0.695429  592414.730773 2021-06-18\n",
       "\n",
       "[756 rows x 6 columns]"
      ]
     },
     "execution_count": 12,
     "metadata": {},
     "output_type": "execute_result"
    }
   ],
   "source": [
    "data_test"
   ]
  },
  {
   "cell_type": "markdown",
   "id": "25841d35",
   "metadata": {},
   "source": [
    "# total_pop예측"
   ]
  },
  {
   "cell_type": "code",
   "execution_count": 51,
   "id": "7704861d",
   "metadata": {
    "ExecuteTime": {
     "end_time": "2021-09-10T08:56:49.170604Z",
     "start_time": "2021-09-10T08:56:49.158340Z"
    }
   },
   "outputs": [],
   "source": [
    "test_df=pd.DataFrame(columns=['emd_nm','base_date','total_pop'])"
   ]
  },
  {
   "cell_type": "code",
   "execution_count": 52,
   "id": "a8797452",
   "metadata": {
    "ExecuteTime": {
     "end_time": "2021-09-10T09:18:37.509724Z",
     "start_time": "2021-09-10T08:56:49.758507Z"
    }
   },
   "outputs": [],
   "source": [
    "for region in data['emd_nm'].unique():\n",
    "    data_pop=data_train.loc[data_train['emd_nm']==region,['total_pop','base_date']]\n",
    "    data_pop.rename(columns={'total_pop':'y','base_date':'ds'},inplace=True)\n",
    "    model=Prophet(seasonality_mode = 'multiplicative',daily_seasonality=True,yearly_seasonality=True,weekly_seasonality=True)\n",
    "    model.fit(data_pop)\n",
    "    future=model.make_future_dataframe(periods=19,freq='D')\n",
    "    forecast=model.predict(future)\n",
    "    forecast=forecast[['ds','yhat']]\n",
    "    forecast.rename(columns={'ds':'base_date','yhat':'total_pop'},inplace=True)\n",
    "    forecast['emd_nm']=region\n",
    "    test_df=pd.concat([test_df,forecast])"
   ]
  },
  {
   "cell_type": "code",
   "execution_count": 53,
   "id": "930e2843",
   "metadata": {
    "ExecuteTime": {
     "end_time": "2021-09-10T09:21:49.857496Z",
     "start_time": "2021-09-10T09:21:49.840270Z"
    }
   },
   "outputs": [],
   "source": [
    "test_df=test_df.loc[(test_df['base_date']>='2021-06-01')&(test_df['base_date']<='2021-06-18')].sort_values(by=['base_date'])"
   ]
  },
  {
   "cell_type": "code",
   "execution_count": 54,
   "id": "47ee2f6e",
   "metadata": {
    "ExecuteTime": {
     "end_time": "2021-09-10T09:21:51.475327Z",
     "start_time": "2021-09-10T09:21:51.457132Z"
    }
   },
   "outputs": [],
   "source": [
    "test_df.rename(columns={'total_pop':'total_pop_pred'},inplace=True)"
   ]
  },
  {
   "cell_type": "code",
   "execution_count": 55,
   "id": "495c2c43",
   "metadata": {
    "ExecuteTime": {
     "end_time": "2021-09-10T09:21:51.942019Z",
     "start_time": "2021-09-10T09:21:51.908795Z"
    }
   },
   "outputs": [
    {
     "data": {
      "text/html": [
       "<div>\n",
       "<style scoped>\n",
       "    .dataframe tbody tr th:only-of-type {\n",
       "        vertical-align: middle;\n",
       "    }\n",
       "\n",
       "    .dataframe tbody tr th {\n",
       "        vertical-align: top;\n",
       "    }\n",
       "\n",
       "    .dataframe thead th {\n",
       "        text-align: right;\n",
       "    }\n",
       "</style>\n",
       "<table border=\"1\" class=\"dataframe\">\n",
       "  <thead>\n",
       "    <tr style=\"text-align: right;\">\n",
       "      <th></th>\n",
       "      <th>emd_nm</th>\n",
       "      <th>base_date</th>\n",
       "      <th>total_pop_pred</th>\n",
       "    </tr>\n",
       "  </thead>\n",
       "  <tbody>\n",
       "    <tr>\n",
       "      <th>1246</th>\n",
       "      <td>건입동</td>\n",
       "      <td>2021-06-01</td>\n",
       "      <td>9131.279307</td>\n",
       "    </tr>\n",
       "    <tr>\n",
       "      <th>575</th>\n",
       "      <td>조천읍</td>\n",
       "      <td>2021-06-01</td>\n",
       "      <td>25944.071073</td>\n",
       "    </tr>\n",
       "    <tr>\n",
       "      <th>1246</th>\n",
       "      <td>표선면</td>\n",
       "      <td>2021-06-01</td>\n",
       "      <td>12675.010161</td>\n",
       "    </tr>\n",
       "    <tr>\n",
       "      <th>1246</th>\n",
       "      <td>예래동</td>\n",
       "      <td>2021-06-01</td>\n",
       "      <td>4184.228124</td>\n",
       "    </tr>\n",
       "    <tr>\n",
       "      <th>1247</th>\n",
       "      <td>오라동</td>\n",
       "      <td>2021-06-01</td>\n",
       "      <td>16017.189014</td>\n",
       "    </tr>\n",
       "    <tr>\n",
       "      <th>...</th>\n",
       "      <td>...</td>\n",
       "      <td>...</td>\n",
       "      <td>...</td>\n",
       "    </tr>\n",
       "    <tr>\n",
       "      <th>1263</th>\n",
       "      <td>용담1동</td>\n",
       "      <td>2021-06-18</td>\n",
       "      <td>7021.182451</td>\n",
       "    </tr>\n",
       "    <tr>\n",
       "      <th>1264</th>\n",
       "      <td>외도동</td>\n",
       "      <td>2021-06-18</td>\n",
       "      <td>22361.672022</td>\n",
       "    </tr>\n",
       "    <tr>\n",
       "      <th>1264</th>\n",
       "      <td>오라동</td>\n",
       "      <td>2021-06-18</td>\n",
       "      <td>16040.454842</td>\n",
       "    </tr>\n",
       "    <tr>\n",
       "      <th>1263</th>\n",
       "      <td>일도1동</td>\n",
       "      <td>2021-06-18</td>\n",
       "      <td>2526.848229</td>\n",
       "    </tr>\n",
       "    <tr>\n",
       "      <th>584</th>\n",
       "      <td>한경면</td>\n",
       "      <td>2021-06-18</td>\n",
       "      <td>9434.076535</td>\n",
       "    </tr>\n",
       "  </tbody>\n",
       "</table>\n",
       "<p>756 rows × 3 columns</p>\n",
       "</div>"
      ],
      "text/plain": [
       "     emd_nm  base_date  total_pop_pred\n",
       "1246    건입동 2021-06-01     9131.279307\n",
       "575     조천읍 2021-06-01    25944.071073\n",
       "1246    표선면 2021-06-01    12675.010161\n",
       "1246    예래동 2021-06-01     4184.228124\n",
       "1247    오라동 2021-06-01    16017.189014\n",
       "...     ...        ...             ...\n",
       "1263   용담1동 2021-06-18     7021.182451\n",
       "1264    외도동 2021-06-18    22361.672022\n",
       "1264    오라동 2021-06-18    16040.454842\n",
       "1263   일도1동 2021-06-18     2526.848229\n",
       "584     한경면 2021-06-18     9434.076535\n",
       "\n",
       "[756 rows x 3 columns]"
      ]
     },
     "execution_count": 55,
     "metadata": {},
     "output_type": "execute_result"
    }
   ],
   "source": [
    "test_df"
   ]
  },
  {
   "cell_type": "code",
   "execution_count": 56,
   "id": "c881e702",
   "metadata": {
    "ExecuteTime": {
     "end_time": "2021-09-10T09:21:53.421583Z",
     "start_time": "2021-09-10T09:21:53.400526Z"
    }
   },
   "outputs": [],
   "source": [
    "data_test_total_pop=data_test[['base_date','emd_nm','total_pop']]"
   ]
  },
  {
   "cell_type": "code",
   "execution_count": 57,
   "id": "5f5d831a",
   "metadata": {
    "ExecuteTime": {
     "end_time": "2021-09-10T09:21:53.948740Z",
     "start_time": "2021-09-10T09:21:53.910146Z"
    }
   },
   "outputs": [
    {
     "data": {
      "text/html": [
       "<div>\n",
       "<style scoped>\n",
       "    .dataframe tbody tr th:only-of-type {\n",
       "        vertical-align: middle;\n",
       "    }\n",
       "\n",
       "    .dataframe tbody tr th {\n",
       "        vertical-align: top;\n",
       "    }\n",
       "\n",
       "    .dataframe thead th {\n",
       "        text-align: right;\n",
       "    }\n",
       "</style>\n",
       "<table border=\"1\" class=\"dataframe\">\n",
       "  <thead>\n",
       "    <tr style=\"text-align: right;\">\n",
       "      <th></th>\n",
       "      <th>base_date</th>\n",
       "      <th>emd_nm</th>\n",
       "      <th>total_pop</th>\n",
       "    </tr>\n",
       "  </thead>\n",
       "  <tbody>\n",
       "    <tr>\n",
       "      <th>49638</th>\n",
       "      <td>2021-06-01</td>\n",
       "      <td>건입동</td>\n",
       "      <td>9110</td>\n",
       "    </tr>\n",
       "    <tr>\n",
       "      <th>49639</th>\n",
       "      <td>2021-06-01</td>\n",
       "      <td>구좌읍</td>\n",
       "      <td>15955</td>\n",
       "    </tr>\n",
       "    <tr>\n",
       "      <th>49640</th>\n",
       "      <td>2021-06-01</td>\n",
       "      <td>남원읍</td>\n",
       "      <td>19354</td>\n",
       "    </tr>\n",
       "    <tr>\n",
       "      <th>49641</th>\n",
       "      <td>2021-06-01</td>\n",
       "      <td>노형동</td>\n",
       "      <td>57473</td>\n",
       "    </tr>\n",
       "    <tr>\n",
       "      <th>49642</th>\n",
       "      <td>2021-06-01</td>\n",
       "      <td>대륜동</td>\n",
       "      <td>15277</td>\n",
       "    </tr>\n",
       "    <tr>\n",
       "      <th>...</th>\n",
       "      <td>...</td>\n",
       "      <td>...</td>\n",
       "      <td>...</td>\n",
       "    </tr>\n",
       "    <tr>\n",
       "      <th>50389</th>\n",
       "      <td>2021-06-18</td>\n",
       "      <td>한경면</td>\n",
       "      <td>9495</td>\n",
       "    </tr>\n",
       "    <tr>\n",
       "      <th>50390</th>\n",
       "      <td>2021-06-18</td>\n",
       "      <td>한림읍</td>\n",
       "      <td>24462</td>\n",
       "    </tr>\n",
       "    <tr>\n",
       "      <th>50391</th>\n",
       "      <td>2021-06-18</td>\n",
       "      <td>화북동</td>\n",
       "      <td>24630</td>\n",
       "    </tr>\n",
       "    <tr>\n",
       "      <th>50392</th>\n",
       "      <td>2021-06-18</td>\n",
       "      <td>효돈동</td>\n",
       "      <td>5314</td>\n",
       "    </tr>\n",
       "    <tr>\n",
       "      <th>50393</th>\n",
       "      <td>2021-06-18</td>\n",
       "      <td>전체</td>\n",
       "      <td>696950</td>\n",
       "    </tr>\n",
       "  </tbody>\n",
       "</table>\n",
       "<p>756 rows × 3 columns</p>\n",
       "</div>"
      ],
      "text/plain": [
       "       base_date emd_nm  total_pop\n",
       "49638 2021-06-01    건입동       9110\n",
       "49639 2021-06-01    구좌읍      15955\n",
       "49640 2021-06-01    남원읍      19354\n",
       "49641 2021-06-01    노형동      57473\n",
       "49642 2021-06-01    대륜동      15277\n",
       "...          ...    ...        ...\n",
       "50389 2021-06-18    한경면       9495\n",
       "50390 2021-06-18    한림읍      24462\n",
       "50391 2021-06-18    화북동      24630\n",
       "50392 2021-06-18    효돈동       5314\n",
       "50393 2021-06-18     전체     696950\n",
       "\n",
       "[756 rows x 3 columns]"
      ]
     },
     "execution_count": 57,
     "metadata": {},
     "output_type": "execute_result"
    }
   ],
   "source": [
    "data_test_total_pop"
   ]
  },
  {
   "cell_type": "code",
   "execution_count": 58,
   "id": "53acb20b",
   "metadata": {
    "ExecuteTime": {
     "end_time": "2021-09-10T09:21:55.330326Z",
     "start_time": "2021-09-10T09:21:55.310774Z"
    }
   },
   "outputs": [],
   "source": [
    "merge1=pd.merge(data_test_total_pop,test_df,on=['base_date','emd_nm'])"
   ]
  },
  {
   "cell_type": "code",
   "execution_count": 59,
   "id": "7b4889e4",
   "metadata": {
    "ExecuteTime": {
     "end_time": "2021-09-10T09:21:55.872841Z",
     "start_time": "2021-09-10T09:21:55.846417Z"
    }
   },
   "outputs": [
    {
     "data": {
      "text/html": [
       "<div>\n",
       "<style scoped>\n",
       "    .dataframe tbody tr th:only-of-type {\n",
       "        vertical-align: middle;\n",
       "    }\n",
       "\n",
       "    .dataframe tbody tr th {\n",
       "        vertical-align: top;\n",
       "    }\n",
       "\n",
       "    .dataframe thead th {\n",
       "        text-align: right;\n",
       "    }\n",
       "</style>\n",
       "<table border=\"1\" class=\"dataframe\">\n",
       "  <thead>\n",
       "    <tr style=\"text-align: right;\">\n",
       "      <th></th>\n",
       "      <th>base_date</th>\n",
       "      <th>emd_nm</th>\n",
       "      <th>total_pop</th>\n",
       "      <th>total_pop_pred</th>\n",
       "    </tr>\n",
       "  </thead>\n",
       "  <tbody>\n",
       "    <tr>\n",
       "      <th>0</th>\n",
       "      <td>2021-06-01</td>\n",
       "      <td>건입동</td>\n",
       "      <td>9110</td>\n",
       "      <td>9131.279307</td>\n",
       "    </tr>\n",
       "    <tr>\n",
       "      <th>1</th>\n",
       "      <td>2021-06-01</td>\n",
       "      <td>구좌읍</td>\n",
       "      <td>15955</td>\n",
       "      <td>15966.495077</td>\n",
       "    </tr>\n",
       "    <tr>\n",
       "      <th>2</th>\n",
       "      <td>2021-06-01</td>\n",
       "      <td>남원읍</td>\n",
       "      <td>19354</td>\n",
       "      <td>19352.455751</td>\n",
       "    </tr>\n",
       "    <tr>\n",
       "      <th>3</th>\n",
       "      <td>2021-06-01</td>\n",
       "      <td>노형동</td>\n",
       "      <td>57473</td>\n",
       "      <td>57399.537681</td>\n",
       "    </tr>\n",
       "    <tr>\n",
       "      <th>4</th>\n",
       "      <td>2021-06-01</td>\n",
       "      <td>대륜동</td>\n",
       "      <td>15277</td>\n",
       "      <td>15249.793009</td>\n",
       "    </tr>\n",
       "    <tr>\n",
       "      <th>...</th>\n",
       "      <td>...</td>\n",
       "      <td>...</td>\n",
       "      <td>...</td>\n",
       "      <td>...</td>\n",
       "    </tr>\n",
       "    <tr>\n",
       "      <th>751</th>\n",
       "      <td>2021-06-18</td>\n",
       "      <td>한경면</td>\n",
       "      <td>9495</td>\n",
       "      <td>9434.076535</td>\n",
       "    </tr>\n",
       "    <tr>\n",
       "      <th>752</th>\n",
       "      <td>2021-06-18</td>\n",
       "      <td>한림읍</td>\n",
       "      <td>24462</td>\n",
       "      <td>24495.218479</td>\n",
       "    </tr>\n",
       "    <tr>\n",
       "      <th>753</th>\n",
       "      <td>2021-06-18</td>\n",
       "      <td>화북동</td>\n",
       "      <td>24630</td>\n",
       "      <td>24574.653660</td>\n",
       "    </tr>\n",
       "    <tr>\n",
       "      <th>754</th>\n",
       "      <td>2021-06-18</td>\n",
       "      <td>효돈동</td>\n",
       "      <td>5314</td>\n",
       "      <td>5329.750947</td>\n",
       "    </tr>\n",
       "    <tr>\n",
       "      <th>755</th>\n",
       "      <td>2021-06-18</td>\n",
       "      <td>전체</td>\n",
       "      <td>696950</td>\n",
       "      <td>696960.051026</td>\n",
       "    </tr>\n",
       "  </tbody>\n",
       "</table>\n",
       "<p>756 rows × 4 columns</p>\n",
       "</div>"
      ],
      "text/plain": [
       "     base_date emd_nm  total_pop  total_pop_pred\n",
       "0   2021-06-01    건입동       9110     9131.279307\n",
       "1   2021-06-01    구좌읍      15955    15966.495077\n",
       "2   2021-06-01    남원읍      19354    19352.455751\n",
       "3   2021-06-01    노형동      57473    57399.537681\n",
       "4   2021-06-01    대륜동      15277    15249.793009\n",
       "..         ...    ...        ...             ...\n",
       "751 2021-06-18    한경면       9495     9434.076535\n",
       "752 2021-06-18    한림읍      24462    24495.218479\n",
       "753 2021-06-18    화북동      24630    24574.653660\n",
       "754 2021-06-18    효돈동       5314     5329.750947\n",
       "755 2021-06-18     전체     696950   696960.051026\n",
       "\n",
       "[756 rows x 4 columns]"
      ]
     },
     "execution_count": 59,
     "metadata": {},
     "output_type": "execute_result"
    }
   ],
   "source": [
    "merge1"
   ]
  },
  {
   "cell_type": "code",
   "execution_count": 60,
   "id": "db4b76eb",
   "metadata": {
    "ExecuteTime": {
     "end_time": "2021-09-10T09:21:57.663230Z",
     "start_time": "2021-09-10T09:21:57.643651Z"
    }
   },
   "outputs": [],
   "source": [
    "merge1['diff']=merge1['total_pop']-merge1['total_pop_pred']"
   ]
  },
  {
   "cell_type": "code",
   "execution_count": 61,
   "id": "96e1c264",
   "metadata": {
    "ExecuteTime": {
     "end_time": "2021-09-10T09:21:58.158719Z",
     "start_time": "2021-09-10T09:21:58.119229Z"
    }
   },
   "outputs": [
    {
     "data": {
      "text/html": [
       "<div>\n",
       "<style scoped>\n",
       "    .dataframe tbody tr th:only-of-type {\n",
       "        vertical-align: middle;\n",
       "    }\n",
       "\n",
       "    .dataframe tbody tr th {\n",
       "        vertical-align: top;\n",
       "    }\n",
       "\n",
       "    .dataframe thead th {\n",
       "        text-align: right;\n",
       "    }\n",
       "</style>\n",
       "<table border=\"1\" class=\"dataframe\">\n",
       "  <thead>\n",
       "    <tr style=\"text-align: right;\">\n",
       "      <th></th>\n",
       "      <th>base_date</th>\n",
       "      <th>emd_nm</th>\n",
       "      <th>total_pop</th>\n",
       "      <th>total_pop_pred</th>\n",
       "      <th>diff</th>\n",
       "    </tr>\n",
       "  </thead>\n",
       "  <tbody>\n",
       "    <tr>\n",
       "      <th>0</th>\n",
       "      <td>2021-06-01</td>\n",
       "      <td>건입동</td>\n",
       "      <td>9110</td>\n",
       "      <td>9131.279307</td>\n",
       "      <td>-21.279307</td>\n",
       "    </tr>\n",
       "    <tr>\n",
       "      <th>1</th>\n",
       "      <td>2021-06-01</td>\n",
       "      <td>구좌읍</td>\n",
       "      <td>15955</td>\n",
       "      <td>15966.495077</td>\n",
       "      <td>-11.495077</td>\n",
       "    </tr>\n",
       "    <tr>\n",
       "      <th>2</th>\n",
       "      <td>2021-06-01</td>\n",
       "      <td>남원읍</td>\n",
       "      <td>19354</td>\n",
       "      <td>19352.455751</td>\n",
       "      <td>1.544249</td>\n",
       "    </tr>\n",
       "    <tr>\n",
       "      <th>3</th>\n",
       "      <td>2021-06-01</td>\n",
       "      <td>노형동</td>\n",
       "      <td>57473</td>\n",
       "      <td>57399.537681</td>\n",
       "      <td>73.462319</td>\n",
       "    </tr>\n",
       "    <tr>\n",
       "      <th>4</th>\n",
       "      <td>2021-06-01</td>\n",
       "      <td>대륜동</td>\n",
       "      <td>15277</td>\n",
       "      <td>15249.793009</td>\n",
       "      <td>27.206991</td>\n",
       "    </tr>\n",
       "    <tr>\n",
       "      <th>...</th>\n",
       "      <td>...</td>\n",
       "      <td>...</td>\n",
       "      <td>...</td>\n",
       "      <td>...</td>\n",
       "      <td>...</td>\n",
       "    </tr>\n",
       "    <tr>\n",
       "      <th>751</th>\n",
       "      <td>2021-06-18</td>\n",
       "      <td>한경면</td>\n",
       "      <td>9495</td>\n",
       "      <td>9434.076535</td>\n",
       "      <td>60.923465</td>\n",
       "    </tr>\n",
       "    <tr>\n",
       "      <th>752</th>\n",
       "      <td>2021-06-18</td>\n",
       "      <td>한림읍</td>\n",
       "      <td>24462</td>\n",
       "      <td>24495.218479</td>\n",
       "      <td>-33.218479</td>\n",
       "    </tr>\n",
       "    <tr>\n",
       "      <th>753</th>\n",
       "      <td>2021-06-18</td>\n",
       "      <td>화북동</td>\n",
       "      <td>24630</td>\n",
       "      <td>24574.653660</td>\n",
       "      <td>55.346340</td>\n",
       "    </tr>\n",
       "    <tr>\n",
       "      <th>754</th>\n",
       "      <td>2021-06-18</td>\n",
       "      <td>효돈동</td>\n",
       "      <td>5314</td>\n",
       "      <td>5329.750947</td>\n",
       "      <td>-15.750947</td>\n",
       "    </tr>\n",
       "    <tr>\n",
       "      <th>755</th>\n",
       "      <td>2021-06-18</td>\n",
       "      <td>전체</td>\n",
       "      <td>696950</td>\n",
       "      <td>696960.051026</td>\n",
       "      <td>-10.051026</td>\n",
       "    </tr>\n",
       "  </tbody>\n",
       "</table>\n",
       "<p>756 rows × 5 columns</p>\n",
       "</div>"
      ],
      "text/plain": [
       "     base_date emd_nm  total_pop  total_pop_pred       diff\n",
       "0   2021-06-01    건입동       9110     9131.279307 -21.279307\n",
       "1   2021-06-01    구좌읍      15955    15966.495077 -11.495077\n",
       "2   2021-06-01    남원읍      19354    19352.455751   1.544249\n",
       "3   2021-06-01    노형동      57473    57399.537681  73.462319\n",
       "4   2021-06-01    대륜동      15277    15249.793009  27.206991\n",
       "..         ...    ...        ...             ...        ...\n",
       "751 2021-06-18    한경면       9495     9434.076535  60.923465\n",
       "752 2021-06-18    한림읍      24462    24495.218479 -33.218479\n",
       "753 2021-06-18    화북동      24630    24574.653660  55.346340\n",
       "754 2021-06-18    효돈동       5314     5329.750947 -15.750947\n",
       "755 2021-06-18     전체     696950   696960.051026 -10.051026\n",
       "\n",
       "[756 rows x 5 columns]"
      ]
     },
     "execution_count": 61,
     "metadata": {},
     "output_type": "execute_result"
    }
   ],
   "source": [
    "merge1"
   ]
  },
  {
   "cell_type": "code",
   "execution_count": 62,
   "id": "718e822a",
   "metadata": {
    "ExecuteTime": {
     "end_time": "2021-09-10T09:21:59.713255Z",
     "start_time": "2021-09-10T09:21:59.692646Z"
    }
   },
   "outputs": [
    {
     "name": "stdout",
     "output_type": "stream",
     "text": [
      "1751.1955566966103\n",
      "30.02314492341151\n"
     ]
    }
   ],
   "source": [
    "from sklearn.metrics import mean_absolute_error,mean_squared_error\n",
    "\n",
    "print(mean_squared_error(merge1['total_pop'],merge1['total_pop_pred']))\n",
    "print(mean_absolute_error(merge1['total_pop'],merge1['total_pop_pred']))"
   ]
  },
  {
   "cell_type": "code",
   "execution_count": null,
   "id": "1553212b",
   "metadata": {},
   "outputs": [],
   "source": [
    "## changepoint_range=0.9,changepoint_prior_scale=0.8 / 2487.4366198240605\n",
    "## changepoint_range=0.9,changepoint_prior_scale=0.5 / 2684.6628347376777\n",
    "##낮출 수록 더 높아짐\n",
    "## changepoint_range=0.9,changepoint_prior_scale=0.8 ,n_change=30 / 4595.806577137026\n",
    "##  changepoint_range=0.9,changepoint_prior_scale=0.8 ,n_change=100 / 2444.7592496751813\n",
    "##changepoint_range=0.9,changepoint_prior_scale=0.8,seasonality_mode = 'multiplicative',n_changepoints=100 / 1844.4889188087939\n",
    "##seasonality_mode = 'multiplicative,daily_seansomality=True /1797.4913788113113\n",
    "30.66051924039373\n",
    "## changepoint_range=0.9,changepoint_prior_scale=0.8,seasonality_mode = 'multiplicative',n_changepoints=100,daily_seasonality=True / 2013.0073686585713\n",
    "29.961670188926835\n",
    "##seasonality_mode = 'multiplicative',daily_seasonality=True,yearly_seasonality=True,weekly_seasonality=True/1751.1955566966103\n",
    "30.02314492341151"
   ]
  },
  {
   "cell_type": "markdown",
   "id": "df6ab537",
   "metadata": {},
   "source": [
    "# 제주_ratio_pop 예측"
   ]
  },
  {
   "cell_type": "code",
   "execution_count": 74,
   "id": "fce6ed2f",
   "metadata": {
    "ExecuteTime": {
     "end_time": "2021-09-10T10:13:29.645511Z",
     "start_time": "2021-09-10T10:13:29.625645Z"
    }
   },
   "outputs": [],
   "source": [
    "test_ratio=pd.DataFrame(columns=['emd_nm','base_date','제주_resd_ratio'])"
   ]
  },
  {
   "cell_type": "code",
   "execution_count": 75,
   "id": "d335be39",
   "metadata": {
    "ExecuteTime": {
     "end_time": "2021-09-10T10:18:08.826386Z",
     "start_time": "2021-09-10T10:13:30.088257Z"
    }
   },
   "outputs": [
    {
     "name": "stderr",
     "output_type": "stream",
     "text": [
      "INFO:fbprophet:Disabling daily seasonality. Run prophet with daily_seasonality=True to override this.\n",
      "INFO:fbprophet:Disabling daily seasonality. Run prophet with daily_seasonality=True to override this.\n",
      "INFO:fbprophet:Disabling daily seasonality. Run prophet with daily_seasonality=True to override this.\n",
      "INFO:fbprophet:Disabling daily seasonality. Run prophet with daily_seasonality=True to override this.\n",
      "INFO:fbprophet:Disabling daily seasonality. Run prophet with daily_seasonality=True to override this.\n",
      "INFO:fbprophet:Disabling daily seasonality. Run prophet with daily_seasonality=True to override this.\n",
      "INFO:fbprophet:Disabling daily seasonality. Run prophet with daily_seasonality=True to override this.\n",
      "INFO:fbprophet:Disabling daily seasonality. Run prophet with daily_seasonality=True to override this.\n",
      "INFO:fbprophet:Disabling daily seasonality. Run prophet with daily_seasonality=True to override this.\n",
      "INFO:fbprophet:Disabling daily seasonality. Run prophet with daily_seasonality=True to override this.\n",
      "INFO:fbprophet:Disabling daily seasonality. Run prophet with daily_seasonality=True to override this.\n",
      "INFO:fbprophet:Disabling daily seasonality. Run prophet with daily_seasonality=True to override this.\n",
      "INFO:fbprophet:Disabling daily seasonality. Run prophet with daily_seasonality=True to override this.\n",
      "INFO:fbprophet:Disabling daily seasonality. Run prophet with daily_seasonality=True to override this.\n",
      "INFO:fbprophet:Disabling daily seasonality. Run prophet with daily_seasonality=True to override this.\n",
      "INFO:fbprophet:Disabling daily seasonality. Run prophet with daily_seasonality=True to override this.\n",
      "INFO:fbprophet:Disabling daily seasonality. Run prophet with daily_seasonality=True to override this.\n",
      "INFO:fbprophet:Disabling daily seasonality. Run prophet with daily_seasonality=True to override this.\n",
      "INFO:fbprophet:Disabling daily seasonality. Run prophet with daily_seasonality=True to override this.\n",
      "INFO:fbprophet:Disabling daily seasonality. Run prophet with daily_seasonality=True to override this.\n",
      "INFO:fbprophet:Disabling daily seasonality. Run prophet with daily_seasonality=True to override this.\n",
      "INFO:fbprophet:Disabling daily seasonality. Run prophet with daily_seasonality=True to override this.\n",
      "INFO:fbprophet:Disabling daily seasonality. Run prophet with daily_seasonality=True to override this.\n",
      "INFO:fbprophet:Disabling daily seasonality. Run prophet with daily_seasonality=True to override this.\n",
      "INFO:fbprophet:Disabling daily seasonality. Run prophet with daily_seasonality=True to override this.\n",
      "INFO:fbprophet:Disabling daily seasonality. Run prophet with daily_seasonality=True to override this.\n",
      "INFO:fbprophet:Disabling daily seasonality. Run prophet with daily_seasonality=True to override this.\n",
      "INFO:fbprophet:Disabling daily seasonality. Run prophet with daily_seasonality=True to override this.\n",
      "INFO:fbprophet:Disabling daily seasonality. Run prophet with daily_seasonality=True to override this.\n",
      "INFO:fbprophet:Disabling daily seasonality. Run prophet with daily_seasonality=True to override this.\n",
      "INFO:fbprophet:Disabling daily seasonality. Run prophet with daily_seasonality=True to override this.\n",
      "INFO:fbprophet:Disabling daily seasonality. Run prophet with daily_seasonality=True to override this.\n",
      "INFO:fbprophet:Disabling daily seasonality. Run prophet with daily_seasonality=True to override this.\n",
      "INFO:fbprophet:Disabling daily seasonality. Run prophet with daily_seasonality=True to override this.\n",
      "INFO:fbprophet:Disabling daily seasonality. Run prophet with daily_seasonality=True to override this.\n",
      "INFO:fbprophet:Disabling daily seasonality. Run prophet with daily_seasonality=True to override this.\n",
      "INFO:fbprophet:Disabling daily seasonality. Run prophet with daily_seasonality=True to override this.\n",
      "INFO:fbprophet:Disabling daily seasonality. Run prophet with daily_seasonality=True to override this.\n",
      "INFO:fbprophet:Disabling yearly seasonality. Run prophet with yearly_seasonality=True to override this.\n",
      "INFO:fbprophet:Disabling daily seasonality. Run prophet with daily_seasonality=True to override this.\n",
      "INFO:fbprophet:Disabling yearly seasonality. Run prophet with yearly_seasonality=True to override this.\n",
      "INFO:fbprophet:Disabling daily seasonality. Run prophet with daily_seasonality=True to override this.\n",
      "INFO:fbprophet:Disabling yearly seasonality. Run prophet with yearly_seasonality=True to override this.\n",
      "INFO:fbprophet:Disabling daily seasonality. Run prophet with daily_seasonality=True to override this.\n",
      "INFO:fbprophet:Disabling yearly seasonality. Run prophet with yearly_seasonality=True to override this.\n",
      "INFO:fbprophet:Disabling daily seasonality. Run prophet with daily_seasonality=True to override this.\n"
     ]
    }
   ],
   "source": [
    "for region in data['emd_nm'].unique():\n",
    "    data_ratio=data_train.loc[data_train['emd_nm']==region,['제주_resd_ratio','base_date']]\n",
    "    data_ratio.rename(columns={'제주_resd_ratio':'y','base_date':'ds'},inplace=True)\n",
    "    model=Prophet()\n",
    "    model.fit(data_ratio)\n",
    "    future=model.make_future_dataframe(periods=19,freq='D')\n",
    "    forecast=model.predict(future)\n",
    "    forecast=forecast[['ds','yhat']]\n",
    "    forecast.rename(columns={'ds':'base_date','yhat':'제주_resd_ratio'},inplace=True)\n",
    "    forecast['emd_nm']=region\n",
    "    test_ratio=pd.concat([test_ratio,forecast])"
   ]
  },
  {
   "cell_type": "code",
   "execution_count": 76,
   "id": "4e60b6a9",
   "metadata": {
    "ExecuteTime": {
     "end_time": "2021-09-10T10:26:08.150356Z",
     "start_time": "2021-09-10T10:26:08.115398Z"
    }
   },
   "outputs": [
    {
     "data": {
      "text/html": [
       "<div>\n",
       "<style scoped>\n",
       "    .dataframe tbody tr th:only-of-type {\n",
       "        vertical-align: middle;\n",
       "    }\n",
       "\n",
       "    .dataframe tbody tr th {\n",
       "        vertical-align: top;\n",
       "    }\n",
       "\n",
       "    .dataframe thead th {\n",
       "        text-align: right;\n",
       "    }\n",
       "</style>\n",
       "<table border=\"1\" class=\"dataframe\">\n",
       "  <thead>\n",
       "    <tr style=\"text-align: right;\">\n",
       "      <th></th>\n",
       "      <th>emd_nm</th>\n",
       "      <th>base_date</th>\n",
       "      <th>제주_resd_ratio</th>\n",
       "    </tr>\n",
       "  </thead>\n",
       "  <tbody>\n",
       "    <tr>\n",
       "      <th>1246</th>\n",
       "      <td>건입동</td>\n",
       "      <td>2021-06-01</td>\n",
       "      <td>0.545947</td>\n",
       "    </tr>\n",
       "    <tr>\n",
       "      <th>575</th>\n",
       "      <td>조천읍</td>\n",
       "      <td>2021-06-01</td>\n",
       "      <td>0.748520</td>\n",
       "    </tr>\n",
       "    <tr>\n",
       "      <th>1246</th>\n",
       "      <td>표선면</td>\n",
       "      <td>2021-06-01</td>\n",
       "      <td>0.783321</td>\n",
       "    </tr>\n",
       "    <tr>\n",
       "      <th>1246</th>\n",
       "      <td>예래동</td>\n",
       "      <td>2021-06-01</td>\n",
       "      <td>0.560939</td>\n",
       "    </tr>\n",
       "    <tr>\n",
       "      <th>1247</th>\n",
       "      <td>오라동</td>\n",
       "      <td>2021-06-01</td>\n",
       "      <td>0.535959</td>\n",
       "    </tr>\n",
       "    <tr>\n",
       "      <th>...</th>\n",
       "      <td>...</td>\n",
       "      <td>...</td>\n",
       "      <td>...</td>\n",
       "    </tr>\n",
       "    <tr>\n",
       "      <th>1263</th>\n",
       "      <td>용담1동</td>\n",
       "      <td>2021-06-18</td>\n",
       "      <td>0.608187</td>\n",
       "    </tr>\n",
       "    <tr>\n",
       "      <th>1264</th>\n",
       "      <td>외도동</td>\n",
       "      <td>2021-06-18</td>\n",
       "      <td>0.750080</td>\n",
       "    </tr>\n",
       "    <tr>\n",
       "      <th>1264</th>\n",
       "      <td>오라동</td>\n",
       "      <td>2021-06-18</td>\n",
       "      <td>0.536840</td>\n",
       "    </tr>\n",
       "    <tr>\n",
       "      <th>1263</th>\n",
       "      <td>일도1동</td>\n",
       "      <td>2021-06-18</td>\n",
       "      <td>0.370679</td>\n",
       "    </tr>\n",
       "    <tr>\n",
       "      <th>584</th>\n",
       "      <td>한경면</td>\n",
       "      <td>2021-06-18</td>\n",
       "      <td>0.730497</td>\n",
       "    </tr>\n",
       "  </tbody>\n",
       "</table>\n",
       "<p>756 rows × 3 columns</p>\n",
       "</div>"
      ],
      "text/plain": [
       "     emd_nm  base_date  제주_resd_ratio\n",
       "1246    건입동 2021-06-01       0.545947\n",
       "575     조천읍 2021-06-01       0.748520\n",
       "1246    표선면 2021-06-01       0.783321\n",
       "1246    예래동 2021-06-01       0.560939\n",
       "1247    오라동 2021-06-01       0.535959\n",
       "...     ...        ...            ...\n",
       "1263   용담1동 2021-06-18       0.608187\n",
       "1264    외도동 2021-06-18       0.750080\n",
       "1264    오라동 2021-06-18       0.536840\n",
       "1263   일도1동 2021-06-18       0.370679\n",
       "584     한경면 2021-06-18       0.730497\n",
       "\n",
       "[756 rows x 3 columns]"
      ]
     },
     "execution_count": 76,
     "metadata": {},
     "output_type": "execute_result"
    }
   ],
   "source": [
    "test_ratio.loc[(test_ratio['base_date']>='2021-06-01')&(test_ratio['base_date']<='2021-06-18')].sort_values(by=['base_date'])"
   ]
  },
  {
   "cell_type": "code",
   "execution_count": 77,
   "id": "54baaeed",
   "metadata": {
    "ExecuteTime": {
     "end_time": "2021-09-10T10:26:08.913031Z",
     "start_time": "2021-09-10T10:26:08.900785Z"
    }
   },
   "outputs": [],
   "source": [
    "test_ratio.rename(columns={'제주_resd_ratio':'제주_resd_ratio_pred'},inplace=True)"
   ]
  },
  {
   "cell_type": "code",
   "execution_count": 78,
   "id": "7b91d87b",
   "metadata": {
    "ExecuteTime": {
     "end_time": "2021-09-10T10:26:09.470664Z",
     "start_time": "2021-09-10T10:26:09.452269Z"
    }
   },
   "outputs": [],
   "source": [
    "data_test_ratio=data_test[['base_date','emd_nm','제주_resd_ratio']]"
   ]
  },
  {
   "cell_type": "code",
   "execution_count": 79,
   "id": "cc9a5bfb",
   "metadata": {
    "ExecuteTime": {
     "end_time": "2021-09-10T10:26:10.141619Z",
     "start_time": "2021-09-10T10:26:10.115388Z"
    }
   },
   "outputs": [
    {
     "data": {
      "text/html": [
       "<div>\n",
       "<style scoped>\n",
       "    .dataframe tbody tr th:only-of-type {\n",
       "        vertical-align: middle;\n",
       "    }\n",
       "\n",
       "    .dataframe tbody tr th {\n",
       "        vertical-align: top;\n",
       "    }\n",
       "\n",
       "    .dataframe thead th {\n",
       "        text-align: right;\n",
       "    }\n",
       "</style>\n",
       "<table border=\"1\" class=\"dataframe\">\n",
       "  <thead>\n",
       "    <tr style=\"text-align: right;\">\n",
       "      <th></th>\n",
       "      <th>base_date</th>\n",
       "      <th>emd_nm</th>\n",
       "      <th>제주_resd_ratio</th>\n",
       "    </tr>\n",
       "  </thead>\n",
       "  <tbody>\n",
       "    <tr>\n",
       "      <th>49638</th>\n",
       "      <td>2021-06-01</td>\n",
       "      <td>건입동</td>\n",
       "      <td>0.536131</td>\n",
       "    </tr>\n",
       "    <tr>\n",
       "      <th>49639</th>\n",
       "      <td>2021-06-01</td>\n",
       "      <td>구좌읍</td>\n",
       "      <td>0.762469</td>\n",
       "    </tr>\n",
       "    <tr>\n",
       "      <th>49640</th>\n",
       "      <td>2021-06-01</td>\n",
       "      <td>남원읍</td>\n",
       "      <td>0.760316</td>\n",
       "    </tr>\n",
       "    <tr>\n",
       "      <th>49641</th>\n",
       "      <td>2021-06-01</td>\n",
       "      <td>노형동</td>\n",
       "      <td>0.727099</td>\n",
       "    </tr>\n",
       "    <tr>\n",
       "      <th>49642</th>\n",
       "      <td>2021-06-01</td>\n",
       "      <td>대륜동</td>\n",
       "      <td>0.724267</td>\n",
       "    </tr>\n",
       "    <tr>\n",
       "      <th>...</th>\n",
       "      <td>...</td>\n",
       "      <td>...</td>\n",
       "      <td>...</td>\n",
       "    </tr>\n",
       "    <tr>\n",
       "      <th>50389</th>\n",
       "      <td>2021-06-18</td>\n",
       "      <td>한경면</td>\n",
       "      <td>0.754707</td>\n",
       "    </tr>\n",
       "    <tr>\n",
       "      <th>50390</th>\n",
       "      <td>2021-06-18</td>\n",
       "      <td>한림읍</td>\n",
       "      <td>0.775363</td>\n",
       "    </tr>\n",
       "    <tr>\n",
       "      <th>50391</th>\n",
       "      <td>2021-06-18</td>\n",
       "      <td>화북동</td>\n",
       "      <td>0.711459</td>\n",
       "    </tr>\n",
       "    <tr>\n",
       "      <th>50392</th>\n",
       "      <td>2021-06-18</td>\n",
       "      <td>효돈동</td>\n",
       "      <td>0.760800</td>\n",
       "    </tr>\n",
       "    <tr>\n",
       "      <th>50393</th>\n",
       "      <td>2021-06-18</td>\n",
       "      <td>전체</td>\n",
       "      <td>0.695429</td>\n",
       "    </tr>\n",
       "  </tbody>\n",
       "</table>\n",
       "<p>756 rows × 3 columns</p>\n",
       "</div>"
      ],
      "text/plain": [
       "       base_date emd_nm  제주_resd_ratio\n",
       "49638 2021-06-01    건입동       0.536131\n",
       "49639 2021-06-01    구좌읍       0.762469\n",
       "49640 2021-06-01    남원읍       0.760316\n",
       "49641 2021-06-01    노형동       0.727099\n",
       "49642 2021-06-01    대륜동       0.724267\n",
       "...          ...    ...            ...\n",
       "50389 2021-06-18    한경면       0.754707\n",
       "50390 2021-06-18    한림읍       0.775363\n",
       "50391 2021-06-18    화북동       0.711459\n",
       "50392 2021-06-18    효돈동       0.760800\n",
       "50393 2021-06-18     전체       0.695429\n",
       "\n",
       "[756 rows x 3 columns]"
      ]
     },
     "execution_count": 79,
     "metadata": {},
     "output_type": "execute_result"
    }
   ],
   "source": [
    "data_test_ratio"
   ]
  },
  {
   "cell_type": "code",
   "execution_count": 80,
   "id": "0b8a6443",
   "metadata": {
    "ExecuteTime": {
     "end_time": "2021-09-10T10:26:10.762423Z",
     "start_time": "2021-09-10T10:26:10.739961Z"
    }
   },
   "outputs": [],
   "source": [
    "merge2=pd.merge(data_test_ratio,test_ratio,on=['base_date','emd_nm'])"
   ]
  },
  {
   "cell_type": "code",
   "execution_count": 81,
   "id": "00a4d798",
   "metadata": {
    "ExecuteTime": {
     "end_time": "2021-09-10T10:26:11.435075Z",
     "start_time": "2021-09-10T10:26:11.428855Z"
    }
   },
   "outputs": [],
   "source": [
    "merge2['diff']=merge2['제주_resd_ratio']-merge2['제주_resd_ratio_pred']"
   ]
  },
  {
   "cell_type": "code",
   "execution_count": 82,
   "id": "29fc7af6",
   "metadata": {
    "ExecuteTime": {
     "end_time": "2021-09-10T10:26:11.979198Z",
     "start_time": "2021-09-10T10:26:11.940284Z"
    }
   },
   "outputs": [
    {
     "data": {
      "text/html": [
       "<div>\n",
       "<style scoped>\n",
       "    .dataframe tbody tr th:only-of-type {\n",
       "        vertical-align: middle;\n",
       "    }\n",
       "\n",
       "    .dataframe tbody tr th {\n",
       "        vertical-align: top;\n",
       "    }\n",
       "\n",
       "    .dataframe thead th {\n",
       "        text-align: right;\n",
       "    }\n",
       "</style>\n",
       "<table border=\"1\" class=\"dataframe\">\n",
       "  <thead>\n",
       "    <tr style=\"text-align: right;\">\n",
       "      <th></th>\n",
       "      <th>base_date</th>\n",
       "      <th>emd_nm</th>\n",
       "      <th>제주_resd_ratio</th>\n",
       "      <th>제주_resd_ratio_pred</th>\n",
       "      <th>diff</th>\n",
       "    </tr>\n",
       "  </thead>\n",
       "  <tbody>\n",
       "    <tr>\n",
       "      <th>0</th>\n",
       "      <td>2021-06-01</td>\n",
       "      <td>건입동</td>\n",
       "      <td>0.536131</td>\n",
       "      <td>0.545947</td>\n",
       "      <td>-0.009816</td>\n",
       "    </tr>\n",
       "    <tr>\n",
       "      <th>1</th>\n",
       "      <td>2021-06-01</td>\n",
       "      <td>구좌읍</td>\n",
       "      <td>0.762469</td>\n",
       "      <td>0.745361</td>\n",
       "      <td>0.017108</td>\n",
       "    </tr>\n",
       "    <tr>\n",
       "      <th>2</th>\n",
       "      <td>2021-06-01</td>\n",
       "      <td>남원읍</td>\n",
       "      <td>0.760316</td>\n",
       "      <td>0.760649</td>\n",
       "      <td>-0.000333</td>\n",
       "    </tr>\n",
       "    <tr>\n",
       "      <th>3</th>\n",
       "      <td>2021-06-01</td>\n",
       "      <td>노형동</td>\n",
       "      <td>0.727099</td>\n",
       "      <td>0.724394</td>\n",
       "      <td>0.002705</td>\n",
       "    </tr>\n",
       "    <tr>\n",
       "      <th>4</th>\n",
       "      <td>2021-06-01</td>\n",
       "      <td>대륜동</td>\n",
       "      <td>0.724267</td>\n",
       "      <td>0.709734</td>\n",
       "      <td>0.014533</td>\n",
       "    </tr>\n",
       "    <tr>\n",
       "      <th>...</th>\n",
       "      <td>...</td>\n",
       "      <td>...</td>\n",
       "      <td>...</td>\n",
       "      <td>...</td>\n",
       "      <td>...</td>\n",
       "    </tr>\n",
       "    <tr>\n",
       "      <th>751</th>\n",
       "      <td>2021-06-18</td>\n",
       "      <td>한경면</td>\n",
       "      <td>0.754707</td>\n",
       "      <td>0.730497</td>\n",
       "      <td>0.024210</td>\n",
       "    </tr>\n",
       "    <tr>\n",
       "      <th>752</th>\n",
       "      <td>2021-06-18</td>\n",
       "      <td>한림읍</td>\n",
       "      <td>0.775363</td>\n",
       "      <td>0.764293</td>\n",
       "      <td>0.011069</td>\n",
       "    </tr>\n",
       "    <tr>\n",
       "      <th>753</th>\n",
       "      <td>2021-06-18</td>\n",
       "      <td>화북동</td>\n",
       "      <td>0.711459</td>\n",
       "      <td>0.718409</td>\n",
       "      <td>-0.006950</td>\n",
       "    </tr>\n",
       "    <tr>\n",
       "      <th>754</th>\n",
       "      <td>2021-06-18</td>\n",
       "      <td>효돈동</td>\n",
       "      <td>0.760800</td>\n",
       "      <td>0.754946</td>\n",
       "      <td>0.005854</td>\n",
       "    </tr>\n",
       "    <tr>\n",
       "      <th>755</th>\n",
       "      <td>2021-06-18</td>\n",
       "      <td>전체</td>\n",
       "      <td>0.695429</td>\n",
       "      <td>0.699122</td>\n",
       "      <td>-0.003693</td>\n",
       "    </tr>\n",
       "  </tbody>\n",
       "</table>\n",
       "<p>756 rows × 5 columns</p>\n",
       "</div>"
      ],
      "text/plain": [
       "     base_date emd_nm  제주_resd_ratio  제주_resd_ratio_pred      diff\n",
       "0   2021-06-01    건입동       0.536131            0.545947 -0.009816\n",
       "1   2021-06-01    구좌읍       0.762469            0.745361  0.017108\n",
       "2   2021-06-01    남원읍       0.760316            0.760649 -0.000333\n",
       "3   2021-06-01    노형동       0.727099            0.724394  0.002705\n",
       "4   2021-06-01    대륜동       0.724267            0.709734  0.014533\n",
       "..         ...    ...            ...                 ...       ...\n",
       "751 2021-06-18    한경면       0.754707            0.730497  0.024210\n",
       "752 2021-06-18    한림읍       0.775363            0.764293  0.011069\n",
       "753 2021-06-18    화북동       0.711459            0.718409 -0.006950\n",
       "754 2021-06-18    효돈동       0.760800            0.754946  0.005854\n",
       "755 2021-06-18     전체       0.695429            0.699122 -0.003693\n",
       "\n",
       "[756 rows x 5 columns]"
      ]
     },
     "execution_count": 82,
     "metadata": {},
     "output_type": "execute_result"
    }
   ],
   "source": [
    "merge2"
   ]
  },
  {
   "cell_type": "code",
   "execution_count": 83,
   "id": "c4d407de",
   "metadata": {
    "ExecuteTime": {
     "end_time": "2021-09-10T10:26:14.139684Z",
     "start_time": "2021-09-10T10:26:14.130490Z"
    }
   },
   "outputs": [
    {
     "name": "stdout",
     "output_type": "stream",
     "text": [
      "0.0003613286397399271\n",
      "0.013803496409631962\n"
     ]
    }
   ],
   "source": [
    "from sklearn.metrics import mean_squared_error,mean_absolute_error\n",
    "\n",
    "print(mean_squared_error(merge2['제주_resd_ratio'],merge2['제주_resd_ratio_pred']))\n",
    "print(mean_absolute_error(merge2['제주_resd_ratio'],merge2['제주_resd_ratio_pred']))\n"
   ]
  },
  {
   "cell_type": "code",
   "execution_count": null,
   "id": "37e35931",
   "metadata": {},
   "outputs": [],
   "source": [
    "##0.0003613286397399271 0.013803496409631962\n",
    "## n_changepoints=200/ 0.0003662944889430445\n",
    "##changepoint_range=0.9,changepoint_prior_scale=0.8,seasonality_mode = 'multiplicative' / 0.00036375842449593504\n",
    "##changepoint_range=0.9,changepoint_prior_scale=0.8,seasonality_mode = 'multiplicative',n_changepoints=100/ 0.00038393730732293586\n",
    "## changepoint_range=0.9,changepoint_prior_scale=0.5,seasonality_mode = 'multiplicative'/0.00038203231805676184\n",
    "## seasonality_mode = 'multiplicative',daily_seasonality=True,yearly_seasonality=True,weekly_seasonality=True /0.0004273719476478369\n",
    "0.014739895497804472"
   ]
  },
  {
   "cell_type": "markdown",
   "id": "ef33fe88",
   "metadata": {},
   "source": [
    "# 제주_resd_pop예측"
   ]
  },
  {
   "cell_type": "code",
   "execution_count": 129,
   "id": "84354a3e",
   "metadata": {
    "ExecuteTime": {
     "end_time": "2021-09-10T12:25:39.265574Z",
     "start_time": "2021-09-10T12:25:39.248420Z"
    }
   },
   "outputs": [],
   "source": [
    "test_resd_pop=pd.DataFrame(columns=['emd_nm','base_date','제주_resd_pop'])"
   ]
  },
  {
   "cell_type": "code",
   "execution_count": 130,
   "id": "a7112191",
   "metadata": {
    "ExecuteTime": {
     "end_time": "2021-09-10T13:04:43.574089Z",
     "start_time": "2021-09-10T12:25:40.810782Z"
    }
   },
   "outputs": [],
   "source": [
    "for region in data['emd_nm'].unique():\n",
    "    data_resd_pop=data_train.loc[data_train['emd_nm']==region,['제주_resd_pop','base_date']]\n",
    "    data_resd_pop.rename(columns={'제주_resd_pop':'y','base_date':'ds'},inplace=True)\n",
    "    model=Prophet(changepoint_range=0.5,changepoint_prior_scale=0.9,seasonality_mode = 'multiplicative',n_changepoints=200,daily_seasonality=True,yearly_seasonality=True,weekly_seasonality=True)\n",
    "    model.fit(data_resd_pop)\n",
    "    future=model.make_future_dataframe(periods=19,freq='D')\n",
    "    forecast=model.predict(future)\n",
    "    forecast=forecast[['ds','yhat']]\n",
    "    forecast.rename(columns={'ds':'base_date','yhat':'제주_resd_pop'},inplace=True)\n",
    "    forecast['emd_nm']=region\n",
    "    test_resd_pop=pd.concat([test_resd_pop,forecast])"
   ]
  },
  {
   "cell_type": "code",
   "execution_count": 131,
   "id": "e639f0ba",
   "metadata": {
    "ExecuteTime": {
     "end_time": "2021-09-10T13:23:49.574354Z",
     "start_time": "2021-09-10T13:23:49.541259Z"
    }
   },
   "outputs": [
    {
     "data": {
      "text/html": [
       "<div>\n",
       "<style scoped>\n",
       "    .dataframe tbody tr th:only-of-type {\n",
       "        vertical-align: middle;\n",
       "    }\n",
       "\n",
       "    .dataframe tbody tr th {\n",
       "        vertical-align: top;\n",
       "    }\n",
       "\n",
       "    .dataframe thead th {\n",
       "        text-align: right;\n",
       "    }\n",
       "</style>\n",
       "<table border=\"1\" class=\"dataframe\">\n",
       "  <thead>\n",
       "    <tr style=\"text-align: right;\">\n",
       "      <th></th>\n",
       "      <th>emd_nm</th>\n",
       "      <th>base_date</th>\n",
       "      <th>제주_resd_pop</th>\n",
       "    </tr>\n",
       "  </thead>\n",
       "  <tbody>\n",
       "    <tr>\n",
       "      <th>1246</th>\n",
       "      <td>건입동</td>\n",
       "      <td>2021-06-01</td>\n",
       "      <td>6750.818446</td>\n",
       "    </tr>\n",
       "    <tr>\n",
       "      <th>575</th>\n",
       "      <td>조천읍</td>\n",
       "      <td>2021-06-01</td>\n",
       "      <td>19447.741125</td>\n",
       "    </tr>\n",
       "    <tr>\n",
       "      <th>1246</th>\n",
       "      <td>표선면</td>\n",
       "      <td>2021-06-01</td>\n",
       "      <td>10550.506703</td>\n",
       "    </tr>\n",
       "    <tr>\n",
       "      <th>1246</th>\n",
       "      <td>예래동</td>\n",
       "      <td>2021-06-01</td>\n",
       "      <td>3226.358631</td>\n",
       "    </tr>\n",
       "    <tr>\n",
       "      <th>1247</th>\n",
       "      <td>오라동</td>\n",
       "      <td>2021-06-01</td>\n",
       "      <td>12682.286344</td>\n",
       "    </tr>\n",
       "    <tr>\n",
       "      <th>...</th>\n",
       "      <td>...</td>\n",
       "      <td>...</td>\n",
       "      <td>...</td>\n",
       "    </tr>\n",
       "    <tr>\n",
       "      <th>1263</th>\n",
       "      <td>용담1동</td>\n",
       "      <td>2021-06-18</td>\n",
       "      <td>5880.013067</td>\n",
       "    </tr>\n",
       "    <tr>\n",
       "      <th>1264</th>\n",
       "      <td>외도동</td>\n",
       "      <td>2021-06-18</td>\n",
       "      <td>12459.915630</td>\n",
       "    </tr>\n",
       "    <tr>\n",
       "      <th>1264</th>\n",
       "      <td>오라동</td>\n",
       "      <td>2021-06-18</td>\n",
       "      <td>12310.728132</td>\n",
       "    </tr>\n",
       "    <tr>\n",
       "      <th>1263</th>\n",
       "      <td>일도1동</td>\n",
       "      <td>2021-06-18</td>\n",
       "      <td>1336.151678</td>\n",
       "    </tr>\n",
       "    <tr>\n",
       "      <th>584</th>\n",
       "      <td>한경면</td>\n",
       "      <td>2021-06-18</td>\n",
       "      <td>6673.251721</td>\n",
       "    </tr>\n",
       "  </tbody>\n",
       "</table>\n",
       "<p>756 rows × 3 columns</p>\n",
       "</div>"
      ],
      "text/plain": [
       "     emd_nm  base_date   제주_resd_pop\n",
       "1246    건입동 2021-06-01   6750.818446\n",
       "575     조천읍 2021-06-01  19447.741125\n",
       "1246    표선면 2021-06-01  10550.506703\n",
       "1246    예래동 2021-06-01   3226.358631\n",
       "1247    오라동 2021-06-01  12682.286344\n",
       "...     ...        ...           ...\n",
       "1263   용담1동 2021-06-18   5880.013067\n",
       "1264    외도동 2021-06-18  12459.915630\n",
       "1264    오라동 2021-06-18  12310.728132\n",
       "1263   일도1동 2021-06-18   1336.151678\n",
       "584     한경면 2021-06-18   6673.251721\n",
       "\n",
       "[756 rows x 3 columns]"
      ]
     },
     "execution_count": 131,
     "metadata": {},
     "output_type": "execute_result"
    }
   ],
   "source": [
    "test_resd_pop.loc[(test_resd_pop['base_date']>='2021-06-01')&(test_resd_pop['base_date']<='2021-06-18')].sort_values(by=['base_date'])"
   ]
  },
  {
   "cell_type": "code",
   "execution_count": 132,
   "id": "4604711f",
   "metadata": {
    "ExecuteTime": {
     "end_time": "2021-09-10T13:23:51.626114Z",
     "start_time": "2021-09-10T13:23:51.613941Z"
    }
   },
   "outputs": [],
   "source": [
    "test_resd_pop.rename(columns={'제주_resd_pop':'제주_resd_pop_pred'},inplace=True)"
   ]
  },
  {
   "cell_type": "code",
   "execution_count": 133,
   "id": "5659c9af",
   "metadata": {
    "ExecuteTime": {
     "end_time": "2021-09-10T13:23:52.063734Z",
     "start_time": "2021-09-10T13:23:52.045738Z"
    }
   },
   "outputs": [],
   "source": [
    "data_resd_pop=data_test[['base_date','emd_nm','제주_resd_pop']]"
   ]
  },
  {
   "cell_type": "code",
   "execution_count": 134,
   "id": "5f561f26",
   "metadata": {
    "ExecuteTime": {
     "end_time": "2021-09-10T13:23:52.528531Z",
     "start_time": "2021-09-10T13:23:52.495327Z"
    }
   },
   "outputs": [],
   "source": [
    "merge3=pd.merge(data_resd_pop,test_resd_pop,on=['base_date','emd_nm'])"
   ]
  },
  {
   "cell_type": "code",
   "execution_count": 135,
   "id": "101e5efd",
   "metadata": {
    "ExecuteTime": {
     "end_time": "2021-09-10T13:23:53.040586Z",
     "start_time": "2021-09-10T13:23:53.013389Z"
    }
   },
   "outputs": [
    {
     "data": {
      "text/html": [
       "<div>\n",
       "<style scoped>\n",
       "    .dataframe tbody tr th:only-of-type {\n",
       "        vertical-align: middle;\n",
       "    }\n",
       "\n",
       "    .dataframe tbody tr th {\n",
       "        vertical-align: top;\n",
       "    }\n",
       "\n",
       "    .dataframe thead th {\n",
       "        text-align: right;\n",
       "    }\n",
       "</style>\n",
       "<table border=\"1\" class=\"dataframe\">\n",
       "  <thead>\n",
       "    <tr style=\"text-align: right;\">\n",
       "      <th></th>\n",
       "      <th>base_date</th>\n",
       "      <th>emd_nm</th>\n",
       "      <th>제주_resd_pop</th>\n",
       "      <th>제주_resd_pop_pred</th>\n",
       "    </tr>\n",
       "  </thead>\n",
       "  <tbody>\n",
       "    <tr>\n",
       "      <th>0</th>\n",
       "      <td>2021-06-01</td>\n",
       "      <td>건입동</td>\n",
       "      <td>6749.072768</td>\n",
       "      <td>6750.818446</td>\n",
       "    </tr>\n",
       "    <tr>\n",
       "      <th>1</th>\n",
       "      <td>2021-06-01</td>\n",
       "      <td>구좌읍</td>\n",
       "      <td>13881.063572</td>\n",
       "      <td>12985.887284</td>\n",
       "    </tr>\n",
       "    <tr>\n",
       "      <th>2</th>\n",
       "      <td>2021-06-01</td>\n",
       "      <td>남원읍</td>\n",
       "      <td>14736.993588</td>\n",
       "      <td>14734.613066</td>\n",
       "    </tr>\n",
       "    <tr>\n",
       "      <th>3</th>\n",
       "      <td>2021-06-01</td>\n",
       "      <td>노형동</td>\n",
       "      <td>54738.205330</td>\n",
       "      <td>53018.963251</td>\n",
       "    </tr>\n",
       "    <tr>\n",
       "      <th>4</th>\n",
       "      <td>2021-06-01</td>\n",
       "      <td>대륜동</td>\n",
       "      <td>14593.421729</td>\n",
       "      <td>14019.474908</td>\n",
       "    </tr>\n",
       "    <tr>\n",
       "      <th>...</th>\n",
       "      <td>...</td>\n",
       "      <td>...</td>\n",
       "      <td>...</td>\n",
       "      <td>...</td>\n",
       "    </tr>\n",
       "    <tr>\n",
       "      <th>751</th>\n",
       "      <td>2021-06-18</td>\n",
       "      <td>한경면</td>\n",
       "      <td>7363.618917</td>\n",
       "      <td>6673.251721</td>\n",
       "    </tr>\n",
       "    <tr>\n",
       "      <th>752</th>\n",
       "      <td>2021-06-18</td>\n",
       "      <td>한림읍</td>\n",
       "      <td>20990.875850</td>\n",
       "      <td>20638.535689</td>\n",
       "    </tr>\n",
       "    <tr>\n",
       "      <th>753</th>\n",
       "      <td>2021-06-18</td>\n",
       "      <td>화북동</td>\n",
       "      <td>24719.499267</td>\n",
       "      <td>25656.838759</td>\n",
       "    </tr>\n",
       "    <tr>\n",
       "      <th>754</th>\n",
       "      <td>2021-06-18</td>\n",
       "      <td>효돈동</td>\n",
       "      <td>3856.153048</td>\n",
       "      <td>3833.123885</td>\n",
       "    </tr>\n",
       "    <tr>\n",
       "      <th>755</th>\n",
       "      <td>2021-06-18</td>\n",
       "      <td>전체</td>\n",
       "      <td>592414.730773</td>\n",
       "      <td>595522.860353</td>\n",
       "    </tr>\n",
       "  </tbody>\n",
       "</table>\n",
       "<p>756 rows × 4 columns</p>\n",
       "</div>"
      ],
      "text/plain": [
       "     base_date emd_nm    제주_resd_pop  제주_resd_pop_pred\n",
       "0   2021-06-01    건입동    6749.072768       6750.818446\n",
       "1   2021-06-01    구좌읍   13881.063572      12985.887284\n",
       "2   2021-06-01    남원읍   14736.993588      14734.613066\n",
       "3   2021-06-01    노형동   54738.205330      53018.963251\n",
       "4   2021-06-01    대륜동   14593.421729      14019.474908\n",
       "..         ...    ...            ...               ...\n",
       "751 2021-06-18    한경면    7363.618917       6673.251721\n",
       "752 2021-06-18    한림읍   20990.875850      20638.535689\n",
       "753 2021-06-18    화북동   24719.499267      25656.838759\n",
       "754 2021-06-18    효돈동    3856.153048       3833.123885\n",
       "755 2021-06-18     전체  592414.730773     595522.860353\n",
       "\n",
       "[756 rows x 4 columns]"
      ]
     },
     "execution_count": 135,
     "metadata": {},
     "output_type": "execute_result"
    }
   ],
   "source": [
    "merge3"
   ]
  },
  {
   "cell_type": "code",
   "execution_count": 136,
   "id": "9d7abb9f",
   "metadata": {
    "ExecuteTime": {
     "end_time": "2021-09-10T13:23:54.956406Z",
     "start_time": "2021-09-10T13:23:54.937700Z"
    }
   },
   "outputs": [],
   "source": [
    "merge3['diff']=merge3['제주_resd_pop']-merge3['제주_resd_pop_pred']"
   ]
  },
  {
   "cell_type": "code",
   "execution_count": 137,
   "id": "b5d85605",
   "metadata": {
    "ExecuteTime": {
     "end_time": "2021-09-10T13:23:55.469086Z",
     "start_time": "2021-09-10T13:23:55.440373Z"
    }
   },
   "outputs": [
    {
     "data": {
      "text/html": [
       "<div>\n",
       "<style scoped>\n",
       "    .dataframe tbody tr th:only-of-type {\n",
       "        vertical-align: middle;\n",
       "    }\n",
       "\n",
       "    .dataframe tbody tr th {\n",
       "        vertical-align: top;\n",
       "    }\n",
       "\n",
       "    .dataframe thead th {\n",
       "        text-align: right;\n",
       "    }\n",
       "</style>\n",
       "<table border=\"1\" class=\"dataframe\">\n",
       "  <thead>\n",
       "    <tr style=\"text-align: right;\">\n",
       "      <th></th>\n",
       "      <th>base_date</th>\n",
       "      <th>emd_nm</th>\n",
       "      <th>제주_resd_pop</th>\n",
       "      <th>제주_resd_pop_pred</th>\n",
       "      <th>diff</th>\n",
       "    </tr>\n",
       "  </thead>\n",
       "  <tbody>\n",
       "    <tr>\n",
       "      <th>0</th>\n",
       "      <td>2021-06-01</td>\n",
       "      <td>건입동</td>\n",
       "      <td>6749.072768</td>\n",
       "      <td>6750.818446</td>\n",
       "      <td>-1.745679</td>\n",
       "    </tr>\n",
       "    <tr>\n",
       "      <th>1</th>\n",
       "      <td>2021-06-01</td>\n",
       "      <td>구좌읍</td>\n",
       "      <td>13881.063572</td>\n",
       "      <td>12985.887284</td>\n",
       "      <td>895.176288</td>\n",
       "    </tr>\n",
       "    <tr>\n",
       "      <th>2</th>\n",
       "      <td>2021-06-01</td>\n",
       "      <td>남원읍</td>\n",
       "      <td>14736.993588</td>\n",
       "      <td>14734.613066</td>\n",
       "      <td>2.380522</td>\n",
       "    </tr>\n",
       "    <tr>\n",
       "      <th>3</th>\n",
       "      <td>2021-06-01</td>\n",
       "      <td>노형동</td>\n",
       "      <td>54738.205330</td>\n",
       "      <td>53018.963251</td>\n",
       "      <td>1719.242079</td>\n",
       "    </tr>\n",
       "    <tr>\n",
       "      <th>4</th>\n",
       "      <td>2021-06-01</td>\n",
       "      <td>대륜동</td>\n",
       "      <td>14593.421729</td>\n",
       "      <td>14019.474908</td>\n",
       "      <td>573.946820</td>\n",
       "    </tr>\n",
       "    <tr>\n",
       "      <th>...</th>\n",
       "      <td>...</td>\n",
       "      <td>...</td>\n",
       "      <td>...</td>\n",
       "      <td>...</td>\n",
       "      <td>...</td>\n",
       "    </tr>\n",
       "    <tr>\n",
       "      <th>751</th>\n",
       "      <td>2021-06-18</td>\n",
       "      <td>한경면</td>\n",
       "      <td>7363.618917</td>\n",
       "      <td>6673.251721</td>\n",
       "      <td>690.367197</td>\n",
       "    </tr>\n",
       "    <tr>\n",
       "      <th>752</th>\n",
       "      <td>2021-06-18</td>\n",
       "      <td>한림읍</td>\n",
       "      <td>20990.875850</td>\n",
       "      <td>20638.535689</td>\n",
       "      <td>352.340161</td>\n",
       "    </tr>\n",
       "    <tr>\n",
       "      <th>753</th>\n",
       "      <td>2021-06-18</td>\n",
       "      <td>화북동</td>\n",
       "      <td>24719.499267</td>\n",
       "      <td>25656.838759</td>\n",
       "      <td>-937.339492</td>\n",
       "    </tr>\n",
       "    <tr>\n",
       "      <th>754</th>\n",
       "      <td>2021-06-18</td>\n",
       "      <td>효돈동</td>\n",
       "      <td>3856.153048</td>\n",
       "      <td>3833.123885</td>\n",
       "      <td>23.029163</td>\n",
       "    </tr>\n",
       "    <tr>\n",
       "      <th>755</th>\n",
       "      <td>2021-06-18</td>\n",
       "      <td>전체</td>\n",
       "      <td>592414.730773</td>\n",
       "      <td>595522.860353</td>\n",
       "      <td>-3108.129581</td>\n",
       "    </tr>\n",
       "  </tbody>\n",
       "</table>\n",
       "<p>756 rows × 5 columns</p>\n",
       "</div>"
      ],
      "text/plain": [
       "     base_date emd_nm    제주_resd_pop  제주_resd_pop_pred         diff\n",
       "0   2021-06-01    건입동    6749.072768       6750.818446    -1.745679\n",
       "1   2021-06-01    구좌읍   13881.063572      12985.887284   895.176288\n",
       "2   2021-06-01    남원읍   14736.993588      14734.613066     2.380522\n",
       "3   2021-06-01    노형동   54738.205330      53018.963251  1719.242079\n",
       "4   2021-06-01    대륜동   14593.421729      14019.474908   573.946820\n",
       "..         ...    ...            ...               ...          ...\n",
       "751 2021-06-18    한경면    7363.618917       6673.251721   690.367197\n",
       "752 2021-06-18    한림읍   20990.875850      20638.535689   352.340161\n",
       "753 2021-06-18    화북동   24719.499267      25656.838759  -937.339492\n",
       "754 2021-06-18    효돈동    3856.153048       3833.123885    23.029163\n",
       "755 2021-06-18     전체  592414.730773     595522.860353 -3108.129581\n",
       "\n",
       "[756 rows x 5 columns]"
      ]
     },
     "execution_count": 137,
     "metadata": {},
     "output_type": "execute_result"
    }
   ],
   "source": [
    "merge3"
   ]
  },
  {
   "cell_type": "code",
   "execution_count": 138,
   "id": "048cf319",
   "metadata": {
    "ExecuteTime": {
     "end_time": "2021-09-10T13:23:57.531154Z",
     "start_time": "2021-09-10T13:23:57.511853Z"
    }
   },
   "outputs": [
    {
     "name": "stdout",
     "output_type": "stream",
     "text": [
      "3363756.427981026\n",
      "696.7012800511004\n"
     ]
    }
   ],
   "source": [
    "from sklearn.metrics import mean_squared_error,mean_absolute_error\n",
    "\n",
    "print(mean_squared_error(merge3['제주_resd_pop'],merge3['제주_resd_pop_pred']))\n",
    "print(mean_absolute_error(merge3['제주_resd_pop'],merge3['제주_resd_pop_pred']))"
   ]
  },
  {
   "cell_type": "code",
   "execution_count": null,
   "id": "1174703b",
   "metadata": {},
   "outputs": [],
   "source": [
    "## 2620984.964723936,488.7013213300222\n",
    "## changepoint_range=0.9,changepoint_prior_scale=0.8,seasonality_mode = 'multiplicative' / 3110299.034999392\n",
    "##changepoint_range=0.9,changepoint_prior_scale=0.5,seasonality_mode = 'multiplicative' /  3547613.8923417297\n",
    "## changepoint_range=0.5,changepoint_prior_scale=0.9,seasonality_mode = 'multiplicative' /2711263.797436628\n",
    "559.8363126580617\n",
    "## changepoint_range=0.5,changepoint_prior_scale=0.9,seasonality_mode = 'multiplicative',n_changepoints=100 /2654163.450804129\n",
    "558.8411336449889\n",
    "## changepoint_range=0.5,changepoint_prior_scale=0.9,seasonality_mode = 'multiplicative',n_changepoints=200 /2649431.955449781\n",
    "##seasonality_mode = 'multiplicative',daily_seasonality=True,yearly_seasonality=True,weekly_seasonality=True /4219230.948335799\n",
    "597.2684645213172\n",
    "##changepoint_range=0.5,changepoint_prior_scale=0.9,seasonality_mode = 'multiplicative',n_changepoints=200,daily_seasonality=True,yearly_seasonality=True,weekly_seasonality=True\n",
    "##3363756.427981026\n",
    "696.7012800511004"
   ]
  },
  {
   "cell_type": "markdown",
   "id": "6e2e4832",
   "metadata": {},
   "source": [
    "# 7,8월 데이터 예측"
   ]
  },
  {
   "cell_type": "code",
   "execution_count": null,
   "id": "b4d22927",
   "metadata": {},
   "outputs": [],
   "source": []
  }
 ],
 "metadata": {
  "kernelspec": {
   "display_name": "Python 3",
   "language": "python",
   "name": "python3"
  },
  "language_info": {
   "codemirror_mode": {
    "name": "ipython",
    "version": 3
   },
   "file_extension": ".py",
   "mimetype": "text/x-python",
   "name": "python",
   "nbconvert_exporter": "python",
   "pygments_lexer": "ipython3",
   "version": "3.8.8"
  },
  "toc": {
   "base_numbering": 1,
   "nav_menu": {},
   "number_sections": true,
   "sideBar": true,
   "skip_h1_title": false,
   "title_cell": "Table of Contents",
   "title_sidebar": "Contents",
   "toc_cell": false,
   "toc_position": {},
   "toc_section_display": true,
   "toc_window_display": false
  },
  "varInspector": {
   "cols": {
    "lenName": 16,
    "lenType": 16,
    "lenVar": 40
   },
   "kernels_config": {
    "python": {
     "delete_cmd_postfix": "",
     "delete_cmd_prefix": "del ",
     "library": "var_list.py",
     "varRefreshCmd": "print(var_dic_list())"
    },
    "r": {
     "delete_cmd_postfix": ") ",
     "delete_cmd_prefix": "rm(",
     "library": "var_list.r",
     "varRefreshCmd": "cat(var_dic_list()) "
    }
   },
   "types_to_exclude": [
    "module",
    "function",
    "builtin_function_or_method",
    "instance",
    "_Feature"
   ],
   "window_display": false
  }
 },
 "nbformat": 4,
 "nbformat_minor": 5
}
