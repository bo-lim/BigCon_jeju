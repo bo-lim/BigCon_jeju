{
 "cells": [
  {
   "cell_type": "markdown",
   "metadata": {},
   "source": [
    "# Food Waste"
   ]
  },
  {
   "cell_type": "code",
   "execution_count": 68,
   "metadata": {},
   "outputs": [],
   "source": [
    "import pandas as pd\n",
    "import numpy as np\n",
    "import matplotlib.pyplot as plt\n",
    "import datetime\n",
    "import seaborn as sns\n",
    "%matplotlib inline"
   ]
  },
  {
   "cell_type": "code",
   "execution_count": 2,
   "metadata": {},
   "outputs": [],
   "source": [
    "data = pd.read_csv('./data/01_제공데이터/01_음식물쓰레기_FOOD_WASTE.CSV', encoding='CP949',low_memory=False)"
   ]
  },
  {
   "cell_type": "markdown",
   "metadata": {},
   "source": [
    "- base_date : 배출일자 DateTime\n",
    "- city : 시 구분 Str\n",
    "- emd_cd : 행정동 코드 Str\n",
    "- emd_nm : 행정동명 Str\n",
    "- em_area_cd : 배출거전지역 코드 Str\n",
    "- em_cnt : 배출건수 int\n",
    "- em_g : 배출량 int\n",
    "- pay_amt : 총 지불금액 int"
   ]
  },
  {
   "cell_type": "code",
   "execution_count": 3,
   "metadata": {},
   "outputs": [
    {
     "data": {
      "text/html": [
       "<div>\n",
       "<style scoped>\n",
       "    .dataframe tbody tr th:only-of-type {\n",
       "        vertical-align: middle;\n",
       "    }\n",
       "\n",
       "    .dataframe tbody tr th {\n",
       "        vertical-align: top;\n",
       "    }\n",
       "\n",
       "    .dataframe thead th {\n",
       "        text-align: right;\n",
       "    }\n",
       "</style>\n",
       "<table border=\"1\" class=\"dataframe\">\n",
       "  <thead>\n",
       "    <tr style=\"text-align: right;\">\n",
       "      <th></th>\n",
       "      <th>base_date</th>\n",
       "      <th>city</th>\n",
       "      <th>emd_cd</th>\n",
       "      <th>emd_nm</th>\n",
       "      <th>em_area_cd</th>\n",
       "      <th>em_cnt</th>\n",
       "      <th>em_g</th>\n",
       "      <th>pay_amt</th>\n",
       "    </tr>\n",
       "  </thead>\n",
       "  <tbody>\n",
       "    <tr>\n",
       "      <th>0</th>\n",
       "      <td>2018-01-01</td>\n",
       "      <td>제주시</td>\n",
       "      <td>50110670</td>\n",
       "      <td>외도동</td>\n",
       "      <td>W6X062</td>\n",
       "      <td>2</td>\n",
       "      <td>15500</td>\n",
       "      <td>464</td>\n",
       "    </tr>\n",
       "    <tr>\n",
       "      <th>1</th>\n",
       "      <td>2018-01-01</td>\n",
       "      <td>제주시</td>\n",
       "      <td>50110540</td>\n",
       "      <td>이도2동</td>\n",
       "      <td>W6X063</td>\n",
       "      <td>26</td>\n",
       "      <td>64650</td>\n",
       "      <td>1933</td>\n",
       "    </tr>\n",
       "    <tr>\n",
       "      <th>2</th>\n",
       "      <td>2018-01-01</td>\n",
       "      <td>제주시</td>\n",
       "      <td>50110630</td>\n",
       "      <td>아라동</td>\n",
       "      <td>W6X064</td>\n",
       "      <td>15</td>\n",
       "      <td>33500</td>\n",
       "      <td>1001</td>\n",
       "    </tr>\n",
       "    <tr>\n",
       "      <th>3</th>\n",
       "      <td>2018-01-01</td>\n",
       "      <td>제주시</td>\n",
       "      <td>50110610</td>\n",
       "      <td>삼양동</td>\n",
       "      <td>W6X065</td>\n",
       "      <td>4</td>\n",
       "      <td>8400</td>\n",
       "      <td>252</td>\n",
       "    </tr>\n",
       "    <tr>\n",
       "      <th>4</th>\n",
       "      <td>2018-01-01</td>\n",
       "      <td>제주시</td>\n",
       "      <td>50110540</td>\n",
       "      <td>이도2동</td>\n",
       "      <td>W6X066</td>\n",
       "      <td>21</td>\n",
       "      <td>51450</td>\n",
       "      <td>1538</td>\n",
       "    </tr>\n",
       "  </tbody>\n",
       "</table>\n",
       "</div>"
      ],
      "text/plain": [
       "    base_date city    emd_cd emd_nm em_area_cd  em_cnt   em_g  pay_amt\n",
       "0  2018-01-01  제주시  50110670    외도동     W6X062       2  15500      464\n",
       "1  2018-01-01  제주시  50110540   이도2동     W6X063      26  64650     1933\n",
       "2  2018-01-01  제주시  50110630    아라동     W6X064      15  33500     1001\n",
       "3  2018-01-01  제주시  50110610    삼양동     W6X065       4   8400      252\n",
       "4  2018-01-01  제주시  50110540   이도2동     W6X066      21  51450     1538"
      ]
     },
     "execution_count": 3,
     "metadata": {},
     "output_type": "execute_result"
    }
   ],
   "source": [
    "data.head()"
   ]
  },
  {
   "cell_type": "code",
   "execution_count": 4,
   "metadata": {},
   "outputs": [
    {
     "name": "stdout",
     "output_type": "stream",
     "text": [
      "<class 'pandas.core.frame.DataFrame'>\n",
      "RangeIndex: 2209861 entries, 0 to 2209860\n",
      "Data columns (total 8 columns):\n",
      " #   Column      Dtype \n",
      "---  ------      ----- \n",
      " 0   base_date   object\n",
      " 1   city        object\n",
      " 2   emd_cd      object\n",
      " 3   emd_nm      object\n",
      " 4   em_area_cd  object\n",
      " 5   em_cnt      int64 \n",
      " 6   em_g        int64 \n",
      " 7   pay_amt     int64 \n",
      "dtypes: int64(3), object(5)\n",
      "memory usage: 134.9+ MB\n"
     ]
    }
   ],
   "source": [
    "data.info()"
   ]
  },
  {
   "cell_type": "code",
   "execution_count": 5,
   "metadata": {
    "scrolled": false
   },
   "outputs": [
    {
     "data": {
      "text/html": [
       "<div>\n",
       "<style scoped>\n",
       "    .dataframe tbody tr th:only-of-type {\n",
       "        vertical-align: middle;\n",
       "    }\n",
       "\n",
       "    .dataframe tbody tr th {\n",
       "        vertical-align: top;\n",
       "    }\n",
       "\n",
       "    .dataframe thead th {\n",
       "        text-align: right;\n",
       "    }\n",
       "</style>\n",
       "<table border=\"1\" class=\"dataframe\">\n",
       "  <thead>\n",
       "    <tr style=\"text-align: right;\">\n",
       "      <th></th>\n",
       "      <th>em_cnt</th>\n",
       "      <th>em_g</th>\n",
       "      <th>pay_amt</th>\n",
       "    </tr>\n",
       "  </thead>\n",
       "  <tbody>\n",
       "    <tr>\n",
       "      <th>count</th>\n",
       "      <td>2.209861e+06</td>\n",
       "      <td>2.209861e+06</td>\n",
       "      <td>2.209861e+06</td>\n",
       "    </tr>\n",
       "    <tr>\n",
       "      <th>mean</th>\n",
       "      <td>2.125185e+01</td>\n",
       "      <td>4.801807e+04</td>\n",
       "      <td>1.436982e+03</td>\n",
       "    </tr>\n",
       "    <tr>\n",
       "      <th>std</th>\n",
       "      <td>2.714270e+01</td>\n",
       "      <td>5.929738e+04</td>\n",
       "      <td>2.756821e+03</td>\n",
       "    </tr>\n",
       "    <tr>\n",
       "      <th>min</th>\n",
       "      <td>1.000000e+00</td>\n",
       "      <td>-7.394700e+04</td>\n",
       "      <td>0.000000e+00</td>\n",
       "    </tr>\n",
       "    <tr>\n",
       "      <th>25%</th>\n",
       "      <td>6.000000e+00</td>\n",
       "      <td>1.295000e+04</td>\n",
       "      <td>3.850000e+02</td>\n",
       "    </tr>\n",
       "    <tr>\n",
       "      <th>50%</th>\n",
       "      <td>1.300000e+01</td>\n",
       "      <td>3.090000e+04</td>\n",
       "      <td>9.210000e+02</td>\n",
       "    </tr>\n",
       "    <tr>\n",
       "      <th>75%</th>\n",
       "      <td>2.700000e+01</td>\n",
       "      <td>6.215000e+04</td>\n",
       "      <td>1.854000e+03</td>\n",
       "    </tr>\n",
       "    <tr>\n",
       "      <th>max</th>\n",
       "      <td>1.580000e+03</td>\n",
       "      <td>2.520642e+06</td>\n",
       "      <td>1.396147e+06</td>\n",
       "    </tr>\n",
       "  </tbody>\n",
       "</table>\n",
       "</div>"
      ],
      "text/plain": [
       "             em_cnt          em_g       pay_amt\n",
       "count  2.209861e+06  2.209861e+06  2.209861e+06\n",
       "mean   2.125185e+01  4.801807e+04  1.436982e+03\n",
       "std    2.714270e+01  5.929738e+04  2.756821e+03\n",
       "min    1.000000e+00 -7.394700e+04  0.000000e+00\n",
       "25%    6.000000e+00  1.295000e+04  3.850000e+02\n",
       "50%    1.300000e+01  3.090000e+04  9.210000e+02\n",
       "75%    2.700000e+01  6.215000e+04  1.854000e+03\n",
       "max    1.580000e+03  2.520642e+06  1.396147e+06"
      ]
     },
     "execution_count": 5,
     "metadata": {},
     "output_type": "execute_result"
    }
   ],
   "source": [
    "data.describe()"
   ]
  },
  {
   "cell_type": "code",
   "execution_count": 6,
   "metadata": {},
   "outputs": [],
   "source": [
    "df_data = data.copy()"
   ]
  },
  {
   "cell_type": "markdown",
   "metadata": {},
   "source": [
    "## 배출일자"
   ]
  },
  {
   "cell_type": "code",
   "execution_count": 7,
   "metadata": {
    "scrolled": false
   },
   "outputs": [
    {
     "data": {
      "text/plain": [
       "2020-07-31    2125\n",
       "2020-07-30    2125\n",
       "2020-08-05    2123\n",
       "2020-08-08    2123\n",
       "2020-08-07    2121\n",
       "              ... \n",
       "2021-03-20    1355\n",
       "2020-06-25     932\n",
       "2020-06-28     926\n",
       "2020-06-26     924\n",
       "2020-06-27     894\n",
       "Name: base_date, Length: 1276, dtype: int64"
      ]
     },
     "execution_count": 7,
     "metadata": {},
     "output_type": "execute_result"
    }
   ],
   "source": [
    "df_data.base_date.value_counts()"
   ]
  },
  {
   "cell_type": "code",
   "execution_count": 8,
   "metadata": {},
   "outputs": [],
   "source": [
    "tmp_date = pd.to_datetime(df_data.base_date)"
   ]
  },
  {
   "cell_type": "code",
   "execution_count": 9,
   "metadata": {},
   "outputs": [],
   "source": [
    "df_data['year'] = tmp_date.dt.year\n",
    "df_data['month'] = tmp_date.dt.month\n",
    "df_data['date'] = tmp_date.dt.day"
   ]
  },
  {
   "cell_type": "code",
   "execution_count": 10,
   "metadata": {},
   "outputs": [],
   "source": [
    "df_data.drop(['base_date'],axis='columns',inplace=True)"
   ]
  },
  {
   "cell_type": "code",
   "execution_count": 11,
   "metadata": {},
   "outputs": [
    {
     "data": {
      "text/html": [
       "<div>\n",
       "<style scoped>\n",
       "    .dataframe tbody tr th:only-of-type {\n",
       "        vertical-align: middle;\n",
       "    }\n",
       "\n",
       "    .dataframe tbody tr th {\n",
       "        vertical-align: top;\n",
       "    }\n",
       "\n",
       "    .dataframe thead th {\n",
       "        text-align: right;\n",
       "    }\n",
       "</style>\n",
       "<table border=\"1\" class=\"dataframe\">\n",
       "  <thead>\n",
       "    <tr style=\"text-align: right;\">\n",
       "      <th></th>\n",
       "      <th>city</th>\n",
       "      <th>emd_cd</th>\n",
       "      <th>emd_nm</th>\n",
       "      <th>em_area_cd</th>\n",
       "      <th>em_cnt</th>\n",
       "      <th>em_g</th>\n",
       "      <th>pay_amt</th>\n",
       "      <th>year</th>\n",
       "      <th>month</th>\n",
       "      <th>date</th>\n",
       "    </tr>\n",
       "  </thead>\n",
       "  <tbody>\n",
       "    <tr>\n",
       "      <th>0</th>\n",
       "      <td>제주시</td>\n",
       "      <td>50110670</td>\n",
       "      <td>외도동</td>\n",
       "      <td>W6X062</td>\n",
       "      <td>2</td>\n",
       "      <td>15500</td>\n",
       "      <td>464</td>\n",
       "      <td>2018</td>\n",
       "      <td>1</td>\n",
       "      <td>1</td>\n",
       "    </tr>\n",
       "    <tr>\n",
       "      <th>1</th>\n",
       "      <td>제주시</td>\n",
       "      <td>50110540</td>\n",
       "      <td>이도2동</td>\n",
       "      <td>W6X063</td>\n",
       "      <td>26</td>\n",
       "      <td>64650</td>\n",
       "      <td>1933</td>\n",
       "      <td>2018</td>\n",
       "      <td>1</td>\n",
       "      <td>1</td>\n",
       "    </tr>\n",
       "    <tr>\n",
       "      <th>2</th>\n",
       "      <td>제주시</td>\n",
       "      <td>50110630</td>\n",
       "      <td>아라동</td>\n",
       "      <td>W6X064</td>\n",
       "      <td>15</td>\n",
       "      <td>33500</td>\n",
       "      <td>1001</td>\n",
       "      <td>2018</td>\n",
       "      <td>1</td>\n",
       "      <td>1</td>\n",
       "    </tr>\n",
       "    <tr>\n",
       "      <th>3</th>\n",
       "      <td>제주시</td>\n",
       "      <td>50110610</td>\n",
       "      <td>삼양동</td>\n",
       "      <td>W6X065</td>\n",
       "      <td>4</td>\n",
       "      <td>8400</td>\n",
       "      <td>252</td>\n",
       "      <td>2018</td>\n",
       "      <td>1</td>\n",
       "      <td>1</td>\n",
       "    </tr>\n",
       "    <tr>\n",
       "      <th>4</th>\n",
       "      <td>제주시</td>\n",
       "      <td>50110540</td>\n",
       "      <td>이도2동</td>\n",
       "      <td>W6X066</td>\n",
       "      <td>21</td>\n",
       "      <td>51450</td>\n",
       "      <td>1538</td>\n",
       "      <td>2018</td>\n",
       "      <td>1</td>\n",
       "      <td>1</td>\n",
       "    </tr>\n",
       "    <tr>\n",
       "      <th>...</th>\n",
       "      <td>...</td>\n",
       "      <td>...</td>\n",
       "      <td>...</td>\n",
       "      <td>...</td>\n",
       "      <td>...</td>\n",
       "      <td>...</td>\n",
       "      <td>...</td>\n",
       "      <td>...</td>\n",
       "      <td>...</td>\n",
       "      <td>...</td>\n",
       "    </tr>\n",
       "    <tr>\n",
       "      <th>2209856</th>\n",
       "      <td>서귀포시</td>\n",
       "      <td>50130250</td>\n",
       "      <td>대정읍</td>\n",
       "      <td>W6Y722</td>\n",
       "      <td>16</td>\n",
       "      <td>26950</td>\n",
       "      <td>805</td>\n",
       "      <td>2020</td>\n",
       "      <td>12</td>\n",
       "      <td>14</td>\n",
       "    </tr>\n",
       "    <tr>\n",
       "      <th>2209857</th>\n",
       "      <td>서귀포시</td>\n",
       "      <td>50130250</td>\n",
       "      <td>대정읍</td>\n",
       "      <td>W6Y72A</td>\n",
       "      <td>3</td>\n",
       "      <td>17000</td>\n",
       "      <td>510</td>\n",
       "      <td>2020</td>\n",
       "      <td>12</td>\n",
       "      <td>14</td>\n",
       "    </tr>\n",
       "    <tr>\n",
       "      <th>2209858</th>\n",
       "      <td>서귀포시</td>\n",
       "      <td>50130310</td>\n",
       "      <td>안덕면</td>\n",
       "      <td>W6Y72B</td>\n",
       "      <td>5</td>\n",
       "      <td>5650</td>\n",
       "      <td>168</td>\n",
       "      <td>2020</td>\n",
       "      <td>12</td>\n",
       "      <td>14</td>\n",
       "    </tr>\n",
       "    <tr>\n",
       "      <th>2209859</th>\n",
       "      <td>서귀포시</td>\n",
       "      <td>50130310</td>\n",
       "      <td>안덕면</td>\n",
       "      <td>W6Y72C</td>\n",
       "      <td>11</td>\n",
       "      <td>20700</td>\n",
       "      <td>619</td>\n",
       "      <td>2020</td>\n",
       "      <td>12</td>\n",
       "      <td>14</td>\n",
       "    </tr>\n",
       "    <tr>\n",
       "      <th>2209860</th>\n",
       "      <td>서귀포시</td>\n",
       "      <td>50130620</td>\n",
       "      <td>예래동</td>\n",
       "      <td>W6Y72D</td>\n",
       "      <td>19</td>\n",
       "      <td>103000</td>\n",
       "      <td>3086</td>\n",
       "      <td>2020</td>\n",
       "      <td>12</td>\n",
       "      <td>14</td>\n",
       "    </tr>\n",
       "  </tbody>\n",
       "</table>\n",
       "<p>2209861 rows × 10 columns</p>\n",
       "</div>"
      ],
      "text/plain": [
       "         city    emd_cd emd_nm em_area_cd  em_cnt    em_g  pay_amt  year  \\\n",
       "0         제주시  50110670    외도동     W6X062       2   15500      464  2018   \n",
       "1         제주시  50110540   이도2동     W6X063      26   64650     1933  2018   \n",
       "2         제주시  50110630    아라동     W6X064      15   33500     1001  2018   \n",
       "3         제주시  50110610    삼양동     W6X065       4    8400      252  2018   \n",
       "4         제주시  50110540   이도2동     W6X066      21   51450     1538  2018   \n",
       "...       ...       ...    ...        ...     ...     ...      ...   ...   \n",
       "2209856  서귀포시  50130250    대정읍     W6Y722      16   26950      805  2020   \n",
       "2209857  서귀포시  50130250    대정읍     W6Y72A       3   17000      510  2020   \n",
       "2209858  서귀포시  50130310    안덕면     W6Y72B       5    5650      168  2020   \n",
       "2209859  서귀포시  50130310    안덕면     W6Y72C      11   20700      619  2020   \n",
       "2209860  서귀포시  50130620    예래동     W6Y72D      19  103000     3086  2020   \n",
       "\n",
       "         month  date  \n",
       "0            1     1  \n",
       "1            1     1  \n",
       "2            1     1  \n",
       "3            1     1  \n",
       "4            1     1  \n",
       "...        ...   ...  \n",
       "2209856     12    14  \n",
       "2209857     12    14  \n",
       "2209858     12    14  \n",
       "2209859     12    14  \n",
       "2209860     12    14  \n",
       "\n",
       "[2209861 rows x 10 columns]"
      ]
     },
     "execution_count": 11,
     "metadata": {},
     "output_type": "execute_result"
    }
   ],
   "source": [
    "df_data"
   ]
  },
  {
   "cell_type": "code",
   "execution_count": 12,
   "metadata": {},
   "outputs": [
    {
     "name": "stdout",
     "output_type": "stream",
     "text": [
      "<class 'pandas.core.frame.DataFrame'>\n",
      "RangeIndex: 2209861 entries, 0 to 2209860\n",
      "Data columns (total 10 columns):\n",
      " #   Column      Dtype \n",
      "---  ------      ----- \n",
      " 0   city        object\n",
      " 1   emd_cd      object\n",
      " 2   emd_nm      object\n",
      " 3   em_area_cd  object\n",
      " 4   em_cnt      int64 \n",
      " 5   em_g        int64 \n",
      " 6   pay_amt     int64 \n",
      " 7   year        int64 \n",
      " 8   month       int64 \n",
      " 9   date        int64 \n",
      "dtypes: int64(6), object(4)\n",
      "memory usage: 168.6+ MB\n"
     ]
    }
   ],
   "source": [
    "df_data.info()"
   ]
  },
  {
   "cell_type": "markdown",
   "metadata": {},
   "source": [
    "## city (시 구분)\n",
    "- 제주시, 서귀포시, 알수없음\n",
    "- 나중에 obne-hot encoding"
   ]
  },
  {
   "cell_type": "markdown",
   "metadata": {},
   "source": [
    "## emd_cd (행정동 코드)\n",
    "- 43개 행정동 코드 + 알수없음"
   ]
  },
  {
   "cell_type": "code",
   "execution_count": 13,
   "metadata": {
    "scrolled": true
   },
   "outputs": [
    {
     "data": {
      "text/html": [
       "<div>\n",
       "<style scoped>\n",
       "    .dataframe tbody tr th:only-of-type {\n",
       "        vertical-align: middle;\n",
       "    }\n",
       "\n",
       "    .dataframe tbody tr th {\n",
       "        vertical-align: top;\n",
       "    }\n",
       "\n",
       "    .dataframe thead th {\n",
       "        text-align: right;\n",
       "    }\n",
       "</style>\n",
       "<table border=\"1\" class=\"dataframe\">\n",
       "  <thead>\n",
       "    <tr style=\"text-align: right;\">\n",
       "      <th></th>\n",
       "      <th>city</th>\n",
       "      <th>emd_cd</th>\n",
       "      <th>emd_nm</th>\n",
       "      <th>em_area_cd</th>\n",
       "      <th>em_cnt</th>\n",
       "      <th>em_g</th>\n",
       "      <th>pay_amt</th>\n",
       "      <th>year</th>\n",
       "      <th>month</th>\n",
       "      <th>date</th>\n",
       "    </tr>\n",
       "  </thead>\n",
       "  <tbody>\n",
       "    <tr>\n",
       "      <th>1399</th>\n",
       "      <td>알수없음</td>\n",
       "      <td>알수없음</td>\n",
       "      <td>알수없음</td>\n",
       "      <td>W6Y402</td>\n",
       "      <td>21</td>\n",
       "      <td>142950</td>\n",
       "      <td>4283</td>\n",
       "      <td>2018</td>\n",
       "      <td>1</td>\n",
       "      <td>1</td>\n",
       "    </tr>\n",
       "    <tr>\n",
       "      <th>1404</th>\n",
       "      <td>알수없음</td>\n",
       "      <td>알수없음</td>\n",
       "      <td>알수없음</td>\n",
       "      <td>W6Y407</td>\n",
       "      <td>13</td>\n",
       "      <td>211050</td>\n",
       "      <td>6329</td>\n",
       "      <td>2018</td>\n",
       "      <td>1</td>\n",
       "      <td>1</td>\n",
       "    </tr>\n",
       "    <tr>\n",
       "      <th>1406</th>\n",
       "      <td>알수없음</td>\n",
       "      <td>알수없음</td>\n",
       "      <td>알수없음</td>\n",
       "      <td>W6Y409</td>\n",
       "      <td>7</td>\n",
       "      <td>44950</td>\n",
       "      <td>1348</td>\n",
       "      <td>2018</td>\n",
       "      <td>1</td>\n",
       "      <td>1</td>\n",
       "    </tr>\n",
       "    <tr>\n",
       "      <th>2849</th>\n",
       "      <td>알수없음</td>\n",
       "      <td>알수없음</td>\n",
       "      <td>알수없음</td>\n",
       "      <td>W6Y402</td>\n",
       "      <td>20</td>\n",
       "      <td>104250</td>\n",
       "      <td>3123</td>\n",
       "      <td>2018</td>\n",
       "      <td>1</td>\n",
       "      <td>2</td>\n",
       "    </tr>\n",
       "    <tr>\n",
       "      <th>2854</th>\n",
       "      <td>알수없음</td>\n",
       "      <td>알수없음</td>\n",
       "      <td>알수없음</td>\n",
       "      <td>W6Y407</td>\n",
       "      <td>9</td>\n",
       "      <td>99250</td>\n",
       "      <td>2975</td>\n",
       "      <td>2018</td>\n",
       "      <td>1</td>\n",
       "      <td>2</td>\n",
       "    </tr>\n",
       "    <tr>\n",
       "      <th>...</th>\n",
       "      <td>...</td>\n",
       "      <td>...</td>\n",
       "      <td>...</td>\n",
       "      <td>...</td>\n",
       "      <td>...</td>\n",
       "      <td>...</td>\n",
       "      <td>...</td>\n",
       "      <td>...</td>\n",
       "      <td>...</td>\n",
       "      <td>...</td>\n",
       "    </tr>\n",
       "    <tr>\n",
       "      <th>2201701</th>\n",
       "      <td>알수없음</td>\n",
       "      <td>알수없음</td>\n",
       "      <td>알수없음</td>\n",
       "      <td>W6Y734</td>\n",
       "      <td>6</td>\n",
       "      <td>23900</td>\n",
       "      <td>715</td>\n",
       "      <td>2021</td>\n",
       "      <td>6</td>\n",
       "      <td>1</td>\n",
       "    </tr>\n",
       "    <tr>\n",
       "      <th>2203746</th>\n",
       "      <td>알수없음</td>\n",
       "      <td>알수없음</td>\n",
       "      <td>알수없음</td>\n",
       "      <td>W6Y71C</td>\n",
       "      <td>8</td>\n",
       "      <td>105650</td>\n",
       "      <td>3168</td>\n",
       "      <td>2020</td>\n",
       "      <td>12</td>\n",
       "      <td>11</td>\n",
       "    </tr>\n",
       "    <tr>\n",
       "      <th>2205790</th>\n",
       "      <td>알수없음</td>\n",
       "      <td>알수없음</td>\n",
       "      <td>알수없음</td>\n",
       "      <td>W6Y71C</td>\n",
       "      <td>8</td>\n",
       "      <td>77850</td>\n",
       "      <td>2334</td>\n",
       "      <td>2020</td>\n",
       "      <td>12</td>\n",
       "      <td>12</td>\n",
       "    </tr>\n",
       "    <tr>\n",
       "      <th>2207837</th>\n",
       "      <td>알수없음</td>\n",
       "      <td>알수없음</td>\n",
       "      <td>알수없음</td>\n",
       "      <td>W6Y71C</td>\n",
       "      <td>11</td>\n",
       "      <td>79800</td>\n",
       "      <td>2392</td>\n",
       "      <td>2020</td>\n",
       "      <td>12</td>\n",
       "      <td>13</td>\n",
       "    </tr>\n",
       "    <tr>\n",
       "      <th>2209852</th>\n",
       "      <td>알수없음</td>\n",
       "      <td>알수없음</td>\n",
       "      <td>알수없음</td>\n",
       "      <td>W6Y71C</td>\n",
       "      <td>5</td>\n",
       "      <td>52650</td>\n",
       "      <td>1579</td>\n",
       "      <td>2020</td>\n",
       "      <td>12</td>\n",
       "      <td>14</td>\n",
       "    </tr>\n",
       "  </tbody>\n",
       "</table>\n",
       "<p>2284 rows × 10 columns</p>\n",
       "</div>"
      ],
      "text/plain": [
       "         city emd_cd emd_nm em_area_cd  em_cnt    em_g  pay_amt  year  month  \\\n",
       "1399     알수없음   알수없음   알수없음     W6Y402      21  142950     4283  2018      1   \n",
       "1404     알수없음   알수없음   알수없음     W6Y407      13  211050     6329  2018      1   \n",
       "1406     알수없음   알수없음   알수없음     W6Y409       7   44950     1348  2018      1   \n",
       "2849     알수없음   알수없음   알수없음     W6Y402      20  104250     3123  2018      1   \n",
       "2854     알수없음   알수없음   알수없음     W6Y407       9   99250     2975  2018      1   \n",
       "...       ...    ...    ...        ...     ...     ...      ...   ...    ...   \n",
       "2201701  알수없음   알수없음   알수없음     W6Y734       6   23900      715  2021      6   \n",
       "2203746  알수없음   알수없음   알수없음     W6Y71C       8  105650     3168  2020     12   \n",
       "2205790  알수없음   알수없음   알수없음     W6Y71C       8   77850     2334  2020     12   \n",
       "2207837  알수없음   알수없음   알수없음     W6Y71C      11   79800     2392  2020     12   \n",
       "2209852  알수없음   알수없음   알수없음     W6Y71C       5   52650     1579  2020     12   \n",
       "\n",
       "         date  \n",
       "1399        1  \n",
       "1404        1  \n",
       "1406        1  \n",
       "2849        2  \n",
       "2854        2  \n",
       "...       ...  \n",
       "2201701     1  \n",
       "2203746    11  \n",
       "2205790    12  \n",
       "2207837    13  \n",
       "2209852    14  \n",
       "\n",
       "[2284 rows x 10 columns]"
      ]
     },
     "execution_count": 13,
     "metadata": {},
     "output_type": "execute_result"
    }
   ],
   "source": [
    "df_data[df_data.emd_cd==\"알수없음\"]"
   ]
  },
  {
   "cell_type": "markdown",
   "metadata": {},
   "source": [
    "### 알수없음 처리 어떻게?? "
   ]
  },
  {
   "cell_type": "code",
   "execution_count": 14,
   "metadata": {},
   "outputs": [
    {
     "name": "stdout",
     "output_type": "stream",
     "text": [
      "50110660    185468\n",
      "50110540    144118\n",
      "50110650    141628\n",
      "50110630    134637\n",
      "50110520     99270\n",
      "50110640     94084\n",
      "50110600     89610\n",
      "50110610     85396\n",
      "50110670     78619\n",
      "50110253     75649\n",
      "50110580     70345\n",
      "50130250     69690\n",
      "50110259     60618\n",
      "50130253     56768\n",
      "50130310     55511\n",
      "50110250     54783\n",
      "50130570     51542\n",
      "50110256     44374\n",
      "50130610     42987\n",
      "50110680     39289\n",
      "50130259     38326\n",
      "50110550     38051\n",
      "50110590     36417\n",
      "50130600     35269\n",
      "50110620     35178\n",
      "50130590     32830\n",
      "50130320     32660\n",
      "50110570     31705\n",
      "50110530     31474\n",
      "50110560     31410\n",
      "50110310     30543\n",
      "50110690     29050\n",
      "50130560     22862\n",
      "50130620     20324\n",
      "50130580     20265\n",
      "50130510     16435\n",
      "50110510     12542\n",
      "50130550     11599\n",
      "50130540     11565\n",
      "50130520      9368\n",
      "50130530      5318\n",
      "알수없음          2284\n",
      "Name: emd_cd, dtype: int64\n",
      "42\n"
     ]
    }
   ],
   "source": [
    "print(df_data.emd_cd.value_counts())\n",
    "print(len(df_data.emd_cd.value_counts()))"
   ]
  },
  {
   "cell_type": "markdown",
   "metadata": {},
   "source": [
    "### 42개면 그냥 원핫인코딩??"
   ]
  },
  {
   "cell_type": "code",
   "execution_count": null,
   "metadata": {},
   "outputs": [],
   "source": []
  },
  {
   "cell_type": "code",
   "execution_count": null,
   "metadata": {},
   "outputs": [],
   "source": []
  },
  {
   "cell_type": "code",
   "execution_count": null,
   "metadata": {},
   "outputs": [],
   "source": []
  },
  {
   "cell_type": "markdown",
   "metadata": {},
   "source": [
    "## emd_nm"
   ]
  },
  {
   "cell_type": "code",
   "execution_count": 15,
   "metadata": {},
   "outputs": [],
   "source": [
    "# 행정동명 대신 행정동 코드로 모두 다 나타낼 수 있음\n",
    "df_data.drop(['emd_nm'],axis='columns',inplace=True)"
   ]
  },
  {
   "cell_type": "code",
   "execution_count": 16,
   "metadata": {},
   "outputs": [
    {
     "data": {
      "text/html": [
       "<div>\n",
       "<style scoped>\n",
       "    .dataframe tbody tr th:only-of-type {\n",
       "        vertical-align: middle;\n",
       "    }\n",
       "\n",
       "    .dataframe tbody tr th {\n",
       "        vertical-align: top;\n",
       "    }\n",
       "\n",
       "    .dataframe thead th {\n",
       "        text-align: right;\n",
       "    }\n",
       "</style>\n",
       "<table border=\"1\" class=\"dataframe\">\n",
       "  <thead>\n",
       "    <tr style=\"text-align: right;\">\n",
       "      <th></th>\n",
       "      <th>city</th>\n",
       "      <th>emd_cd</th>\n",
       "      <th>em_area_cd</th>\n",
       "      <th>em_cnt</th>\n",
       "      <th>em_g</th>\n",
       "      <th>pay_amt</th>\n",
       "      <th>year</th>\n",
       "      <th>month</th>\n",
       "      <th>date</th>\n",
       "    </tr>\n",
       "  </thead>\n",
       "  <tbody>\n",
       "    <tr>\n",
       "      <th>0</th>\n",
       "      <td>제주시</td>\n",
       "      <td>50110670</td>\n",
       "      <td>W6X062</td>\n",
       "      <td>2</td>\n",
       "      <td>15500</td>\n",
       "      <td>464</td>\n",
       "      <td>2018</td>\n",
       "      <td>1</td>\n",
       "      <td>1</td>\n",
       "    </tr>\n",
       "    <tr>\n",
       "      <th>1</th>\n",
       "      <td>제주시</td>\n",
       "      <td>50110540</td>\n",
       "      <td>W6X063</td>\n",
       "      <td>26</td>\n",
       "      <td>64650</td>\n",
       "      <td>1933</td>\n",
       "      <td>2018</td>\n",
       "      <td>1</td>\n",
       "      <td>1</td>\n",
       "    </tr>\n",
       "    <tr>\n",
       "      <th>2</th>\n",
       "      <td>제주시</td>\n",
       "      <td>50110630</td>\n",
       "      <td>W6X064</td>\n",
       "      <td>15</td>\n",
       "      <td>33500</td>\n",
       "      <td>1001</td>\n",
       "      <td>2018</td>\n",
       "      <td>1</td>\n",
       "      <td>1</td>\n",
       "    </tr>\n",
       "    <tr>\n",
       "      <th>3</th>\n",
       "      <td>제주시</td>\n",
       "      <td>50110610</td>\n",
       "      <td>W6X065</td>\n",
       "      <td>4</td>\n",
       "      <td>8400</td>\n",
       "      <td>252</td>\n",
       "      <td>2018</td>\n",
       "      <td>1</td>\n",
       "      <td>1</td>\n",
       "    </tr>\n",
       "    <tr>\n",
       "      <th>4</th>\n",
       "      <td>제주시</td>\n",
       "      <td>50110540</td>\n",
       "      <td>W6X066</td>\n",
       "      <td>21</td>\n",
       "      <td>51450</td>\n",
       "      <td>1538</td>\n",
       "      <td>2018</td>\n",
       "      <td>1</td>\n",
       "      <td>1</td>\n",
       "    </tr>\n",
       "  </tbody>\n",
       "</table>\n",
       "</div>"
      ],
      "text/plain": [
       "  city    emd_cd em_area_cd  em_cnt   em_g  pay_amt  year  month  date\n",
       "0  제주시  50110670     W6X062       2  15500      464  2018      1     1\n",
       "1  제주시  50110540     W6X063      26  64650     1933  2018      1     1\n",
       "2  제주시  50110630     W6X064      15  33500     1001  2018      1     1\n",
       "3  제주시  50110610     W6X065       4   8400      252  2018      1     1\n",
       "4  제주시  50110540     W6X066      21  51450     1538  2018      1     1"
      ]
     },
     "execution_count": 16,
     "metadata": {},
     "output_type": "execute_result"
    }
   ],
   "source": [
    "df_data.head()"
   ]
  },
  {
   "cell_type": "code",
   "execution_count": 17,
   "metadata": {},
   "outputs": [
    {
     "data": {
      "text/plain": [
       "2284"
      ]
     },
     "execution_count": 17,
     "metadata": {},
     "output_type": "execute_result"
    }
   ],
   "source": [
    "# 배출거점지역 코드 살펴보기\n",
    "len(df_data[df_data.city == \"알수없음\"])"
   ]
  },
  {
   "cell_type": "code",
   "execution_count": 18,
   "metadata": {},
   "outputs": [
    {
     "data": {
      "text/plain": [
       "W6Y402    395\n",
       "W6Y407    383\n",
       "W6Y409    379\n",
       "W6Y71C    352\n",
       "W6Y01     162\n",
       "W6Y72E    134\n",
       "W6Y730    104\n",
       "W6XE5D     83\n",
       "W6Y734     44\n",
       "W6Y102     37\n",
       "W6Y737     22\n",
       "W6Y740     22\n",
       "W6Y738     22\n",
       "W6Y736     22\n",
       "W6Y739     22\n",
       "W6Y746     14\n",
       "W6Y744     14\n",
       "W6Y745     14\n",
       "W6Y733     13\n",
       "W6X1DE      7\n",
       "W6Xa65      6\n",
       "W6Y1        5\n",
       "W6X223      4\n",
       "W6X46C      4\n",
       "W6X66A      4\n",
       "W6X46B      4\n",
       "W6X46A      4\n",
       "W6YA32      2\n",
       "W6Xa67      2\n",
       "W6Y0        2\n",
       "W6Xa75      1\n",
       "W6Y4        1\n",
       "Name: em_area_cd, dtype: int64"
      ]
     },
     "execution_count": 18,
     "metadata": {},
     "output_type": "execute_result"
    }
   ],
   "source": [
    "df_data.em_area_cd[df_data.city == \"알수없음\"].value_counts()"
   ]
  },
  {
   "cell_type": "code",
   "execution_count": 19,
   "metadata": {},
   "outputs": [
    {
     "data": {
      "text/plain": [
       "50110670    1275\n",
       "Name: emd_cd, dtype: int64"
      ]
     },
     "execution_count": 19,
     "metadata": {},
     "output_type": "execute_result"
    }
   ],
   "source": [
    "df_data.emd_cd[df_data.em_area_cd=='W6X678'].value_counts()"
   ]
  },
  {
   "cell_type": "code",
   "execution_count": 20,
   "metadata": {
    "scrolled": true
   },
   "outputs": [
    {
     "data": {
      "text/plain": [
       "W6X687    1275\n",
       "W6X701    1275\n",
       "W6X693    1275\n",
       "W6X678    1275\n",
       "W6X685    1275\n",
       "          ... \n",
       "W6XA85    1081\n",
       "W6X718    1004\n",
       "W6XD09     781\n",
       "W6X125     492\n",
       "W6X010       4\n",
       "Name: em_area_cd, Length: 65, dtype: int64"
      ]
     },
     "execution_count": 20,
     "metadata": {},
     "output_type": "execute_result"
    }
   ],
   "source": [
    "df_data.em_area_cd[df_data.emd_cd=='50110670'].value_counts()"
   ]
  },
  {
   "cell_type": "code",
   "execution_count": 21,
   "metadata": {},
   "outputs": [
    {
     "ename": "KeyboardInterrupt",
     "evalue": "",
     "output_type": "error",
     "traceback": [
      "\u001b[1;31m---------------------------------------------------------------------------\u001b[0m",
      "\u001b[1;31mKeyboardInterrupt\u001b[0m                         Traceback (most recent call last)",
      "\u001b[1;32m<ipython-input-21-cf067400aaa2>\u001b[0m in \u001b[0;36m<module>\u001b[1;34m\u001b[0m\n\u001b[0;32m      1\u001b[0m \u001b[0mkeys\u001b[0m \u001b[1;33m=\u001b[0m \u001b[0mdf_data\u001b[0m\u001b[1;33m.\u001b[0m\u001b[0mem_area_cd\u001b[0m\u001b[1;33m.\u001b[0m\u001b[0mvalue_counts\u001b[0m\u001b[1;33m(\u001b[0m\u001b[1;33m)\u001b[0m\u001b[1;33m.\u001b[0m\u001b[0mkeys\u001b[0m\u001b[1;33m(\u001b[0m\u001b[1;33m)\u001b[0m\u001b[1;33m\u001b[0m\u001b[1;33m\u001b[0m\u001b[0m\n\u001b[0;32m      2\u001b[0m \u001b[1;32mfor\u001b[0m \u001b[0mkey\u001b[0m \u001b[1;32min\u001b[0m \u001b[0mkeys\u001b[0m\u001b[1;33m:\u001b[0m\u001b[1;33m\u001b[0m\u001b[1;33m\u001b[0m\u001b[0m\n\u001b[1;32m----> 3\u001b[1;33m     \u001b[0mL\u001b[0m \u001b[1;33m=\u001b[0m \u001b[0mlen\u001b[0m\u001b[1;33m(\u001b[0m\u001b[0mdf_data\u001b[0m\u001b[1;33m.\u001b[0m\u001b[0memd_cd\u001b[0m\u001b[1;33m[\u001b[0m\u001b[0mdf_data\u001b[0m\u001b[1;33m.\u001b[0m\u001b[0mem_area_cd\u001b[0m\u001b[1;33m==\u001b[0m\u001b[0mkey\u001b[0m\u001b[1;33m]\u001b[0m\u001b[1;33m.\u001b[0m\u001b[0mvalue_counts\u001b[0m\u001b[1;33m(\u001b[0m\u001b[1;33m)\u001b[0m\u001b[1;33m)\u001b[0m\u001b[1;33m\u001b[0m\u001b[1;33m\u001b[0m\u001b[0m\n\u001b[0m\u001b[0;32m      4\u001b[0m     \u001b[1;32mif\u001b[0m \u001b[0mL\u001b[0m \u001b[1;33m>\u001b[0m \u001b[1;36m1\u001b[0m\u001b[1;33m:\u001b[0m\u001b[1;33m\u001b[0m\u001b[1;33m\u001b[0m\u001b[0m\n\u001b[0;32m      5\u001b[0m         \u001b[0mprint\u001b[0m\u001b[1;33m(\u001b[0m\u001b[1;34m'NO'\u001b[0m\u001b[1;33m)\u001b[0m\u001b[1;33m\u001b[0m\u001b[1;33m\u001b[0m\u001b[0m\n",
      "\u001b[1;32m~\\anaconda3\\lib\\site-packages\\pandas\\core\\series.py\u001b[0m in \u001b[0;36m__getitem__\u001b[1;34m(self, key)\u001b[0m\n\u001b[0;32m    902\u001b[0m             \u001b[0mkey\u001b[0m \u001b[1;33m=\u001b[0m \u001b[0mcheck_bool_indexer\u001b[0m\u001b[1;33m(\u001b[0m\u001b[0mself\u001b[0m\u001b[1;33m.\u001b[0m\u001b[0mindex\u001b[0m\u001b[1;33m,\u001b[0m \u001b[0mkey\u001b[0m\u001b[1;33m)\u001b[0m\u001b[1;33m\u001b[0m\u001b[1;33m\u001b[0m\u001b[0m\n\u001b[0;32m    903\u001b[0m             \u001b[0mkey\u001b[0m \u001b[1;33m=\u001b[0m \u001b[0mnp\u001b[0m\u001b[1;33m.\u001b[0m\u001b[0masarray\u001b[0m\u001b[1;33m(\u001b[0m\u001b[0mkey\u001b[0m\u001b[1;33m,\u001b[0m \u001b[0mdtype\u001b[0m\u001b[1;33m=\u001b[0m\u001b[0mbool\u001b[0m\u001b[1;33m)\u001b[0m\u001b[1;33m\u001b[0m\u001b[1;33m\u001b[0m\u001b[0m\n\u001b[1;32m--> 904\u001b[1;33m             \u001b[1;32mreturn\u001b[0m \u001b[0mself\u001b[0m\u001b[1;33m.\u001b[0m\u001b[0m_get_values\u001b[0m\u001b[1;33m(\u001b[0m\u001b[0mkey\u001b[0m\u001b[1;33m)\u001b[0m\u001b[1;33m\u001b[0m\u001b[1;33m\u001b[0m\u001b[0m\n\u001b[0m\u001b[0;32m    905\u001b[0m \u001b[1;33m\u001b[0m\u001b[0m\n\u001b[0;32m    906\u001b[0m         \u001b[1;32mreturn\u001b[0m \u001b[0mself\u001b[0m\u001b[1;33m.\u001b[0m\u001b[0m_get_with\u001b[0m\u001b[1;33m(\u001b[0m\u001b[0mkey\u001b[0m\u001b[1;33m)\u001b[0m\u001b[1;33m\u001b[0m\u001b[1;33m\u001b[0m\u001b[0m\n",
      "\u001b[1;32m~\\anaconda3\\lib\\site-packages\\pandas\\core\\series.py\u001b[0m in \u001b[0;36m_get_values\u001b[1;34m(self, indexer)\u001b[0m\n\u001b[0;32m    964\u001b[0m     \u001b[1;32mdef\u001b[0m \u001b[0m_get_values\u001b[0m\u001b[1;33m(\u001b[0m\u001b[0mself\u001b[0m\u001b[1;33m,\u001b[0m \u001b[0mindexer\u001b[0m\u001b[1;33m)\u001b[0m\u001b[1;33m:\u001b[0m\u001b[1;33m\u001b[0m\u001b[1;33m\u001b[0m\u001b[0m\n\u001b[0;32m    965\u001b[0m         \u001b[1;32mtry\u001b[0m\u001b[1;33m:\u001b[0m\u001b[1;33m\u001b[0m\u001b[1;33m\u001b[0m\u001b[0m\n\u001b[1;32m--> 966\u001b[1;33m             \u001b[1;32mreturn\u001b[0m \u001b[0mself\u001b[0m\u001b[1;33m.\u001b[0m\u001b[0m_constructor\u001b[0m\u001b[1;33m(\u001b[0m\u001b[0mself\u001b[0m\u001b[1;33m.\u001b[0m\u001b[0m_mgr\u001b[0m\u001b[1;33m.\u001b[0m\u001b[0mget_slice\u001b[0m\u001b[1;33m(\u001b[0m\u001b[0mindexer\u001b[0m\u001b[1;33m)\u001b[0m\u001b[1;33m)\u001b[0m\u001b[1;33m.\u001b[0m\u001b[0m__finalize__\u001b[0m\u001b[1;33m(\u001b[0m\u001b[0mself\u001b[0m\u001b[1;33m,\u001b[0m\u001b[1;33m)\u001b[0m\u001b[1;33m\u001b[0m\u001b[1;33m\u001b[0m\u001b[0m\n\u001b[0m\u001b[0;32m    967\u001b[0m         \u001b[1;32mexcept\u001b[0m \u001b[0mValueError\u001b[0m\u001b[1;33m:\u001b[0m\u001b[1;33m\u001b[0m\u001b[1;33m\u001b[0m\u001b[0m\n\u001b[0;32m    968\u001b[0m             \u001b[1;31m# mpl compat if we look up e.g. ser[:, np.newaxis];\u001b[0m\u001b[1;33m\u001b[0m\u001b[1;33m\u001b[0m\u001b[1;33m\u001b[0m\u001b[0m\n",
      "\u001b[1;32m~\\anaconda3\\lib\\site-packages\\pandas\\core\\internals\\managers.py\u001b[0m in \u001b[0;36mget_slice\u001b[1;34m(self, slobj, axis)\u001b[0m\n\u001b[0;32m   1592\u001b[0m \u001b[1;33m\u001b[0m\u001b[0m\n\u001b[0;32m   1593\u001b[0m         \u001b[0mblk\u001b[0m \u001b[1;33m=\u001b[0m \u001b[0mself\u001b[0m\u001b[1;33m.\u001b[0m\u001b[0m_block\u001b[0m\u001b[1;33m\u001b[0m\u001b[1;33m\u001b[0m\u001b[0m\n\u001b[1;32m-> 1594\u001b[1;33m         \u001b[0marray\u001b[0m \u001b[1;33m=\u001b[0m \u001b[0mblk\u001b[0m\u001b[1;33m.\u001b[0m\u001b[0m_slice\u001b[0m\u001b[1;33m(\u001b[0m\u001b[0mslobj\u001b[0m\u001b[1;33m)\u001b[0m\u001b[1;33m\u001b[0m\u001b[1;33m\u001b[0m\u001b[0m\n\u001b[0m\u001b[0;32m   1595\u001b[0m         \u001b[0mblock\u001b[0m \u001b[1;33m=\u001b[0m \u001b[0mblk\u001b[0m\u001b[1;33m.\u001b[0m\u001b[0mmake_block_same_class\u001b[0m\u001b[1;33m(\u001b[0m\u001b[0marray\u001b[0m\u001b[1;33m,\u001b[0m \u001b[0mplacement\u001b[0m\u001b[1;33m=\u001b[0m\u001b[0mslice\u001b[0m\u001b[1;33m(\u001b[0m\u001b[1;36m0\u001b[0m\u001b[1;33m,\u001b[0m \u001b[0mlen\u001b[0m\u001b[1;33m(\u001b[0m\u001b[0marray\u001b[0m\u001b[1;33m)\u001b[0m\u001b[1;33m)\u001b[0m\u001b[1;33m)\u001b[0m\u001b[1;33m\u001b[0m\u001b[1;33m\u001b[0m\u001b[0m\n\u001b[0;32m   1596\u001b[0m         \u001b[1;32mreturn\u001b[0m \u001b[0mtype\u001b[0m\u001b[1;33m(\u001b[0m\u001b[0mself\u001b[0m\u001b[1;33m)\u001b[0m\u001b[1;33m(\u001b[0m\u001b[0mblock\u001b[0m\u001b[1;33m,\u001b[0m \u001b[0mself\u001b[0m\u001b[1;33m.\u001b[0m\u001b[0mindex\u001b[0m\u001b[1;33m[\u001b[0m\u001b[0mslobj\u001b[0m\u001b[1;33m]\u001b[0m\u001b[1;33m)\u001b[0m\u001b[1;33m\u001b[0m\u001b[1;33m\u001b[0m\u001b[0m\n",
      "\u001b[1;32m~\\anaconda3\\lib\\site-packages\\pandas\\core\\internals\\blocks.py\u001b[0m in \u001b[0;36m_slice\u001b[1;34m(self, slicer)\u001b[0m\n\u001b[0;32m    288\u001b[0m         \u001b[1;34m\"\"\" return a slice of my values \"\"\"\u001b[0m\u001b[1;33m\u001b[0m\u001b[1;33m\u001b[0m\u001b[0m\n\u001b[0;32m    289\u001b[0m \u001b[1;33m\u001b[0m\u001b[0m\n\u001b[1;32m--> 290\u001b[1;33m         \u001b[1;32mreturn\u001b[0m \u001b[0mself\u001b[0m\u001b[1;33m.\u001b[0m\u001b[0mvalues\u001b[0m\u001b[1;33m[\u001b[0m\u001b[0mslicer\u001b[0m\u001b[1;33m]\u001b[0m\u001b[1;33m\u001b[0m\u001b[1;33m\u001b[0m\u001b[0m\n\u001b[0m\u001b[0;32m    291\u001b[0m \u001b[1;33m\u001b[0m\u001b[0m\n\u001b[0;32m    292\u001b[0m     \u001b[1;32mdef\u001b[0m \u001b[0mgetitem_block\u001b[0m\u001b[1;33m(\u001b[0m\u001b[0mself\u001b[0m\u001b[1;33m,\u001b[0m \u001b[0mslicer\u001b[0m\u001b[1;33m,\u001b[0m \u001b[0mnew_mgr_locs\u001b[0m\u001b[1;33m=\u001b[0m\u001b[1;32mNone\u001b[0m\u001b[1;33m)\u001b[0m\u001b[1;33m:\u001b[0m\u001b[1;33m\u001b[0m\u001b[1;33m\u001b[0m\u001b[0m\n",
      "\u001b[1;31mKeyboardInterrupt\u001b[0m: "
     ]
    }
   ],
   "source": [
    "keys = df_data.em_area_cd.value_counts().keys()\n",
    "for key in keys:\n",
    "    L = len(df_data.emd_cd[df_data.em_area_cd==key].value_counts())\n",
    "    if L > 1:\n",
    "        print('NO')"
   ]
  },
  {
   "cell_type": "markdown",
   "metadata": {},
   "source": [
    "위의 결과로 배출거점지역 코드가 같으면 행정동 코드도 같다. 반대로는 성립하지 않는다. ( 1대 다 관계 )"
   ]
  },
  {
   "cell_type": "markdown",
   "metadata": {},
   "source": [
    "이러면 하나의 행정동에 여러 개의 배출거점지역 코드를 갖고있는 것\n",
    "### 행정동코드 유지?삭제?"
   ]
  },
  {
   "cell_type": "code",
   "execution_count": null,
   "metadata": {},
   "outputs": [],
   "source": [
    "df_data.em_area_cd.str[:3].value_counts()"
   ]
  },
  {
   "cell_type": "code",
   "execution_count": null,
   "metadata": {},
   "outputs": [],
   "source": [
    "df_data.em_area_cd.str[2:3].value_counts()"
   ]
  },
  {
   "cell_type": "code",
   "execution_count": null,
   "metadata": {},
   "outputs": [],
   "source": [
    "df_data[df_data.city==\"제주시\"]['em_area_cd'].str[2:3].value_counts()"
   ]
  },
  {
   "cell_type": "code",
   "execution_count": null,
   "metadata": {},
   "outputs": [],
   "source": [
    "df_data[df_data.city==\"서귀포시\"]['em_area_cd'].str[2:3].value_counts()"
   ]
  },
  {
   "cell_type": "code",
   "execution_count": null,
   "metadata": {
    "scrolled": true
   },
   "outputs": [],
   "source": [
    "df_data[df_data.city==\"알수없음\"]['em_area_cd'].str[2:3].value_counts()"
   ]
  },
  {
   "cell_type": "markdown",
   "metadata": {},
   "source": [
    "* em_area_cd에서 W6은 기본적으로 있는 것\n",
    "* 2번째 위치가 city에 따라 X, Y가 결정됨"
   ]
  },
  {
   "cell_type": "markdown",
   "metadata": {},
   "source": [
    "### em_area_cd를 근거로 city 알수없음 값 채우기"
   ]
  },
  {
   "cell_type": "code",
   "execution_count": 22,
   "metadata": {},
   "outputs": [],
   "source": [
    "df_data['city_XY'] = df_data['em_area_cd'].str[2:3]"
   ]
  },
  {
   "cell_type": "code",
   "execution_count": 23,
   "metadata": {},
   "outputs": [
    {
     "data": {
      "text/plain": [
       "X    1674377\n",
       "Y     535484\n",
       "Name: city_XY, dtype: int64"
      ]
     },
     "execution_count": 23,
     "metadata": {},
     "output_type": "execute_result"
    }
   ],
   "source": [
    "df_data['city_XY'].value_counts()"
   ]
  },
  {
   "cell_type": "code",
   "execution_count": 24,
   "metadata": {},
   "outputs": [],
   "source": [
    "df_data['city'] = df_data['city_XY'].replace('X','제주시')\n",
    "df_data['city'] = df_data['city'].replace('Y','서귀포시')"
   ]
  },
  {
   "cell_type": "code",
   "execution_count": 25,
   "metadata": {},
   "outputs": [
    {
     "data": {
      "text/html": [
       "<div>\n",
       "<style scoped>\n",
       "    .dataframe tbody tr th:only-of-type {\n",
       "        vertical-align: middle;\n",
       "    }\n",
       "\n",
       "    .dataframe tbody tr th {\n",
       "        vertical-align: top;\n",
       "    }\n",
       "\n",
       "    .dataframe thead th {\n",
       "        text-align: right;\n",
       "    }\n",
       "</style>\n",
       "<table border=\"1\" class=\"dataframe\">\n",
       "  <thead>\n",
       "    <tr style=\"text-align: right;\">\n",
       "      <th></th>\n",
       "      <th>city</th>\n",
       "      <th>emd_cd</th>\n",
       "      <th>em_area_cd</th>\n",
       "      <th>em_cnt</th>\n",
       "      <th>em_g</th>\n",
       "      <th>pay_amt</th>\n",
       "      <th>year</th>\n",
       "      <th>month</th>\n",
       "      <th>date</th>\n",
       "      <th>city_XY</th>\n",
       "    </tr>\n",
       "  </thead>\n",
       "  <tbody>\n",
       "    <tr>\n",
       "      <th>0</th>\n",
       "      <td>제주시</td>\n",
       "      <td>50110670</td>\n",
       "      <td>W6X062</td>\n",
       "      <td>2</td>\n",
       "      <td>15500</td>\n",
       "      <td>464</td>\n",
       "      <td>2018</td>\n",
       "      <td>1</td>\n",
       "      <td>1</td>\n",
       "      <td>X</td>\n",
       "    </tr>\n",
       "    <tr>\n",
       "      <th>1</th>\n",
       "      <td>제주시</td>\n",
       "      <td>50110540</td>\n",
       "      <td>W6X063</td>\n",
       "      <td>26</td>\n",
       "      <td>64650</td>\n",
       "      <td>1933</td>\n",
       "      <td>2018</td>\n",
       "      <td>1</td>\n",
       "      <td>1</td>\n",
       "      <td>X</td>\n",
       "    </tr>\n",
       "    <tr>\n",
       "      <th>2</th>\n",
       "      <td>제주시</td>\n",
       "      <td>50110630</td>\n",
       "      <td>W6X064</td>\n",
       "      <td>15</td>\n",
       "      <td>33500</td>\n",
       "      <td>1001</td>\n",
       "      <td>2018</td>\n",
       "      <td>1</td>\n",
       "      <td>1</td>\n",
       "      <td>X</td>\n",
       "    </tr>\n",
       "    <tr>\n",
       "      <th>3</th>\n",
       "      <td>제주시</td>\n",
       "      <td>50110610</td>\n",
       "      <td>W6X065</td>\n",
       "      <td>4</td>\n",
       "      <td>8400</td>\n",
       "      <td>252</td>\n",
       "      <td>2018</td>\n",
       "      <td>1</td>\n",
       "      <td>1</td>\n",
       "      <td>X</td>\n",
       "    </tr>\n",
       "    <tr>\n",
       "      <th>4</th>\n",
       "      <td>제주시</td>\n",
       "      <td>50110540</td>\n",
       "      <td>W6X066</td>\n",
       "      <td>21</td>\n",
       "      <td>51450</td>\n",
       "      <td>1538</td>\n",
       "      <td>2018</td>\n",
       "      <td>1</td>\n",
       "      <td>1</td>\n",
       "      <td>X</td>\n",
       "    </tr>\n",
       "    <tr>\n",
       "      <th>...</th>\n",
       "      <td>...</td>\n",
       "      <td>...</td>\n",
       "      <td>...</td>\n",
       "      <td>...</td>\n",
       "      <td>...</td>\n",
       "      <td>...</td>\n",
       "      <td>...</td>\n",
       "      <td>...</td>\n",
       "      <td>...</td>\n",
       "      <td>...</td>\n",
       "    </tr>\n",
       "    <tr>\n",
       "      <th>2209856</th>\n",
       "      <td>서귀포시</td>\n",
       "      <td>50130250</td>\n",
       "      <td>W6Y722</td>\n",
       "      <td>16</td>\n",
       "      <td>26950</td>\n",
       "      <td>805</td>\n",
       "      <td>2020</td>\n",
       "      <td>12</td>\n",
       "      <td>14</td>\n",
       "      <td>Y</td>\n",
       "    </tr>\n",
       "    <tr>\n",
       "      <th>2209857</th>\n",
       "      <td>서귀포시</td>\n",
       "      <td>50130250</td>\n",
       "      <td>W6Y72A</td>\n",
       "      <td>3</td>\n",
       "      <td>17000</td>\n",
       "      <td>510</td>\n",
       "      <td>2020</td>\n",
       "      <td>12</td>\n",
       "      <td>14</td>\n",
       "      <td>Y</td>\n",
       "    </tr>\n",
       "    <tr>\n",
       "      <th>2209858</th>\n",
       "      <td>서귀포시</td>\n",
       "      <td>50130310</td>\n",
       "      <td>W6Y72B</td>\n",
       "      <td>5</td>\n",
       "      <td>5650</td>\n",
       "      <td>168</td>\n",
       "      <td>2020</td>\n",
       "      <td>12</td>\n",
       "      <td>14</td>\n",
       "      <td>Y</td>\n",
       "    </tr>\n",
       "    <tr>\n",
       "      <th>2209859</th>\n",
       "      <td>서귀포시</td>\n",
       "      <td>50130310</td>\n",
       "      <td>W6Y72C</td>\n",
       "      <td>11</td>\n",
       "      <td>20700</td>\n",
       "      <td>619</td>\n",
       "      <td>2020</td>\n",
       "      <td>12</td>\n",
       "      <td>14</td>\n",
       "      <td>Y</td>\n",
       "    </tr>\n",
       "    <tr>\n",
       "      <th>2209860</th>\n",
       "      <td>서귀포시</td>\n",
       "      <td>50130620</td>\n",
       "      <td>W6Y72D</td>\n",
       "      <td>19</td>\n",
       "      <td>103000</td>\n",
       "      <td>3086</td>\n",
       "      <td>2020</td>\n",
       "      <td>12</td>\n",
       "      <td>14</td>\n",
       "      <td>Y</td>\n",
       "    </tr>\n",
       "  </tbody>\n",
       "</table>\n",
       "<p>2209861 rows × 10 columns</p>\n",
       "</div>"
      ],
      "text/plain": [
       "         city    emd_cd em_area_cd  em_cnt    em_g  pay_amt  year  month  \\\n",
       "0         제주시  50110670     W6X062       2   15500      464  2018      1   \n",
       "1         제주시  50110540     W6X063      26   64650     1933  2018      1   \n",
       "2         제주시  50110630     W6X064      15   33500     1001  2018      1   \n",
       "3         제주시  50110610     W6X065       4    8400      252  2018      1   \n",
       "4         제주시  50110540     W6X066      21   51450     1538  2018      1   \n",
       "...       ...       ...        ...     ...     ...      ...   ...    ...   \n",
       "2209856  서귀포시  50130250     W6Y722      16   26950      805  2020     12   \n",
       "2209857  서귀포시  50130250     W6Y72A       3   17000      510  2020     12   \n",
       "2209858  서귀포시  50130310     W6Y72B       5    5650      168  2020     12   \n",
       "2209859  서귀포시  50130310     W6Y72C      11   20700      619  2020     12   \n",
       "2209860  서귀포시  50130620     W6Y72D      19  103000     3086  2020     12   \n",
       "\n",
       "         date city_XY  \n",
       "0           1       X  \n",
       "1           1       X  \n",
       "2           1       X  \n",
       "3           1       X  \n",
       "4           1       X  \n",
       "...       ...     ...  \n",
       "2209856    14       Y  \n",
       "2209857    14       Y  \n",
       "2209858    14       Y  \n",
       "2209859    14       Y  \n",
       "2209860    14       Y  \n",
       "\n",
       "[2209861 rows x 10 columns]"
      ]
     },
     "execution_count": 25,
     "metadata": {},
     "output_type": "execute_result"
    }
   ],
   "source": [
    "df_data"
   ]
  },
  {
   "cell_type": "code",
   "execution_count": 26,
   "metadata": {},
   "outputs": [],
   "source": [
    "df_data.drop('city_XY',axis='columns',inplace=True)"
   ]
  },
  {
   "cell_type": "code",
   "execution_count": 27,
   "metadata": {},
   "outputs": [
    {
     "data": {
      "text/html": [
       "<div>\n",
       "<style scoped>\n",
       "    .dataframe tbody tr th:only-of-type {\n",
       "        vertical-align: middle;\n",
       "    }\n",
       "\n",
       "    .dataframe tbody tr th {\n",
       "        vertical-align: top;\n",
       "    }\n",
       "\n",
       "    .dataframe thead th {\n",
       "        text-align: right;\n",
       "    }\n",
       "</style>\n",
       "<table border=\"1\" class=\"dataframe\">\n",
       "  <thead>\n",
       "    <tr style=\"text-align: right;\">\n",
       "      <th></th>\n",
       "      <th>city</th>\n",
       "      <th>emd_cd</th>\n",
       "      <th>em_area_cd</th>\n",
       "      <th>em_cnt</th>\n",
       "      <th>em_g</th>\n",
       "      <th>pay_amt</th>\n",
       "      <th>year</th>\n",
       "      <th>month</th>\n",
       "      <th>date</th>\n",
       "    </tr>\n",
       "  </thead>\n",
       "  <tbody>\n",
       "    <tr>\n",
       "      <th>0</th>\n",
       "      <td>제주시</td>\n",
       "      <td>50110670</td>\n",
       "      <td>W6X062</td>\n",
       "      <td>2</td>\n",
       "      <td>15500</td>\n",
       "      <td>464</td>\n",
       "      <td>2018</td>\n",
       "      <td>1</td>\n",
       "      <td>1</td>\n",
       "    </tr>\n",
       "    <tr>\n",
       "      <th>1</th>\n",
       "      <td>제주시</td>\n",
       "      <td>50110540</td>\n",
       "      <td>W6X063</td>\n",
       "      <td>26</td>\n",
       "      <td>64650</td>\n",
       "      <td>1933</td>\n",
       "      <td>2018</td>\n",
       "      <td>1</td>\n",
       "      <td>1</td>\n",
       "    </tr>\n",
       "    <tr>\n",
       "      <th>2</th>\n",
       "      <td>제주시</td>\n",
       "      <td>50110630</td>\n",
       "      <td>W6X064</td>\n",
       "      <td>15</td>\n",
       "      <td>33500</td>\n",
       "      <td>1001</td>\n",
       "      <td>2018</td>\n",
       "      <td>1</td>\n",
       "      <td>1</td>\n",
       "    </tr>\n",
       "    <tr>\n",
       "      <th>3</th>\n",
       "      <td>제주시</td>\n",
       "      <td>50110610</td>\n",
       "      <td>W6X065</td>\n",
       "      <td>4</td>\n",
       "      <td>8400</td>\n",
       "      <td>252</td>\n",
       "      <td>2018</td>\n",
       "      <td>1</td>\n",
       "      <td>1</td>\n",
       "    </tr>\n",
       "    <tr>\n",
       "      <th>4</th>\n",
       "      <td>제주시</td>\n",
       "      <td>50110540</td>\n",
       "      <td>W6X066</td>\n",
       "      <td>21</td>\n",
       "      <td>51450</td>\n",
       "      <td>1538</td>\n",
       "      <td>2018</td>\n",
       "      <td>1</td>\n",
       "      <td>1</td>\n",
       "    </tr>\n",
       "  </tbody>\n",
       "</table>\n",
       "</div>"
      ],
      "text/plain": [
       "  city    emd_cd em_area_cd  em_cnt   em_g  pay_amt  year  month  date\n",
       "0  제주시  50110670     W6X062       2  15500      464  2018      1     1\n",
       "1  제주시  50110540     W6X063      26  64650     1933  2018      1     1\n",
       "2  제주시  50110630     W6X064      15  33500     1001  2018      1     1\n",
       "3  제주시  50110610     W6X065       4   8400      252  2018      1     1\n",
       "4  제주시  50110540     W6X066      21  51450     1538  2018      1     1"
      ]
     },
     "execution_count": 27,
     "metadata": {},
     "output_type": "execute_result"
    }
   ],
   "source": [
    "df_data.head()"
   ]
  },
  {
   "cell_type": "code",
   "execution_count": 28,
   "metadata": {},
   "outputs": [],
   "source": [
    "df_data['em_area_num'] = df_data.em_area_cd.str[3:]"
   ]
  },
  {
   "cell_type": "code",
   "execution_count": 29,
   "metadata": {},
   "outputs": [
    {
     "data": {
      "text/html": [
       "<div>\n",
       "<style scoped>\n",
       "    .dataframe tbody tr th:only-of-type {\n",
       "        vertical-align: middle;\n",
       "    }\n",
       "\n",
       "    .dataframe tbody tr th {\n",
       "        vertical-align: top;\n",
       "    }\n",
       "\n",
       "    .dataframe thead th {\n",
       "        text-align: right;\n",
       "    }\n",
       "</style>\n",
       "<table border=\"1\" class=\"dataframe\">\n",
       "  <thead>\n",
       "    <tr style=\"text-align: right;\">\n",
       "      <th></th>\n",
       "      <th>city</th>\n",
       "      <th>emd_cd</th>\n",
       "      <th>em_area_cd</th>\n",
       "      <th>em_cnt</th>\n",
       "      <th>em_g</th>\n",
       "      <th>pay_amt</th>\n",
       "      <th>year</th>\n",
       "      <th>month</th>\n",
       "      <th>date</th>\n",
       "      <th>em_area_num</th>\n",
       "    </tr>\n",
       "  </thead>\n",
       "  <tbody>\n",
       "    <tr>\n",
       "      <th>0</th>\n",
       "      <td>제주시</td>\n",
       "      <td>50110670</td>\n",
       "      <td>W6X062</td>\n",
       "      <td>2</td>\n",
       "      <td>15500</td>\n",
       "      <td>464</td>\n",
       "      <td>2018</td>\n",
       "      <td>1</td>\n",
       "      <td>1</td>\n",
       "      <td>062</td>\n",
       "    </tr>\n",
       "    <tr>\n",
       "      <th>1</th>\n",
       "      <td>제주시</td>\n",
       "      <td>50110540</td>\n",
       "      <td>W6X063</td>\n",
       "      <td>26</td>\n",
       "      <td>64650</td>\n",
       "      <td>1933</td>\n",
       "      <td>2018</td>\n",
       "      <td>1</td>\n",
       "      <td>1</td>\n",
       "      <td>063</td>\n",
       "    </tr>\n",
       "    <tr>\n",
       "      <th>2</th>\n",
       "      <td>제주시</td>\n",
       "      <td>50110630</td>\n",
       "      <td>W6X064</td>\n",
       "      <td>15</td>\n",
       "      <td>33500</td>\n",
       "      <td>1001</td>\n",
       "      <td>2018</td>\n",
       "      <td>1</td>\n",
       "      <td>1</td>\n",
       "      <td>064</td>\n",
       "    </tr>\n",
       "    <tr>\n",
       "      <th>3</th>\n",
       "      <td>제주시</td>\n",
       "      <td>50110610</td>\n",
       "      <td>W6X065</td>\n",
       "      <td>4</td>\n",
       "      <td>8400</td>\n",
       "      <td>252</td>\n",
       "      <td>2018</td>\n",
       "      <td>1</td>\n",
       "      <td>1</td>\n",
       "      <td>065</td>\n",
       "    </tr>\n",
       "    <tr>\n",
       "      <th>4</th>\n",
       "      <td>제주시</td>\n",
       "      <td>50110540</td>\n",
       "      <td>W6X066</td>\n",
       "      <td>21</td>\n",
       "      <td>51450</td>\n",
       "      <td>1538</td>\n",
       "      <td>2018</td>\n",
       "      <td>1</td>\n",
       "      <td>1</td>\n",
       "      <td>066</td>\n",
       "    </tr>\n",
       "  </tbody>\n",
       "</table>\n",
       "</div>"
      ],
      "text/plain": [
       "  city    emd_cd em_area_cd  em_cnt   em_g  pay_amt  year  month  date  \\\n",
       "0  제주시  50110670     W6X062       2  15500      464  2018      1     1   \n",
       "1  제주시  50110540     W6X063      26  64650     1933  2018      1     1   \n",
       "2  제주시  50110630     W6X064      15  33500     1001  2018      1     1   \n",
       "3  제주시  50110610     W6X065       4   8400      252  2018      1     1   \n",
       "4  제주시  50110540     W6X066      21  51450     1538  2018      1     1   \n",
       "\n",
       "  em_area_num  \n",
       "0         062  \n",
       "1         063  \n",
       "2         064  \n",
       "3         065  \n",
       "4         066  "
      ]
     },
     "execution_count": 29,
     "metadata": {},
     "output_type": "execute_result"
    }
   ],
   "source": [
    "df_data.head()"
   ]
  },
  {
   "cell_type": "code",
   "execution_count": 30,
   "metadata": {},
   "outputs": [
    {
     "data": {
      "text/plain": [
       "5011    1674258\n",
       "5013     533319\n",
       "알수없음       2284\n",
       "Name: emd_cd, dtype: int64"
      ]
     },
     "execution_count": 30,
     "metadata": {},
     "output_type": "execute_result"
    }
   ],
   "source": [
    "df_data.emd_cd.str[:4].value_counts()"
   ]
  },
  {
   "cell_type": "code",
   "execution_count": 31,
   "metadata": {},
   "outputs": [
    {
     "data": {
      "text/plain": [
       "153    1276\n",
       "231    1276\n",
       "106    1276\n",
       "104    1276\n",
       "143    1276\n",
       "       ... \n",
       "13E       2\n",
       "000       1\n",
       "A38       1\n",
       "C66       1\n",
       "906       1\n",
       "Name: em_area_num, Length: 1849, dtype: int64"
      ]
     },
     "execution_count": 31,
     "metadata": {},
     "output_type": "execute_result"
    }
   ],
   "source": [
    "df_data[df_data.emd_cd.str[:4] == '5011'].em_area_num.value_counts()"
   ]
  },
  {
   "cell_type": "code",
   "execution_count": 32,
   "metadata": {},
   "outputs": [
    {
     "data": {
      "text/plain": [
       "제주시    1674258\n",
       "Name: city, dtype: int64"
      ]
     },
     "execution_count": 32,
     "metadata": {},
     "output_type": "execute_result"
    }
   ],
   "source": [
    "df_data[df_data.emd_cd.str[:4] == '5011'].city.value_counts()"
   ]
  },
  {
   "cell_type": "code",
   "execution_count": 33,
   "metadata": {
    "scrolled": true
   },
   "outputs": [
    {
     "data": {
      "text/plain": [
       "316    1277\n",
       "244    1276\n",
       "143    1276\n",
       "003    1276\n",
       "393    1276\n",
       "       ... \n",
       "197      15\n",
       "160       8\n",
       "314       3\n",
       "671       1\n",
       "669       1\n",
       "Name: em_area_num, Length: 630, dtype: int64"
      ]
     },
     "execution_count": 33,
     "metadata": {},
     "output_type": "execute_result"
    }
   ],
   "source": [
    "df_data[df_data.emd_cd.str[:4] == '5013'].em_area_num.value_counts()"
   ]
  },
  {
   "cell_type": "code",
   "execution_count": 34,
   "metadata": {},
   "outputs": [
    {
     "data": {
      "text/plain": [
       "서귀포시    533319\n",
       "Name: city, dtype: int64"
      ]
     },
     "execution_count": 34,
     "metadata": {},
     "output_type": "execute_result"
    }
   ],
   "source": [
    "df_data[df_data.emd_cd.str[:4] == '5013'].city.value_counts()"
   ]
  },
  {
   "cell_type": "markdown",
   "metadata": {},
   "source": [
    "- 제주시는 emd_cd 앞에가 5011, 서귀포시는 5013"
   ]
  },
  {
   "cell_type": "code",
   "execution_count": 35,
   "metadata": {},
   "outputs": [],
   "source": [
    "df_data['emd_back'] = df_data.emd_cd.str[4:]"
   ]
  },
  {
   "cell_type": "code",
   "execution_count": 36,
   "metadata": {},
   "outputs": [
    {
     "data": {
      "text/html": [
       "<div>\n",
       "<style scoped>\n",
       "    .dataframe tbody tr th:only-of-type {\n",
       "        vertical-align: middle;\n",
       "    }\n",
       "\n",
       "    .dataframe tbody tr th {\n",
       "        vertical-align: top;\n",
       "    }\n",
       "\n",
       "    .dataframe thead th {\n",
       "        text-align: right;\n",
       "    }\n",
       "</style>\n",
       "<table border=\"1\" class=\"dataframe\">\n",
       "  <thead>\n",
       "    <tr style=\"text-align: right;\">\n",
       "      <th></th>\n",
       "      <th>city</th>\n",
       "      <th>emd_cd</th>\n",
       "      <th>em_area_cd</th>\n",
       "      <th>em_cnt</th>\n",
       "      <th>em_g</th>\n",
       "      <th>pay_amt</th>\n",
       "      <th>year</th>\n",
       "      <th>month</th>\n",
       "      <th>date</th>\n",
       "      <th>em_area_num</th>\n",
       "      <th>emd_back</th>\n",
       "    </tr>\n",
       "  </thead>\n",
       "  <tbody>\n",
       "    <tr>\n",
       "      <th>0</th>\n",
       "      <td>제주시</td>\n",
       "      <td>50110670</td>\n",
       "      <td>W6X062</td>\n",
       "      <td>2</td>\n",
       "      <td>15500</td>\n",
       "      <td>464</td>\n",
       "      <td>2018</td>\n",
       "      <td>1</td>\n",
       "      <td>1</td>\n",
       "      <td>062</td>\n",
       "      <td>0670</td>\n",
       "    </tr>\n",
       "    <tr>\n",
       "      <th>1</th>\n",
       "      <td>제주시</td>\n",
       "      <td>50110540</td>\n",
       "      <td>W6X063</td>\n",
       "      <td>26</td>\n",
       "      <td>64650</td>\n",
       "      <td>1933</td>\n",
       "      <td>2018</td>\n",
       "      <td>1</td>\n",
       "      <td>1</td>\n",
       "      <td>063</td>\n",
       "      <td>0540</td>\n",
       "    </tr>\n",
       "    <tr>\n",
       "      <th>2</th>\n",
       "      <td>제주시</td>\n",
       "      <td>50110630</td>\n",
       "      <td>W6X064</td>\n",
       "      <td>15</td>\n",
       "      <td>33500</td>\n",
       "      <td>1001</td>\n",
       "      <td>2018</td>\n",
       "      <td>1</td>\n",
       "      <td>1</td>\n",
       "      <td>064</td>\n",
       "      <td>0630</td>\n",
       "    </tr>\n",
       "    <tr>\n",
       "      <th>3</th>\n",
       "      <td>제주시</td>\n",
       "      <td>50110610</td>\n",
       "      <td>W6X065</td>\n",
       "      <td>4</td>\n",
       "      <td>8400</td>\n",
       "      <td>252</td>\n",
       "      <td>2018</td>\n",
       "      <td>1</td>\n",
       "      <td>1</td>\n",
       "      <td>065</td>\n",
       "      <td>0610</td>\n",
       "    </tr>\n",
       "    <tr>\n",
       "      <th>4</th>\n",
       "      <td>제주시</td>\n",
       "      <td>50110540</td>\n",
       "      <td>W6X066</td>\n",
       "      <td>21</td>\n",
       "      <td>51450</td>\n",
       "      <td>1538</td>\n",
       "      <td>2018</td>\n",
       "      <td>1</td>\n",
       "      <td>1</td>\n",
       "      <td>066</td>\n",
       "      <td>0540</td>\n",
       "    </tr>\n",
       "  </tbody>\n",
       "</table>\n",
       "</div>"
      ],
      "text/plain": [
       "  city    emd_cd em_area_cd  em_cnt   em_g  pay_amt  year  month  date  \\\n",
       "0  제주시  50110670     W6X062       2  15500      464  2018      1     1   \n",
       "1  제주시  50110540     W6X063      26  64650     1933  2018      1     1   \n",
       "2  제주시  50110630     W6X064      15  33500     1001  2018      1     1   \n",
       "3  제주시  50110610     W6X065       4   8400      252  2018      1     1   \n",
       "4  제주시  50110540     W6X066      21  51450     1538  2018      1     1   \n",
       "\n",
       "  em_area_num emd_back  \n",
       "0         062     0670  \n",
       "1         063     0540  \n",
       "2         064     0630  \n",
       "3         065     0610  \n",
       "4         066     0540  "
      ]
     },
     "execution_count": 36,
     "metadata": {},
     "output_type": "execute_result"
    }
   ],
   "source": [
    "df_data.head()"
   ]
  },
  {
   "cell_type": "code",
   "execution_count": 37,
   "metadata": {},
   "outputs": [],
   "source": [
    "new_df = df_data.drop('emd_cd',axis='columns')\n",
    "new_df = new_df.drop('em_area_cd',axis='columns')"
   ]
  },
  {
   "cell_type": "code",
   "execution_count": 38,
   "metadata": {},
   "outputs": [
    {
     "data": {
      "text/html": [
       "<div>\n",
       "<style scoped>\n",
       "    .dataframe tbody tr th:only-of-type {\n",
       "        vertical-align: middle;\n",
       "    }\n",
       "\n",
       "    .dataframe tbody tr th {\n",
       "        vertical-align: top;\n",
       "    }\n",
       "\n",
       "    .dataframe thead th {\n",
       "        text-align: right;\n",
       "    }\n",
       "</style>\n",
       "<table border=\"1\" class=\"dataframe\">\n",
       "  <thead>\n",
       "    <tr style=\"text-align: right;\">\n",
       "      <th></th>\n",
       "      <th>city</th>\n",
       "      <th>em_cnt</th>\n",
       "      <th>em_g</th>\n",
       "      <th>pay_amt</th>\n",
       "      <th>year</th>\n",
       "      <th>month</th>\n",
       "      <th>date</th>\n",
       "      <th>em_area_num</th>\n",
       "      <th>emd_back</th>\n",
       "    </tr>\n",
       "  </thead>\n",
       "  <tbody>\n",
       "    <tr>\n",
       "      <th>0</th>\n",
       "      <td>제주시</td>\n",
       "      <td>2</td>\n",
       "      <td>15500</td>\n",
       "      <td>464</td>\n",
       "      <td>2018</td>\n",
       "      <td>1</td>\n",
       "      <td>1</td>\n",
       "      <td>062</td>\n",
       "      <td>0670</td>\n",
       "    </tr>\n",
       "    <tr>\n",
       "      <th>1</th>\n",
       "      <td>제주시</td>\n",
       "      <td>26</td>\n",
       "      <td>64650</td>\n",
       "      <td>1933</td>\n",
       "      <td>2018</td>\n",
       "      <td>1</td>\n",
       "      <td>1</td>\n",
       "      <td>063</td>\n",
       "      <td>0540</td>\n",
       "    </tr>\n",
       "    <tr>\n",
       "      <th>2</th>\n",
       "      <td>제주시</td>\n",
       "      <td>15</td>\n",
       "      <td>33500</td>\n",
       "      <td>1001</td>\n",
       "      <td>2018</td>\n",
       "      <td>1</td>\n",
       "      <td>1</td>\n",
       "      <td>064</td>\n",
       "      <td>0630</td>\n",
       "    </tr>\n",
       "    <tr>\n",
       "      <th>3</th>\n",
       "      <td>제주시</td>\n",
       "      <td>4</td>\n",
       "      <td>8400</td>\n",
       "      <td>252</td>\n",
       "      <td>2018</td>\n",
       "      <td>1</td>\n",
       "      <td>1</td>\n",
       "      <td>065</td>\n",
       "      <td>0610</td>\n",
       "    </tr>\n",
       "    <tr>\n",
       "      <th>4</th>\n",
       "      <td>제주시</td>\n",
       "      <td>21</td>\n",
       "      <td>51450</td>\n",
       "      <td>1538</td>\n",
       "      <td>2018</td>\n",
       "      <td>1</td>\n",
       "      <td>1</td>\n",
       "      <td>066</td>\n",
       "      <td>0540</td>\n",
       "    </tr>\n",
       "    <tr>\n",
       "      <th>...</th>\n",
       "      <td>...</td>\n",
       "      <td>...</td>\n",
       "      <td>...</td>\n",
       "      <td>...</td>\n",
       "      <td>...</td>\n",
       "      <td>...</td>\n",
       "      <td>...</td>\n",
       "      <td>...</td>\n",
       "      <td>...</td>\n",
       "    </tr>\n",
       "    <tr>\n",
       "      <th>2209856</th>\n",
       "      <td>서귀포시</td>\n",
       "      <td>16</td>\n",
       "      <td>26950</td>\n",
       "      <td>805</td>\n",
       "      <td>2020</td>\n",
       "      <td>12</td>\n",
       "      <td>14</td>\n",
       "      <td>722</td>\n",
       "      <td>0250</td>\n",
       "    </tr>\n",
       "    <tr>\n",
       "      <th>2209857</th>\n",
       "      <td>서귀포시</td>\n",
       "      <td>3</td>\n",
       "      <td>17000</td>\n",
       "      <td>510</td>\n",
       "      <td>2020</td>\n",
       "      <td>12</td>\n",
       "      <td>14</td>\n",
       "      <td>72A</td>\n",
       "      <td>0250</td>\n",
       "    </tr>\n",
       "    <tr>\n",
       "      <th>2209858</th>\n",
       "      <td>서귀포시</td>\n",
       "      <td>5</td>\n",
       "      <td>5650</td>\n",
       "      <td>168</td>\n",
       "      <td>2020</td>\n",
       "      <td>12</td>\n",
       "      <td>14</td>\n",
       "      <td>72B</td>\n",
       "      <td>0310</td>\n",
       "    </tr>\n",
       "    <tr>\n",
       "      <th>2209859</th>\n",
       "      <td>서귀포시</td>\n",
       "      <td>11</td>\n",
       "      <td>20700</td>\n",
       "      <td>619</td>\n",
       "      <td>2020</td>\n",
       "      <td>12</td>\n",
       "      <td>14</td>\n",
       "      <td>72C</td>\n",
       "      <td>0310</td>\n",
       "    </tr>\n",
       "    <tr>\n",
       "      <th>2209860</th>\n",
       "      <td>서귀포시</td>\n",
       "      <td>19</td>\n",
       "      <td>103000</td>\n",
       "      <td>3086</td>\n",
       "      <td>2020</td>\n",
       "      <td>12</td>\n",
       "      <td>14</td>\n",
       "      <td>72D</td>\n",
       "      <td>0620</td>\n",
       "    </tr>\n",
       "  </tbody>\n",
       "</table>\n",
       "<p>2209861 rows × 9 columns</p>\n",
       "</div>"
      ],
      "text/plain": [
       "         city  em_cnt    em_g  pay_amt  year  month  date em_area_num emd_back\n",
       "0         제주시       2   15500      464  2018      1     1         062     0670\n",
       "1         제주시      26   64650     1933  2018      1     1         063     0540\n",
       "2         제주시      15   33500     1001  2018      1     1         064     0630\n",
       "3         제주시       4    8400      252  2018      1     1         065     0610\n",
       "4         제주시      21   51450     1538  2018      1     1         066     0540\n",
       "...       ...     ...     ...      ...   ...    ...   ...         ...      ...\n",
       "2209856  서귀포시      16   26950      805  2020     12    14         722     0250\n",
       "2209857  서귀포시       3   17000      510  2020     12    14         72A     0250\n",
       "2209858  서귀포시       5    5650      168  2020     12    14         72B     0310\n",
       "2209859  서귀포시      11   20700      619  2020     12    14         72C     0310\n",
       "2209860  서귀포시      19  103000     3086  2020     12    14         72D     0620\n",
       "\n",
       "[2209861 rows x 9 columns]"
      ]
     },
     "execution_count": 38,
     "metadata": {},
     "output_type": "execute_result"
    }
   ],
   "source": [
    "new_df"
   ]
  },
  {
   "cell_type": "code",
   "execution_count": 39,
   "metadata": {},
   "outputs": [],
   "source": [
    "new_df['emd_back'] = new_df.emd_back.replace('','0')"
   ]
  },
  {
   "cell_type": "code",
   "execution_count": 40,
   "metadata": {},
   "outputs": [
    {
     "data": {
      "text/html": [
       "<div>\n",
       "<style scoped>\n",
       "    .dataframe tbody tr th:only-of-type {\n",
       "        vertical-align: middle;\n",
       "    }\n",
       "\n",
       "    .dataframe tbody tr th {\n",
       "        vertical-align: top;\n",
       "    }\n",
       "\n",
       "    .dataframe thead th {\n",
       "        text-align: right;\n",
       "    }\n",
       "</style>\n",
       "<table border=\"1\" class=\"dataframe\">\n",
       "  <thead>\n",
       "    <tr style=\"text-align: right;\">\n",
       "      <th></th>\n",
       "      <th>city</th>\n",
       "      <th>em_cnt</th>\n",
       "      <th>em_g</th>\n",
       "      <th>pay_amt</th>\n",
       "      <th>year</th>\n",
       "      <th>month</th>\n",
       "      <th>date</th>\n",
       "      <th>em_area_num</th>\n",
       "      <th>emd_back</th>\n",
       "    </tr>\n",
       "  </thead>\n",
       "  <tbody>\n",
       "    <tr>\n",
       "      <th>0</th>\n",
       "      <td>제주시</td>\n",
       "      <td>2</td>\n",
       "      <td>15500</td>\n",
       "      <td>464</td>\n",
       "      <td>2018</td>\n",
       "      <td>1</td>\n",
       "      <td>1</td>\n",
       "      <td>062</td>\n",
       "      <td>0670</td>\n",
       "    </tr>\n",
       "    <tr>\n",
       "      <th>1</th>\n",
       "      <td>제주시</td>\n",
       "      <td>26</td>\n",
       "      <td>64650</td>\n",
       "      <td>1933</td>\n",
       "      <td>2018</td>\n",
       "      <td>1</td>\n",
       "      <td>1</td>\n",
       "      <td>063</td>\n",
       "      <td>0540</td>\n",
       "    </tr>\n",
       "    <tr>\n",
       "      <th>2</th>\n",
       "      <td>제주시</td>\n",
       "      <td>15</td>\n",
       "      <td>33500</td>\n",
       "      <td>1001</td>\n",
       "      <td>2018</td>\n",
       "      <td>1</td>\n",
       "      <td>1</td>\n",
       "      <td>064</td>\n",
       "      <td>0630</td>\n",
       "    </tr>\n",
       "    <tr>\n",
       "      <th>3</th>\n",
       "      <td>제주시</td>\n",
       "      <td>4</td>\n",
       "      <td>8400</td>\n",
       "      <td>252</td>\n",
       "      <td>2018</td>\n",
       "      <td>1</td>\n",
       "      <td>1</td>\n",
       "      <td>065</td>\n",
       "      <td>0610</td>\n",
       "    </tr>\n",
       "    <tr>\n",
       "      <th>4</th>\n",
       "      <td>제주시</td>\n",
       "      <td>21</td>\n",
       "      <td>51450</td>\n",
       "      <td>1538</td>\n",
       "      <td>2018</td>\n",
       "      <td>1</td>\n",
       "      <td>1</td>\n",
       "      <td>066</td>\n",
       "      <td>0540</td>\n",
       "    </tr>\n",
       "  </tbody>\n",
       "</table>\n",
       "</div>"
      ],
      "text/plain": [
       "  city  em_cnt   em_g  pay_amt  year  month  date em_area_num emd_back\n",
       "0  제주시       2  15500      464  2018      1     1         062     0670\n",
       "1  제주시      26  64650     1933  2018      1     1         063     0540\n",
       "2  제주시      15  33500     1001  2018      1     1         064     0630\n",
       "3  제주시       4   8400      252  2018      1     1         065     0610\n",
       "4  제주시      21  51450     1538  2018      1     1         066     0540"
      ]
     },
     "execution_count": 40,
     "metadata": {},
     "output_type": "execute_result"
    }
   ],
   "source": [
    "new_df.head()"
   ]
  },
  {
   "cell_type": "code",
   "execution_count": 41,
   "metadata": {},
   "outputs": [],
   "source": [
    "#new_df['emd_back'] = pd.to_numeric(new_df['emd_back'])"
   ]
  },
  {
   "cell_type": "code",
   "execution_count": 42,
   "metadata": {},
   "outputs": [
    {
     "data": {
      "text/html": [
       "<div>\n",
       "<style scoped>\n",
       "    .dataframe tbody tr th:only-of-type {\n",
       "        vertical-align: middle;\n",
       "    }\n",
       "\n",
       "    .dataframe tbody tr th {\n",
       "        vertical-align: top;\n",
       "    }\n",
       "\n",
       "    .dataframe thead th {\n",
       "        text-align: right;\n",
       "    }\n",
       "</style>\n",
       "<table border=\"1\" class=\"dataframe\">\n",
       "  <thead>\n",
       "    <tr style=\"text-align: right;\">\n",
       "      <th></th>\n",
       "      <th>city</th>\n",
       "      <th>em_cnt</th>\n",
       "      <th>em_g</th>\n",
       "      <th>pay_amt</th>\n",
       "      <th>year</th>\n",
       "      <th>month</th>\n",
       "      <th>date</th>\n",
       "      <th>em_area_num</th>\n",
       "      <th>emd_back</th>\n",
       "    </tr>\n",
       "  </thead>\n",
       "  <tbody>\n",
       "    <tr>\n",
       "      <th>0</th>\n",
       "      <td>제주시</td>\n",
       "      <td>2</td>\n",
       "      <td>15500</td>\n",
       "      <td>464</td>\n",
       "      <td>2018</td>\n",
       "      <td>1</td>\n",
       "      <td>1</td>\n",
       "      <td>062</td>\n",
       "      <td>0670</td>\n",
       "    </tr>\n",
       "    <tr>\n",
       "      <th>1</th>\n",
       "      <td>제주시</td>\n",
       "      <td>26</td>\n",
       "      <td>64650</td>\n",
       "      <td>1933</td>\n",
       "      <td>2018</td>\n",
       "      <td>1</td>\n",
       "      <td>1</td>\n",
       "      <td>063</td>\n",
       "      <td>0540</td>\n",
       "    </tr>\n",
       "    <tr>\n",
       "      <th>2</th>\n",
       "      <td>제주시</td>\n",
       "      <td>15</td>\n",
       "      <td>33500</td>\n",
       "      <td>1001</td>\n",
       "      <td>2018</td>\n",
       "      <td>1</td>\n",
       "      <td>1</td>\n",
       "      <td>064</td>\n",
       "      <td>0630</td>\n",
       "    </tr>\n",
       "    <tr>\n",
       "      <th>3</th>\n",
       "      <td>제주시</td>\n",
       "      <td>4</td>\n",
       "      <td>8400</td>\n",
       "      <td>252</td>\n",
       "      <td>2018</td>\n",
       "      <td>1</td>\n",
       "      <td>1</td>\n",
       "      <td>065</td>\n",
       "      <td>0610</td>\n",
       "    </tr>\n",
       "    <tr>\n",
       "      <th>4</th>\n",
       "      <td>제주시</td>\n",
       "      <td>21</td>\n",
       "      <td>51450</td>\n",
       "      <td>1538</td>\n",
       "      <td>2018</td>\n",
       "      <td>1</td>\n",
       "      <td>1</td>\n",
       "      <td>066</td>\n",
       "      <td>0540</td>\n",
       "    </tr>\n",
       "  </tbody>\n",
       "</table>\n",
       "</div>"
      ],
      "text/plain": [
       "  city  em_cnt   em_g  pay_amt  year  month  date em_area_num emd_back\n",
       "0  제주시       2  15500      464  2018      1     1         062     0670\n",
       "1  제주시      26  64650     1933  2018      1     1         063     0540\n",
       "2  제주시      15  33500     1001  2018      1     1         064     0630\n",
       "3  제주시       4   8400      252  2018      1     1         065     0610\n",
       "4  제주시      21  51450     1538  2018      1     1         066     0540"
      ]
     },
     "execution_count": 42,
     "metadata": {},
     "output_type": "execute_result"
    }
   ],
   "source": [
    "new_df.head()"
   ]
  },
  {
   "cell_type": "code",
   "execution_count": 43,
   "metadata": {
    "scrolled": true
   },
   "outputs": [
    {
     "data": {
      "text/plain": [
       "0660    185468\n",
       "0540    155683\n",
       "0650    141628\n",
       "0630    134637\n",
       "0253    132417\n",
       "0610    128383\n",
       "0600    124879\n",
       "0250    124473\n",
       "0520    108638\n",
       "0259     98944\n",
       "0640     94084\n",
       "0580     90610\n",
       "0310     86054\n",
       "0570     83247\n",
       "0670     78619\n",
       "0590     69247\n",
       "0620     55502\n",
       "0560     54272\n",
       "0550     49650\n",
       "0256     44374\n",
       "0680     39289\n",
       "0530     36792\n",
       "0320     32660\n",
       "0690     29050\n",
       "0510     28977\n",
       "0         2284\n",
       "Name: emd_back, dtype: int64"
      ]
     },
     "execution_count": 43,
     "metadata": {},
     "output_type": "execute_result"
    }
   ],
   "source": [
    "new_df.emd_back.value_counts()"
   ]
  },
  {
   "cell_type": "code",
   "execution_count": 44,
   "metadata": {},
   "outputs": [
    {
     "name": "stderr",
     "output_type": "stream",
     "text": [
      "<ipython-input-44-13a19f0ac9e7>:1: UserWarning: Boolean Series key will be reindexed to match DataFrame index.\n",
      "  new_df[new_df.emd_back=='0250'][new_df.city=='제주시'].em_area_num.value_counts()\n"
     ]
    },
    {
     "data": {
      "text/plain": [
       "EC7    588\n",
       "ED3    588\n",
       "EC3    588\n",
       "EC4    587\n",
       "ED2    587\n",
       "      ... \n",
       "EE4    258\n",
       "1B9    221\n",
       "1D7    115\n",
       "16D     18\n",
       "17E      3\n",
       "Name: em_area_num, Length: 112, dtype: int64"
      ]
     },
     "execution_count": 44,
     "metadata": {},
     "output_type": "execute_result"
    }
   ],
   "source": [
    "new_df[new_df.emd_back=='0250'][new_df.city=='제주시'].em_area_num.value_counts()"
   ]
  },
  {
   "cell_type": "code",
   "execution_count": 45,
   "metadata": {},
   "outputs": [
    {
     "name": "stderr",
     "output_type": "stream",
     "text": [
      "<ipython-input-45-6df9d92479d4>:1: UserWarning: Boolean Series key will be reindexed to match DataFrame index.\n",
      "  new_df[new_df.emd_back=='0250'][new_df.city=='서귀포시'].em_area_num.value_counts()\n"
     ]
    },
    {
     "data": {
      "text/plain": [
       "456    1276\n",
       "453    1266\n",
       "415    1236\n",
       "449    1235\n",
       "423    1235\n",
       "       ... \n",
       "71D     351\n",
       "722     343\n",
       "71B     270\n",
       "633     235\n",
       "72A     216\n",
       "Name: em_area_num, Length: 84, dtype: int64"
      ]
     },
     "execution_count": 45,
     "metadata": {},
     "output_type": "execute_result"
    }
   ],
   "source": [
    "new_df[new_df.emd_back=='0250'][new_df.city=='서귀포시'].em_area_num.value_counts()"
   ]
  },
  {
   "cell_type": "code",
   "execution_count": 46,
   "metadata": {},
   "outputs": [
    {
     "name": "stderr",
     "output_type": "stream",
     "text": [
      "<ipython-input-46-e0210663e1ed>:1: UserWarning: Boolean Series key will be reindexed to match DataFrame index.\n",
      "  new_df[new_df.emd_back=='0250'][new_df.city=='서귀포시'].em_area_num.str[0].value_counts()\n"
     ]
    },
    {
     "data": {
      "text/plain": [
       "6    34311\n",
       "4    28738\n",
       "3     3236\n",
       "7     1532\n",
       "0      983\n",
       "5      890\n",
       "Name: em_area_num, dtype: int64"
      ]
     },
     "execution_count": 46,
     "metadata": {},
     "output_type": "execute_result"
    }
   ],
   "source": [
    "new_df[new_df.emd_back=='0250'][new_df.city=='서귀포시'].em_area_num.str[0].value_counts()"
   ]
  },
  {
   "cell_type": "code",
   "execution_count": 47,
   "metadata": {},
   "outputs": [
    {
     "name": "stderr",
     "output_type": "stream",
     "text": [
      "<ipython-input-47-dfb1bc531825>:1: UserWarning: Boolean Series key will be reindexed to match DataFrame index.\n",
      "  new_df[new_df.emd_back=='0250'][new_df.city=='제주시'].em_area_num.str[0].value_counts()\n"
     ]
    },
    {
     "data": {
      "text/plain": [
       "E    28872\n",
       "1    13524\n",
       "F    11865\n",
       "2      522\n",
       "Name: em_area_num, dtype: int64"
      ]
     },
     "execution_count": 47,
     "metadata": {},
     "output_type": "execute_result"
    }
   ],
   "source": [
    "new_df[new_df.emd_back=='0250'][new_df.city=='제주시'].em_area_num.str[0].value_counts()"
   ]
  },
  {
   "cell_type": "code",
   "execution_count": 48,
   "metadata": {},
   "outputs": [
    {
     "data": {
      "text/plain": [
       "A    153954\n",
       "1    148585\n",
       "2    127200\n",
       "5    117910\n",
       "3    116829\n",
       "6    115917\n",
       "4    115419\n",
       "7    115403\n",
       "8    113656\n",
       "9    113296\n",
       "B    110137\n",
       "E     92228\n",
       "C     79299\n",
       "F     75612\n",
       "D     41210\n",
       "0     37713\n",
       "a         9\n",
       "Name: em_area_num, dtype: int64"
      ]
     },
     "execution_count": 48,
     "metadata": {},
     "output_type": "execute_result"
    }
   ],
   "source": [
    "new_df[new_df.city=='제주시'].em_area_num.str[0].value_counts()"
   ]
  },
  {
   "cell_type": "code",
   "execution_count": 49,
   "metadata": {},
   "outputs": [
    {
     "data": {
      "text/plain": [
       "4    1170\n",
       "7     799\n",
       "0     164\n",
       "E      83\n",
       "1      49\n",
       "a       9\n",
       "6       4\n",
       "2       4\n",
       "A       2\n",
       "Name: em_area_num, dtype: int64"
      ]
     },
     "execution_count": 49,
     "metadata": {},
     "output_type": "execute_result"
    }
   ],
   "source": [
    "new_df[new_df.emd_back=='0'].em_area_num.str[0].value_counts()"
   ]
  },
  {
   "cell_type": "code",
   "execution_count": 50,
   "metadata": {},
   "outputs": [
    {
     "data": {
      "text/plain": [
       "서귀포시    2165\n",
       "제주시      119\n",
       "Name: city, dtype: int64"
      ]
     },
     "execution_count": 50,
     "metadata": {},
     "output_type": "execute_result"
    }
   ],
   "source": [
    "new_df[new_df.emd_back=='0'].city.value_counts()"
   ]
  },
  {
   "cell_type": "code",
   "execution_count": 51,
   "metadata": {},
   "outputs": [
    {
     "data": {
      "text/plain": [
       "402    395\n",
       "407    383\n",
       "409    379\n",
       "71C    352\n",
       "01     162\n",
       "72E    134\n",
       "730    104\n",
       "E5D     83\n",
       "734     44\n",
       "102     37\n",
       "737     22\n",
       "739     22\n",
       "740     22\n",
       "736     22\n",
       "738     22\n",
       "746     14\n",
       "744     14\n",
       "745     14\n",
       "733     13\n",
       "1DE      7\n",
       "a65      6\n",
       "1        5\n",
       "46B      4\n",
       "223      4\n",
       "66A      4\n",
       "46C      4\n",
       "46A      4\n",
       "0        2\n",
       "a67      2\n",
       "A32      2\n",
       "a75      1\n",
       "4        1\n",
       "Name: em_area_num, dtype: int64"
      ]
     },
     "execution_count": 51,
     "metadata": {},
     "output_type": "execute_result"
    }
   ],
   "source": [
    "new_df[new_df.emd_back=='0'].em_area_num.value_counts()"
   ]
  },
  {
   "cell_type": "markdown",
   "metadata": {},
   "source": [
    "## 위의 추측으로 알수없음 emd_back 채워주기"
   ]
  },
  {
   "cell_type": "code",
   "execution_count": 52,
   "metadata": {},
   "outputs": [
    {
     "data": {
      "text/plain": [
       "0520    1271\n",
       "0        395\n",
       "Name: emd_back, dtype: int64"
      ]
     },
     "execution_count": 52,
     "metadata": {},
     "output_type": "execute_result"
    }
   ],
   "source": [
    "new_df[new_df.em_area_num=='402'].emd_back.value_counts()"
   ]
  },
  {
   "cell_type": "code",
   "execution_count": 53,
   "metadata": {},
   "outputs": [
    {
     "name": "stderr",
     "output_type": "stream",
     "text": [
      "<ipython-input-53-5c84fec2fbf7>:1: UserWarning: Boolean Series key will be reindexed to match DataFrame index.\n",
      "  new_df[new_df.em_area_num=='402'][new_df.city=='서귀포시'].emd_back.value_counts()\n"
     ]
    },
    {
     "data": {
      "text/plain": [
       "0    395\n",
       "Name: emd_back, dtype: int64"
      ]
     },
     "execution_count": 53,
     "metadata": {},
     "output_type": "execute_result"
    }
   ],
   "source": [
    "new_df[new_df.em_area_num=='402'][new_df.city=='서귀포시'].emd_back.value_counts()"
   ]
  },
  {
   "cell_type": "code",
   "execution_count": 54,
   "metadata": {},
   "outputs": [
    {
     "name": "stderr",
     "output_type": "stream",
     "text": [
      "<ipython-input-54-c193e1cb6037>:1: UserWarning: Boolean Series key will be reindexed to match DataFrame index.\n",
      "  new_df[new_df.em_area_num=='402'][new_df.city=='제주시'].emd_back.value_counts()\n"
     ]
    },
    {
     "data": {
      "text/plain": [
       "0520    1271\n",
       "Name: emd_back, dtype: int64"
      ]
     },
     "execution_count": 54,
     "metadata": {},
     "output_type": "execute_result"
    }
   ],
   "source": [
    "new_df[new_df.em_area_num=='402'][new_df.city=='제주시'].emd_back.value_counts()"
   ]
  },
  {
   "cell_type": "code",
   "execution_count": 55,
   "metadata": {},
   "outputs": [
    {
     "data": {
      "text/html": [
       "<div>\n",
       "<style scoped>\n",
       "    .dataframe tbody tr th:only-of-type {\n",
       "        vertical-align: middle;\n",
       "    }\n",
       "\n",
       "    .dataframe tbody tr th {\n",
       "        vertical-align: top;\n",
       "    }\n",
       "\n",
       "    .dataframe thead th {\n",
       "        text-align: right;\n",
       "    }\n",
       "</style>\n",
       "<table border=\"1\" class=\"dataframe\">\n",
       "  <thead>\n",
       "    <tr style=\"text-align: right;\">\n",
       "      <th></th>\n",
       "      <th>city</th>\n",
       "      <th>em_cnt</th>\n",
       "      <th>em_g</th>\n",
       "      <th>pay_amt</th>\n",
       "      <th>year</th>\n",
       "      <th>month</th>\n",
       "      <th>date</th>\n",
       "      <th>em_area_num</th>\n",
       "      <th>emd_back</th>\n",
       "    </tr>\n",
       "  </thead>\n",
       "  <tbody>\n",
       "    <tr>\n",
       "      <th>0</th>\n",
       "      <td>제주시</td>\n",
       "      <td>2</td>\n",
       "      <td>15500</td>\n",
       "      <td>464</td>\n",
       "      <td>2018</td>\n",
       "      <td>1</td>\n",
       "      <td>1</td>\n",
       "      <td>062</td>\n",
       "      <td>0670</td>\n",
       "    </tr>\n",
       "    <tr>\n",
       "      <th>1</th>\n",
       "      <td>제주시</td>\n",
       "      <td>26</td>\n",
       "      <td>64650</td>\n",
       "      <td>1933</td>\n",
       "      <td>2018</td>\n",
       "      <td>1</td>\n",
       "      <td>1</td>\n",
       "      <td>063</td>\n",
       "      <td>0540</td>\n",
       "    </tr>\n",
       "    <tr>\n",
       "      <th>2</th>\n",
       "      <td>제주시</td>\n",
       "      <td>15</td>\n",
       "      <td>33500</td>\n",
       "      <td>1001</td>\n",
       "      <td>2018</td>\n",
       "      <td>1</td>\n",
       "      <td>1</td>\n",
       "      <td>064</td>\n",
       "      <td>0630</td>\n",
       "    </tr>\n",
       "    <tr>\n",
       "      <th>3</th>\n",
       "      <td>제주시</td>\n",
       "      <td>4</td>\n",
       "      <td>8400</td>\n",
       "      <td>252</td>\n",
       "      <td>2018</td>\n",
       "      <td>1</td>\n",
       "      <td>1</td>\n",
       "      <td>065</td>\n",
       "      <td>0610</td>\n",
       "    </tr>\n",
       "    <tr>\n",
       "      <th>4</th>\n",
       "      <td>제주시</td>\n",
       "      <td>21</td>\n",
       "      <td>51450</td>\n",
       "      <td>1538</td>\n",
       "      <td>2018</td>\n",
       "      <td>1</td>\n",
       "      <td>1</td>\n",
       "      <td>066</td>\n",
       "      <td>0540</td>\n",
       "    </tr>\n",
       "  </tbody>\n",
       "</table>\n",
       "</div>"
      ],
      "text/plain": [
       "  city  em_cnt   em_g  pay_amt  year  month  date em_area_num emd_back\n",
       "0  제주시       2  15500      464  2018      1     1         062     0670\n",
       "1  제주시      26  64650     1933  2018      1     1         063     0540\n",
       "2  제주시      15  33500     1001  2018      1     1         064     0630\n",
       "3  제주시       4   8400      252  2018      1     1         065     0610\n",
       "4  제주시      21  51450     1538  2018      1     1         066     0540"
      ]
     },
     "execution_count": 55,
     "metadata": {},
     "output_type": "execute_result"
    }
   ],
   "source": [
    "new_df.head()"
   ]
  },
  {
   "cell_type": "markdown",
   "metadata": {},
   "source": [
    "### 일단 임의로 0대신 0520 넣는다. (서귀포시의 0520이 누락되었다는 가정하에)"
   ]
  },
  {
   "cell_type": "code",
   "execution_count": 77,
   "metadata": {},
   "outputs": [],
   "source": [
    "def put(x):\n",
    "    if x['em_area_num'] == '402' or x['em_area_num'] == '407' or x['em_area_num']=='409':\n",
    "        return '0520'\n",
    "    else:\n",
    "        return x['emd_back']\n",
    "    "
   ]
  },
  {
   "cell_type": "code",
   "execution_count": 78,
   "metadata": {},
   "outputs": [],
   "source": [
    "new_df.emd_back = new_df.apply(lambda x : put(x), axis=1)"
   ]
  },
  {
   "cell_type": "code",
   "execution_count": null,
   "metadata": {},
   "outputs": [],
   "source": [
    "new_df[new_df.em_area_num=='407'].emd_back.value_counts()"
   ]
  },
  {
   "cell_type": "code",
   "execution_count": null,
   "metadata": {},
   "outputs": [],
   "source": [
    "new_df[new_df.em_area_num=='407'][new_df.city=='서귀포시'].emd_back.value_counts()"
   ]
  },
  {
   "cell_type": "code",
   "execution_count": null,
   "metadata": {},
   "outputs": [],
   "source": [
    "new_df[new_df.em_area_num=='407'][new_df.city=='제주시'].emd_back.value_counts()"
   ]
  },
  {
   "cell_type": "code",
   "execution_count": null,
   "metadata": {},
   "outputs": [],
   "source": [
    "new_df[new_df.em_area_num=='409'].emd_back.value_counts()"
   ]
  },
  {
   "cell_type": "code",
   "execution_count": null,
   "metadata": {},
   "outputs": [],
   "source": [
    "new_df[new_df.em_area_num=='409'].city.value_counts()"
   ]
  },
  {
   "cell_type": "code",
   "execution_count": null,
   "metadata": {},
   "outputs": [],
   "source": [
    "new_df[new_df.em_area_num=='71C'].emd_back.value_counts()"
   ]
  },
  {
   "cell_type": "code",
   "execution_count": null,
   "metadata": {},
   "outputs": [],
   "source": [
    "new_df[new_df.em_area_num=='71C'].city.value_counts()"
   ]
  },
  {
   "cell_type": "code",
   "execution_count": null,
   "metadata": {},
   "outputs": [],
   "source": [
    "new_df[new_df.em_area_num=='01'].emd_back.value_counts()"
   ]
  },
  {
   "cell_type": "code",
   "execution_count": null,
   "metadata": {},
   "outputs": [],
   "source": [
    "new_df[new_df.emd_back=='0'].city.value_counts()"
   ]
  },
  {
   "cell_type": "code",
   "execution_count": null,
   "metadata": {},
   "outputs": [],
   "source": [
    "new_df[new_df.emd_back=='0'].em_area_num.value_counts()"
   ]
  },
  {
   "cell_type": "markdown",
   "metadata": {},
   "source": [
    "## 평균 배출 칼럼 추가"
   ]
  },
  {
   "cell_type": "code",
   "execution_count": 62,
   "metadata": {},
   "outputs": [],
   "source": [
    "def makeAvg(x):\n",
    "    return round(x['em_g'] / x['em_cnt'],2)"
   ]
  },
  {
   "cell_type": "code",
   "execution_count": 63,
   "metadata": {},
   "outputs": [],
   "source": [
    "new_df['em_avg'] = new_df.apply(lambda x : makeAvg(x),axis=1)"
   ]
  },
  {
   "cell_type": "code",
   "execution_count": null,
   "metadata": {},
   "outputs": [],
   "source": [
    "new_df.head()"
   ]
  },
  {
   "cell_type": "markdown",
   "metadata": {},
   "source": [
    "## 쓰레기 양"
   ]
  },
  {
   "cell_type": "code",
   "execution_count": null,
   "metadata": {},
   "outputs": [],
   "source": [
    "new_df"
   ]
  },
  {
   "cell_type": "markdown",
   "metadata": {},
   "source": [
    "### 행정동 별"
   ]
  },
  {
   "cell_type": "code",
   "execution_count": null,
   "metadata": {},
   "outputs": [],
   "source": [
    "plt.xticks(rotation = -45)\n",
    "sns.barplot(x='emd_back',y='em_g',hue='city',data=new_df)"
   ]
  },
  {
   "cell_type": "markdown",
   "metadata": {},
   "source": [
    "### 배출거점지역별"
   ]
  },
  {
   "cell_type": "code",
   "execution_count": 79,
   "metadata": {},
   "outputs": [
    {
     "ename": "KeyboardInterrupt",
     "evalue": "",
     "output_type": "error",
     "traceback": [
      "\u001b[1;31m---------------------------------------------------------------------------\u001b[0m",
      "\u001b[1;31mKeyboardInterrupt\u001b[0m                         Traceback (most recent call last)",
      "\u001b[1;32m<ipython-input-79-19030931e713>\u001b[0m in \u001b[0;36m<module>\u001b[1;34m\u001b[0m\n\u001b[0;32m      1\u001b[0m \u001b[0mplt\u001b[0m\u001b[1;33m.\u001b[0m\u001b[0mxticks\u001b[0m\u001b[1;33m(\u001b[0m\u001b[0mrotation\u001b[0m \u001b[1;33m=\u001b[0m \u001b[1;33m-\u001b[0m\u001b[1;36m45\u001b[0m\u001b[1;33m)\u001b[0m\u001b[1;33m\u001b[0m\u001b[1;33m\u001b[0m\u001b[0m\n\u001b[1;32m----> 2\u001b[1;33m \u001b[0msns\u001b[0m\u001b[1;33m.\u001b[0m\u001b[0mbarplot\u001b[0m\u001b[1;33m(\u001b[0m\u001b[0mx\u001b[0m\u001b[1;33m=\u001b[0m\u001b[1;34m'em_area_num'\u001b[0m\u001b[1;33m,\u001b[0m\u001b[0my\u001b[0m\u001b[1;33m=\u001b[0m\u001b[1;34m'em_g'\u001b[0m\u001b[1;33m,\u001b[0m\u001b[0mhue\u001b[0m\u001b[1;33m=\u001b[0m\u001b[1;34m'city'\u001b[0m\u001b[1;33m,\u001b[0m\u001b[0mdata\u001b[0m\u001b[1;33m=\u001b[0m\u001b[0mnew_df\u001b[0m\u001b[1;33m)\u001b[0m\u001b[1;33m\u001b[0m\u001b[1;33m\u001b[0m\u001b[0m\n\u001b[0m",
      "\u001b[1;32m~\\anaconda3\\lib\\site-packages\\seaborn\\_decorators.py\u001b[0m in \u001b[0;36minner_f\u001b[1;34m(*args, **kwargs)\u001b[0m\n\u001b[0;32m     44\u001b[0m             )\n\u001b[0;32m     45\u001b[0m         \u001b[0mkwargs\u001b[0m\u001b[1;33m.\u001b[0m\u001b[0mupdate\u001b[0m\u001b[1;33m(\u001b[0m\u001b[1;33m{\u001b[0m\u001b[0mk\u001b[0m\u001b[1;33m:\u001b[0m \u001b[0marg\u001b[0m \u001b[1;32mfor\u001b[0m \u001b[0mk\u001b[0m\u001b[1;33m,\u001b[0m \u001b[0marg\u001b[0m \u001b[1;32min\u001b[0m \u001b[0mzip\u001b[0m\u001b[1;33m(\u001b[0m\u001b[0msig\u001b[0m\u001b[1;33m.\u001b[0m\u001b[0mparameters\u001b[0m\u001b[1;33m,\u001b[0m \u001b[0margs\u001b[0m\u001b[1;33m)\u001b[0m\u001b[1;33m}\u001b[0m\u001b[1;33m)\u001b[0m\u001b[1;33m\u001b[0m\u001b[1;33m\u001b[0m\u001b[0m\n\u001b[1;32m---> 46\u001b[1;33m         \u001b[1;32mreturn\u001b[0m \u001b[0mf\u001b[0m\u001b[1;33m(\u001b[0m\u001b[1;33m**\u001b[0m\u001b[0mkwargs\u001b[0m\u001b[1;33m)\u001b[0m\u001b[1;33m\u001b[0m\u001b[1;33m\u001b[0m\u001b[0m\n\u001b[0m\u001b[0;32m     47\u001b[0m     \u001b[1;32mreturn\u001b[0m \u001b[0minner_f\u001b[0m\u001b[1;33m\u001b[0m\u001b[1;33m\u001b[0m\u001b[0m\n\u001b[0;32m     48\u001b[0m \u001b[1;33m\u001b[0m\u001b[0m\n",
      "\u001b[1;32m~\\anaconda3\\lib\\site-packages\\seaborn\\categorical.py\u001b[0m in \u001b[0;36mbarplot\u001b[1;34m(x, y, hue, data, order, hue_order, estimator, ci, n_boot, units, seed, orient, color, palette, saturation, errcolor, errwidth, capsize, dodge, ax, **kwargs)\u001b[0m\n\u001b[0;32m   3167\u001b[0m ):\n\u001b[0;32m   3168\u001b[0m \u001b[1;33m\u001b[0m\u001b[0m\n\u001b[1;32m-> 3169\u001b[1;33m     plotter = _BarPlotter(x, y, hue, data, order, hue_order,\n\u001b[0m\u001b[0;32m   3170\u001b[0m                           \u001b[0mestimator\u001b[0m\u001b[1;33m,\u001b[0m \u001b[0mci\u001b[0m\u001b[1;33m,\u001b[0m \u001b[0mn_boot\u001b[0m\u001b[1;33m,\u001b[0m \u001b[0munits\u001b[0m\u001b[1;33m,\u001b[0m \u001b[0mseed\u001b[0m\u001b[1;33m,\u001b[0m\u001b[1;33m\u001b[0m\u001b[1;33m\u001b[0m\u001b[0m\n\u001b[0;32m   3171\u001b[0m                           \u001b[0morient\u001b[0m\u001b[1;33m,\u001b[0m \u001b[0mcolor\u001b[0m\u001b[1;33m,\u001b[0m \u001b[0mpalette\u001b[0m\u001b[1;33m,\u001b[0m \u001b[0msaturation\u001b[0m\u001b[1;33m,\u001b[0m\u001b[1;33m\u001b[0m\u001b[1;33m\u001b[0m\u001b[0m\n",
      "\u001b[1;32m~\\anaconda3\\lib\\site-packages\\seaborn\\categorical.py\u001b[0m in \u001b[0;36m__init__\u001b[1;34m(self, x, y, hue, data, order, hue_order, estimator, ci, n_boot, units, seed, orient, color, palette, saturation, errcolor, errwidth, capsize, dodge)\u001b[0m\n\u001b[0;32m   1585\u001b[0m                                  order, hue_order, units)\n\u001b[0;32m   1586\u001b[0m         \u001b[0mself\u001b[0m\u001b[1;33m.\u001b[0m\u001b[0mestablish_colors\u001b[0m\u001b[1;33m(\u001b[0m\u001b[0mcolor\u001b[0m\u001b[1;33m,\u001b[0m \u001b[0mpalette\u001b[0m\u001b[1;33m,\u001b[0m \u001b[0msaturation\u001b[0m\u001b[1;33m)\u001b[0m\u001b[1;33m\u001b[0m\u001b[1;33m\u001b[0m\u001b[0m\n\u001b[1;32m-> 1587\u001b[1;33m         \u001b[0mself\u001b[0m\u001b[1;33m.\u001b[0m\u001b[0mestimate_statistic\u001b[0m\u001b[1;33m(\u001b[0m\u001b[0mestimator\u001b[0m\u001b[1;33m,\u001b[0m \u001b[0mci\u001b[0m\u001b[1;33m,\u001b[0m \u001b[0mn_boot\u001b[0m\u001b[1;33m,\u001b[0m \u001b[0mseed\u001b[0m\u001b[1;33m)\u001b[0m\u001b[1;33m\u001b[0m\u001b[1;33m\u001b[0m\u001b[0m\n\u001b[0m\u001b[0;32m   1588\u001b[0m \u001b[1;33m\u001b[0m\u001b[0m\n\u001b[0;32m   1589\u001b[0m         \u001b[0mself\u001b[0m\u001b[1;33m.\u001b[0m\u001b[0mdodge\u001b[0m \u001b[1;33m=\u001b[0m \u001b[0mdodge\u001b[0m\u001b[1;33m\u001b[0m\u001b[1;33m\u001b[0m\u001b[0m\n",
      "\u001b[1;32m~\\anaconda3\\lib\\site-packages\\seaborn\\categorical.py\u001b[0m in \u001b[0;36mestimate_statistic\u001b[1;34m(self, estimator, ci, n_boot, seed)\u001b[0m\n\u001b[0;32m   1535\u001b[0m                         \u001b[1;32melse\u001b[0m\u001b[1;33m:\u001b[0m\u001b[1;33m\u001b[0m\u001b[1;33m\u001b[0m\u001b[0m\n\u001b[0;32m   1536\u001b[0m \u001b[1;33m\u001b[0m\u001b[0m\n\u001b[1;32m-> 1537\u001b[1;33m                             boots = bootstrap(stat_data, func=estimator,\n\u001b[0m\u001b[0;32m   1538\u001b[0m                                               \u001b[0mn_boot\u001b[0m\u001b[1;33m=\u001b[0m\u001b[0mn_boot\u001b[0m\u001b[1;33m,\u001b[0m\u001b[1;33m\u001b[0m\u001b[1;33m\u001b[0m\u001b[0m\n\u001b[0;32m   1539\u001b[0m                                               \u001b[0munits\u001b[0m\u001b[1;33m=\u001b[0m\u001b[0munit_data\u001b[0m\u001b[1;33m,\u001b[0m\u001b[1;33m\u001b[0m\u001b[1;33m\u001b[0m\u001b[0m\n",
      "\u001b[1;32m~\\anaconda3\\lib\\site-packages\\seaborn\\algorithms.py\u001b[0m in \u001b[0;36mbootstrap\u001b[1;34m(*args, **kwargs)\u001b[0m\n\u001b[0;32m     82\u001b[0m     \u001b[1;32mfor\u001b[0m \u001b[0mi\u001b[0m \u001b[1;32min\u001b[0m \u001b[0mrange\u001b[0m\u001b[1;33m(\u001b[0m\u001b[0mint\u001b[0m\u001b[1;33m(\u001b[0m\u001b[0mn_boot\u001b[0m\u001b[1;33m)\u001b[0m\u001b[1;33m)\u001b[0m\u001b[1;33m:\u001b[0m\u001b[1;33m\u001b[0m\u001b[1;33m\u001b[0m\u001b[0m\n\u001b[0;32m     83\u001b[0m         \u001b[0mresampler\u001b[0m \u001b[1;33m=\u001b[0m \u001b[0mintegers\u001b[0m\u001b[1;33m(\u001b[0m\u001b[1;36m0\u001b[0m\u001b[1;33m,\u001b[0m \u001b[0mn\u001b[0m\u001b[1;33m,\u001b[0m \u001b[0mn\u001b[0m\u001b[1;33m,\u001b[0m \u001b[0mdtype\u001b[0m\u001b[1;33m=\u001b[0m\u001b[0mnp\u001b[0m\u001b[1;33m.\u001b[0m\u001b[0mintp\u001b[0m\u001b[1;33m)\u001b[0m  \u001b[1;31m# intp is indexing dtype\u001b[0m\u001b[1;33m\u001b[0m\u001b[1;33m\u001b[0m\u001b[0m\n\u001b[1;32m---> 84\u001b[1;33m         \u001b[0msample\u001b[0m \u001b[1;33m=\u001b[0m \u001b[1;33m[\u001b[0m\u001b[0ma\u001b[0m\u001b[1;33m.\u001b[0m\u001b[0mtake\u001b[0m\u001b[1;33m(\u001b[0m\u001b[0mresampler\u001b[0m\u001b[1;33m,\u001b[0m \u001b[0maxis\u001b[0m\u001b[1;33m=\u001b[0m\u001b[1;36m0\u001b[0m\u001b[1;33m)\u001b[0m \u001b[1;32mfor\u001b[0m \u001b[0ma\u001b[0m \u001b[1;32min\u001b[0m \u001b[0margs\u001b[0m\u001b[1;33m]\u001b[0m\u001b[1;33m\u001b[0m\u001b[1;33m\u001b[0m\u001b[0m\n\u001b[0m\u001b[0;32m     85\u001b[0m         \u001b[0mboot_dist\u001b[0m\u001b[1;33m.\u001b[0m\u001b[0mappend\u001b[0m\u001b[1;33m(\u001b[0m\u001b[0mf\u001b[0m\u001b[1;33m(\u001b[0m\u001b[1;33m*\u001b[0m\u001b[0msample\u001b[0m\u001b[1;33m,\u001b[0m \u001b[1;33m**\u001b[0m\u001b[0mfunc_kwargs\u001b[0m\u001b[1;33m)\u001b[0m\u001b[1;33m)\u001b[0m\u001b[1;33m\u001b[0m\u001b[1;33m\u001b[0m\u001b[0m\n\u001b[0;32m     86\u001b[0m     \u001b[1;32mreturn\u001b[0m \u001b[0mnp\u001b[0m\u001b[1;33m.\u001b[0m\u001b[0marray\u001b[0m\u001b[1;33m(\u001b[0m\u001b[0mboot_dist\u001b[0m\u001b[1;33m)\u001b[0m\u001b[1;33m\u001b[0m\u001b[1;33m\u001b[0m\u001b[0m\n",
      "\u001b[1;32m~\\anaconda3\\lib\\site-packages\\seaborn\\algorithms.py\u001b[0m in \u001b[0;36m<listcomp>\u001b[1;34m(.0)\u001b[0m\n\u001b[0;32m     82\u001b[0m     \u001b[1;32mfor\u001b[0m \u001b[0mi\u001b[0m \u001b[1;32min\u001b[0m \u001b[0mrange\u001b[0m\u001b[1;33m(\u001b[0m\u001b[0mint\u001b[0m\u001b[1;33m(\u001b[0m\u001b[0mn_boot\u001b[0m\u001b[1;33m)\u001b[0m\u001b[1;33m)\u001b[0m\u001b[1;33m:\u001b[0m\u001b[1;33m\u001b[0m\u001b[1;33m\u001b[0m\u001b[0m\n\u001b[0;32m     83\u001b[0m         \u001b[0mresampler\u001b[0m \u001b[1;33m=\u001b[0m \u001b[0mintegers\u001b[0m\u001b[1;33m(\u001b[0m\u001b[1;36m0\u001b[0m\u001b[1;33m,\u001b[0m \u001b[0mn\u001b[0m\u001b[1;33m,\u001b[0m \u001b[0mn\u001b[0m\u001b[1;33m,\u001b[0m \u001b[0mdtype\u001b[0m\u001b[1;33m=\u001b[0m\u001b[0mnp\u001b[0m\u001b[1;33m.\u001b[0m\u001b[0mintp\u001b[0m\u001b[1;33m)\u001b[0m  \u001b[1;31m# intp is indexing dtype\u001b[0m\u001b[1;33m\u001b[0m\u001b[1;33m\u001b[0m\u001b[0m\n\u001b[1;32m---> 84\u001b[1;33m         \u001b[0msample\u001b[0m \u001b[1;33m=\u001b[0m \u001b[1;33m[\u001b[0m\u001b[0ma\u001b[0m\u001b[1;33m.\u001b[0m\u001b[0mtake\u001b[0m\u001b[1;33m(\u001b[0m\u001b[0mresampler\u001b[0m\u001b[1;33m,\u001b[0m \u001b[0maxis\u001b[0m\u001b[1;33m=\u001b[0m\u001b[1;36m0\u001b[0m\u001b[1;33m)\u001b[0m \u001b[1;32mfor\u001b[0m \u001b[0ma\u001b[0m \u001b[1;32min\u001b[0m \u001b[0margs\u001b[0m\u001b[1;33m]\u001b[0m\u001b[1;33m\u001b[0m\u001b[1;33m\u001b[0m\u001b[0m\n\u001b[0m\u001b[0;32m     85\u001b[0m         \u001b[0mboot_dist\u001b[0m\u001b[1;33m.\u001b[0m\u001b[0mappend\u001b[0m\u001b[1;33m(\u001b[0m\u001b[0mf\u001b[0m\u001b[1;33m(\u001b[0m\u001b[1;33m*\u001b[0m\u001b[0msample\u001b[0m\u001b[1;33m,\u001b[0m \u001b[1;33m**\u001b[0m\u001b[0mfunc_kwargs\u001b[0m\u001b[1;33m)\u001b[0m\u001b[1;33m)\u001b[0m\u001b[1;33m\u001b[0m\u001b[1;33m\u001b[0m\u001b[0m\n\u001b[0;32m     86\u001b[0m     \u001b[1;32mreturn\u001b[0m \u001b[0mnp\u001b[0m\u001b[1;33m.\u001b[0m\u001b[0marray\u001b[0m\u001b[1;33m(\u001b[0m\u001b[0mboot_dist\u001b[0m\u001b[1;33m)\u001b[0m\u001b[1;33m\u001b[0m\u001b[1;33m\u001b[0m\u001b[0m\n",
      "\u001b[1;31mKeyboardInterrupt\u001b[0m: "
     ]
    },
    {
     "data": {
      "image/png": "[encoded data removed]",
      "text/plain": [
       "<Figure size 432x288 with 1 Axes>"
      ]
     },
     "metadata": {
      "needs_background": "light"
     },
     "output_type": "display_data"
    }
   ],
   "source": [
    "plt.xticks(rotation = -45)\n",
    "sns.barplot(x='em_area_num',y='em_g',hue='city',data=new_df)"
   ]
  },
  {
   "cell_type": "code",
   "execution_count": 80,
   "metadata": {
    "scrolled": true
   },
   "outputs": [
    {
     "data": {
      "text/html": [
       "<div>\n",
       "<style scoped>\n",
       "    .dataframe tbody tr th:only-of-type {\n",
       "        vertical-align: middle;\n",
       "    }\n",
       "\n",
       "    .dataframe tbody tr th {\n",
       "        vertical-align: top;\n",
       "    }\n",
       "\n",
       "    .dataframe thead th {\n",
       "        text-align: right;\n",
       "    }\n",
       "</style>\n",
       "<table border=\"1\" class=\"dataframe\">\n",
       "  <thead>\n",
       "    <tr style=\"text-align: right;\">\n",
       "      <th></th>\n",
       "      <th></th>\n",
       "      <th>em_area_num</th>\n",
       "    </tr>\n",
       "    <tr>\n",
       "      <th>emd_back</th>\n",
       "      <th>city</th>\n",
       "      <th></th>\n",
       "    </tr>\n",
       "  </thead>\n",
       "  <tbody>\n",
       "    <tr>\n",
       "      <th rowspan=\"2\" valign=\"top\">0</th>\n",
       "      <th>서귀포시</th>\n",
       "      <td>730/746/4/733/734/72E/739/0/A32/738/737/740/10...</td>\n",
       "    </tr>\n",
       "    <tr>\n",
       "      <th>제주시</th>\n",
       "      <td>66A/46A/a67/46C/a65/E5D/1DE/223/a75/46B</td>\n",
       "    </tr>\n",
       "    <tr>\n",
       "      <th rowspan=\"2\" valign=\"top\">0250</th>\n",
       "      <th>서귀포시</th>\n",
       "      <td>448/624/421/413/611/610/718/649/634/612/71B/62...</td>\n",
       "    </tr>\n",
       "    <tr>\n",
       "      <th>제주시</th>\n",
       "      <td>EF3/1B8/EC9/EB7/1C2/EF5/F77/EB8/EC1/1A6/EC2/EC...</td>\n",
       "    </tr>\n",
       "    <tr>\n",
       "      <th rowspan=\"2\" valign=\"top\">0253</th>\n",
       "      <th>서귀포시</th>\n",
       "      <td>391/360/366/345/392/370/358/368/386/382/390/35...</td>\n",
       "    </tr>\n",
       "    <tr>\n",
       "      <th>제주시</th>\n",
       "      <td>E96/12F/13D/E81/F47/E90/F27/1B3/13F/F49/E75/F6...</td>\n",
       "    </tr>\n",
       "    <tr>\n",
       "      <th>0256</th>\n",
       "      <th>제주시</th>\n",
       "      <td>E62/E03/E05/E23/E24/E12/FD4/FD3/E56/E43/E32/FD...</td>\n",
       "    </tr>\n",
       "    <tr>\n",
       "      <th rowspan=\"2\" valign=\"top\">0259</th>\n",
       "      <th>서귀포시</th>\n",
       "      <td>494/696/471/514/520/515/503/480/472/486/400/49...</td>\n",
       "    </tr>\n",
       "    <tr>\n",
       "      <th>제주시</th>\n",
       "      <td>D18/FF4/1AE/D30/098/07D/FA3/FFA/06C/18B/F9E/19...</td>\n",
       "    </tr>\n",
       "    <tr>\n",
       "      <th rowspan=\"2\" valign=\"top\">0310</th>\n",
       "      <th>서귀포시</th>\n",
       "      <td>434/593/587/429/605/586/590/599/436/330/594/57...</td>\n",
       "    </tr>\n",
       "    <tr>\n",
       "      <th>제주시</th>\n",
       "      <td>1F5/E3B/E1B/E9A/E4C/1E4/1F1/E5C/2A8/E4D/E6A/E1...</td>\n",
       "    </tr>\n",
       "    <tr>\n",
       "      <th>0320</th>\n",
       "      <th>서귀포시</th>\n",
       "      <td>541/405/401/538/404/543/528/406/564/555/536/55...</td>\n",
       "    </tr>\n",
       "    <tr>\n",
       "      <th rowspan=\"2\" valign=\"top\">0510</th>\n",
       "      <th>서귀포시</th>\n",
       "      <td>141/094/101/098/090/107/136/097/137/140/095/13...</td>\n",
       "    </tr>\n",
       "    <tr>\n",
       "      <th>제주시</th>\n",
       "      <td>169/173/162/167/166/170/172/165/168/163</td>\n",
       "    </tr>\n",
       "    <tr>\n",
       "      <th rowspan=\"2\" valign=\"top\">0520</th>\n",
       "      <th>서귀포시</th>\n",
       "      <td>407/057/067/409/028/060/058/064/063/059/065/40...</td>\n",
       "    </tr>\n",
       "    <tr>\n",
       "      <th>제주시</th>\n",
       "      <td>045/448/AB5/392/421/404/413/436/AB8/AB1/393/42...</td>\n",
       "    </tr>\n",
       "    <tr>\n",
       "      <th rowspan=\"2\" valign=\"top\">0530</th>\n",
       "      <th>서귀포시</th>\n",
       "      <td>070/074/069/072/071</td>\n",
       "    </tr>\n",
       "    <tr>\n",
       "      <th>제주시</th>\n",
       "      <td>184/192/196/175/181/178/183/042/188/195/C18/19...</td>\n",
       "    </tr>\n",
       "    <tr>\n",
       "      <th rowspan=\"2\" valign=\"top\">0540</th>\n",
       "      <th>서귀포시</th>\n",
       "      <td>078/083/086/079/075/084/081/087/313/085/082</td>\n",
       "    </tr>\n",
       "    <tr>\n",
       "      <th>제주시</th>\n",
       "      <td>B68/462/522/543/526/486/499/465/493/475/489/47...</td>\n",
       "    </tr>\n",
       "    <tr>\n",
       "      <th rowspan=\"2\" valign=\"top\">0550</th>\n",
       "      <th>서귀포시</th>\n",
       "      <td>280/279/261/264/276/293/281/260/262/268/282/26...</td>\n",
       "    </tr>\n",
       "    <tr>\n",
       "      <th>제주시</th>\n",
       "      <td>C58/576/564/575/555/573/554/563/562/557/237/57...</td>\n",
       "    </tr>\n",
       "    <tr>\n",
       "      <th rowspan=\"2\" valign=\"top\">0560</th>\n",
       "      <th>서귀포시</th>\n",
       "      <td>272/275/661/668/664/207/212/273/213/304/217/66...</td>\n",
       "    </tr>\n",
       "    <tr>\n",
       "      <th>제주시</th>\n",
       "      <td>C01/141/131/150/133/158/151/153/132/146/155/13...</td>\n",
       "    </tr>\n",
       "    <tr>\n",
       "      <th rowspan=\"2\" valign=\"top\">0570</th>\n",
       "      <th>서귀포시</th>\n",
       "      <td>002/116/131/701/303/133/122/318/119/124/311/11...</td>\n",
       "    </tr>\n",
       "    <tr>\n",
       "      <th>제주시</th>\n",
       "      <td>206/197/220/225/207/212/213/217/224/204/209/20...</td>\n",
       "    </tr>\n",
       "    <tr>\n",
       "      <th rowspan=\"2\" valign=\"top\">0580</th>\n",
       "      <th>서귀포시</th>\n",
       "      <td>045/104/466/326/465/671/023/020/106/320/669/14...</td>\n",
       "    </tr>\n",
       "    <tr>\n",
       "      <th>제주시</th>\n",
       "      <td>624/593/586/587/590/599/605/611/C14/B64/594/60...</td>\n",
       "    </tr>\n",
       "    <tr>\n",
       "      <th rowspan=\"2\" valign=\"top\">0590</th>\n",
       "      <th>서귀포시</th>\n",
       "      <td>036/308/158/170/654/316/051/153/159/160/172/15...</td>\n",
       "    </tr>\n",
       "    <tr>\n",
       "      <th>제주시</th>\n",
       "      <td>366/370/368/386/382/387/365/378/364/385/381/38...</td>\n",
       "    </tr>\n",
       "    <tr>\n",
       "      <th rowspan=\"2\" valign=\"top\">0600</th>\n",
       "      <th>서귀포시</th>\n",
       "      <td>197/184/196/192/031/329/175/151/032/331/181/18...</td>\n",
       "    </tr>\n",
       "    <tr>\n",
       "      <th>제주시</th>\n",
       "      <td>345/329/331/311/AA4/315/332/349/346/319/338/31...</td>\n",
       "    </tr>\n",
       "    <tr>\n",
       "      <th rowspan=\"2\" valign=\"top\">0610</th>\n",
       "      <th>서귀포시</th>\n",
       "      <td>231/291/220/235/227/226/462/224/238/042/321/30...</td>\n",
       "    </tr>\n",
       "    <tr>\n",
       "      <th>제주시</th>\n",
       "      <td>272/275/280/279/291/299/B49/C70/AD4/261/303/10...</td>\n",
       "    </tr>\n",
       "    <tr>\n",
       "      <th rowspan=\"2\" valign=\"top\">0620</th>\n",
       "      <th>서귀포시</th>\n",
       "      <td>244/254/72D/247/243/253/248/252/241/249/255/25...</td>\n",
       "    </tr>\n",
       "    <tr>\n",
       "      <th>제주시</th>\n",
       "      <td>251/C89/C93/258/250/244/C60/C57/252/241/249/25...</td>\n",
       "    </tr>\n",
       "    <tr>\n",
       "      <th>0630</th>\n",
       "      <th>제주시</th>\n",
       "      <td>975/997/A34/B78/A21/AC9/A24/972/979/988/993/A2...</td>\n",
       "    </tr>\n",
       "    <tr>\n",
       "      <th>0640</th>\n",
       "      <th>제주시</th>\n",
       "      <td>746/661/671/649/669/A69/AC5/A74/A72/C72/A75/66...</td>\n",
       "    </tr>\n",
       "    <tr>\n",
       "      <th>0650</th>\n",
       "      <th>제주시</th>\n",
       "      <td>890/904/C66/939/918/B72/947/C11/944/863/881/87...</td>\n",
       "    </tr>\n",
       "    <tr>\n",
       "      <th>0660</th>\n",
       "      <th>제주시</th>\n",
       "      <td>828/856/002/227/788/846/797/B96/807/B92/816/79...</td>\n",
       "    </tr>\n",
       "    <tr>\n",
       "      <th>0670</th>\n",
       "      <th>제주시</th>\n",
       "      <td>A86/B26/D09/468/696/679/701/A84/069/A85/681/71...</td>\n",
       "    </tr>\n",
       "    <tr>\n",
       "      <th>0680</th>\n",
       "      <th>제주시</th>\n",
       "      <td>730/743/732/731/733/723/734/739/747/742/735/72...</td>\n",
       "    </tr>\n",
       "    <tr>\n",
       "      <th>0690</th>\n",
       "      <th>제주시</th>\n",
       "      <td>761/AC4/754/751/B98/755/764/766/762/C85/763/75...</td>\n",
       "    </tr>\n",
       "  </tbody>\n",
       "</table>\n",
       "</div>"
      ],
      "text/plain": [
       "                                                     em_area_num\n",
       "emd_back city                                                   \n",
       "0        서귀포시  730/746/4/733/734/72E/739/0/A32/738/737/740/10...\n",
       "         제주시             66A/46A/a67/46C/a65/E5D/1DE/223/a75/46B\n",
       "0250     서귀포시  448/624/421/413/611/610/718/649/634/612/71B/62...\n",
       "         제주시   EF3/1B8/EC9/EB7/1C2/EF5/F77/EB8/EC1/1A6/EC2/EC...\n",
       "0253     서귀포시  391/360/366/345/392/370/358/368/386/382/390/35...\n",
       "         제주시   E96/12F/13D/E81/F47/E90/F27/1B3/13F/F49/E75/F6...\n",
       "0256     제주시   E62/E03/E05/E23/E24/E12/FD4/FD3/E56/E43/E32/FD...\n",
       "0259     서귀포시  494/696/471/514/520/515/503/480/472/486/400/49...\n",
       "         제주시   D18/FF4/1AE/D30/098/07D/FA3/FFA/06C/18B/F9E/19...\n",
       "0310     서귀포시  434/593/587/429/605/586/590/599/436/330/594/57...\n",
       "         제주시   1F5/E3B/E1B/E9A/E4C/1E4/1F1/E5C/2A8/E4D/E6A/E1...\n",
       "0320     서귀포시  541/405/401/538/404/543/528/406/564/555/536/55...\n",
       "0510     서귀포시  141/094/101/098/090/107/136/097/137/140/095/13...\n",
       "         제주시             169/173/162/167/166/170/172/165/168/163\n",
       "0520     서귀포시  407/057/067/409/028/060/058/064/063/059/065/40...\n",
       "         제주시   045/448/AB5/392/421/404/413/436/AB8/AB1/393/42...\n",
       "0530     서귀포시                                070/074/069/072/071\n",
       "         제주시   184/192/196/175/181/178/183/042/188/195/C18/19...\n",
       "0540     서귀포시        078/083/086/079/075/084/081/087/313/085/082\n",
       "         제주시   B68/462/522/543/526/486/499/465/493/475/489/47...\n",
       "0550     서귀포시  280/279/261/264/276/293/281/260/262/268/282/26...\n",
       "         제주시   C58/576/564/575/555/573/554/563/562/557/237/57...\n",
       "0560     서귀포시  272/275/661/668/664/207/212/273/213/304/217/66...\n",
       "         제주시   C01/141/131/150/133/158/151/153/132/146/155/13...\n",
       "0570     서귀포시  002/116/131/701/303/133/122/318/119/124/311/11...\n",
       "         제주시   206/197/220/225/207/212/213/217/224/204/209/20...\n",
       "0580     서귀포시  045/104/466/326/465/671/023/020/106/320/669/14...\n",
       "         제주시   624/593/586/587/590/599/605/611/C14/B64/594/60...\n",
       "0590     서귀포시  036/308/158/170/654/316/051/153/159/160/172/15...\n",
       "         제주시   366/370/368/386/382/387/365/378/364/385/381/38...\n",
       "0600     서귀포시  197/184/196/192/031/329/175/151/032/331/181/18...\n",
       "         제주시   345/329/331/311/AA4/315/332/349/346/319/338/31...\n",
       "0610     서귀포시  231/291/220/235/227/226/462/224/238/042/321/30...\n",
       "         제주시   272/275/280/279/291/299/B49/C70/AD4/261/303/10...\n",
       "0620     서귀포시  244/254/72D/247/243/253/248/252/241/249/255/25...\n",
       "         제주시   251/C89/C93/258/250/244/C60/C57/252/241/249/25...\n",
       "0630     제주시   975/997/A34/B78/A21/AC9/A24/972/979/988/993/A2...\n",
       "0640     제주시   746/661/671/649/669/A69/AC5/A74/A72/C72/A75/66...\n",
       "0650     제주시   890/904/C66/939/918/B72/947/C11/944/863/881/87...\n",
       "0660     제주시   828/856/002/227/788/846/797/B96/807/B92/816/79...\n",
       "0670     제주시   A86/B26/D09/468/696/679/701/A84/069/A85/681/71...\n",
       "0680     제주시   730/743/732/731/733/723/734/739/747/742/735/72...\n",
       "0690     제주시   761/AC4/754/751/B98/755/764/766/762/C85/763/75..."
      ]
     },
     "execution_count": 80,
     "metadata": {},
     "output_type": "execute_result"
    }
   ],
   "source": [
    "new_df.groupby(['emd_back','city']).agg(lambda x: '/'.join(set(x)))"
   ]
  },
  {
   "cell_type": "code",
   "execution_count": 93,
   "metadata": {},
   "outputs": [
    {
     "data": {
      "text/html": [
       "<div>\n",
       "<style scoped>\n",
       "    .dataframe tbody tr th:only-of-type {\n",
       "        vertical-align: middle;\n",
       "    }\n",
       "\n",
       "    .dataframe tbody tr th {\n",
       "        vertical-align: top;\n",
       "    }\n",
       "\n",
       "    .dataframe thead th {\n",
       "        text-align: right;\n",
       "    }\n",
       "</style>\n",
       "<table border=\"1\" class=\"dataframe\">\n",
       "  <thead>\n",
       "    <tr style=\"text-align: right;\">\n",
       "      <th></th>\n",
       "      <th></th>\n",
       "      <th>em_area_num</th>\n",
       "    </tr>\n",
       "    <tr>\n",
       "      <th>city</th>\n",
       "      <th>emd_back</th>\n",
       "      <th></th>\n",
       "    </tr>\n",
       "  </thead>\n",
       "  <tbody>\n",
       "    <tr>\n",
       "      <th rowspan=\"18\" valign=\"top\">서귀포시</th>\n",
       "      <th>0</th>\n",
       "      <td>730/746/4/733/734/72E/739/0/A32/738/737/740/10...</td>\n",
       "    </tr>\n",
       "    <tr>\n",
       "      <th>0250</th>\n",
       "      <td>448/624/421/413/611/610/718/649/634/612/71B/62...</td>\n",
       "    </tr>\n",
       "    <tr>\n",
       "      <th>0253</th>\n",
       "      <td>391/360/366/345/392/370/358/368/386/382/390/35...</td>\n",
       "    </tr>\n",
       "    <tr>\n",
       "      <th>0259</th>\n",
       "      <td>494/696/471/514/520/515/503/480/472/486/400/49...</td>\n",
       "    </tr>\n",
       "    <tr>\n",
       "      <th>0310</th>\n",
       "      <td>434/593/587/429/605/586/590/599/436/330/594/57...</td>\n",
       "    </tr>\n",
       "    <tr>\n",
       "      <th>0320</th>\n",
       "      <td>541/405/401/538/404/543/528/406/564/555/536/55...</td>\n",
       "    </tr>\n",
       "    <tr>\n",
       "      <th>0510</th>\n",
       "      <td>141/094/101/098/090/107/136/097/137/140/095/13...</td>\n",
       "    </tr>\n",
       "    <tr>\n",
       "      <th>0520</th>\n",
       "      <td>407/057/067/409/028/060/058/064/063/059/065/40...</td>\n",
       "    </tr>\n",
       "    <tr>\n",
       "      <th>0530</th>\n",
       "      <td>070/074/069/072/071</td>\n",
       "    </tr>\n",
       "    <tr>\n",
       "      <th>0540</th>\n",
       "      <td>078/083/086/079/075/084/081/087/313/085/082</td>\n",
       "    </tr>\n",
       "    <tr>\n",
       "      <th>0550</th>\n",
       "      <td>280/279/261/264/276/293/281/260/262/268/282/26...</td>\n",
       "    </tr>\n",
       "    <tr>\n",
       "      <th>0560</th>\n",
       "      <td>272/275/661/668/664/207/212/273/213/304/217/66...</td>\n",
       "    </tr>\n",
       "    <tr>\n",
       "      <th>0570</th>\n",
       "      <td>002/116/131/701/303/133/122/318/119/124/311/11...</td>\n",
       "    </tr>\n",
       "    <tr>\n",
       "      <th>0580</th>\n",
       "      <td>045/104/466/326/465/671/023/020/106/320/669/14...</td>\n",
       "    </tr>\n",
       "    <tr>\n",
       "      <th>0590</th>\n",
       "      <td>036/308/158/170/654/316/051/153/159/160/172/15...</td>\n",
       "    </tr>\n",
       "    <tr>\n",
       "      <th>0600</th>\n",
       "      <td>197/184/196/192/031/329/175/151/032/331/181/18...</td>\n",
       "    </tr>\n",
       "    <tr>\n",
       "      <th>0610</th>\n",
       "      <td>231/291/220/235/227/226/462/224/238/042/321/30...</td>\n",
       "    </tr>\n",
       "    <tr>\n",
       "      <th>0620</th>\n",
       "      <td>244/254/72D/247/243/253/248/252/241/249/255/25...</td>\n",
       "    </tr>\n",
       "    <tr>\n",
       "      <th rowspan=\"25\" valign=\"top\">제주시</th>\n",
       "      <th>0</th>\n",
       "      <td>66A/46A/a67/46C/a65/E5D/1DE/223/a75/46B</td>\n",
       "    </tr>\n",
       "    <tr>\n",
       "      <th>0250</th>\n",
       "      <td>EF3/1B8/EC9/EB7/1C2/EF5/F77/EB8/EC1/1A6/EC2/EC...</td>\n",
       "    </tr>\n",
       "    <tr>\n",
       "      <th>0253</th>\n",
       "      <td>E96/12F/13D/E81/F47/E90/F27/1B3/13F/F49/E75/F6...</td>\n",
       "    </tr>\n",
       "    <tr>\n",
       "      <th>0256</th>\n",
       "      <td>E62/E03/E05/E23/E24/E12/FD4/FD3/E56/E43/E32/FD...</td>\n",
       "    </tr>\n",
       "    <tr>\n",
       "      <th>0259</th>\n",
       "      <td>D18/FF4/1AE/D30/098/07D/FA3/FFA/06C/18B/F9E/19...</td>\n",
       "    </tr>\n",
       "    <tr>\n",
       "      <th>0310</th>\n",
       "      <td>1F5/E3B/E1B/E9A/E4C/1E4/1F1/E5C/2A8/E4D/E6A/E1...</td>\n",
       "    </tr>\n",
       "    <tr>\n",
       "      <th>0510</th>\n",
       "      <td>169/173/162/167/166/170/172/165/168/163</td>\n",
       "    </tr>\n",
       "    <tr>\n",
       "      <th>0520</th>\n",
       "      <td>045/448/AB5/392/421/404/413/436/AB8/AB1/393/42...</td>\n",
       "    </tr>\n",
       "    <tr>\n",
       "      <th>0530</th>\n",
       "      <td>184/192/196/175/181/178/183/042/188/195/C18/19...</td>\n",
       "    </tr>\n",
       "    <tr>\n",
       "      <th>0540</th>\n",
       "      <td>B68/462/522/543/526/486/499/465/493/475/489/47...</td>\n",
       "    </tr>\n",
       "    <tr>\n",
       "      <th>0550</th>\n",
       "      <td>C58/576/564/575/555/573/554/563/562/557/237/57...</td>\n",
       "    </tr>\n",
       "    <tr>\n",
       "      <th>0560</th>\n",
       "      <td>C01/141/131/150/133/158/151/153/132/146/155/13...</td>\n",
       "    </tr>\n",
       "    <tr>\n",
       "      <th>0570</th>\n",
       "      <td>206/197/220/225/207/212/213/217/224/204/209/20...</td>\n",
       "    </tr>\n",
       "    <tr>\n",
       "      <th>0580</th>\n",
       "      <td>624/593/586/587/590/599/605/611/C14/B64/594/60...</td>\n",
       "    </tr>\n",
       "    <tr>\n",
       "      <th>0590</th>\n",
       "      <td>366/370/368/386/382/387/365/378/364/385/381/38...</td>\n",
       "    </tr>\n",
       "    <tr>\n",
       "      <th>0600</th>\n",
       "      <td>345/329/331/311/AA4/315/332/349/346/319/338/31...</td>\n",
       "    </tr>\n",
       "    <tr>\n",
       "      <th>0610</th>\n",
       "      <td>272/275/280/279/291/299/B49/C70/AD4/261/303/10...</td>\n",
       "    </tr>\n",
       "    <tr>\n",
       "      <th>0620</th>\n",
       "      <td>251/C89/C93/258/250/244/C60/C57/252/241/249/25...</td>\n",
       "    </tr>\n",
       "    <tr>\n",
       "      <th>0630</th>\n",
       "      <td>975/997/A34/B78/A21/AC9/A24/972/979/988/993/A2...</td>\n",
       "    </tr>\n",
       "    <tr>\n",
       "      <th>0640</th>\n",
       "      <td>746/661/671/649/669/A69/AC5/A74/A72/C72/A75/66...</td>\n",
       "    </tr>\n",
       "    <tr>\n",
       "      <th>0650</th>\n",
       "      <td>890/904/C66/939/918/B72/947/C11/944/863/881/87...</td>\n",
       "    </tr>\n",
       "    <tr>\n",
       "      <th>0660</th>\n",
       "      <td>828/856/002/227/788/846/797/B96/807/B92/816/79...</td>\n",
       "    </tr>\n",
       "    <tr>\n",
       "      <th>0670</th>\n",
       "      <td>A86/B26/D09/468/696/679/701/A84/069/A85/681/71...</td>\n",
       "    </tr>\n",
       "    <tr>\n",
       "      <th>0680</th>\n",
       "      <td>730/743/732/731/733/723/734/739/747/742/735/72...</td>\n",
       "    </tr>\n",
       "    <tr>\n",
       "      <th>0690</th>\n",
       "      <td>761/AC4/754/751/B98/755/764/766/762/C85/763/75...</td>\n",
       "    </tr>\n",
       "  </tbody>\n",
       "</table>\n",
       "</div>"
      ],
      "text/plain": [
       "                                                     em_area_num\n",
       "city emd_back                                                   \n",
       "서귀포시 0         730/746/4/733/734/72E/739/0/A32/738/737/740/10...\n",
       "     0250      448/624/421/413/611/610/718/649/634/612/71B/62...\n",
       "     0253      391/360/366/345/392/370/358/368/386/382/390/35...\n",
       "     0259      494/696/471/514/520/515/503/480/472/486/400/49...\n",
       "     0310      434/593/587/429/605/586/590/599/436/330/594/57...\n",
       "     0320      541/405/401/538/404/543/528/406/564/555/536/55...\n",
       "     0510      141/094/101/098/090/107/136/097/137/140/095/13...\n",
       "     0520      407/057/067/409/028/060/058/064/063/059/065/40...\n",
       "     0530                                    070/074/069/072/071\n",
       "     0540            078/083/086/079/075/084/081/087/313/085/082\n",
       "     0550      280/279/261/264/276/293/281/260/262/268/282/26...\n",
       "     0560      272/275/661/668/664/207/212/273/213/304/217/66...\n",
       "     0570      002/116/131/701/303/133/122/318/119/124/311/11...\n",
       "     0580      045/104/466/326/465/671/023/020/106/320/669/14...\n",
       "     0590      036/308/158/170/654/316/051/153/159/160/172/15...\n",
       "     0600      197/184/196/192/031/329/175/151/032/331/181/18...\n",
       "     0610      231/291/220/235/227/226/462/224/238/042/321/30...\n",
       "     0620      244/254/72D/247/243/253/248/252/241/249/255/25...\n",
       "제주시  0                   66A/46A/a67/46C/a65/E5D/1DE/223/a75/46B\n",
       "     0250      EF3/1B8/EC9/EB7/1C2/EF5/F77/EB8/EC1/1A6/EC2/EC...\n",
       "     0253      E96/12F/13D/E81/F47/E90/F27/1B3/13F/F49/E75/F6...\n",
       "     0256      E62/E03/E05/E23/E24/E12/FD4/FD3/E56/E43/E32/FD...\n",
       "     0259      D18/FF4/1AE/D30/098/07D/FA3/FFA/06C/18B/F9E/19...\n",
       "     0310      1F5/E3B/E1B/E9A/E4C/1E4/1F1/E5C/2A8/E4D/E6A/E1...\n",
       "     0510                169/173/162/167/166/170/172/165/168/163\n",
       "     0520      045/448/AB5/392/421/404/413/436/AB8/AB1/393/42...\n",
       "     0530      184/192/196/175/181/178/183/042/188/195/C18/19...\n",
       "     0540      B68/462/522/543/526/486/499/465/493/475/489/47...\n",
       "     0550      C58/576/564/575/555/573/554/563/562/557/237/57...\n",
       "     0560      C01/141/131/150/133/158/151/153/132/146/155/13...\n",
       "     0570      206/197/220/225/207/212/213/217/224/204/209/20...\n",
       "     0580      624/593/586/587/590/599/605/611/C14/B64/594/60...\n",
       "     0590      366/370/368/386/382/387/365/378/364/385/381/38...\n",
       "     0600      345/329/331/311/AA4/315/332/349/346/319/338/31...\n",
       "     0610      272/275/280/279/291/299/B49/C70/AD4/261/303/10...\n",
       "     0620      251/C89/C93/258/250/244/C60/C57/252/241/249/25...\n",
       "     0630      975/997/A34/B78/A21/AC9/A24/972/979/988/993/A2...\n",
       "     0640      746/661/671/649/669/A69/AC5/A74/A72/C72/A75/66...\n",
       "     0650      890/904/C66/939/918/B72/947/C11/944/863/881/87...\n",
       "     0660      828/856/002/227/788/846/797/B96/807/B92/816/79...\n",
       "     0670      A86/B26/D09/468/696/679/701/A84/069/A85/681/71...\n",
       "     0680      730/743/732/731/733/723/734/739/747/742/735/72...\n",
       "     0690      761/AC4/754/751/B98/755/764/766/762/C85/763/75..."
      ]
     },
     "execution_count": 93,
     "metadata": {},
     "output_type": "execute_result"
    }
   ],
   "source": [
    "new_df.groupby(['city','emd_back']).agg(lambda x: '/'.join(set(x)))"
   ]
  },
  {
   "cell_type": "code",
   "execution_count": 99,
   "metadata": {},
   "outputs": [],
   "source": [
    "data2 = pd.read_csv('./data/01_제공데이터/01_음식물쓰레기_FOOD_WASTE.CSV', encoding='CP949',low_memory=False)"
   ]
  },
  {
   "cell_type": "code",
   "execution_count": 100,
   "metadata": {},
   "outputs": [],
   "source": [
    "new_df['행정동명'] = data2['emd_nm']"
   ]
  },
  {
   "cell_type": "code",
   "execution_count": 101,
   "metadata": {},
   "outputs": [
    {
     "data": {
      "text/plain": [
       "행정동명\n",
       "건입동      36417\n",
       "구좌읍      44374\n",
       "남원읍      56768\n",
       "노형동     185468\n",
       "대륜동      32830\n",
       "대정읍      69690\n",
       "대천동      35269\n",
       "도두동      29050\n",
       "동홍동      51542\n",
       "봉개동      35178\n",
       "삼도1동     38051\n",
       "삼도2동     31410\n",
       "삼양동      85396\n",
       "서홍동      20265\n",
       "성산읍      38326\n",
       "송산동      16435\n",
       "아라동     134637\n",
       "안덕면      55511\n",
       "알수없음      2284\n",
       "애월읍      75649\n",
       "연동      141628\n",
       "영천동      22862\n",
       "예래동      20324\n",
       "오라동      94084\n",
       "외도동      78619\n",
       "용담1동     31705\n",
       "용담2동     70345\n",
       "이도1동     31474\n",
       "이도2동    144118\n",
       "이호동      39289\n",
       "일도1동     12542\n",
       "일도2동     99270\n",
       "정방동       9368\n",
       "조천읍      60618\n",
       "중문동      42987\n",
       "중앙동       5318\n",
       "천지동      11565\n",
       "표선면      32660\n",
       "한경면      30543\n",
       "한림읍      54783\n",
       "화북동      89610\n",
       "효돈동      11599\n",
       "Name: em_area_num, dtype: int64"
      ]
     },
     "execution_count": 101,
     "metadata": {},
     "output_type": "execute_result"
    }
   ],
   "source": [
    "# 시도별 행정동별 배출거점지역 수\n",
    "new_df.groupby(['행정동명']).em_area_num.agg(lambda x:len(x))"
   ]
  },
  {
   "cell_type": "code",
   "execution_count": 87,
   "metadata": {},
   "outputs": [
    {
     "data": {
      "text/plain": [
       "1859"
      ]
     },
     "execution_count": 87,
     "metadata": {},
     "output_type": "execute_result"
    }
   ],
   "source": [
    "len(new_df[new_df['city']=='제주시'].em_area_num.value_counts())"
   ]
  },
  {
   "cell_type": "code",
   "execution_count": 88,
   "metadata": {},
   "outputs": [
    {
     "data": {
      "text/plain": [
       "652"
      ]
     },
     "execution_count": 88,
     "metadata": {},
     "output_type": "execute_result"
    }
   ],
   "source": [
    "len(new_df[new_df['city']=='서귀포시'].em_area_num.value_counts())"
   ]
  },
  {
   "cell_type": "code",
   "execution_count": 89,
   "metadata": {},
   "outputs": [
    {
     "data": {
      "text/plain": [
       "1252"
      ]
     },
     "execution_count": 89,
     "metadata": {},
     "output_type": "execute_result"
    }
   ],
   "source": [
    "len(new_df[new_df['year']==2018].em_area_num.value_counts())"
   ]
  },
  {
   "cell_type": "code",
   "execution_count": 90,
   "metadata": {},
   "outputs": [
    {
     "data": {
      "text/plain": [
       "1733"
      ]
     },
     "execution_count": 90,
     "metadata": {},
     "output_type": "execute_result"
    }
   ],
   "source": [
    "len(new_df[new_df['year']==2019].em_area_num.value_counts())"
   ]
  },
  {
   "cell_type": "code",
   "execution_count": 91,
   "metadata": {},
   "outputs": [
    {
     "data": {
      "text/plain": [
       "1835"
      ]
     },
     "execution_count": 91,
     "metadata": {},
     "output_type": "execute_result"
    }
   ],
   "source": [
    "len(new_df[new_df['year']==2020].em_area_num.value_counts())"
   ]
  },
  {
   "cell_type": "code",
   "execution_count": 92,
   "metadata": {},
   "outputs": [
    {
     "data": {
      "text/plain": [
       "1803"
      ]
     },
     "execution_count": 92,
     "metadata": {},
     "output_type": "execute_result"
    }
   ],
   "source": [
    "len(new_df[new_df['year']==2021].em_area_num.value_counts())"
   ]
  },
  {
   "cell_type": "code",
   "execution_count": null,
   "metadata": {},
   "outputs": [],
   "source": []
  },
  {
   "cell_type": "markdown",
   "metadata": {},
   "source": [
    "## 달 별로"
   ]
  },
  {
   "cell_type": "code",
   "execution_count": null,
   "metadata": {},
   "outputs": [],
   "source": [
    "y = new_df['em_g'].groupby(new_df['month']).mean()\n",
    "x = [1,2,3,4,5,6,7,8,9,10,11,12]\n",
    "plt.plot(x,y,'--')"
   ]
  },
  {
   "cell_type": "code",
   "execution_count": 76,
   "metadata": {},
   "outputs": [
    {
     "data": {
      "text/plain": [
       "[<matplotlib.lines.Line2D at 0x23f0f8beaf0>]"
      ]
     },
     "execution_count": 76,
     "metadata": {},
     "output_type": "execute_result"
    },
    {
     "data": {
      "image/png": "[encoded data removed]",
      "text/plain": [
       "<Figure size 432x288 with 1 Axes>"
      ]
     },
     "metadata": {
      "needs_background": "light"
     },
     "output_type": "display_data"
    }
   ],
   "source": [
    "\n",
    "y = new_df['em_g'].groupby([new_df['year']]).mean()\n",
    "x = [2018,2019,2020,2021]\n",
    "plt.plot(x,y)"
   ]
  },
  {
   "cell_type": "markdown",
   "metadata": {},
   "source": [
    "## 도시 별"
   ]
  },
  {
   "cell_type": "code",
   "execution_count": null,
   "metadata": {},
   "outputs": [],
   "source": [
    "y = new_df['em_g'].groupby(new_df['city']).sum()\n",
    "x = ['제주시','서귀포시']\n",
    "plt.plot(x,y,'--')"
   ]
  },
  {
   "cell_type": "code",
   "execution_count": null,
   "metadata": {},
   "outputs": [],
   "source": [
    "y = new_df['em_g'].groupby(new_df['city']).mean()\n",
    "x = ['제주시','서귀포시']\n",
    "plt.plot(x,y,'--')"
   ]
  },
  {
   "cell_type": "markdown",
   "metadata": {},
   "source": [
    "총 합계는 서귀포시가 더 많고 평균은 제주시가 더 많다"
   ]
  },
  {
   "cell_type": "code",
   "execution_count": null,
   "metadata": {},
   "outputs": [],
   "source": []
  }
 ],
 "metadata": {
  "kernelspec": {
   "display_name": "Python 3",
   "language": "python",
   "name": "python3"
  },
  "language_info": {
   "codemirror_mode": {
    "name": "ipython",
    "version": 3
   },
   "file_extension": ".py",
   "mimetype": "text/x-python",
   "name": "python",
   "nbconvert_exporter": "python",
   "pygments_lexer": "ipython3",
   "version": "3.8.5"
  }
 },
 "nbformat": 4,
 "nbformat_minor": 4
}
