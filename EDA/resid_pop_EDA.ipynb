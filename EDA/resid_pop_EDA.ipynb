{
 "cells": [
  {
   "cell_type": "code",
   "execution_count": 1,
   "id": "f5043f62",
   "metadata": {
    "ExecuteTime": {
     "end_time": "2021-09-14T07:38:10.141551Z",
     "start_time": "2021-09-14T07:38:08.622871Z"
    }
   },
   "outputs": [],
   "source": [
    "import numpy as np\n",
    "import pandas as pd\n",
    "\n",
    "import matplotlib.pyplot as plt\n",
    "%matplotlib inline\n",
    "\n",
    "# 한글 폰트 사용을 위해서 세팅\n",
    "from matplotlib import font_manager, rc\n",
    "font_path = \"C:/Windows/Fonts/H2GTRM.TTF\"\n",
    "font = font_manager.FontProperties(fname=font_path).get_name()\n",
    "\n",
    "plt.rc('font', family = font)\n",
    "plt.rc('axes', unicode_minus=False)"
   ]
  },
  {
   "cell_type": "code",
   "execution_count": 2,
   "id": "e5c51baf",
   "metadata": {
    "ExecuteTime": {
     "end_time": "2021-09-14T07:38:12.678804Z",
     "start_time": "2021-09-14T07:38:12.667835Z"
    }
   },
   "outputs": [
    {
     "name": "stdout",
     "output_type": "stream",
     "text": [
      "C:\\Users\\UserK\\빅콘2021\n"
     ]
    }
   ],
   "source": [
    "import os\n",
    "\n",
    "print(os.getcwd())"
   ]
  },
  {
   "cell_type": "markdown",
   "id": "4409ca4e",
   "metadata": {},
   "source": [
    "### 데이터 불러오기"
   ]
  },
  {
   "cell_type": "code",
   "execution_count": 3,
   "id": "40698379",
   "metadata": {
    "ExecuteTime": {
     "end_time": "2021-09-14T07:38:14.183482Z",
     "start_time": "2021-09-14T07:38:14.106012Z"
    }
   },
   "outputs": [
    {
     "data": {
      "text/html": [
       "<div>\n",
       "<style scoped>\n",
       "    .dataframe tbody tr th:only-of-type {\n",
       "        vertical-align: middle;\n",
       "    }\n",
       "\n",
       "    .dataframe tbody tr th {\n",
       "        vertical-align: top;\n",
       "    }\n",
       "\n",
       "    .dataframe thead th {\n",
       "        text-align: right;\n",
       "    }\n",
       "</style>\n",
       "<table border=\"1\" class=\"dataframe\">\n",
       "  <thead>\n",
       "    <tr style=\"text-align: right;\">\n",
       "      <th></th>\n",
       "      <th>base_year</th>\n",
       "      <th>base_month</th>\n",
       "      <th>city</th>\n",
       "      <th>emd_cd</th>\n",
       "      <th>emd_nm</th>\n",
       "      <th>sex</th>\n",
       "      <th>resid_reg_pop</th>\n",
       "      <th>foreign_pop</th>\n",
       "      <th>total_pop</th>\n",
       "    </tr>\n",
       "  </thead>\n",
       "  <tbody>\n",
       "    <tr>\n",
       "      <th>0</th>\n",
       "      <td>2018</td>\n",
       "      <td>1</td>\n",
       "      <td>제주시</td>\n",
       "      <td>50110590</td>\n",
       "      <td>건입동</td>\n",
       "      <td>남성</td>\n",
       "      <td>5085</td>\n",
       "      <td>146</td>\n",
       "      <td>5231</td>\n",
       "    </tr>\n",
       "    <tr>\n",
       "      <th>1</th>\n",
       "      <td>2018</td>\n",
       "      <td>1</td>\n",
       "      <td>제주시</td>\n",
       "      <td>50110590</td>\n",
       "      <td>건입동</td>\n",
       "      <td>여성</td>\n",
       "      <td>4715</td>\n",
       "      <td>82</td>\n",
       "      <td>4797</td>\n",
       "    </tr>\n",
       "    <tr>\n",
       "      <th>2</th>\n",
       "      <td>2018</td>\n",
       "      <td>1</td>\n",
       "      <td>제주시</td>\n",
       "      <td>50110256</td>\n",
       "      <td>구좌읍</td>\n",
       "      <td>남성</td>\n",
       "      <td>7965</td>\n",
       "      <td>368</td>\n",
       "      <td>8333</td>\n",
       "    </tr>\n",
       "    <tr>\n",
       "      <th>3</th>\n",
       "      <td>2018</td>\n",
       "      <td>1</td>\n",
       "      <td>제주시</td>\n",
       "      <td>50110256</td>\n",
       "      <td>구좌읍</td>\n",
       "      <td>여성</td>\n",
       "      <td>7609</td>\n",
       "      <td>184</td>\n",
       "      <td>7793</td>\n",
       "    </tr>\n",
       "    <tr>\n",
       "      <th>4</th>\n",
       "      <td>2018</td>\n",
       "      <td>1</td>\n",
       "      <td>서귀포시</td>\n",
       "      <td>50130253</td>\n",
       "      <td>남원읍</td>\n",
       "      <td>남성</td>\n",
       "      <td>9806</td>\n",
       "      <td>428</td>\n",
       "      <td>10234</td>\n",
       "    </tr>\n",
       "  </tbody>\n",
       "</table>\n",
       "</div>"
      ],
      "text/plain": [
       "   base_year  base_month  city    emd_cd emd_nm sex  resid_reg_pop  \\\n",
       "0       2018           1   제주시  50110590    건입동  남성           5085   \n",
       "1       2018           1   제주시  50110590    건입동  여성           4715   \n",
       "2       2018           1   제주시  50110256    구좌읍  남성           7965   \n",
       "3       2018           1   제주시  50110256    구좌읍  여성           7609   \n",
       "4       2018           1  서귀포시  50130253    남원읍  남성           9806   \n",
       "\n",
       "   foreign_pop  total_pop  \n",
       "0          146       5231  \n",
       "1           82       4797  \n",
       "2          368       8333  \n",
       "3          184       7793  \n",
       "4          428      10234  "
      ]
     },
     "execution_count": 3,
     "metadata": {},
     "output_type": "execute_result"
    }
   ],
   "source": [
    "pop = pd.read_csv('/Users/UserK/빅콘2021/데이터/data/01_제공데이터/03_거주인구_RESIDENT_POP.CSV',  encoding = 'euc-kr')\n",
    "pop.head()"
   ]
  },
  {
   "cell_type": "code",
   "execution_count": 4,
   "id": "82417660",
   "metadata": {
    "ExecuteTime": {
     "end_time": "2021-09-14T07:38:14.992880Z",
     "start_time": "2021-09-14T07:38:14.943015Z"
    },
    "scrolled": true
   },
   "outputs": [
    {
     "name": "stdout",
     "output_type": "stream",
     "text": [
      "<class 'pandas.core.frame.DataFrame'>\n",
      "RangeIndex: 3612 entries, 0 to 3611\n",
      "Data columns (total 9 columns):\n",
      " #   Column         Non-Null Count  Dtype \n",
      "---  ------         --------------  ----- \n",
      " 0   base_year      3612 non-null   int64 \n",
      " 1   base_month     3612 non-null   int64 \n",
      " 2   city           3612 non-null   object\n",
      " 3   emd_cd         3612 non-null   int64 \n",
      " 4   emd_nm         3612 non-null   object\n",
      " 5   sex            3612 non-null   object\n",
      " 6   resid_reg_pop  3612 non-null   int64 \n",
      " 7   foreign_pop    3612 non-null   int64 \n",
      " 8   total_pop      3612 non-null   int64 \n",
      "dtypes: int64(6), object(3)\n",
      "memory usage: 254.1+ KB\n",
      "None\n"
     ]
    },
    {
     "data": {
      "text/html": [
       "<div>\n",
       "<style scoped>\n",
       "    .dataframe tbody tr th:only-of-type {\n",
       "        vertical-align: middle;\n",
       "    }\n",
       "\n",
       "    .dataframe tbody tr th {\n",
       "        vertical-align: top;\n",
       "    }\n",
       "\n",
       "    .dataframe thead th {\n",
       "        text-align: right;\n",
       "    }\n",
       "</style>\n",
       "<table border=\"1\" class=\"dataframe\">\n",
       "  <thead>\n",
       "    <tr style=\"text-align: right;\">\n",
       "      <th></th>\n",
       "      <th>base_year</th>\n",
       "      <th>base_month</th>\n",
       "      <th>city</th>\n",
       "      <th>emd_cd</th>\n",
       "      <th>emd_nm</th>\n",
       "      <th>sex</th>\n",
       "      <th>resid_reg_pop</th>\n",
       "      <th>foreign_pop</th>\n",
       "      <th>total_pop</th>\n",
       "    </tr>\n",
       "  </thead>\n",
       "  <tbody>\n",
       "    <tr>\n",
       "      <th>0</th>\n",
       "      <td>2018</td>\n",
       "      <td>1</td>\n",
       "      <td>제주시</td>\n",
       "      <td>50110590</td>\n",
       "      <td>건입동</td>\n",
       "      <td>남성</td>\n",
       "      <td>5085</td>\n",
       "      <td>146</td>\n",
       "      <td>5231</td>\n",
       "    </tr>\n",
       "    <tr>\n",
       "      <th>1</th>\n",
       "      <td>2018</td>\n",
       "      <td>1</td>\n",
       "      <td>제주시</td>\n",
       "      <td>50110590</td>\n",
       "      <td>건입동</td>\n",
       "      <td>여성</td>\n",
       "      <td>4715</td>\n",
       "      <td>82</td>\n",
       "      <td>4797</td>\n",
       "    </tr>\n",
       "    <tr>\n",
       "      <th>2</th>\n",
       "      <td>2018</td>\n",
       "      <td>1</td>\n",
       "      <td>제주시</td>\n",
       "      <td>50110256</td>\n",
       "      <td>구좌읍</td>\n",
       "      <td>남성</td>\n",
       "      <td>7965</td>\n",
       "      <td>368</td>\n",
       "      <td>8333</td>\n",
       "    </tr>\n",
       "    <tr>\n",
       "      <th>3</th>\n",
       "      <td>2018</td>\n",
       "      <td>1</td>\n",
       "      <td>제주시</td>\n",
       "      <td>50110256</td>\n",
       "      <td>구좌읍</td>\n",
       "      <td>여성</td>\n",
       "      <td>7609</td>\n",
       "      <td>184</td>\n",
       "      <td>7793</td>\n",
       "    </tr>\n",
       "    <tr>\n",
       "      <th>4</th>\n",
       "      <td>2018</td>\n",
       "      <td>1</td>\n",
       "      <td>서귀포시</td>\n",
       "      <td>50130253</td>\n",
       "      <td>남원읍</td>\n",
       "      <td>남성</td>\n",
       "      <td>9806</td>\n",
       "      <td>428</td>\n",
       "      <td>10234</td>\n",
       "    </tr>\n",
       "    <tr>\n",
       "      <th>5</th>\n",
       "      <td>2018</td>\n",
       "      <td>1</td>\n",
       "      <td>서귀포시</td>\n",
       "      <td>50130253</td>\n",
       "      <td>남원읍</td>\n",
       "      <td>여성</td>\n",
       "      <td>9306</td>\n",
       "      <td>200</td>\n",
       "      <td>9506</td>\n",
       "    </tr>\n",
       "    <tr>\n",
       "      <th>6</th>\n",
       "      <td>2018</td>\n",
       "      <td>1</td>\n",
       "      <td>제주시</td>\n",
       "      <td>50110660</td>\n",
       "      <td>노형동</td>\n",
       "      <td>남성</td>\n",
       "      <td>26286</td>\n",
       "      <td>821</td>\n",
       "      <td>27107</td>\n",
       "    </tr>\n",
       "    <tr>\n",
       "      <th>7</th>\n",
       "      <td>2018</td>\n",
       "      <td>1</td>\n",
       "      <td>제주시</td>\n",
       "      <td>50110660</td>\n",
       "      <td>노형동</td>\n",
       "      <td>여성</td>\n",
       "      <td>27083</td>\n",
       "      <td>768</td>\n",
       "      <td>27851</td>\n",
       "    </tr>\n",
       "    <tr>\n",
       "      <th>8</th>\n",
       "      <td>2018</td>\n",
       "      <td>1</td>\n",
       "      <td>서귀포시</td>\n",
       "      <td>50130590</td>\n",
       "      <td>대륜동</td>\n",
       "      <td>남성</td>\n",
       "      <td>6836</td>\n",
       "      <td>83</td>\n",
       "      <td>6919</td>\n",
       "    </tr>\n",
       "    <tr>\n",
       "      <th>9</th>\n",
       "      <td>2018</td>\n",
       "      <td>1</td>\n",
       "      <td>서귀포시</td>\n",
       "      <td>50130590</td>\n",
       "      <td>대륜동</td>\n",
       "      <td>여성</td>\n",
       "      <td>6637</td>\n",
       "      <td>95</td>\n",
       "      <td>6732</td>\n",
       "    </tr>\n",
       "  </tbody>\n",
       "</table>\n",
       "</div>"
      ],
      "text/plain": [
       "   base_year  base_month  city    emd_cd emd_nm sex  resid_reg_pop  \\\n",
       "0       2018           1   제주시  50110590    건입동  남성           5085   \n",
       "1       2018           1   제주시  50110590    건입동  여성           4715   \n",
       "2       2018           1   제주시  50110256    구좌읍  남성           7965   \n",
       "3       2018           1   제주시  50110256    구좌읍  여성           7609   \n",
       "4       2018           1  서귀포시  50130253    남원읍  남성           9806   \n",
       "5       2018           1  서귀포시  50130253    남원읍  여성           9306   \n",
       "6       2018           1   제주시  50110660    노형동  남성          26286   \n",
       "7       2018           1   제주시  50110660    노형동  여성          27083   \n",
       "8       2018           1  서귀포시  50130590    대륜동  남성           6836   \n",
       "9       2018           1  서귀포시  50130590    대륜동  여성           6637   \n",
       "\n",
       "   foreign_pop  total_pop  \n",
       "0          146       5231  \n",
       "1           82       4797  \n",
       "2          368       8333  \n",
       "3          184       7793  \n",
       "4          428      10234  \n",
       "5          200       9506  \n",
       "6          821      27107  \n",
       "7          768      27851  \n",
       "8           83       6919  \n",
       "9           95       6732  "
      ]
     },
     "execution_count": 4,
     "metadata": {},
     "output_type": "execute_result"
    }
   ],
   "source": [
    "print(pop.info())\n",
    "pop.head(10)"
   ]
  },
  {
   "cell_type": "code",
   "execution_count": 5,
   "id": "b6ffb54b",
   "metadata": {
    "ExecuteTime": {
     "end_time": "2021-09-14T07:38:18.247487Z",
     "start_time": "2021-09-14T07:38:18.222555Z"
    },
    "scrolled": true
   },
   "outputs": [
    {
     "name": "stdout",
     "output_type": "stream",
     "text": [
      "[2018 2019 2020 2021]\n",
      "[ 1  2  3  4  5  6  7  8  9 10 11 12]\n",
      "['건입동' '구좌읍' '남원읍' '노형동' '대륜동' '대정읍' '대천동' '도두동' '동홍동' '봉개동' '삼도1동' '삼도2동'\n",
      " '삼양동' '서홍동' '성산읍' '송산동' '아라동' '안덕면' '애월읍' '연동' '영천동' '예래동' '오라동' '외도동'\n",
      " '용담1동' '용담2동' '우도면' '이도1동' '이도2동' '이호동' '일도1동' '일도2동' '정방동' '조천읍' '중문동'\n",
      " '중앙동' '천지동' '추자면' '표선면' '한경면' '한림읍' '화북동' '효돈동']\n"
     ]
    }
   ],
   "source": [
    "print(pop.base_year.unique())\n",
    "print(pop.base_month.unique())\n",
    "print(pop.emd_nm.unique())"
   ]
  },
  {
   "cell_type": "markdown",
   "id": "988e2535",
   "metadata": {},
   "source": [
    "#### 성별로 나누기"
   ]
  },
  {
   "cell_type": "markdown",
   "id": "75a23a28",
   "metadata": {},
   "source": [
    "##### 남성"
   ]
  },
  {
   "cell_type": "code",
   "execution_count": 79,
   "id": "3e077f9d",
   "metadata": {
    "ExecuteTime": {
     "end_time": "2021-09-14T08:39:33.277983Z",
     "start_time": "2021-09-14T08:39:33.259066Z"
    }
   },
   "outputs": [
    {
     "data": {
      "text/plain": [
       "count     1806.000000\n",
       "mean      8138.584164\n",
       "std       6555.614901\n",
       "min        908.000000\n",
       "25%       2731.250000\n",
       "50%       6591.500000\n",
       "75%      11793.500000\n",
       "max      28295.000000\n",
       "Name: total_pop, dtype: float64"
      ]
     },
     "execution_count": 79,
     "metadata": {},
     "output_type": "execute_result"
    }
   ],
   "source": [
    "# 남성\n",
    "pop_man = pop.query('sex == \"남성\"')\n",
    "pop_man.total_pop.describe()"
   ]
  },
  {
   "cell_type": "code",
   "execution_count": 80,
   "id": "e662e34e",
   "metadata": {
    "ExecuteTime": {
     "end_time": "2021-09-14T08:39:33.763208Z",
     "start_time": "2021-09-14T08:39:33.735318Z"
    },
    "scrolled": true
   },
   "outputs": [
    {
     "data": {
      "text/html": [
       "<div>\n",
       "<style scoped>\n",
       "    .dataframe tbody tr th:only-of-type {\n",
       "        vertical-align: middle;\n",
       "    }\n",
       "\n",
       "    .dataframe tbody tr th {\n",
       "        vertical-align: top;\n",
       "    }\n",
       "\n",
       "    .dataframe thead th {\n",
       "        text-align: right;\n",
       "    }\n",
       "</style>\n",
       "<table border=\"1\" class=\"dataframe\">\n",
       "  <thead>\n",
       "    <tr style=\"text-align: right;\">\n",
       "      <th></th>\n",
       "      <th>base_year</th>\n",
       "      <th>base_month</th>\n",
       "      <th>city</th>\n",
       "      <th>emd_cd</th>\n",
       "      <th>emd_nm</th>\n",
       "      <th>sex</th>\n",
       "      <th>resid_reg_pop</th>\n",
       "      <th>foreign_pop</th>\n",
       "      <th>total_pop</th>\n",
       "    </tr>\n",
       "  </thead>\n",
       "  <tbody>\n",
       "    <tr>\n",
       "      <th>0</th>\n",
       "      <td>2018</td>\n",
       "      <td>1</td>\n",
       "      <td>제주시</td>\n",
       "      <td>50110590</td>\n",
       "      <td>건입동</td>\n",
       "      <td>남성</td>\n",
       "      <td>5085</td>\n",
       "      <td>146</td>\n",
       "      <td>5231</td>\n",
       "    </tr>\n",
       "    <tr>\n",
       "      <th>2</th>\n",
       "      <td>2018</td>\n",
       "      <td>1</td>\n",
       "      <td>제주시</td>\n",
       "      <td>50110256</td>\n",
       "      <td>구좌읍</td>\n",
       "      <td>남성</td>\n",
       "      <td>7965</td>\n",
       "      <td>368</td>\n",
       "      <td>8333</td>\n",
       "    </tr>\n",
       "    <tr>\n",
       "      <th>4</th>\n",
       "      <td>2018</td>\n",
       "      <td>1</td>\n",
       "      <td>서귀포시</td>\n",
       "      <td>50130253</td>\n",
       "      <td>남원읍</td>\n",
       "      <td>남성</td>\n",
       "      <td>9806</td>\n",
       "      <td>428</td>\n",
       "      <td>10234</td>\n",
       "    </tr>\n",
       "    <tr>\n",
       "      <th>6</th>\n",
       "      <td>2018</td>\n",
       "      <td>1</td>\n",
       "      <td>제주시</td>\n",
       "      <td>50110660</td>\n",
       "      <td>노형동</td>\n",
       "      <td>남성</td>\n",
       "      <td>26286</td>\n",
       "      <td>821</td>\n",
       "      <td>27107</td>\n",
       "    </tr>\n",
       "    <tr>\n",
       "      <th>8</th>\n",
       "      <td>2018</td>\n",
       "      <td>1</td>\n",
       "      <td>서귀포시</td>\n",
       "      <td>50130590</td>\n",
       "      <td>대륜동</td>\n",
       "      <td>남성</td>\n",
       "      <td>6836</td>\n",
       "      <td>83</td>\n",
       "      <td>6919</td>\n",
       "    </tr>\n",
       "  </tbody>\n",
       "</table>\n",
       "</div>"
      ],
      "text/plain": [
       "   base_year  base_month  city    emd_cd emd_nm sex  resid_reg_pop  \\\n",
       "0       2018           1   제주시  50110590    건입동  남성           5085   \n",
       "2       2018           1   제주시  50110256    구좌읍  남성           7965   \n",
       "4       2018           1  서귀포시  50130253    남원읍  남성           9806   \n",
       "6       2018           1   제주시  50110660    노형동  남성          26286   \n",
       "8       2018           1  서귀포시  50130590    대륜동  남성           6836   \n",
       "\n",
       "   foreign_pop  total_pop  \n",
       "0          146       5231  \n",
       "2          368       8333  \n",
       "4          428      10234  \n",
       "6          821      27107  \n",
       "8           83       6919  "
      ]
     },
     "execution_count": 80,
     "metadata": {},
     "output_type": "execute_result"
    }
   ],
   "source": [
    "# 2018\n",
    "pop_man_2018 = pop.query('base_year == 2018 & sex == \"남성\"')\n",
    "pop_man_2018.head()"
   ]
  },
  {
   "cell_type": "code",
   "execution_count": 81,
   "id": "079f96f9",
   "metadata": {
    "ExecuteTime": {
     "end_time": "2021-09-14T08:39:34.247840Z",
     "start_time": "2021-09-14T08:39:34.224900Z"
    },
    "scrolled": true
   },
   "outputs": [
    {
     "data": {
      "text/html": [
       "<div>\n",
       "<style scoped>\n",
       "    .dataframe tbody tr th:only-of-type {\n",
       "        vertical-align: middle;\n",
       "    }\n",
       "\n",
       "    .dataframe tbody tr th {\n",
       "        vertical-align: top;\n",
       "    }\n",
       "\n",
       "    .dataframe thead th {\n",
       "        text-align: right;\n",
       "    }\n",
       "</style>\n",
       "<table border=\"1\" class=\"dataframe\">\n",
       "  <thead>\n",
       "    <tr style=\"text-align: right;\">\n",
       "      <th></th>\n",
       "      <th>base_year</th>\n",
       "      <th>base_month</th>\n",
       "      <th>city</th>\n",
       "      <th>emd_cd</th>\n",
       "      <th>emd_nm</th>\n",
       "      <th>sex</th>\n",
       "      <th>resid_reg_pop</th>\n",
       "      <th>foreign_pop</th>\n",
       "      <th>total_pop</th>\n",
       "    </tr>\n",
       "  </thead>\n",
       "  <tbody>\n",
       "    <tr>\n",
       "      <th>952</th>\n",
       "      <td>2018</td>\n",
       "      <td>12</td>\n",
       "      <td>제주시</td>\n",
       "      <td>50110660</td>\n",
       "      <td>노형동</td>\n",
       "      <td>남성</td>\n",
       "      <td>26551</td>\n",
       "      <td>1210</td>\n",
       "      <td>27761</td>\n",
       "    </tr>\n",
       "    <tr>\n",
       "      <th>866</th>\n",
       "      <td>2018</td>\n",
       "      <td>11</td>\n",
       "      <td>제주시</td>\n",
       "      <td>50110660</td>\n",
       "      <td>노형동</td>\n",
       "      <td>남성</td>\n",
       "      <td>26492</td>\n",
       "      <td>1200</td>\n",
       "      <td>27692</td>\n",
       "    </tr>\n",
       "    <tr>\n",
       "      <th>780</th>\n",
       "      <td>2018</td>\n",
       "      <td>10</td>\n",
       "      <td>제주시</td>\n",
       "      <td>50110660</td>\n",
       "      <td>노형동</td>\n",
       "      <td>남성</td>\n",
       "      <td>26473</td>\n",
       "      <td>1200</td>\n",
       "      <td>27673</td>\n",
       "    </tr>\n",
       "    <tr>\n",
       "      <th>694</th>\n",
       "      <td>2018</td>\n",
       "      <td>9</td>\n",
       "      <td>제주시</td>\n",
       "      <td>50110660</td>\n",
       "      <td>노형동</td>\n",
       "      <td>남성</td>\n",
       "      <td>26395</td>\n",
       "      <td>1120</td>\n",
       "      <td>27515</td>\n",
       "    </tr>\n",
       "    <tr>\n",
       "      <th>608</th>\n",
       "      <td>2018</td>\n",
       "      <td>8</td>\n",
       "      <td>제주시</td>\n",
       "      <td>50110660</td>\n",
       "      <td>노형동</td>\n",
       "      <td>남성</td>\n",
       "      <td>26363</td>\n",
       "      <td>1117</td>\n",
       "      <td>27480</td>\n",
       "    </tr>\n",
       "    <tr>\n",
       "      <th>...</th>\n",
       "      <td>...</td>\n",
       "      <td>...</td>\n",
       "      <td>...</td>\n",
       "      <td>...</td>\n",
       "      <td>...</td>\n",
       "      <td>...</td>\n",
       "      <td>...</td>\n",
       "      <td>...</td>\n",
       "      <td>...</td>\n",
       "    </tr>\n",
       "    <tr>\n",
       "      <th>912</th>\n",
       "      <td>2018</td>\n",
       "      <td>11</td>\n",
       "      <td>제주시</td>\n",
       "      <td>50110330</td>\n",
       "      <td>우도면</td>\n",
       "      <td>남성</td>\n",
       "      <td>992</td>\n",
       "      <td>22</td>\n",
       "      <td>1014</td>\n",
       "    </tr>\n",
       "    <tr>\n",
       "      <th>224</th>\n",
       "      <td>2018</td>\n",
       "      <td>3</td>\n",
       "      <td>제주시</td>\n",
       "      <td>50110330</td>\n",
       "      <td>우도면</td>\n",
       "      <td>남성</td>\n",
       "      <td>990</td>\n",
       "      <td>17</td>\n",
       "      <td>1007</td>\n",
       "    </tr>\n",
       "    <tr>\n",
       "      <th>998</th>\n",
       "      <td>2018</td>\n",
       "      <td>12</td>\n",
       "      <td>제주시</td>\n",
       "      <td>50110330</td>\n",
       "      <td>우도면</td>\n",
       "      <td>남성</td>\n",
       "      <td>984</td>\n",
       "      <td>21</td>\n",
       "      <td>1005</td>\n",
       "    </tr>\n",
       "    <tr>\n",
       "      <th>138</th>\n",
       "      <td>2018</td>\n",
       "      <td>2</td>\n",
       "      <td>제주시</td>\n",
       "      <td>50110330</td>\n",
       "      <td>우도면</td>\n",
       "      <td>남성</td>\n",
       "      <td>982</td>\n",
       "      <td>16</td>\n",
       "      <td>998</td>\n",
       "    </tr>\n",
       "    <tr>\n",
       "      <th>52</th>\n",
       "      <td>2018</td>\n",
       "      <td>1</td>\n",
       "      <td>제주시</td>\n",
       "      <td>50110330</td>\n",
       "      <td>우도면</td>\n",
       "      <td>남성</td>\n",
       "      <td>981</td>\n",
       "      <td>16</td>\n",
       "      <td>997</td>\n",
       "    </tr>\n",
       "  </tbody>\n",
       "</table>\n",
       "<p>516 rows × 9 columns</p>\n",
       "</div>"
      ],
      "text/plain": [
       "     base_year  base_month city    emd_cd emd_nm sex  resid_reg_pop  \\\n",
       "952       2018          12  제주시  50110660    노형동  남성          26551   \n",
       "866       2018          11  제주시  50110660    노형동  남성          26492   \n",
       "780       2018          10  제주시  50110660    노형동  남성          26473   \n",
       "694       2018           9  제주시  50110660    노형동  남성          26395   \n",
       "608       2018           8  제주시  50110660    노형동  남성          26363   \n",
       "..         ...         ...  ...       ...    ...  ..            ...   \n",
       "912       2018          11  제주시  50110330    우도면  남성            992   \n",
       "224       2018           3  제주시  50110330    우도면  남성            990   \n",
       "998       2018          12  제주시  50110330    우도면  남성            984   \n",
       "138       2018           2  제주시  50110330    우도면  남성            982   \n",
       "52        2018           1  제주시  50110330    우도면  남성            981   \n",
       "\n",
       "     foreign_pop  total_pop  \n",
       "952         1210      27761  \n",
       "866         1200      27692  \n",
       "780         1200      27673  \n",
       "694         1120      27515  \n",
       "608         1117      27480  \n",
       "..           ...        ...  \n",
       "912           22       1014  \n",
       "224           17       1007  \n",
       "998           21       1005  \n",
       "138           16        998  \n",
       "52            16        997  \n",
       "\n",
       "[516 rows x 9 columns]"
      ]
     },
     "execution_count": 81,
     "metadata": {},
     "output_type": "execute_result"
    }
   ],
   "source": [
    "pop_man_2018_sorted_by_values = pop_man_2018.sort_values(by='total_pop' ,ascending=False)\n",
    "pop_man_2018_sorted_by_values"
   ]
  },
  {
   "cell_type": "code",
   "execution_count": 82,
   "id": "528fe66a",
   "metadata": {
    "ExecuteTime": {
     "end_time": "2021-09-14T08:39:35.162707Z",
     "start_time": "2021-09-14T08:39:34.743633Z"
    }
   },
   "outputs": [
    {
     "data": {
      "text/plain": [
       "<AxesSubplot:ylabel='emd_nm'>"
      ]
     },
     "execution_count": 82,
     "metadata": {},
     "output_type": "execute_result"
    },
    {
     "data": {
      "image/png": "[encoded data removed]",
      "text/plain": [
       "<Figure size 864x576 with 1 Axes>"
      ]
     },
     "metadata": {
      "needs_background": "light"
     },
     "output_type": "display_data"
    }
   ],
   "source": [
    "plt.figure(figsize = (12,8))\n",
    "pop_man_2018.groupby('emd_nm')['total_pop'].mean().sort_values(ascending=False).plot.barh()"
   ]
  },
  {
   "cell_type": "code",
   "execution_count": 83,
   "id": "c2cdaa47",
   "metadata": {
    "ExecuteTime": {
     "end_time": "2021-09-14T08:39:35.336241Z",
     "start_time": "2021-09-14T08:39:35.277399Z"
    }
   },
   "outputs": [
    {
     "data": {
      "text/html": [
       "<div>\n",
       "<style scoped>\n",
       "    .dataframe tbody tr th:only-of-type {\n",
       "        vertical-align: middle;\n",
       "    }\n",
       "\n",
       "    .dataframe tbody tr th {\n",
       "        vertical-align: top;\n",
       "    }\n",
       "\n",
       "    .dataframe thead th {\n",
       "        text-align: right;\n",
       "    }\n",
       "</style>\n",
       "<table border=\"1\" class=\"dataframe\">\n",
       "  <thead>\n",
       "    <tr style=\"text-align: right;\">\n",
       "      <th></th>\n",
       "      <th>base_year</th>\n",
       "      <th>base_month</th>\n",
       "      <th>emd_cd</th>\n",
       "      <th>resid_reg_pop</th>\n",
       "      <th>foreign_pop</th>\n",
       "      <th>total_pop</th>\n",
       "    </tr>\n",
       "  </thead>\n",
       "  <tbody>\n",
       "    <tr>\n",
       "      <th>count</th>\n",
       "      <td>516.0</td>\n",
       "      <td>516.000000</td>\n",
       "      <td>5.160000e+02</td>\n",
       "      <td>516.000000</td>\n",
       "      <td>516.000000</td>\n",
       "      <td>516.000000</td>\n",
       "    </tr>\n",
       "    <tr>\n",
       "      <th>mean</th>\n",
       "      <td>2020.0</td>\n",
       "      <td>6.500000</td>\n",
       "      <td>5.011841e+07</td>\n",
       "      <td>7851.949612</td>\n",
       "      <td>316.106589</td>\n",
       "      <td>8168.056202</td>\n",
       "    </tr>\n",
       "    <tr>\n",
       "      <th>std</th>\n",
       "      <td>0.0</td>\n",
       "      <td>3.455402</td>\n",
       "      <td>9.772501e+03</td>\n",
       "      <td>6400.447314</td>\n",
       "      <td>429.163397</td>\n",
       "      <td>6616.661633</td>\n",
       "    </tr>\n",
       "    <tr>\n",
       "      <th>min</th>\n",
       "      <td>2020.0</td>\n",
       "      <td>1.000000</td>\n",
       "      <td>5.011025e+07</td>\n",
       "      <td>899.000000</td>\n",
       "      <td>10.000000</td>\n",
       "      <td>918.000000</td>\n",
       "    </tr>\n",
       "    <tr>\n",
       "      <th>25%</th>\n",
       "      <td>2020.0</td>\n",
       "      <td>3.750000</td>\n",
       "      <td>5.011054e+07</td>\n",
       "      <td>2660.500000</td>\n",
       "      <td>66.000000</td>\n",
       "      <td>2718.000000</td>\n",
       "    </tr>\n",
       "    <tr>\n",
       "      <th>50%</th>\n",
       "      <td>2020.0</td>\n",
       "      <td>6.500000</td>\n",
       "      <td>5.011065e+07</td>\n",
       "      <td>6312.500000</td>\n",
       "      <td>127.000000</td>\n",
       "      <td>6578.000000</td>\n",
       "    </tr>\n",
       "    <tr>\n",
       "      <th>75%</th>\n",
       "      <td>2020.0</td>\n",
       "      <td>9.250000</td>\n",
       "      <td>5.013052e+07</td>\n",
       "      <td>10986.250000</td>\n",
       "      <td>380.750000</td>\n",
       "      <td>11872.000000</td>\n",
       "    </tr>\n",
       "    <tr>\n",
       "      <th>max</th>\n",
       "      <td>2020.0</td>\n",
       "      <td>12.000000</td>\n",
       "      <td>5.013062e+07</td>\n",
       "      <td>27019.000000</td>\n",
       "      <td>2375.000000</td>\n",
       "      <td>28147.000000</td>\n",
       "    </tr>\n",
       "  </tbody>\n",
       "</table>\n",
       "</div>"
      ],
      "text/plain": [
       "       base_year  base_month        emd_cd  resid_reg_pop  foreign_pop  \\\n",
       "count      516.0  516.000000  5.160000e+02     516.000000   516.000000   \n",
       "mean      2020.0    6.500000  5.011841e+07    7851.949612   316.106589   \n",
       "std          0.0    3.455402  9.772501e+03    6400.447314   429.163397   \n",
       "min       2020.0    1.000000  5.011025e+07     899.000000    10.000000   \n",
       "25%       2020.0    3.750000  5.011054e+07    2660.500000    66.000000   \n",
       "50%       2020.0    6.500000  5.011065e+07    6312.500000   127.000000   \n",
       "75%       2020.0    9.250000  5.013052e+07   10986.250000   380.750000   \n",
       "max       2020.0   12.000000  5.013062e+07   27019.000000  2375.000000   \n",
       "\n",
       "          total_pop  \n",
       "count    516.000000  \n",
       "mean    8168.056202  \n",
       "std     6616.661633  \n",
       "min      918.000000  \n",
       "25%     2718.000000  \n",
       "50%     6578.000000  \n",
       "75%    11872.000000  \n",
       "max    28147.000000  "
      ]
     },
     "execution_count": 83,
     "metadata": {},
     "output_type": "execute_result"
    }
   ],
   "source": [
    "# 2020\n",
    "pop_man_2020 = pop.query('base_year == 2020 & sex == \"남성\"')\n",
    "pop_man_2020.describe()"
   ]
  },
  {
   "cell_type": "code",
   "execution_count": 84,
   "id": "4e4681f3",
   "metadata": {
    "ExecuteTime": {
     "end_time": "2021-09-14T08:39:36.934930Z",
     "start_time": "2021-09-14T08:39:36.900057Z"
    },
    "scrolled": true
   },
   "outputs": [
    {
     "data": {
      "text/html": [
       "<div>\n",
       "<style scoped>\n",
       "    .dataframe tbody tr th:only-of-type {\n",
       "        vertical-align: middle;\n",
       "    }\n",
       "\n",
       "    .dataframe tbody tr th {\n",
       "        vertical-align: top;\n",
       "    }\n",
       "\n",
       "    .dataframe thead th {\n",
       "        text-align: right;\n",
       "    }\n",
       "</style>\n",
       "<table border=\"1\" class=\"dataframe\">\n",
       "  <thead>\n",
       "    <tr style=\"text-align: right;\">\n",
       "      <th></th>\n",
       "      <th>base_year</th>\n",
       "      <th>base_month</th>\n",
       "      <th>city</th>\n",
       "      <th>emd_cd</th>\n",
       "      <th>emd_nm</th>\n",
       "      <th>sex</th>\n",
       "      <th>resid_reg_pop</th>\n",
       "      <th>foreign_pop</th>\n",
       "      <th>total_pop</th>\n",
       "    </tr>\n",
       "  </thead>\n",
       "  <tbody>\n",
       "    <tr>\n",
       "      <th>3016</th>\n",
       "      <td>2020</td>\n",
       "      <td>12</td>\n",
       "      <td>제주시</td>\n",
       "      <td>50110660</td>\n",
       "      <td>노형동</td>\n",
       "      <td>남성</td>\n",
       "      <td>27019</td>\n",
       "      <td>1128</td>\n",
       "      <td>28147</td>\n",
       "    </tr>\n",
       "    <tr>\n",
       "      <th>2930</th>\n",
       "      <td>2020</td>\n",
       "      <td>11</td>\n",
       "      <td>제주시</td>\n",
       "      <td>50110660</td>\n",
       "      <td>노형동</td>\n",
       "      <td>남성</td>\n",
       "      <td>26927</td>\n",
       "      <td>1139</td>\n",
       "      <td>28066</td>\n",
       "    </tr>\n",
       "    <tr>\n",
       "      <th>2844</th>\n",
       "      <td>2020</td>\n",
       "      <td>10</td>\n",
       "      <td>제주시</td>\n",
       "      <td>50110660</td>\n",
       "      <td>노형동</td>\n",
       "      <td>남성</td>\n",
       "      <td>26850</td>\n",
       "      <td>1153</td>\n",
       "      <td>28003</td>\n",
       "    </tr>\n",
       "    <tr>\n",
       "      <th>2672</th>\n",
       "      <td>2020</td>\n",
       "      <td>8</td>\n",
       "      <td>제주시</td>\n",
       "      <td>50110660</td>\n",
       "      <td>노형동</td>\n",
       "      <td>남성</td>\n",
       "      <td>26778</td>\n",
       "      <td>1195</td>\n",
       "      <td>27973</td>\n",
       "    </tr>\n",
       "    <tr>\n",
       "      <th>2586</th>\n",
       "      <td>2020</td>\n",
       "      <td>7</td>\n",
       "      <td>제주시</td>\n",
       "      <td>50110660</td>\n",
       "      <td>노형동</td>\n",
       "      <td>남성</td>\n",
       "      <td>26749</td>\n",
       "      <td>1218</td>\n",
       "      <td>27967</td>\n",
       "    </tr>\n",
       "    <tr>\n",
       "      <th>...</th>\n",
       "      <td>...</td>\n",
       "      <td>...</td>\n",
       "      <td>...</td>\n",
       "      <td>...</td>\n",
       "      <td>...</td>\n",
       "      <td>...</td>\n",
       "      <td>...</td>\n",
       "      <td>...</td>\n",
       "      <td>...</td>\n",
       "    </tr>\n",
       "    <tr>\n",
       "      <th>2718</th>\n",
       "      <td>2020</td>\n",
       "      <td>8</td>\n",
       "      <td>제주시</td>\n",
       "      <td>50110330</td>\n",
       "      <td>우도면</td>\n",
       "      <td>남성</td>\n",
       "      <td>921</td>\n",
       "      <td>11</td>\n",
       "      <td>932</td>\n",
       "    </tr>\n",
       "    <tr>\n",
       "      <th>2976</th>\n",
       "      <td>2020</td>\n",
       "      <td>11</td>\n",
       "      <td>제주시</td>\n",
       "      <td>50110330</td>\n",
       "      <td>우도면</td>\n",
       "      <td>남성</td>\n",
       "      <td>910</td>\n",
       "      <td>10</td>\n",
       "      <td>920</td>\n",
       "    </tr>\n",
       "    <tr>\n",
       "      <th>3062</th>\n",
       "      <td>2020</td>\n",
       "      <td>12</td>\n",
       "      <td>제주시</td>\n",
       "      <td>50110330</td>\n",
       "      <td>우도면</td>\n",
       "      <td>남성</td>\n",
       "      <td>908</td>\n",
       "      <td>11</td>\n",
       "      <td>919</td>\n",
       "    </tr>\n",
       "    <tr>\n",
       "      <th>2890</th>\n",
       "      <td>2020</td>\n",
       "      <td>10</td>\n",
       "      <td>제주시</td>\n",
       "      <td>50110330</td>\n",
       "      <td>우도면</td>\n",
       "      <td>남성</td>\n",
       "      <td>909</td>\n",
       "      <td>10</td>\n",
       "      <td>919</td>\n",
       "    </tr>\n",
       "    <tr>\n",
       "      <th>2804</th>\n",
       "      <td>2020</td>\n",
       "      <td>9</td>\n",
       "      <td>제주시</td>\n",
       "      <td>50110330</td>\n",
       "      <td>우도면</td>\n",
       "      <td>남성</td>\n",
       "      <td>908</td>\n",
       "      <td>10</td>\n",
       "      <td>918</td>\n",
       "    </tr>\n",
       "  </tbody>\n",
       "</table>\n",
       "<p>516 rows × 9 columns</p>\n",
       "</div>"
      ],
      "text/plain": [
       "      base_year  base_month city    emd_cd emd_nm sex  resid_reg_pop  \\\n",
       "3016       2020          12  제주시  50110660    노형동  남성          27019   \n",
       "2930       2020          11  제주시  50110660    노형동  남성          26927   \n",
       "2844       2020          10  제주시  50110660    노형동  남성          26850   \n",
       "2672       2020           8  제주시  50110660    노형동  남성          26778   \n",
       "2586       2020           7  제주시  50110660    노형동  남성          26749   \n",
       "...         ...         ...  ...       ...    ...  ..            ...   \n",
       "2718       2020           8  제주시  50110330    우도면  남성            921   \n",
       "2976       2020          11  제주시  50110330    우도면  남성            910   \n",
       "3062       2020          12  제주시  50110330    우도면  남성            908   \n",
       "2890       2020          10  제주시  50110330    우도면  남성            909   \n",
       "2804       2020           9  제주시  50110330    우도면  남성            908   \n",
       "\n",
       "      foreign_pop  total_pop  \n",
       "3016         1128      28147  \n",
       "2930         1139      28066  \n",
       "2844         1153      28003  \n",
       "2672         1195      27973  \n",
       "2586         1218      27967  \n",
       "...           ...        ...  \n",
       "2718           11        932  \n",
       "2976           10        920  \n",
       "3062           11        919  \n",
       "2890           10        919  \n",
       "2804           10        918  \n",
       "\n",
       "[516 rows x 9 columns]"
      ]
     },
     "execution_count": 84,
     "metadata": {},
     "output_type": "execute_result"
    }
   ],
   "source": [
    "pop_man_2020_sorted_by_values = pop_man_2020.sort_values(by='total_pop' ,ascending=False)\n",
    "pop_man_2020_sorted_by_values"
   ]
  },
  {
   "cell_type": "code",
   "execution_count": 85,
   "id": "4a18d629",
   "metadata": {
    "ExecuteTime": {
     "end_time": "2021-09-14T08:39:37.818079Z",
     "start_time": "2021-09-14T08:39:37.404758Z"
    }
   },
   "outputs": [
    {
     "data": {
      "text/plain": [
       "<AxesSubplot:ylabel='emd_nm'>"
      ]
     },
     "execution_count": 85,
     "metadata": {},
     "output_type": "execute_result"
    },
    {
     "data": {
      "image/png": "[encoded data removed]",
      "text/plain": [
       "<Figure size 864x576 with 1 Axes>"
      ]
     },
     "metadata": {
      "needs_background": "light"
     },
     "output_type": "display_data"
    }
   ],
   "source": [
    "plt.figure(figsize = (12,8))\n",
    "pop_man_2020.groupby('emd_nm')['total_pop'].mean().sort_values(ascending=False).plot.barh()"
   ]
  },
  {
   "cell_type": "code",
   "execution_count": 86,
   "id": "99fb95c0",
   "metadata": {
    "ExecuteTime": {
     "end_time": "2021-09-14T08:39:42.805815Z",
     "start_time": "2021-09-14T08:39:42.389872Z"
    }
   },
   "outputs": [
    {
     "data": {
      "text/plain": [
       "array(<AxesSubplot:ylabel='emd_nm'>, dtype=object)"
      ]
     },
     "execution_count": 86,
     "metadata": {},
     "output_type": "execute_result"
    },
    {
     "data": {
      "image/png": "[encoded data removed]",
      "text/plain": [
       "<Figure size 864x576 with 1 Axes>"
      ]
     },
     "metadata": {
      "needs_background": "light"
     },
     "output_type": "display_data"
    }
   ],
   "source": [
    "# 년도 구분 없이\n",
    "plt.figure(figsize = (12,8))\n",
    "pm = pop_man.groupby('emd_nm')['total_pop'].mean().sort_values(ascending=False).plot.barh()\n",
    "np.array(pm)"
   ]
  },
  {
   "cell_type": "code",
   "execution_count": 87,
   "id": "aa291871",
   "metadata": {
    "ExecuteTime": {
     "end_time": "2021-09-14T08:40:09.076831Z",
     "start_time": "2021-09-14T08:40:09.057881Z"
    }
   },
   "outputs": [
    {
     "data": {
      "text/html": [
       "<div>\n",
       "<style scoped>\n",
       "    .dataframe tbody tr th:only-of-type {\n",
       "        vertical-align: middle;\n",
       "    }\n",
       "\n",
       "    .dataframe tbody tr th {\n",
       "        vertical-align: top;\n",
       "    }\n",
       "\n",
       "    .dataframe thead th {\n",
       "        text-align: right;\n",
       "    }\n",
       "</style>\n",
       "<table border=\"1\" class=\"dataframe\">\n",
       "  <thead>\n",
       "    <tr style=\"text-align: right;\">\n",
       "      <th></th>\n",
       "      <th>total_pop</th>\n",
       "    </tr>\n",
       "    <tr>\n",
       "      <th>emd_nm</th>\n",
       "      <th></th>\n",
       "    </tr>\n",
       "  </thead>\n",
       "  <tbody>\n",
       "    <tr>\n",
       "      <th>노형동</th>\n",
       "      <td>27798.595238</td>\n",
       "    </tr>\n",
       "    <tr>\n",
       "      <th>이도2동</th>\n",
       "      <td>24755.095238</td>\n",
       "    </tr>\n",
       "    <tr>\n",
       "      <th>연동</th>\n",
       "      <td>21351.619048</td>\n",
       "    </tr>\n",
       "    <tr>\n",
       "      <th>애월읍</th>\n",
       "      <td>19128.547619</td>\n",
       "    </tr>\n",
       "    <tr>\n",
       "      <th>아라동</th>\n",
       "      <td>17775.785714</td>\n",
       "    </tr>\n",
       "  </tbody>\n",
       "</table>\n",
       "</div>"
      ],
      "text/plain": [
       "           total_pop\n",
       "emd_nm              \n",
       "노형동     27798.595238\n",
       "이도2동    24755.095238\n",
       "연동      21351.619048\n",
       "애월읍     19128.547619\n",
       "아라동     17775.785714"
      ]
     },
     "execution_count": 87,
     "metadata": {},
     "output_type": "execute_result"
    }
   ],
   "source": [
    "pd.DataFrame(pop_man.groupby('emd_nm')['total_pop'].mean().sort_values(ascending=False)).head(5)"
   ]
  },
  {
   "cell_type": "code",
   "execution_count": null,
   "id": "efdfad15",
   "metadata": {},
   "outputs": [],
   "source": []
  },
  {
   "cell_type": "markdown",
   "id": "1bf62413",
   "metadata": {},
   "source": [
    "##### 여성"
   ]
  },
  {
   "cell_type": "code",
   "execution_count": 74,
   "id": "e8be131b",
   "metadata": {
    "ExecuteTime": {
     "end_time": "2021-09-14T08:39:09.836959Z",
     "start_time": "2021-09-14T08:39:09.798066Z"
    },
    "scrolled": true
   },
   "outputs": [
    {
     "name": "stdout",
     "output_type": "stream",
     "text": [
      "count     1806.000000\n",
      "mean      8138.584164\n",
      "std       6555.614901\n",
      "min        908.000000\n",
      "25%       2731.250000\n",
      "50%       6591.500000\n",
      "75%      11793.500000\n",
      "max      28295.000000\n",
      "Name: total_pop, dtype: float64\n"
     ]
    },
    {
     "data": {
      "text/plain": [
       "count     1806.000000\n",
       "mean      7986.439092\n",
       "std       6720.958891\n",
       "min        763.000000\n",
       "25%       2571.250000\n",
       "50%       6153.000000\n",
       "75%      11681.750000\n",
       "max      29178.000000\n",
       "Name: total_pop, dtype: float64"
      ]
     },
     "execution_count": 74,
     "metadata": {},
     "output_type": "execute_result"
    }
   ],
   "source": [
    "# 여성\n",
    "pop_woman = pop.query('base_year in [2018, 2019, 2020, 2021] & sex == \"여성\"')\n",
    "print(pop_man.total_pop.describe())\n",
    "pop_woman.total_pop.describe()"
   ]
  },
  {
   "cell_type": "code",
   "execution_count": 75,
   "id": "78e74a63",
   "metadata": {
    "ExecuteTime": {
     "end_time": "2021-09-14T08:39:11.273164Z",
     "start_time": "2021-09-14T08:39:11.265182Z"
    },
    "scrolled": true
   },
   "outputs": [],
   "source": [
    "pw = pop_woman.groupby('emd_nm')['total_pop'].mean().sort_values(ascending=False)\n",
    "pwa = np.array(pw)"
   ]
  },
  {
   "cell_type": "code",
   "execution_count": 76,
   "id": "4c07c1bf",
   "metadata": {
    "ExecuteTime": {
     "end_time": "2021-09-14T08:39:12.063200Z",
     "start_time": "2021-09-14T08:39:11.628804Z"
    }
   },
   "outputs": [
    {
     "data": {
      "text/plain": [
       "<AxesSubplot:ylabel='emd_nm'>"
      ]
     },
     "execution_count": 76,
     "metadata": {},
     "output_type": "execute_result"
    },
    {
     "data": {
      "image/png": "[encoded data removed]",
      "text/plain": [
       "<Figure size 864x576 with 1 Axes>"
      ]
     },
     "metadata": {
      "needs_background": "light"
     },
     "output_type": "display_data"
    }
   ],
   "source": [
    "plt.figure(figsize = (12,8))\n",
    "pop_woman.groupby('emd_nm')['total_pop'].mean().sort_values(ascending=False).plot.barh()"
   ]
  },
  {
   "cell_type": "code",
   "execution_count": 77,
   "id": "bfa7c65c",
   "metadata": {
    "ExecuteTime": {
     "end_time": "2021-09-14T08:39:12.796895Z",
     "start_time": "2021-09-14T08:39:12.771925Z"
    }
   },
   "outputs": [
    {
     "data": {
      "text/html": [
       "<div>\n",
       "<style scoped>\n",
       "    .dataframe tbody tr th:only-of-type {\n",
       "        vertical-align: middle;\n",
       "    }\n",
       "\n",
       "    .dataframe tbody tr th {\n",
       "        vertical-align: top;\n",
       "    }\n",
       "\n",
       "    .dataframe thead th {\n",
       "        text-align: right;\n",
       "    }\n",
       "</style>\n",
       "<table border=\"1\" class=\"dataframe\">\n",
       "  <thead>\n",
       "    <tr style=\"text-align: right;\">\n",
       "      <th></th>\n",
       "      <th>total_pop</th>\n",
       "    </tr>\n",
       "    <tr>\n",
       "      <th>emd_nm</th>\n",
       "      <th></th>\n",
       "    </tr>\n",
       "  </thead>\n",
       "  <tbody>\n",
       "    <tr>\n",
       "      <th>노형동</th>\n",
       "      <td>28563.095238</td>\n",
       "    </tr>\n",
       "    <tr>\n",
       "      <th>이도2동</th>\n",
       "      <td>25761.285714</td>\n",
       "    </tr>\n",
       "    <tr>\n",
       "      <th>연동</th>\n",
       "      <td>22198.238095</td>\n",
       "    </tr>\n",
       "    <tr>\n",
       "      <th>아라동</th>\n",
       "      <td>17943.976190</td>\n",
       "    </tr>\n",
       "    <tr>\n",
       "      <th>애월읍</th>\n",
       "      <td>17915.142857</td>\n",
       "    </tr>\n",
       "  </tbody>\n",
       "</table>\n",
       "</div>"
      ],
      "text/plain": [
       "           total_pop\n",
       "emd_nm              \n",
       "노형동     28563.095238\n",
       "이도2동    25761.285714\n",
       "연동      22198.238095\n",
       "아라동     17943.976190\n",
       "애월읍     17915.142857"
      ]
     },
     "execution_count": 77,
     "metadata": {},
     "output_type": "execute_result"
    }
   ],
   "source": [
    "pd.DataFrame(pop_woman.groupby('emd_nm')['total_pop'].mean().sort_values(ascending=False)).head(5)"
   ]
  },
  {
   "cell_type": "code",
   "execution_count": 89,
   "id": "9c3f74ed",
   "metadata": {
    "ExecuteTime": {
     "end_time": "2021-09-14T08:58:24.101787Z",
     "start_time": "2021-09-14T08:58:24.066844Z"
    }
   },
   "outputs": [
    {
     "data": {
      "text/html": [
       "<div>\n",
       "<style scoped>\n",
       "    .dataframe tbody tr th:only-of-type {\n",
       "        vertical-align: middle;\n",
       "    }\n",
       "\n",
       "    .dataframe tbody tr th {\n",
       "        vertical-align: top;\n",
       "    }\n",
       "\n",
       "    .dataframe thead th {\n",
       "        text-align: right;\n",
       "    }\n",
       "</style>\n",
       "<table border=\"1\" class=\"dataframe\">\n",
       "  <thead>\n",
       "    <tr style=\"text-align: right;\">\n",
       "      <th></th>\n",
       "      <th>base_year</th>\n",
       "      <th>base_month</th>\n",
       "      <th>emd_nm</th>\n",
       "      <th>total_pop</th>\n",
       "    </tr>\n",
       "  </thead>\n",
       "  <tbody>\n",
       "    <tr>\n",
       "      <th>0</th>\n",
       "      <td>2018</td>\n",
       "      <td>1</td>\n",
       "      <td>건입동</td>\n",
       "      <td>10028</td>\n",
       "    </tr>\n",
       "    <tr>\n",
       "      <th>1</th>\n",
       "      <td>2018</td>\n",
       "      <td>1</td>\n",
       "      <td>구좌읍</td>\n",
       "      <td>16126</td>\n",
       "    </tr>\n",
       "    <tr>\n",
       "      <th>2</th>\n",
       "      <td>2018</td>\n",
       "      <td>1</td>\n",
       "      <td>남원읍</td>\n",
       "      <td>19740</td>\n",
       "    </tr>\n",
       "    <tr>\n",
       "      <th>3</th>\n",
       "      <td>2018</td>\n",
       "      <td>1</td>\n",
       "      <td>노형동</td>\n",
       "      <td>54958</td>\n",
       "    </tr>\n",
       "    <tr>\n",
       "      <th>4</th>\n",
       "      <td>2018</td>\n",
       "      <td>1</td>\n",
       "      <td>대륜동</td>\n",
       "      <td>13651</td>\n",
       "    </tr>\n",
       "    <tr>\n",
       "      <th>...</th>\n",
       "      <td>...</td>\n",
       "      <td>...</td>\n",
       "      <td>...</td>\n",
       "      <td>...</td>\n",
       "    </tr>\n",
       "    <tr>\n",
       "      <th>1801</th>\n",
       "      <td>2021</td>\n",
       "      <td>6</td>\n",
       "      <td>표선면</td>\n",
       "      <td>12681</td>\n",
       "    </tr>\n",
       "    <tr>\n",
       "      <th>1802</th>\n",
       "      <td>2021</td>\n",
       "      <td>6</td>\n",
       "      <td>한경면</td>\n",
       "      <td>9495</td>\n",
       "    </tr>\n",
       "    <tr>\n",
       "      <th>1803</th>\n",
       "      <td>2021</td>\n",
       "      <td>6</td>\n",
       "      <td>한림읍</td>\n",
       "      <td>24462</td>\n",
       "    </tr>\n",
       "    <tr>\n",
       "      <th>1804</th>\n",
       "      <td>2021</td>\n",
       "      <td>6</td>\n",
       "      <td>화북동</td>\n",
       "      <td>24630</td>\n",
       "    </tr>\n",
       "    <tr>\n",
       "      <th>1805</th>\n",
       "      <td>2021</td>\n",
       "      <td>6</td>\n",
       "      <td>효돈동</td>\n",
       "      <td>5314</td>\n",
       "    </tr>\n",
       "  </tbody>\n",
       "</table>\n",
       "<p>1806 rows × 4 columns</p>\n",
       "</div>"
      ],
      "text/plain": [
       "      base_year  base_month emd_nm  total_pop\n",
       "0          2018           1    건입동      10028\n",
       "1          2018           1    구좌읍      16126\n",
       "2          2018           1    남원읍      19740\n",
       "3          2018           1    노형동      54958\n",
       "4          2018           1    대륜동      13651\n",
       "...         ...         ...    ...        ...\n",
       "1801       2021           6    표선면      12681\n",
       "1802       2021           6    한경면       9495\n",
       "1803       2021           6    한림읍      24462\n",
       "1804       2021           6    화북동      24630\n",
       "1805       2021           6    효돈동       5314\n",
       "\n",
       "[1806 rows x 4 columns]"
      ]
     },
     "execution_count": 89,
     "metadata": {},
     "output_type": "execute_result"
    }
   ],
   "source": [
    "# 전체\n",
    "\n",
    "stotal_pop = pop.groupby(['base_year','base_month','emd_nm'])['total_pop'].sum()\n",
    "stotal_pop.reset_index()"
   ]
  },
  {
   "cell_type": "code",
   "execution_count": 12,
   "id": "6c5ff751",
   "metadata": {
    "ExecuteTime": {
     "end_time": "2021-09-14T07:43:31.344558Z",
     "start_time": "2021-09-14T07:43:30.872820Z"
    }
   },
   "outputs": [
    {
     "data": {
      "text/plain": [
       "<AxesSubplot:ylabel='emd_nm'>"
      ]
     },
     "execution_count": 12,
     "metadata": {},
     "output_type": "execute_result"
    },
    {
     "data": {
      "image/png": "[encoded data removed]",
      "text/plain": [
       "<Figure size 864x576 with 1 Axes>"
      ]
     },
     "metadata": {
      "needs_background": "light"
     },
     "output_type": "display_data"
    }
   ],
   "source": [
    "plt.figure(figsize = (12,8))\n",
    "stotal_pop.reset_index().groupby(['emd_nm'])['pop_sum'].sum().sort_values(ascending=False).plot.barh()"
   ]
  },
  {
   "cell_type": "code",
   "execution_count": 72,
   "id": "8ea54625",
   "metadata": {
    "ExecuteTime": {
     "end_time": "2021-09-14T08:38:45.434471Z",
     "start_time": "2021-09-14T08:38:45.412530Z"
    }
   },
   "outputs": [
    {
     "data": {
      "text/html": [
       "<div>\n",
       "<style scoped>\n",
       "    .dataframe tbody tr th:only-of-type {\n",
       "        vertical-align: middle;\n",
       "    }\n",
       "\n",
       "    .dataframe tbody tr th {\n",
       "        vertical-align: top;\n",
       "    }\n",
       "\n",
       "    .dataframe thead th {\n",
       "        text-align: right;\n",
       "    }\n",
       "</style>\n",
       "<table border=\"1\" class=\"dataframe\">\n",
       "  <thead>\n",
       "    <tr style=\"text-align: right;\">\n",
       "      <th></th>\n",
       "      <th>pop_sum</th>\n",
       "    </tr>\n",
       "    <tr>\n",
       "      <th>emd_nm</th>\n",
       "      <th></th>\n",
       "    </tr>\n",
       "  </thead>\n",
       "  <tbody>\n",
       "    <tr>\n",
       "      <th>노형동</th>\n",
       "      <td>2367191</td>\n",
       "    </tr>\n",
       "    <tr>\n",
       "      <th>이도2동</th>\n",
       "      <td>2121688</td>\n",
       "    </tr>\n",
       "    <tr>\n",
       "      <th>연동</th>\n",
       "      <td>1829094</td>\n",
       "    </tr>\n",
       "    <tr>\n",
       "      <th>애월읍</th>\n",
       "      <td>1555835</td>\n",
       "    </tr>\n",
       "    <tr>\n",
       "      <th>아라동</th>\n",
       "      <td>1500230</td>\n",
       "    </tr>\n",
       "  </tbody>\n",
       "</table>\n",
       "</div>"
      ],
      "text/plain": [
       "        pop_sum\n",
       "emd_nm         \n",
       "노형동     2367191\n",
       "이도2동    2121688\n",
       "연동      1829094\n",
       "애월읍     1555835\n",
       "아라동     1500230"
      ]
     },
     "execution_count": 72,
     "metadata": {},
     "output_type": "execute_result"
    }
   ],
   "source": [
    "pd.DataFrame(stotal_pop.reset_index().groupby(['emd_nm'])['pop_sum'].sum().sort_values(ascending=False)).head(5)"
   ]
  },
  {
   "cell_type": "code",
   "execution_count": 14,
   "id": "455e1740",
   "metadata": {
    "ExecuteTime": {
     "end_time": "2021-09-14T07:44:02.918723Z",
     "start_time": "2021-09-14T07:44:02.879821Z"
    },
    "scrolled": true
   },
   "outputs": [
    {
     "data": {
      "text/html": [
       "<div>\n",
       "<style scoped>\n",
       "    .dataframe tbody tr th:only-of-type {\n",
       "        vertical-align: middle;\n",
       "    }\n",
       "\n",
       "    .dataframe tbody tr th {\n",
       "        vertical-align: top;\n",
       "    }\n",
       "\n",
       "    .dataframe thead th {\n",
       "        text-align: right;\n",
       "    }\n",
       "</style>\n",
       "<table border=\"1\" class=\"dataframe\">\n",
       "  <thead>\n",
       "    <tr style=\"text-align: right;\">\n",
       "      <th></th>\n",
       "      <th>base_year</th>\n",
       "      <th>base_month</th>\n",
       "      <th>city</th>\n",
       "      <th>emd_cd</th>\n",
       "      <th>emd_nm</th>\n",
       "      <th>sex</th>\n",
       "      <th>resid_reg_pop</th>\n",
       "      <th>foreign_pop</th>\n",
       "      <th>total_pop</th>\n",
       "    </tr>\n",
       "  </thead>\n",
       "  <tbody>\n",
       "    <tr>\n",
       "      <th>0</th>\n",
       "      <td>2018</td>\n",
       "      <td>1</td>\n",
       "      <td>제주시</td>\n",
       "      <td>50110590</td>\n",
       "      <td>건입동</td>\n",
       "      <td>남성</td>\n",
       "      <td>5085</td>\n",
       "      <td>146</td>\n",
       "      <td>5231</td>\n",
       "    </tr>\n",
       "    <tr>\n",
       "      <th>1</th>\n",
       "      <td>2018</td>\n",
       "      <td>1</td>\n",
       "      <td>제주시</td>\n",
       "      <td>50110590</td>\n",
       "      <td>건입동</td>\n",
       "      <td>여성</td>\n",
       "      <td>4715</td>\n",
       "      <td>82</td>\n",
       "      <td>4797</td>\n",
       "    </tr>\n",
       "    <tr>\n",
       "      <th>2</th>\n",
       "      <td>2018</td>\n",
       "      <td>1</td>\n",
       "      <td>제주시</td>\n",
       "      <td>50110256</td>\n",
       "      <td>구좌읍</td>\n",
       "      <td>남성</td>\n",
       "      <td>7965</td>\n",
       "      <td>368</td>\n",
       "      <td>8333</td>\n",
       "    </tr>\n",
       "    <tr>\n",
       "      <th>3</th>\n",
       "      <td>2018</td>\n",
       "      <td>1</td>\n",
       "      <td>제주시</td>\n",
       "      <td>50110256</td>\n",
       "      <td>구좌읍</td>\n",
       "      <td>여성</td>\n",
       "      <td>7609</td>\n",
       "      <td>184</td>\n",
       "      <td>7793</td>\n",
       "    </tr>\n",
       "    <tr>\n",
       "      <th>4</th>\n",
       "      <td>2018</td>\n",
       "      <td>1</td>\n",
       "      <td>서귀포시</td>\n",
       "      <td>50130253</td>\n",
       "      <td>남원읍</td>\n",
       "      <td>남성</td>\n",
       "      <td>9806</td>\n",
       "      <td>428</td>\n",
       "      <td>10234</td>\n",
       "    </tr>\n",
       "    <tr>\n",
       "      <th>...</th>\n",
       "      <td>...</td>\n",
       "      <td>...</td>\n",
       "      <td>...</td>\n",
       "      <td>...</td>\n",
       "      <td>...</td>\n",
       "      <td>...</td>\n",
       "      <td>...</td>\n",
       "      <td>...</td>\n",
       "      <td>...</td>\n",
       "    </tr>\n",
       "    <tr>\n",
       "      <th>3607</th>\n",
       "      <td>2021</td>\n",
       "      <td>6</td>\n",
       "      <td>제주시</td>\n",
       "      <td>50110250</td>\n",
       "      <td>한림읍</td>\n",
       "      <td>여성</td>\n",
       "      <td>10341</td>\n",
       "      <td>1140</td>\n",
       "      <td>11481</td>\n",
       "    </tr>\n",
       "    <tr>\n",
       "      <th>3608</th>\n",
       "      <td>2021</td>\n",
       "      <td>6</td>\n",
       "      <td>제주시</td>\n",
       "      <td>50110600</td>\n",
       "      <td>화북동</td>\n",
       "      <td>남성</td>\n",
       "      <td>12062</td>\n",
       "      <td>169</td>\n",
       "      <td>12231</td>\n",
       "    </tr>\n",
       "    <tr>\n",
       "      <th>3609</th>\n",
       "      <td>2021</td>\n",
       "      <td>6</td>\n",
       "      <td>제주시</td>\n",
       "      <td>50110600</td>\n",
       "      <td>화북동</td>\n",
       "      <td>여성</td>\n",
       "      <td>12238</td>\n",
       "      <td>161</td>\n",
       "      <td>12399</td>\n",
       "    </tr>\n",
       "    <tr>\n",
       "      <th>3610</th>\n",
       "      <td>2021</td>\n",
       "      <td>6</td>\n",
       "      <td>서귀포시</td>\n",
       "      <td>50130550</td>\n",
       "      <td>효돈동</td>\n",
       "      <td>남성</td>\n",
       "      <td>2660</td>\n",
       "      <td>39</td>\n",
       "      <td>2699</td>\n",
       "    </tr>\n",
       "    <tr>\n",
       "      <th>3611</th>\n",
       "      <td>2021</td>\n",
       "      <td>6</td>\n",
       "      <td>서귀포시</td>\n",
       "      <td>50130550</td>\n",
       "      <td>효돈동</td>\n",
       "      <td>여성</td>\n",
       "      <td>2597</td>\n",
       "      <td>18</td>\n",
       "      <td>2615</td>\n",
       "    </tr>\n",
       "  </tbody>\n",
       "</table>\n",
       "<p>3612 rows × 9 columns</p>\n",
       "</div>"
      ],
      "text/plain": [
       "      base_year  base_month  city    emd_cd emd_nm sex  resid_reg_pop  \\\n",
       "0          2018           1   제주시  50110590    건입동  남성           5085   \n",
       "1          2018           1   제주시  50110590    건입동  여성           4715   \n",
       "2          2018           1   제주시  50110256    구좌읍  남성           7965   \n",
       "3          2018           1   제주시  50110256    구좌읍  여성           7609   \n",
       "4          2018           1  서귀포시  50130253    남원읍  남성           9806   \n",
       "...         ...         ...   ...       ...    ...  ..            ...   \n",
       "3607       2021           6   제주시  50110250    한림읍  여성          10341   \n",
       "3608       2021           6   제주시  50110600    화북동  남성          12062   \n",
       "3609       2021           6   제주시  50110600    화북동  여성          12238   \n",
       "3610       2021           6  서귀포시  50130550    효돈동  남성           2660   \n",
       "3611       2021           6  서귀포시  50130550    효돈동  여성           2597   \n",
       "\n",
       "      foreign_pop  total_pop  \n",
       "0             146       5231  \n",
       "1              82       4797  \n",
       "2             368       8333  \n",
       "3             184       7793  \n",
       "4             428      10234  \n",
       "...           ...        ...  \n",
       "3607         1140      11481  \n",
       "3608          169      12231  \n",
       "3609          161      12399  \n",
       "3610           39       2699  \n",
       "3611           18       2615  \n",
       "\n",
       "[3612 rows x 9 columns]"
      ]
     },
     "execution_count": 14,
     "metadata": {},
     "output_type": "execute_result"
    }
   ],
   "source": [
    "pop"
   ]
  },
  {
   "cell_type": "code",
   "execution_count": 15,
   "id": "e3e3d88f",
   "metadata": {
    "ExecuteTime": {
     "end_time": "2021-09-14T07:44:05.110040Z",
     "start_time": "2021-09-14T07:44:05.085061Z"
    },
    "scrolled": true
   },
   "outputs": [],
   "source": [
    "new_pop = pd.merge(pop, stotal_pop,on=['base_year','base_month','emd_nm'], how='inner' )"
   ]
  },
  {
   "cell_type": "code",
   "execution_count": 22,
   "id": "99c2885f",
   "metadata": {
    "ExecuteTime": {
     "end_time": "2021-09-14T07:49:57.217668Z",
     "start_time": "2021-09-14T07:49:57.171794Z"
    }
   },
   "outputs": [
    {
     "data": {
      "text/html": [
       "<div>\n",
       "<style scoped>\n",
       "    .dataframe tbody tr th:only-of-type {\n",
       "        vertical-align: middle;\n",
       "    }\n",
       "\n",
       "    .dataframe tbody tr th {\n",
       "        vertical-align: top;\n",
       "    }\n",
       "\n",
       "    .dataframe thead th {\n",
       "        text-align: right;\n",
       "    }\n",
       "</style>\n",
       "<table border=\"1\" class=\"dataframe\">\n",
       "  <thead>\n",
       "    <tr style=\"text-align: right;\">\n",
       "      <th></th>\n",
       "      <th>base_year</th>\n",
       "      <th>base_month</th>\n",
       "      <th>emd_nm</th>\n",
       "      <th>sex</th>\n",
       "      <th>resid_reg_pop</th>\n",
       "      <th>foreign_pop</th>\n",
       "      <th>total_pop</th>\n",
       "    </tr>\n",
       "  </thead>\n",
       "  <tbody>\n",
       "    <tr>\n",
       "      <th>0</th>\n",
       "      <td>2018</td>\n",
       "      <td>1</td>\n",
       "      <td>건입동</td>\n",
       "      <td>남성</td>\n",
       "      <td>5085</td>\n",
       "      <td>146</td>\n",
       "      <td>5231</td>\n",
       "    </tr>\n",
       "    <tr>\n",
       "      <th>1</th>\n",
       "      <td>2018</td>\n",
       "      <td>1</td>\n",
       "      <td>건입동</td>\n",
       "      <td>여성</td>\n",
       "      <td>4715</td>\n",
       "      <td>82</td>\n",
       "      <td>4797</td>\n",
       "    </tr>\n",
       "    <tr>\n",
       "      <th>2</th>\n",
       "      <td>2018</td>\n",
       "      <td>1</td>\n",
       "      <td>구좌읍</td>\n",
       "      <td>남성</td>\n",
       "      <td>7965</td>\n",
       "      <td>368</td>\n",
       "      <td>8333</td>\n",
       "    </tr>\n",
       "    <tr>\n",
       "      <th>3</th>\n",
       "      <td>2018</td>\n",
       "      <td>1</td>\n",
       "      <td>구좌읍</td>\n",
       "      <td>여성</td>\n",
       "      <td>7609</td>\n",
       "      <td>184</td>\n",
       "      <td>7793</td>\n",
       "    </tr>\n",
       "    <tr>\n",
       "      <th>4</th>\n",
       "      <td>2018</td>\n",
       "      <td>1</td>\n",
       "      <td>남원읍</td>\n",
       "      <td>남성</td>\n",
       "      <td>9806</td>\n",
       "      <td>428</td>\n",
       "      <td>10234</td>\n",
       "    </tr>\n",
       "    <tr>\n",
       "      <th>...</th>\n",
       "      <td>...</td>\n",
       "      <td>...</td>\n",
       "      <td>...</td>\n",
       "      <td>...</td>\n",
       "      <td>...</td>\n",
       "      <td>...</td>\n",
       "      <td>...</td>\n",
       "    </tr>\n",
       "    <tr>\n",
       "      <th>3607</th>\n",
       "      <td>2021</td>\n",
       "      <td>6</td>\n",
       "      <td>한림읍</td>\n",
       "      <td>여성</td>\n",
       "      <td>10341</td>\n",
       "      <td>1140</td>\n",
       "      <td>11481</td>\n",
       "    </tr>\n",
       "    <tr>\n",
       "      <th>3608</th>\n",
       "      <td>2021</td>\n",
       "      <td>6</td>\n",
       "      <td>화북동</td>\n",
       "      <td>남성</td>\n",
       "      <td>12062</td>\n",
       "      <td>169</td>\n",
       "      <td>12231</td>\n",
       "    </tr>\n",
       "    <tr>\n",
       "      <th>3609</th>\n",
       "      <td>2021</td>\n",
       "      <td>6</td>\n",
       "      <td>화북동</td>\n",
       "      <td>여성</td>\n",
       "      <td>12238</td>\n",
       "      <td>161</td>\n",
       "      <td>12399</td>\n",
       "    </tr>\n",
       "    <tr>\n",
       "      <th>3610</th>\n",
       "      <td>2021</td>\n",
       "      <td>6</td>\n",
       "      <td>효돈동</td>\n",
       "      <td>남성</td>\n",
       "      <td>2660</td>\n",
       "      <td>39</td>\n",
       "      <td>2699</td>\n",
       "    </tr>\n",
       "    <tr>\n",
       "      <th>3611</th>\n",
       "      <td>2021</td>\n",
       "      <td>6</td>\n",
       "      <td>효돈동</td>\n",
       "      <td>여성</td>\n",
       "      <td>2597</td>\n",
       "      <td>18</td>\n",
       "      <td>2615</td>\n",
       "    </tr>\n",
       "  </tbody>\n",
       "</table>\n",
       "<p>3612 rows × 7 columns</p>\n",
       "</div>"
      ],
      "text/plain": [
       "      base_year  base_month emd_nm sex  resid_reg_pop  foreign_pop  total_pop\n",
       "0          2018           1    건입동  남성           5085          146       5231\n",
       "1          2018           1    건입동  여성           4715           82       4797\n",
       "2          2018           1    구좌읍  남성           7965          368       8333\n",
       "3          2018           1    구좌읍  여성           7609          184       7793\n",
       "4          2018           1    남원읍  남성           9806          428      10234\n",
       "...         ...         ...    ...  ..            ...          ...        ...\n",
       "3607       2021           6    한림읍  여성          10341         1140      11481\n",
       "3608       2021           6    화북동  남성          12062          169      12231\n",
       "3609       2021           6    화북동  여성          12238          161      12399\n",
       "3610       2021           6    효돈동  남성           2660           39       2699\n",
       "3611       2021           6    효돈동  여성           2597           18       2615\n",
       "\n",
       "[3612 rows x 7 columns]"
      ]
     },
     "execution_count": 22,
     "metadata": {},
     "output_type": "execute_result"
    }
   ],
   "source": [
    "# 읍면동 남녀 차이\n",
    "\n",
    "ms = new_pop.groupby(['base_year','base_month','emd_nm','sex'])[['resid_reg_pop','foreign_pop','total_pop']].sum().reset_index()\n",
    "ms"
   ]
  },
  {
   "cell_type": "code",
   "execution_count": 35,
   "id": "dc4d57a5",
   "metadata": {
    "ExecuteTime": {
     "end_time": "2021-09-14T07:57:47.951457Z",
     "start_time": "2021-09-14T07:57:47.930513Z"
    }
   },
   "outputs": [],
   "source": [
    "new_ms = ms.groupby(['emd_nm','sex'])[['resid_reg_pop','foreign_pop','total_pop']].mean().reset_index()\n",
    "new_ms = new_ms[['emd_nm','sex','total_pop']]"
   ]
  },
  {
   "cell_type": "code",
   "execution_count": null,
   "id": "50fb916c",
   "metadata": {},
   "outputs": [],
   "source": []
  },
  {
   "cell_type": "code",
   "execution_count": 53,
   "id": "4f80bc97",
   "metadata": {
    "ExecuteTime": {
     "end_time": "2021-09-14T08:06:31.492599Z",
     "start_time": "2021-09-14T08:06:31.449843Z"
    }
   },
   "outputs": [],
   "source": [
    "from tqdm import tqdm"
   ]
  },
  {
   "cell_type": "code",
   "execution_count": 104,
   "id": "e21b71eb",
   "metadata": {
    "ExecuteTime": {
     "end_time": "2021-09-14T09:16:34.667052Z",
     "start_time": "2021-09-14T09:16:29.976371Z"
    }
   },
   "outputs": [
    {
     "name": "stderr",
     "output_type": "stream",
     "text": [
      "\r",
      "  0%|                                                                                           | 0/43 [00:00<?, ?it/s]"
     ]
    },
    {
     "data": {
      "image/png": "[encoded data removed]",
      "text/plain": [
       "<Figure size 432x288 with 1 Axes>"
      ]
     },
     "metadata": {
      "needs_background": "light"
     },
     "output_type": "display_data"
    },
    {
     "name": "stderr",
     "output_type": "stream",
     "text": [
      "\r",
      "  2%|█▉                                                                                 | 1/43 [00:00<00:04,  8.59it/s]"
     ]
    },
    {
     "data": {
      "image/png": "[encoded data removed]",
      "text/plain": [
       "<Figure size 432x288 with 1 Axes>"
      ]
     },
     "metadata": {
      "needs_background": "light"
     },
     "output_type": "display_data"
    },
    {
     "name": "stderr",
     "output_type": "stream",
     "text": [
      "\r",
      "  5%|███▊                                                                               | 2/43 [00:00<00:04,  8.81it/s]"
     ]
    },
    {
     "data": {
      "image/png": "[encoded data removed]",
      "text/plain": [
       "<Figure size 432x288 with 1 Axes>"
      ]
     },
     "metadata": {
      "needs_background": "light"
     },
     "output_type": "display_data"
    },
    {
     "name": "stderr",
     "output_type": "stream",
     "text": [
      "\r",
      "  7%|█████▊                                                                             | 3/43 [00:00<00:04,  9.29it/s]"
     ]
    },
    {
     "data": {
      "image/png": "[encoded data removed]",
      "text/plain": [
       "<Figure size 432x288 with 1 Axes>"
      ]
     },
     "metadata": {
      "needs_background": "light"
     },
     "output_type": "display_data"
    },
    {
     "name": "stderr",
     "output_type": "stream",
     "text": [
      "\r",
      "  9%|███████▋                                                                           | 4/43 [00:00<00:04,  9.39it/s]"
     ]
    },
    {
     "data": {
      "image/png": "[encoded data removed]",
      "text/plain": [
       "<Figure size 432x288 with 1 Axes>"
      ]
     },
     "metadata": {
      "needs_background": "light"
     },
     "output_type": "display_data"
    },
    {
     "name": "stderr",
     "output_type": "stream",
     "text": [
      "\r",
      " 12%|█████████▋                                                                         | 5/43 [00:00<00:04,  9.27it/s]"
     ]
    },
    {
     "data": {
      "image/png": "[encoded data removed]",
      "text/plain": [
       "<Figure size 432x288 with 1 Axes>"
      ]
     },
     "metadata": {
      "needs_background": "light"
     },
     "output_type": "display_data"
    },
    {
     "name": "stderr",
     "output_type": "stream",
     "text": [
      "\r",
      " 14%|███████████▌                                                                       | 6/43 [00:00<00:03,  9.32it/s]"
     ]
    },
    {
     "data": {
      "image/png": "[encoded data removed]",
      "text/plain": [
       "<Figure size 432x288 with 1 Axes>"
      ]
     },
     "metadata": {
      "needs_background": "light"
     },
     "output_type": "display_data"
    },
    {
     "name": "stderr",
     "output_type": "stream",
     "text": [
      "\r",
      " 16%|█████████████▌                                                                     | 7/43 [00:00<00:03,  9.26it/s]"
     ]
    },
    {
     "data": {
      "image/png": "[encoded data removed]",
      "text/plain": [
       "<Figure size 432x288 with 1 Axes>"
      ]
     },
     "metadata": {
      "needs_background": "light"
     },
     "output_type": "display_data"
    },
    {
     "name": "stderr",
     "output_type": "stream",
     "text": [
      "\r",
      " 19%|███████████████▍                                                                   | 8/43 [00:00<00:03,  9.12it/s]"
     ]
    },
    {
     "data": {
      "image/png": "[encoded data removed]",
      "text/plain": [
       "<Figure size 432x288 with 1 Axes>"
      ]
     },
     "metadata": {
      "needs_background": "light"
     },
     "output_type": "display_data"
    },
    {
     "name": "stderr",
     "output_type": "stream",
     "text": [
      "\r",
      " 21%|█████████████████▎                                                                 | 9/43 [00:00<00:03,  9.07it/s]"
     ]
    },
    {
     "data": {
      "image/png": "[encoded data removed]",
      "text/plain": [
       "<Figure size 432x288 with 1 Axes>"
      ]
     },
     "metadata": {
      "needs_background": "light"
     },
     "output_type": "display_data"
    },
    {
     "data": {
      "image/png": "[encoded data removed]",
      "text/plain": [
       "<Figure size 432x288 with 1 Axes>"
      ]
     },
     "metadata": {
      "needs_background": "light"
     },
     "output_type": "display_data"
    },
    {
     "name": "stderr",
     "output_type": "stream",
     "text": [
      "\r",
      " 26%|████████████████████▉                                                             | 11/43 [00:01<00:03,  9.49it/s]"
     ]
    },
    {
     "data": {
      "image/png": "[encoded data removed]",
      "text/plain": [
       "<Figure size 432x288 with 1 Axes>"
      ]
     },
     "metadata": {
      "needs_background": "light"
     },
     "output_type": "display_data"
    },
    {
     "data": {
      "image/png": "[encoded data removed]",
      "text/plain": [
       "<Figure size 432x288 with 1 Axes>"
      ]
     },
     "metadata": {
      "needs_background": "light"
     },
     "output_type": "display_data"
    },
    {
     "name": "stderr",
     "output_type": "stream",
     "text": [
      "\r",
      " 30%|████████████████████████▊                                                         | 13/43 [00:01<00:03,  9.77it/s]"
     ]
    },
    {
     "data": {
      "image/png": "[encoded data removed]",
      "text/plain": [
       "<Figure size 432x288 with 1 Axes>"
      ]
     },
     "metadata": {
      "needs_background": "light"
     },
     "output_type": "display_data"
    },
    {
     "name": "stderr",
     "output_type": "stream",
     "text": [
      "\r",
      " 33%|██████████████████████████▋                                                       | 14/43 [00:01<00:02,  9.81it/s]"
     ]
    },
    {
     "data": {
      "image/png": "[encoded data removed]",
      "text/plain": [
       "<Figure size 432x288 with 1 Axes>"
      ]
     },
     "metadata": {
      "needs_background": "light"
     },
     "output_type": "display_data"
    },
    {
     "name": "stderr",
     "output_type": "stream",
     "text": [
      "\r",
      " 35%|████████████████████████████▌                                                     | 15/43 [00:01<00:02,  9.81it/s]"
     ]
    },
    {
     "data": {
      "image/png": "[encoded data removed]",
      "text/plain": [
       "<Figure size 432x288 with 1 Axes>"
      ]
     },
     "metadata": {
      "needs_background": "light"
     },
     "output_type": "display_data"
    },
    {
     "name": "stderr",
     "output_type": "stream",
     "text": [
      "\r",
      " 37%|██████████████████████████████▌                                                   | 16/43 [00:01<00:03,  7.96it/s]"
     ]
    },
    {
     "data": {
      "image/png": "[encoded data removed]",
      "text/plain": [
       "<Figure size 432x288 with 1 Axes>"
      ]
     },
     "metadata": {
      "needs_background": "light"
     },
     "output_type": "display_data"
    },
    {
     "name": "stderr",
     "output_type": "stream",
     "text": [
      "\r",
      " 40%|████████████████████████████████▍                                                 | 17/43 [00:01<00:03,  8.40it/s]"
     ]
    },
    {
     "data": {
      "image/png": "[encoded data removed]",
      "text/plain": [
       "<Figure size 432x288 with 1 Axes>"
      ]
     },
     "metadata": {
      "needs_background": "light"
     },
     "output_type": "display_data"
    },
    {
     "name": "stderr",
     "output_type": "stream",
     "text": [
      "\r",
      " 42%|██████████████████████████████████▎                                               | 18/43 [00:01<00:02,  8.71it/s]"
     ]
    },
    {
     "data": {
      "image/png": "[encoded data removed]",
      "text/plain": [
       "<Figure size 432x288 with 1 Axes>"
      ]
     },
     "metadata": {
      "needs_background": "light"
     },
     "output_type": "display_data"
    },
    {
     "name": "stderr",
     "output_type": "stream",
     "text": [
      "\r",
      " 44%|████████████████████████████████████▏                                             | 19/43 [00:02<00:02,  8.59it/s]"
     ]
    },
    {
     "data": {
      "image/png": "[encoded data removed]",
      "text/plain": [
       "<Figure size 432x288 with 1 Axes>"
      ]
     },
     "metadata": {
      "needs_background": "light"
     },
     "output_type": "display_data"
    },
    {
     "data": {
      "image/png": "[encoded data removed]",
      "text/plain": [
       "<Figure size 432x288 with 1 Axes>"
      ]
     },
     "metadata": {
      "needs_background": "light"
     },
     "output_type": "display_data"
    },
    {
     "name": "stderr",
     "output_type": "stream",
     "text": [
      "\r",
      " 49%|████████████████████████████████████████                                          | 21/43 [00:02<00:02,  9.42it/s]"
     ]
    },
    {
     "data": {
      "image/png": "[encoded data removed]",
      "text/plain": [
       "<Figure size 432x288 with 1 Axes>"
      ]
     },
     "metadata": {
      "needs_background": "light"
     },
     "output_type": "display_data"
    },
    {
     "name": "stderr",
     "output_type": "stream",
     "text": [
      "\r",
      " 51%|█████████████████████████████████████████▉                                        | 22/43 [00:02<00:02,  9.10it/s]"
     ]
    },
    {
     "data": {
      "image/png": "[encoded data removed]",
      "text/plain": [
       "<Figure size 432x288 with 1 Axes>"
      ]
     },
     "metadata": {
      "needs_background": "light"
     },
     "output_type": "display_data"
    },
    {
     "name": "stderr",
     "output_type": "stream",
     "text": [
      "\r",
      " 53%|███████████████████████████████████████████▊                                      | 23/43 [00:02<00:02,  9.18it/s]"
     ]
    },
    {
     "data": {
      "image/png": "[encoded data removed]",
      "text/plain": [
       "<Figure size 432x288 with 1 Axes>"
      ]
     },
     "metadata": {
      "needs_background": "light"
     },
     "output_type": "display_data"
    },
    {
     "name": "stderr",
     "output_type": "stream",
     "text": [
      "\r",
      " 56%|█████████████████████████████████████████████▊                                    | 24/43 [00:02<00:02,  9.26it/s]"
     ]
    },
    {
     "data": {
      "image/png": "[encoded data removed]",
      "text/plain": [
       "<Figure size 432x288 with 1 Axes>"
      ]
     },
     "metadata": {
      "needs_background": "light"
     },
     "output_type": "display_data"
    },
    {
     "name": "stderr",
     "output_type": "stream",
     "text": [
      "\r",
      " 58%|███████████████████████████████████████████████▋                                  | 25/43 [00:02<00:01,  9.28it/s]"
     ]
    },
    {
     "data": {
      "image/png": "[encoded data removed]",
      "text/plain": [
       "<Figure size 432x288 with 1 Axes>"
      ]
     },
     "metadata": {
      "needs_background": "light"
     },
     "output_type": "display_data"
    },
    {
     "name": "stderr",
     "output_type": "stream",
     "text": [
      "\r",
      " 60%|█████████████████████████████████████████████████▌                                | 26/43 [00:02<00:01,  9.16it/s]"
     ]
    },
    {
     "data": {
      "image/png": "[encoded data removed]",
      "text/plain": [
       "<Figure size 432x288 with 1 Axes>"
      ]
     },
     "metadata": {
      "needs_background": "light"
     },
     "output_type": "display_data"
    },
    {
     "name": "stderr",
     "output_type": "stream",
     "text": [
      "\r",
      " 63%|███████████████████████████████████████████████████▍                              | 27/43 [00:02<00:01,  9.19it/s]"
     ]
    },
    {
     "data": {
      "image/png": "[encoded data removed]",
      "text/plain": [
       "<Figure size 432x288 with 1 Axes>"
      ]
     },
     "metadata": {
      "needs_background": "light"
     },
     "output_type": "display_data"
    },
    {
     "name": "stderr",
     "output_type": "stream",
     "text": [
      "\r",
      " 65%|█████████████████████████████████████████████████████▍                            | 28/43 [00:03<00:01,  9.15it/s]"
     ]
    },
    {
     "data": {
      "image/png": "[encoded data removed]",
      "text/plain": [
       "<Figure size 432x288 with 1 Axes>"
      ]
     },
     "metadata": {
      "needs_background": "light"
     },
     "output_type": "display_data"
    },
    {
     "name": "stderr",
     "output_type": "stream",
     "text": [
      "\r",
      " 67%|███████████████████████████████████████████████████████▎                          | 29/43 [00:03<00:01,  8.99it/s]"
     ]
    },
    {
     "data": {
      "image/png": "[encoded data removed]",
      "text/plain": [
       "<Figure size 432x288 with 1 Axes>"
      ]
     },
     "metadata": {
      "needs_background": "light"
     },
     "output_type": "display_data"
    },
    {
     "data": {
      "image/png": "[encoded data removed]",
      "text/plain": [
       "<Figure size 432x288 with 1 Axes>"
      ]
     },
     "metadata": {
      "needs_background": "light"
     },
     "output_type": "display_data"
    },
    {
     "name": "stderr",
     "output_type": "stream",
     "text": [
      "\r",
      " 72%|███████████████████████████████████████████████████████████                       | 31/43 [00:03<00:01,  9.53it/s]"
     ]
    },
    {
     "data": {
      "image/png": "[encoded data removed]",
      "text/plain": [
       "<Figure size 432x288 with 1 Axes>"
      ]
     },
     "metadata": {
      "needs_background": "light"
     },
     "output_type": "display_data"
    },
    {
     "name": "stderr",
     "output_type": "stream",
     "text": [
      "\r",
      " 74%|█████████████████████████████████████████████████████████████                     | 32/43 [00:03<00:01,  9.26it/s]"
     ]
    },
    {
     "data": {
      "image/png": "[encoded data removed]",
      "text/plain": [
       "<Figure size 432x288 with 1 Axes>"
      ]
     },
     "metadata": {
      "needs_background": "light"
     },
     "output_type": "display_data"
    },
    {
     "name": "stderr",
     "output_type": "stream",
     "text": [
      "\r",
      " 77%|██████████████████████████████████████████████████████████████▉                   | 33/43 [00:03<00:01,  9.28it/s]"
     ]
    },
    {
     "data": {
      "image/png": "[encoded data removed]",
      "text/plain": [
       "<Figure size 432x288 with 1 Axes>"
      ]
     },
     "metadata": {
      "needs_background": "light"
     },
     "output_type": "display_data"
    },
    {
     "data": {
      "image/png": "[encoded data removed]",
      "text/plain": [
       "<Figure size 432x288 with 1 Axes>"
      ]
     },
     "metadata": {
      "needs_background": "light"
     },
     "output_type": "display_data"
    },
    {
     "name": "stderr",
     "output_type": "stream",
     "text": [
      "\r",
      " 81%|██████████████████████████████████████████████████████████████████▋               | 35/43 [00:03<00:00,  9.41it/s]"
     ]
    },
    {
     "data": {
      "image/png": "[encoded data removed]",
      "text/plain": [
       "<Figure size 432x288 with 1 Axes>"
      ]
     },
     "metadata": {
      "needs_background": "light"
     },
     "output_type": "display_data"
    },
    {
     "name": "stderr",
     "output_type": "stream",
     "text": [
      "\r",
      " 84%|████████████████████████████████████████████████████████████████████▋             | 36/43 [00:03<00:00,  9.37it/s]"
     ]
    },
    {
     "data": {
      "image/png": "[encoded data removed]",
      "text/plain": [
       "<Figure size 432x288 with 1 Axes>"
      ]
     },
     "metadata": {
      "needs_background": "light"
     },
     "output_type": "display_data"
    },
    {
     "data": {
      "image/png": "[encoded data removed]",
      "text/plain": [
       "<Figure size 432x288 with 1 Axes>"
      ]
     },
     "metadata": {
      "needs_background": "light"
     },
     "output_type": "display_data"
    },
    {
     "name": "stderr",
     "output_type": "stream",
     "text": [
      "\r",
      " 88%|████████████████████████████████████████████████████████████████████████▍         | 38/43 [00:04<00:00,  9.74it/s]"
     ]
    },
    {
     "data": {
      "image/png": "[encoded data removed]",
      "text/plain": [
       "<Figure size 432x288 with 1 Axes>"
      ]
     },
     "metadata": {
      "needs_background": "light"
     },
     "output_type": "display_data"
    },
    {
     "name": "stderr",
     "output_type": "stream",
     "text": [
      "\r",
      " 91%|██████████████████████████████████████████████████████████████████████████▎       | 39/43 [00:04<00:00,  8.26it/s]"
     ]
    },
    {
     "data": {
      "image/png": "[encoded data removed]",
      "text/plain": [
       "<Figure size 432x288 with 1 Axes>"
      ]
     },
     "metadata": {
      "needs_background": "light"
     },
     "output_type": "display_data"
    },
    {
     "data": {
      "image/png": "[encoded data removed]",
      "text/plain": [
       "<Figure size 432x288 with 1 Axes>"
      ]
     },
     "metadata": {
      "needs_background": "light"
     },
     "output_type": "display_data"
    },
    {
     "name": "stderr",
     "output_type": "stream",
     "text": [
      "\r",
      " 95%|██████████████████████████████████████████████████████████████████████████████▏   | 41/43 [00:04<00:00,  9.06it/s]"
     ]
    },
    {
     "data": {
      "image/png": "[encoded data removed]",
      "text/plain": [
       "<Figure size 432x288 with 1 Axes>"
      ]
     },
     "metadata": {
      "needs_background": "light"
     },
     "output_type": "display_data"
    },
    {
     "data": {
      "image/png": "[encoded data removed]",
      "text/plain": [
       "<Figure size 432x288 with 1 Axes>"
      ]
     },
     "metadata": {
      "needs_background": "light"
     },
     "output_type": "display_data"
    },
    {
     "name": "stderr",
     "output_type": "stream",
     "text": [
      "100%|██████████████████████████████████████████████████████████████████████████████████| 43/43 [00:04<00:00,  9.21it/s]\n"
     ]
    }
   ],
   "source": [
    "for i in tqdm(new_ms.emd_nm.unique()):\n",
    "    y1 = new_ms[ (new_ms.emd_nm == i) & (new_ms.sex == '남성') ]['total_pop']\n",
    "    x1 = '남성'\n",
    "    x2 = '여성' \n",
    "    y2 = new_ms[ (new_ms.emd_nm == i) & (new_ms.sex == '여성') ]['total_pop']\n",
    "    plt.title(i)\n",
    "    plt.bar(x1,y1 , color = 'lightblue')\n",
    "    plt.bar(x2,y2 , color = 'lightpink')\n",
    "    \n",
    "    plt.show()"
   ]
  },
  {
   "cell_type": "code",
   "execution_count": 102,
   "id": "c51a7dfb",
   "metadata": {
    "ExecuteTime": {
     "end_time": "2021-09-14T09:16:05.040562Z",
     "start_time": "2021-09-14T09:16:04.773929Z"
    }
   },
   "outputs": [
    {
     "data": {
      "image/png": "[encoded data removed]",
      "text/plain": [
       "<Figure size 432x288 with 1 Axes>"
      ]
     },
     "metadata": {
      "needs_background": "light"
     },
     "output_type": "display_data"
    }
   ],
   "source": [
    "# 제주도 전체 남녀 차이\n",
    "\n",
    "y1 = new_ms[new_ms.sex == '남성' ]['total_pop']\n",
    "x1 = '남성'\n",
    "x2 = '여성' \n",
    "y2 = new_ms[new_ms.sex == '여성']['total_pop']\n",
    "plt.title('제주도 성별 차이')\n",
    "plt.bar(x1,y1 ,width = 0.5 ,color = 'lightblue')\n",
    "plt.bar(x2,y2, width = 0.5, color = 'lightpink')\n",
    "    \n",
    "plt.show()"
   ]
  },
  {
   "cell_type": "markdown",
   "id": "5f6646a6",
   "metadata": {},
   "source": [
    "##### 내국인, 외국인"
   ]
  },
  {
   "cell_type": "code",
   "execution_count": 184,
   "id": "36701d0d",
   "metadata": {
    "ExecuteTime": {
     "end_time": "2021-08-07T12:02:27.648712Z",
     "start_time": "2021-08-07T12:02:27.622037Z"
    },
    "scrolled": true
   },
   "outputs": [
    {
     "data": {
      "text/plain": [
       "emd_nm\n",
       "한림읍     1788.083333\n",
       "노형동     1093.321429\n",
       "연동       982.428571\n",
       "성산읍      845.761905\n",
       "대정읍      842.464286\n",
       "동홍동      595.059524\n",
       "아라동      567.535714\n",
       "애월읍      522.916667\n",
       "남원읍      364.833333\n",
       "이도2동     321.142857\n",
       "안덕면      313.166667\n",
       "구좌읍      304.702381\n",
       "조천읍      291.857143\n",
       "송산동      276.571429\n",
       "표선면      204.642857\n",
       "화북동      195.059524\n",
       "한경면      181.678571\n",
       "추자면      157.023810\n",
       "중문동      155.297619\n",
       "일도2동     149.952381\n",
       "외도동      146.583333\n",
       "삼도2동     130.095238\n",
       "예래동      125.678571\n",
       "삼양동      123.750000\n",
       "건입동      123.321429\n",
       "용담2동     118.226190\n",
       "오라동      115.976190\n",
       "대천동      111.273810\n",
       "대륜동      101.119048\n",
       "영천동       90.119048\n",
       "이호동       83.880952\n",
       "삼도1동      81.928571\n",
       "이도1동      66.607143\n",
       "도두동       63.345238\n",
       "서홍동       61.511905\n",
       "정방동       57.726190\n",
       "천지동       55.392857\n",
       "중앙동       47.095238\n",
       "일도1동      44.773810\n",
       "봉개동       43.916667\n",
       "용담1동      43.916667\n",
       "효돈동       38.273810\n",
       "우도면       15.630952\n",
       "Name: foreign_pop, dtype: float64"
      ]
     },
     "execution_count": 184,
     "metadata": {},
     "output_type": "execute_result"
    }
   ],
   "source": [
    "new_pop.groupby('emd_nm')['resid_reg_pop'].mean().sort_values(ascending=False)\n",
    "new_pop.groupby('emd_nm')['foreign_pop'].mean().sort_values(ascending=False)`"
   ]
  },
  {
   "cell_type": "code",
   "execution_count": 68,
   "id": "c66d2ddc",
   "metadata": {
    "ExecuteTime": {
     "end_time": "2021-09-14T08:32:24.940675Z",
     "start_time": "2021-09-14T08:32:24.920721Z"
    }
   },
   "outputs": [
    {
     "data": {
      "text/html": [
       "<div>\n",
       "<style scoped>\n",
       "    .dataframe tbody tr th:only-of-type {\n",
       "        vertical-align: middle;\n",
       "    }\n",
       "\n",
       "    .dataframe tbody tr th {\n",
       "        vertical-align: top;\n",
       "    }\n",
       "\n",
       "    .dataframe thead th {\n",
       "        text-align: right;\n",
       "    }\n",
       "</style>\n",
       "<table border=\"1\" class=\"dataframe\">\n",
       "  <thead>\n",
       "    <tr style=\"text-align: right;\">\n",
       "      <th></th>\n",
       "      <th>foreign_pop</th>\n",
       "    </tr>\n",
       "    <tr>\n",
       "      <th>emd_nm</th>\n",
       "      <th></th>\n",
       "    </tr>\n",
       "  </thead>\n",
       "  <tbody>\n",
       "    <tr>\n",
       "      <th>한림읍</th>\n",
       "      <td>1788.083333</td>\n",
       "    </tr>\n",
       "    <tr>\n",
       "      <th>노형동</th>\n",
       "      <td>1093.321429</td>\n",
       "    </tr>\n",
       "    <tr>\n",
       "      <th>연동</th>\n",
       "      <td>982.428571</td>\n",
       "    </tr>\n",
       "    <tr>\n",
       "      <th>성산읍</th>\n",
       "      <td>845.761905</td>\n",
       "    </tr>\n",
       "    <tr>\n",
       "      <th>대정읍</th>\n",
       "      <td>842.464286</td>\n",
       "    </tr>\n",
       "  </tbody>\n",
       "</table>\n",
       "</div>"
      ],
      "text/plain": [
       "        foreign_pop\n",
       "emd_nm             \n",
       "한림읍     1788.083333\n",
       "노형동     1093.321429\n",
       "연동       982.428571\n",
       "성산읍      845.761905\n",
       "대정읍      842.464286"
      ]
     },
     "execution_count": 68,
     "metadata": {},
     "output_type": "execute_result"
    }
   ],
   "source": [
    "pd.DataFrame(new_pop.groupby('emd_nm')['foreign_pop'].mean().sort_values(ascending=False)).head(5)"
   ]
  },
  {
   "cell_type": "code",
   "execution_count": 190,
   "id": "852c0015",
   "metadata": {
    "ExecuteTime": {
     "end_time": "2021-08-07T12:40:58.776153Z",
     "start_time": "2021-08-07T12:40:58.166062Z"
    }
   },
   "outputs": [
    {
     "data": {
      "text/plain": [
       "<AxesSubplot:ylabel='emd_nm'>"
      ]
     },
     "execution_count": 190,
     "metadata": {},
     "output_type": "execute_result"
    },
    {
     "data": {
      "image/png": "[encoded data removed]",
      "text/plain": [
       "<Figure size 864x576 with 1 Axes>"
      ]
     },
     "metadata": {
      "needs_background": "light"
     },
     "output_type": "display_data"
    }
   ],
   "source": [
    "plt.figure(figsize = (12,8))\n",
    "new_pop.groupby('emd_nm')['foreign_pop'].mean().sort_values(ascending=False).plot.barh()"
   ]
  },
  {
   "cell_type": "code",
   "execution_count": 61,
   "id": "8f5b498a",
   "metadata": {
    "ExecuteTime": {
     "end_time": "2021-09-14T08:14:24.176351Z",
     "start_time": "2021-09-14T08:14:24.141447Z"
    },
    "scrolled": true
   },
   "outputs": [
    {
     "data": {
      "text/html": [
       "<div>\n",
       "<style scoped>\n",
       "    .dataframe tbody tr th:only-of-type {\n",
       "        vertical-align: middle;\n",
       "    }\n",
       "\n",
       "    .dataframe tbody tr th {\n",
       "        vertical-align: top;\n",
       "    }\n",
       "\n",
       "    .dataframe thead th {\n",
       "        text-align: right;\n",
       "    }\n",
       "</style>\n",
       "<table border=\"1\" class=\"dataframe\">\n",
       "  <thead>\n",
       "    <tr style=\"text-align: right;\">\n",
       "      <th></th>\n",
       "      <th>emd_nm</th>\n",
       "      <th>resid_reg_pop</th>\n",
       "      <th>foreign_pop</th>\n",
       "      <th>total_pop</th>\n",
       "    </tr>\n",
       "  </thead>\n",
       "  <tbody>\n",
       "    <tr>\n",
       "      <th>0</th>\n",
       "      <td>건입동</td>\n",
       "      <td>4682.333333</td>\n",
       "      <td>123.321429</td>\n",
       "      <td>4805.654762</td>\n",
       "    </tr>\n",
       "    <tr>\n",
       "      <th>1</th>\n",
       "      <td>구좌읍</td>\n",
       "      <td>7786.404762</td>\n",
       "      <td>304.702381</td>\n",
       "      <td>8091.107143</td>\n",
       "    </tr>\n",
       "    <tr>\n",
       "      <th>2</th>\n",
       "      <td>남원읍</td>\n",
       "      <td>9477.773810</td>\n",
       "      <td>364.833333</td>\n",
       "      <td>9842.607143</td>\n",
       "    </tr>\n",
       "    <tr>\n",
       "      <th>3</th>\n",
       "      <td>노형동</td>\n",
       "      <td>27087.523810</td>\n",
       "      <td>1093.321429</td>\n",
       "      <td>28180.845238</td>\n",
       "    </tr>\n",
       "    <tr>\n",
       "      <th>4</th>\n",
       "      <td>대륜동</td>\n",
       "      <td>7164.488095</td>\n",
       "      <td>101.119048</td>\n",
       "      <td>7265.607143</td>\n",
       "    </tr>\n",
       "    <tr>\n",
       "      <th>5</th>\n",
       "      <td>대정읍</td>\n",
       "      <td>10721.642857</td>\n",
       "      <td>842.464286</td>\n",
       "      <td>11564.107143</td>\n",
       "    </tr>\n",
       "    <tr>\n",
       "      <th>6</th>\n",
       "      <td>대천동</td>\n",
       "      <td>6848.726190</td>\n",
       "      <td>111.273810</td>\n",
       "      <td>6960.000000</td>\n",
       "    </tr>\n",
       "    <tr>\n",
       "      <th>7</th>\n",
       "      <td>도두동</td>\n",
       "      <td>1580.535714</td>\n",
       "      <td>63.345238</td>\n",
       "      <td>1643.880952</td>\n",
       "    </tr>\n",
       "    <tr>\n",
       "      <th>8</th>\n",
       "      <td>동홍동</td>\n",
       "      <td>11503.071429</td>\n",
       "      <td>595.059524</td>\n",
       "      <td>12098.130952</td>\n",
       "    </tr>\n",
       "    <tr>\n",
       "      <th>9</th>\n",
       "      <td>봉개동</td>\n",
       "      <td>2453.630952</td>\n",
       "      <td>43.916667</td>\n",
       "      <td>2497.547619</td>\n",
       "    </tr>\n",
       "    <tr>\n",
       "      <th>10</th>\n",
       "      <td>삼도1동</td>\n",
       "      <td>6958.250000</td>\n",
       "      <td>81.928571</td>\n",
       "      <td>7040.178571</td>\n",
       "    </tr>\n",
       "    <tr>\n",
       "      <th>11</th>\n",
       "      <td>삼도2동</td>\n",
       "      <td>4123.154762</td>\n",
       "      <td>130.095238</td>\n",
       "      <td>4253.250000</td>\n",
       "    </tr>\n",
       "    <tr>\n",
       "      <th>12</th>\n",
       "      <td>삼양동</td>\n",
       "      <td>12629.130952</td>\n",
       "      <td>123.750000</td>\n",
       "      <td>12752.880952</td>\n",
       "    </tr>\n",
       "    <tr>\n",
       "      <th>13</th>\n",
       "      <td>서홍동</td>\n",
       "      <td>5283.761905</td>\n",
       "      <td>61.511905</td>\n",
       "      <td>5345.273810</td>\n",
       "    </tr>\n",
       "    <tr>\n",
       "      <th>14</th>\n",
       "      <td>성산읍</td>\n",
       "      <td>7721.226190</td>\n",
       "      <td>845.761905</td>\n",
       "      <td>8566.988095</td>\n",
       "    </tr>\n",
       "    <tr>\n",
       "      <th>15</th>\n",
       "      <td>송산동</td>\n",
       "      <td>2140.809524</td>\n",
       "      <td>276.571429</td>\n",
       "      <td>2417.380952</td>\n",
       "    </tr>\n",
       "    <tr>\n",
       "      <th>16</th>\n",
       "      <td>아라동</td>\n",
       "      <td>17292.345238</td>\n",
       "      <td>567.535714</td>\n",
       "      <td>17859.880952</td>\n",
       "    </tr>\n",
       "    <tr>\n",
       "      <th>17</th>\n",
       "      <td>안덕면</td>\n",
       "      <td>5955.511905</td>\n",
       "      <td>313.166667</td>\n",
       "      <td>6268.678571</td>\n",
       "    </tr>\n",
       "    <tr>\n",
       "      <th>18</th>\n",
       "      <td>애월읍</td>\n",
       "      <td>17998.928571</td>\n",
       "      <td>522.916667</td>\n",
       "      <td>18521.845238</td>\n",
       "    </tr>\n",
       "    <tr>\n",
       "      <th>19</th>\n",
       "      <td>연동</td>\n",
       "      <td>20792.500000</td>\n",
       "      <td>982.428571</td>\n",
       "      <td>21774.928571</td>\n",
       "    </tr>\n",
       "    <tr>\n",
       "      <th>20</th>\n",
       "      <td>영천동</td>\n",
       "      <td>2625.714286</td>\n",
       "      <td>90.119048</td>\n",
       "      <td>2715.833333</td>\n",
       "    </tr>\n",
       "    <tr>\n",
       "      <th>21</th>\n",
       "      <td>예래동</td>\n",
       "      <td>2002.059524</td>\n",
       "      <td>125.678571</td>\n",
       "      <td>2127.738095</td>\n",
       "    </tr>\n",
       "    <tr>\n",
       "      <th>22</th>\n",
       "      <td>오라동</td>\n",
       "      <td>7549.654762</td>\n",
       "      <td>115.976190</td>\n",
       "      <td>7665.630952</td>\n",
       "    </tr>\n",
       "    <tr>\n",
       "      <th>23</th>\n",
       "      <td>외도동</td>\n",
       "      <td>10813.154762</td>\n",
       "      <td>146.583333</td>\n",
       "      <td>10959.738095</td>\n",
       "    </tr>\n",
       "    <tr>\n",
       "      <th>24</th>\n",
       "      <td>용담1동</td>\n",
       "      <td>3663.083333</td>\n",
       "      <td>43.916667</td>\n",
       "      <td>3707.000000</td>\n",
       "    </tr>\n",
       "    <tr>\n",
       "      <th>25</th>\n",
       "      <td>용담2동</td>\n",
       "      <td>7579.202381</td>\n",
       "      <td>118.226190</td>\n",
       "      <td>7697.428571</td>\n",
       "    </tr>\n",
       "    <tr>\n",
       "      <th>26</th>\n",
       "      <td>우도면</td>\n",
       "      <td>913.369048</td>\n",
       "      <td>15.630952</td>\n",
       "      <td>929.000000</td>\n",
       "    </tr>\n",
       "    <tr>\n",
       "      <th>27</th>\n",
       "      <td>이도1동</td>\n",
       "      <td>3864.571429</td>\n",
       "      <td>66.607143</td>\n",
       "      <td>3931.178571</td>\n",
       "    </tr>\n",
       "    <tr>\n",
       "      <th>28</th>\n",
       "      <td>이도2동</td>\n",
       "      <td>24937.047619</td>\n",
       "      <td>321.142857</td>\n",
       "      <td>25258.190476</td>\n",
       "    </tr>\n",
       "    <tr>\n",
       "      <th>29</th>\n",
       "      <td>이호동</td>\n",
       "      <td>2252.535714</td>\n",
       "      <td>83.880952</td>\n",
       "      <td>2336.416667</td>\n",
       "    </tr>\n",
       "    <tr>\n",
       "      <th>30</th>\n",
       "      <td>일도1동</td>\n",
       "      <td>1380.488095</td>\n",
       "      <td>44.773810</td>\n",
       "      <td>1425.261905</td>\n",
       "    </tr>\n",
       "    <tr>\n",
       "      <th>31</th>\n",
       "      <td>일도2동</td>\n",
       "      <td>16916.416667</td>\n",
       "      <td>149.952381</td>\n",
       "      <td>17066.369048</td>\n",
       "    </tr>\n",
       "    <tr>\n",
       "      <th>32</th>\n",
       "      <td>정방동</td>\n",
       "      <td>1144.035714</td>\n",
       "      <td>57.726190</td>\n",
       "      <td>1201.761905</td>\n",
       "    </tr>\n",
       "    <tr>\n",
       "      <th>33</th>\n",
       "      <td>조천읍</td>\n",
       "      <td>12291.023810</td>\n",
       "      <td>291.857143</td>\n",
       "      <td>12582.880952</td>\n",
       "    </tr>\n",
       "    <tr>\n",
       "      <th>34</th>\n",
       "      <td>중문동</td>\n",
       "      <td>5638.440476</td>\n",
       "      <td>155.297619</td>\n",
       "      <td>5793.738095</td>\n",
       "    </tr>\n",
       "    <tr>\n",
       "      <th>35</th>\n",
       "      <td>중앙동</td>\n",
       "      <td>1862.559524</td>\n",
       "      <td>47.095238</td>\n",
       "      <td>1909.654762</td>\n",
       "    </tr>\n",
       "    <tr>\n",
       "      <th>36</th>\n",
       "      <td>천지동</td>\n",
       "      <td>1773.940476</td>\n",
       "      <td>55.392857</td>\n",
       "      <td>1829.333333</td>\n",
       "    </tr>\n",
       "    <tr>\n",
       "      <th>37</th>\n",
       "      <td>추자면</td>\n",
       "      <td>869.940476</td>\n",
       "      <td>157.023810</td>\n",
       "      <td>1026.964286</td>\n",
       "    </tr>\n",
       "    <tr>\n",
       "      <th>38</th>\n",
       "      <td>표선면</td>\n",
       "      <td>6162.773810</td>\n",
       "      <td>204.642857</td>\n",
       "      <td>6367.416667</td>\n",
       "    </tr>\n",
       "    <tr>\n",
       "      <th>39</th>\n",
       "      <td>한경면</td>\n",
       "      <td>4533.119048</td>\n",
       "      <td>181.678571</td>\n",
       "      <td>4714.797619</td>\n",
       "    </tr>\n",
       "    <tr>\n",
       "      <th>40</th>\n",
       "      <td>한림읍</td>\n",
       "      <td>10625.154762</td>\n",
       "      <td>1788.083333</td>\n",
       "      <td>12413.238095</td>\n",
       "    </tr>\n",
       "    <tr>\n",
       "      <th>41</th>\n",
       "      <td>화북동</td>\n",
       "      <td>12400.773810</td>\n",
       "      <td>195.059524</td>\n",
       "      <td>12595.833333</td>\n",
       "    </tr>\n",
       "    <tr>\n",
       "      <th>42</th>\n",
       "      <td>효돈동</td>\n",
       "      <td>2643.547619</td>\n",
       "      <td>38.273810</td>\n",
       "      <td>2681.821429</td>\n",
       "    </tr>\n",
       "  </tbody>\n",
       "</table>\n",
       "</div>"
      ],
      "text/plain": [
       "   emd_nm  resid_reg_pop  foreign_pop     total_pop\n",
       "0     건입동    4682.333333   123.321429   4805.654762\n",
       "1     구좌읍    7786.404762   304.702381   8091.107143\n",
       "2     남원읍    9477.773810   364.833333   9842.607143\n",
       "3     노형동   27087.523810  1093.321429  28180.845238\n",
       "4     대륜동    7164.488095   101.119048   7265.607143\n",
       "5     대정읍   10721.642857   842.464286  11564.107143\n",
       "6     대천동    6848.726190   111.273810   6960.000000\n",
       "7     도두동    1580.535714    63.345238   1643.880952\n",
       "8     동홍동   11503.071429   595.059524  12098.130952\n",
       "9     봉개동    2453.630952    43.916667   2497.547619\n",
       "10   삼도1동    6958.250000    81.928571   7040.178571\n",
       "11   삼도2동    4123.154762   130.095238   4253.250000\n",
       "12    삼양동   12629.130952   123.750000  12752.880952\n",
       "13    서홍동    5283.761905    61.511905   5345.273810\n",
       "14    성산읍    7721.226190   845.761905   8566.988095\n",
       "15    송산동    2140.809524   276.571429   2417.380952\n",
       "16    아라동   17292.345238   567.535714  17859.880952\n",
       "17    안덕면    5955.511905   313.166667   6268.678571\n",
       "18    애월읍   17998.928571   522.916667  18521.845238\n",
       "19     연동   20792.500000   982.428571  21774.928571\n",
       "20    영천동    2625.714286    90.119048   2715.833333\n",
       "21    예래동    2002.059524   125.678571   2127.738095\n",
       "22    오라동    7549.654762   115.976190   7665.630952\n",
       "23    외도동   10813.154762   146.583333  10959.738095\n",
       "24   용담1동    3663.083333    43.916667   3707.000000\n",
       "25   용담2동    7579.202381   118.226190   7697.428571\n",
       "26    우도면     913.369048    15.630952    929.000000\n",
       "27   이도1동    3864.571429    66.607143   3931.178571\n",
       "28   이도2동   24937.047619   321.142857  25258.190476\n",
       "29    이호동    2252.535714    83.880952   2336.416667\n",
       "30   일도1동    1380.488095    44.773810   1425.261905\n",
       "31   일도2동   16916.416667   149.952381  17066.369048\n",
       "32    정방동    1144.035714    57.726190   1201.761905\n",
       "33    조천읍   12291.023810   291.857143  12582.880952\n",
       "34    중문동    5638.440476   155.297619   5793.738095\n",
       "35    중앙동    1862.559524    47.095238   1909.654762\n",
       "36    천지동    1773.940476    55.392857   1829.333333\n",
       "37    추자면     869.940476   157.023810   1026.964286\n",
       "38    표선면    6162.773810   204.642857   6367.416667\n",
       "39    한경면    4533.119048   181.678571   4714.797619\n",
       "40    한림읍   10625.154762  1788.083333  12413.238095\n",
       "41    화북동   12400.773810   195.059524  12595.833333\n",
       "42    효돈동    2643.547619    38.273810   2681.821429"
      ]
     },
     "execution_count": 61,
     "metadata": {},
     "output_type": "execute_result"
    }
   ],
   "source": [
    "rf = ms.groupby(['emd_nm'])[['resid_reg_pop','foreign_pop','total_pop']].mean().reset_index()\n",
    "rf"
   ]
  },
  {
   "cell_type": "code",
   "execution_count": 106,
   "id": "bf8fb8f0",
   "metadata": {
    "ExecuteTime": {
     "end_time": "2021-09-14T09:17:56.452295Z",
     "start_time": "2021-09-14T09:17:51.642918Z"
    }
   },
   "outputs": [
    {
     "name": "stderr",
     "output_type": "stream",
     "text": [
      "\r",
      "  0%|                                                                                           | 0/43 [00:00<?, ?it/s]"
     ]
    },
    {
     "data": {
      "image/png": "[encoded data removed]",
      "text/plain": [
       "<Figure size 432x288 with 1 Axes>"
      ]
     },
     "metadata": {
      "needs_background": "light"
     },
     "output_type": "display_data"
    },
    {
     "name": "stderr",
     "output_type": "stream",
     "text": [
      "\r",
      "  2%|█▉                                                                                 | 1/43 [00:00<00:04,  9.46it/s]"
     ]
    },
    {
     "data": {
      "image/png": "[encoded data removed]",
      "text/plain": [
       "<Figure size 432x288 with 1 Axes>"
      ]
     },
     "metadata": {
      "needs_background": "light"
     },
     "output_type": "display_data"
    },
    {
     "name": "stderr",
     "output_type": "stream",
     "text": [
      "\r",
      "  5%|███▊                                                                               | 2/43 [00:00<00:04,  9.34it/s]"
     ]
    },
    {
     "data": {
      "image/png": "[encoded data removed]",
      "text/plain": [
       "<Figure size 432x288 with 1 Axes>"
      ]
     },
     "metadata": {
      "needs_background": "light"
     },
     "output_type": "display_data"
    },
    {
     "data": {
      "image/png": "[encoded data removed]",
      "text/plain": [
       "<Figure size 432x288 with 1 Axes>"
      ]
     },
     "metadata": {
      "needs_background": "light"
     },
     "output_type": "display_data"
    },
    {
     "name": "stderr",
     "output_type": "stream",
     "text": [
      "\r",
      "  9%|███████▋                                                                           | 4/43 [00:00<00:03, 10.03it/s]"
     ]
    },
    {
     "data": {
      "image/png": "[encoded data removed]",
      "text/plain": [
       "<Figure size 432x288 with 1 Axes>"
      ]
     },
     "metadata": {
      "needs_background": "light"
     },
     "output_type": "display_data"
    },
    {
     "name": "stderr",
     "output_type": "stream",
     "text": [
      "\r",
      " 12%|█████████▋                                                                         | 5/43 [00:00<00:03,  9.64it/s]"
     ]
    },
    {
     "data": {
      "image/png": "[encoded data removed]",
      "text/plain": [
       "<Figure size 432x288 with 1 Axes>"
      ]
     },
     "metadata": {
      "needs_background": "light"
     },
     "output_type": "display_data"
    },
    {
     "name": "stderr",
     "output_type": "stream",
     "text": [
      "\r",
      " 14%|███████████▌                                                                       | 6/43 [00:00<00:03,  9.38it/s]"
     ]
    },
    {
     "data": {
      "image/png": "[encoded data removed]",
      "text/plain": [
       "<Figure size 432x288 with 1 Axes>"
      ]
     },
     "metadata": {
      "needs_background": "light"
     },
     "output_type": "display_data"
    },
    {
     "name": "stderr",
     "output_type": "stream",
     "text": [
      "\r",
      " 16%|█████████████▌                                                                     | 7/43 [00:00<00:04,  8.95it/s]"
     ]
    },
    {
     "data": {
      "image/png": "[encoded data removed]",
      "text/plain": [
       "<Figure size 432x288 with 1 Axes>"
      ]
     },
     "metadata": {
      "needs_background": "light"
     },
     "output_type": "display_data"
    },
    {
     "name": "stderr",
     "output_type": "stream",
     "text": [
      "\r",
      " 19%|███████████████▍                                                                   | 8/43 [00:00<00:03,  8.92it/s]"
     ]
    },
    {
     "data": {
      "image/png": "[encoded data removed]",
      "text/plain": [
       "<Figure size 432x288 with 1 Axes>"
      ]
     },
     "metadata": {
      "needs_background": "light"
     },
     "output_type": "display_data"
    },
    {
     "name": "stderr",
     "output_type": "stream",
     "text": [
      "\r",
      " 21%|█████████████████▎                                                                 | 9/43 [00:00<00:03,  9.07it/s]"
     ]
    },
    {
     "data": {
      "image/png": "[encoded data removed]",
      "text/plain": [
       "<Figure size 432x288 with 1 Axes>"
      ]
     },
     "metadata": {
      "needs_background": "light"
     },
     "output_type": "display_data"
    },
    {
     "name": "stderr",
     "output_type": "stream",
     "text": [
      "\r",
      " 23%|███████████████████                                                               | 10/43 [00:01<00:03,  9.04it/s]"
     ]
    },
    {
     "data": {
      "image/png": "[encoded data removed]",
      "text/plain": [
       "<Figure size 432x288 with 1 Axes>"
      ]
     },
     "metadata": {
      "needs_background": "light"
     },
     "output_type": "display_data"
    },
    {
     "name": "stderr",
     "output_type": "stream",
     "text": [
      "\r",
      " 26%|████████████████████▉                                                             | 11/43 [00:01<00:03,  9.06it/s]"
     ]
    },
    {
     "data": {
      "image/png": "[encoded data removed]",
      "text/plain": [
       "<Figure size 432x288 with 1 Axes>"
      ]
     },
     "metadata": {
      "needs_background": "light"
     },
     "output_type": "display_data"
    },
    {
     "name": "stderr",
     "output_type": "stream",
     "text": [
      "\r",
      " 28%|██████████████████████▉                                                           | 12/43 [00:01<00:03,  8.83it/s]"
     ]
    },
    {
     "data": {
      "image/png": "[encoded data removed]",
      "text/plain": [
       "<Figure size 432x288 with 1 Axes>"
      ]
     },
     "metadata": {
      "needs_background": "light"
     },
     "output_type": "display_data"
    },
    {
     "name": "stderr",
     "output_type": "stream",
     "text": [
      "\r",
      " 30%|████████████████████████▊                                                         | 13/43 [00:01<00:03,  9.04it/s]"
     ]
    },
    {
     "data": {
      "image/png": "[encoded data removed]",
      "text/plain": [
       "<Figure size 432x288 with 1 Axes>"
      ]
     },
     "metadata": {
      "needs_background": "light"
     },
     "output_type": "display_data"
    },
    {
     "name": "stderr",
     "output_type": "stream",
     "text": [
      "\r",
      " 33%|██████████████████████████▋                                                       | 14/43 [00:01<00:03,  9.23it/s]"
     ]
    },
    {
     "data": {
      "image/png": "[encoded data removed]",
      "text/plain": [
       "<Figure size 432x288 with 1 Axes>"
      ]
     },
     "metadata": {
      "needs_background": "light"
     },
     "output_type": "display_data"
    },
    {
     "name": "stderr",
     "output_type": "stream",
     "text": [
      "\r",
      " 35%|████████████████████████████▌                                                     | 15/43 [00:01<00:03,  9.15it/s]"
     ]
    },
    {
     "data": {
      "image/png": "[encoded data removed]",
      "text/plain": [
       "<Figure size 432x288 with 1 Axes>"
      ]
     },
     "metadata": {
      "needs_background": "light"
     },
     "output_type": "display_data"
    },
    {
     "name": "stderr",
     "output_type": "stream",
     "text": [
      "\r",
      " 37%|██████████████████████████████▌                                                   | 16/43 [00:01<00:03,  8.64it/s]"
     ]
    },
    {
     "data": {
      "image/png": "[encoded data removed]",
      "text/plain": [
       "<Figure size 432x288 with 1 Axes>"
      ]
     },
     "metadata": {
      "needs_background": "light"
     },
     "output_type": "display_data"
    },
    {
     "name": "stderr",
     "output_type": "stream",
     "text": [
      "\r",
      " 40%|████████████████████████████████▍                                                 | 17/43 [00:01<00:02,  8.76it/s]"
     ]
    },
    {
     "data": {
      "image/png": "[encoded data removed]",
      "text/plain": [
       "<Figure size 432x288 with 1 Axes>"
      ]
     },
     "metadata": {
      "needs_background": "light"
     },
     "output_type": "display_data"
    },
    {
     "name": "stderr",
     "output_type": "stream",
     "text": [
      "\r",
      " 42%|██████████████████████████████████▎                                               | 18/43 [00:02<00:03,  6.70it/s]"
     ]
    },
    {
     "data": {
      "image/png": "[encoded data removed]",
      "text/plain": [
       "<Figure size 432x288 with 1 Axes>"
      ]
     },
     "metadata": {
      "needs_background": "light"
     },
     "output_type": "display_data"
    },
    {
     "name": "stderr",
     "output_type": "stream",
     "text": [
      "\r",
      " 44%|████████████████████████████████████▏                                             | 19/43 [00:02<00:03,  7.14it/s]"
     ]
    },
    {
     "data": {
      "image/png": "[encoded data removed]",
      "text/plain": [
       "<Figure size 432x288 with 1 Axes>"
      ]
     },
     "metadata": {
      "needs_background": "light"
     },
     "output_type": "display_data"
    },
    {
     "name": "stderr",
     "output_type": "stream",
     "text": [
      "\r",
      " 47%|██████████████████████████████████████▏                                           | 20/43 [00:02<00:03,  7.13it/s]"
     ]
    },
    {
     "data": {
      "image/png": "[encoded data removed]",
      "text/plain": [
       "<Figure size 432x288 with 1 Axes>"
      ]
     },
     "metadata": {
      "needs_background": "light"
     },
     "output_type": "display_data"
    },
    {
     "name": "stderr",
     "output_type": "stream",
     "text": [
      "\r",
      " 49%|████████████████████████████████████████                                          | 21/43 [00:02<00:02,  7.73it/s]"
     ]
    },
    {
     "data": {
      "image/png": "[encoded data removed]",
      "text/plain": [
       "<Figure size 432x288 with 1 Axes>"
      ]
     },
     "metadata": {
      "needs_background": "light"
     },
     "output_type": "display_data"
    },
    {
     "name": "stderr",
     "output_type": "stream",
     "text": [
      "\r",
      " 51%|█████████████████████████████████████████▉                                        | 22/43 [00:02<00:02,  7.91it/s]"
     ]
    },
    {
     "data": {
      "image/png": "[encoded data removed]",
      "text/plain": [
       "<Figure size 432x288 with 1 Axes>"
      ]
     },
     "metadata": {
      "needs_background": "light"
     },
     "output_type": "display_data"
    },
    {
     "name": "stderr",
     "output_type": "stream",
     "text": [
      "\r",
      " 53%|███████████████████████████████████████████▊                                      | 23/43 [00:02<00:02,  8.02it/s]"
     ]
    },
    {
     "data": {
      "image/png": "[encoded data removed]",
      "text/plain": [
       "<Figure size 432x288 with 1 Axes>"
      ]
     },
     "metadata": {
      "needs_background": "light"
     },
     "output_type": "display_data"
    },
    {
     "name": "stderr",
     "output_type": "stream",
     "text": [
      "\r",
      " 56%|█████████████████████████████████████████████▊                                    | 24/43 [00:02<00:02,  8.49it/s]"
     ]
    },
    {
     "data": {
      "image/png": "[encoded data removed]",
      "text/plain": [
       "<Figure size 432x288 with 1 Axes>"
      ]
     },
     "metadata": {
      "needs_background": "light"
     },
     "output_type": "display_data"
    },
    {
     "name": "stderr",
     "output_type": "stream",
     "text": [
      "\r",
      " 58%|███████████████████████████████████████████████▋                                  | 25/43 [00:02<00:02,  8.63it/s]"
     ]
    },
    {
     "data": {
      "image/png": "[encoded data removed]",
      "text/plain": [
       "<Figure size 432x288 with 1 Axes>"
      ]
     },
     "metadata": {
      "needs_background": "light"
     },
     "output_type": "display_data"
    },
    {
     "name": "stderr",
     "output_type": "stream",
     "text": [
      "\r",
      " 60%|█████████████████████████████████████████████████▌                                | 26/43 [00:03<00:01,  8.80it/s]"
     ]
    },
    {
     "data": {
      "image/png": "[encoded data removed]",
      "text/plain": [
       "<Figure size 432x288 with 1 Axes>"
      ]
     },
     "metadata": {
      "needs_background": "light"
     },
     "output_type": "display_data"
    },
    {
     "data": {
      "image/png": "[encoded data removed]",
      "text/plain": [
       "<Figure size 432x288 with 1 Axes>"
      ]
     },
     "metadata": {
      "needs_background": "light"
     },
     "output_type": "display_data"
    },
    {
     "name": "stderr",
     "output_type": "stream",
     "text": [
      "\r",
      " 65%|█████████████████████████████████████████████████████▍                            | 28/43 [00:03<00:01,  9.17it/s]"
     ]
    },
    {
     "data": {
      "image/png": "[encoded data removed]",
      "text/plain": [
       "<Figure size 432x288 with 1 Axes>"
      ]
     },
     "metadata": {
      "needs_background": "light"
     },
     "output_type": "display_data"
    },
    {
     "data": {
      "image/png": "[encoded data removed]",
      "text/plain": [
       "<Figure size 432x288 with 1 Axes>"
      ]
     },
     "metadata": {
      "needs_background": "light"
     },
     "output_type": "display_data"
    },
    {
     "name": "stderr",
     "output_type": "stream",
     "text": [
      "\r",
      " 70%|█████████████████████████████████████████████████████████▏                        | 30/43 [00:03<00:01,  9.67it/s]"
     ]
    },
    {
     "data": {
      "image/png": "[encoded data removed]",
      "text/plain": [
       "<Figure size 432x288 with 1 Axes>"
      ]
     },
     "metadata": {
      "needs_background": "light"
     },
     "output_type": "display_data"
    },
    {
     "name": "stderr",
     "output_type": "stream",
     "text": [
      "\r",
      " 72%|███████████████████████████████████████████████████████████                       | 31/43 [00:03<00:01,  9.61it/s]"
     ]
    },
    {
     "data": {
      "image/png": "[encoded data removed]",
      "text/plain": [
       "<Figure size 432x288 with 1 Axes>"
      ]
     },
     "metadata": {
      "needs_background": "light"
     },
     "output_type": "display_data"
    },
    {
     "name": "stderr",
     "output_type": "stream",
     "text": [
      "\r",
      " 74%|█████████████████████████████████████████████████████████████                     | 32/43 [00:03<00:01,  9.44it/s]"
     ]
    },
    {
     "data": {
      "image/png": "[encoded data removed]",
      "text/plain": [
       "<Figure size 432x288 with 1 Axes>"
      ]
     },
     "metadata": {
      "needs_background": "light"
     },
     "output_type": "display_data"
    },
    {
     "name": "stderr",
     "output_type": "stream",
     "text": [
      "\r",
      " 77%|██████████████████████████████████████████████████████████████▉                   | 33/43 [00:03<00:01,  9.48it/s]"
     ]
    },
    {
     "data": {
      "image/png": "[encoded data removed]",
      "text/plain": [
       "<Figure size 432x288 with 1 Axes>"
      ]
     },
     "metadata": {
      "needs_background": "light"
     },
     "output_type": "display_data"
    },
    {
     "data": {
      "image/png": "[encoded data removed]",
      "text/plain": [
       "<Figure size 432x288 with 1 Axes>"
      ]
     },
     "metadata": {
      "needs_background": "light"
     },
     "output_type": "display_data"
    },
    {
     "name": "stderr",
     "output_type": "stream",
     "text": [
      "\r",
      " 81%|██████████████████████████████████████████████████████████████████▋               | 35/43 [00:03<00:00,  9.96it/s]"
     ]
    },
    {
     "data": {
      "image/png": "[encoded data removed]",
      "text/plain": [
       "<Figure size 432x288 with 1 Axes>"
      ]
     },
     "metadata": {
      "needs_background": "light"
     },
     "output_type": "display_data"
    },
    {
     "name": "stderr",
     "output_type": "stream",
     "text": [
      "\r",
      " 84%|████████████████████████████████████████████████████████████████████▋             | 36/43 [00:04<00:00,  9.91it/s]"
     ]
    },
    {
     "data": {
      "image/png": "[encoded data removed]",
      "text/plain": [
       "<Figure size 432x288 with 1 Axes>"
      ]
     },
     "metadata": {
      "needs_background": "light"
     },
     "output_type": "display_data"
    },
    {
     "name": "stderr",
     "output_type": "stream",
     "text": [
      "\r",
      " 86%|██████████████████████████████████████████████████████████████████████▌           | 37/43 [00:04<00:00,  9.75it/s]"
     ]
    },
    {
     "data": {
      "image/png": "[encoded data removed]",
      "text/plain": [
       "<Figure size 432x288 with 1 Axes>"
      ]
     },
     "metadata": {
      "needs_background": "light"
     },
     "output_type": "display_data"
    },
    {
     "data": {
      "image/png": "[encoded data removed]",
      "text/plain": [
       "<Figure size 432x288 with 1 Axes>"
      ]
     },
     "metadata": {
      "needs_background": "light"
     },
     "output_type": "display_data"
    },
    {
     "name": "stderr",
     "output_type": "stream",
     "text": [
      "\r",
      " 91%|██████████████████████████████████████████████████████████████████████████▎       | 39/43 [00:04<00:00, 10.15it/s]"
     ]
    },
    {
     "data": {
      "image/png": "[encoded data removed]",
      "text/plain": [
       "<Figure size 432x288 with 1 Axes>"
      ]
     },
     "metadata": {
      "needs_background": "light"
     },
     "output_type": "display_data"
    },
    {
     "data": {
      "image/png": "[encoded data removed]",
      "text/plain": [
       "<Figure size 432x288 with 1 Axes>"
      ]
     },
     "metadata": {
      "needs_background": "light"
     },
     "output_type": "display_data"
    },
    {
     "name": "stderr",
     "output_type": "stream",
     "text": [
      "\r",
      " 95%|██████████████████████████████████████████████████████████████████████████████▏   | 41/43 [00:04<00:00,  8.87it/s]"
     ]
    },
    {
     "data": {
      "image/png": "[encoded data removed]",
      "text/plain": [
       "<Figure size 432x288 with 1 Axes>"
      ]
     },
     "metadata": {
      "needs_background": "light"
     },
     "output_type": "display_data"
    },
    {
     "data": {
      "image/png": "[encoded data removed]",
      "text/plain": [
       "<Figure size 432x288 with 1 Axes>"
      ]
     },
     "metadata": {
      "needs_background": "light"
     },
     "output_type": "display_data"
    },
    {
     "name": "stderr",
     "output_type": "stream",
     "text": [
      "100%|██████████████████████████████████████████████████████████████████████████████████| 43/43 [00:04<00:00,  8.97it/s]\n"
     ]
    }
   ],
   "source": [
    "for i in tqdm(rf.emd_nm.unique()):\n",
    "    y1 = rf[rf.emd_nm == i]['resid_reg_pop']\n",
    "    x1 = '내국인'\n",
    "    x2 = '외국인' \n",
    "    y2 = rf[rf.emd_nm == i]['foreign_pop']\n",
    "    plt.title(i)\n",
    "    plt.bar(x1,y1, color = 'orange')\n",
    "    plt.bar(x2,y2,color = 'lightgreen')\n",
    "    \n",
    "    plt.show()"
   ]
  },
  {
   "cell_type": "code",
   "execution_count": 92,
   "id": "fc3f1678",
   "metadata": {
    "ExecuteTime": {
     "end_time": "2021-09-14T09:04:25.599714Z",
     "start_time": "2021-09-14T09:04:25.566801Z"
    }
   },
   "outputs": [
    {
     "data": {
      "text/html": [
       "<div>\n",
       "<style scoped>\n",
       "    .dataframe tbody tr th:only-of-type {\n",
       "        vertical-align: middle;\n",
       "    }\n",
       "\n",
       "    .dataframe tbody tr th {\n",
       "        vertical-align: top;\n",
       "    }\n",
       "\n",
       "    .dataframe thead th {\n",
       "        text-align: right;\n",
       "    }\n",
       "</style>\n",
       "<table border=\"1\" class=\"dataframe\">\n",
       "  <thead>\n",
       "    <tr style=\"text-align: right;\">\n",
       "      <th></th>\n",
       "      <th>emd_nm</th>\n",
       "      <th>resid_reg_pop</th>\n",
       "      <th>foreign_pop</th>\n",
       "      <th>total_pop</th>\n",
       "    </tr>\n",
       "  </thead>\n",
       "  <tbody>\n",
       "    <tr>\n",
       "      <th>0</th>\n",
       "      <td>건입동</td>\n",
       "      <td>4682.333333</td>\n",
       "      <td>123.321429</td>\n",
       "      <td>4805.654762</td>\n",
       "    </tr>\n",
       "    <tr>\n",
       "      <th>1</th>\n",
       "      <td>구좌읍</td>\n",
       "      <td>7786.404762</td>\n",
       "      <td>304.702381</td>\n",
       "      <td>8091.107143</td>\n",
       "    </tr>\n",
       "    <tr>\n",
       "      <th>2</th>\n",
       "      <td>남원읍</td>\n",
       "      <td>9477.773810</td>\n",
       "      <td>364.833333</td>\n",
       "      <td>9842.607143</td>\n",
       "    </tr>\n",
       "    <tr>\n",
       "      <th>3</th>\n",
       "      <td>노형동</td>\n",
       "      <td>27087.523810</td>\n",
       "      <td>1093.321429</td>\n",
       "      <td>28180.845238</td>\n",
       "    </tr>\n",
       "    <tr>\n",
       "      <th>4</th>\n",
       "      <td>대륜동</td>\n",
       "      <td>7164.488095</td>\n",
       "      <td>101.119048</td>\n",
       "      <td>7265.607143</td>\n",
       "    </tr>\n",
       "    <tr>\n",
       "      <th>5</th>\n",
       "      <td>대정읍</td>\n",
       "      <td>10721.642857</td>\n",
       "      <td>842.464286</td>\n",
       "      <td>11564.107143</td>\n",
       "    </tr>\n",
       "    <tr>\n",
       "      <th>6</th>\n",
       "      <td>대천동</td>\n",
       "      <td>6848.726190</td>\n",
       "      <td>111.273810</td>\n",
       "      <td>6960.000000</td>\n",
       "    </tr>\n",
       "    <tr>\n",
       "      <th>7</th>\n",
       "      <td>도두동</td>\n",
       "      <td>1580.535714</td>\n",
       "      <td>63.345238</td>\n",
       "      <td>1643.880952</td>\n",
       "    </tr>\n",
       "    <tr>\n",
       "      <th>8</th>\n",
       "      <td>동홍동</td>\n",
       "      <td>11503.071429</td>\n",
       "      <td>595.059524</td>\n",
       "      <td>12098.130952</td>\n",
       "    </tr>\n",
       "    <tr>\n",
       "      <th>9</th>\n",
       "      <td>봉개동</td>\n",
       "      <td>2453.630952</td>\n",
       "      <td>43.916667</td>\n",
       "      <td>2497.547619</td>\n",
       "    </tr>\n",
       "    <tr>\n",
       "      <th>10</th>\n",
       "      <td>삼도1동</td>\n",
       "      <td>6958.250000</td>\n",
       "      <td>81.928571</td>\n",
       "      <td>7040.178571</td>\n",
       "    </tr>\n",
       "    <tr>\n",
       "      <th>11</th>\n",
       "      <td>삼도2동</td>\n",
       "      <td>4123.154762</td>\n",
       "      <td>130.095238</td>\n",
       "      <td>4253.250000</td>\n",
       "    </tr>\n",
       "    <tr>\n",
       "      <th>12</th>\n",
       "      <td>삼양동</td>\n",
       "      <td>12629.130952</td>\n",
       "      <td>123.750000</td>\n",
       "      <td>12752.880952</td>\n",
       "    </tr>\n",
       "    <tr>\n",
       "      <th>13</th>\n",
       "      <td>서홍동</td>\n",
       "      <td>5283.761905</td>\n",
       "      <td>61.511905</td>\n",
       "      <td>5345.273810</td>\n",
       "    </tr>\n",
       "    <tr>\n",
       "      <th>14</th>\n",
       "      <td>성산읍</td>\n",
       "      <td>7721.226190</td>\n",
       "      <td>845.761905</td>\n",
       "      <td>8566.988095</td>\n",
       "    </tr>\n",
       "    <tr>\n",
       "      <th>15</th>\n",
       "      <td>송산동</td>\n",
       "      <td>2140.809524</td>\n",
       "      <td>276.571429</td>\n",
       "      <td>2417.380952</td>\n",
       "    </tr>\n",
       "    <tr>\n",
       "      <th>16</th>\n",
       "      <td>아라동</td>\n",
       "      <td>17292.345238</td>\n",
       "      <td>567.535714</td>\n",
       "      <td>17859.880952</td>\n",
       "    </tr>\n",
       "    <tr>\n",
       "      <th>17</th>\n",
       "      <td>안덕면</td>\n",
       "      <td>5955.511905</td>\n",
       "      <td>313.166667</td>\n",
       "      <td>6268.678571</td>\n",
       "    </tr>\n",
       "    <tr>\n",
       "      <th>18</th>\n",
       "      <td>애월읍</td>\n",
       "      <td>17998.928571</td>\n",
       "      <td>522.916667</td>\n",
       "      <td>18521.845238</td>\n",
       "    </tr>\n",
       "    <tr>\n",
       "      <th>19</th>\n",
       "      <td>연동</td>\n",
       "      <td>20792.500000</td>\n",
       "      <td>982.428571</td>\n",
       "      <td>21774.928571</td>\n",
       "    </tr>\n",
       "    <tr>\n",
       "      <th>20</th>\n",
       "      <td>영천동</td>\n",
       "      <td>2625.714286</td>\n",
       "      <td>90.119048</td>\n",
       "      <td>2715.833333</td>\n",
       "    </tr>\n",
       "    <tr>\n",
       "      <th>21</th>\n",
       "      <td>예래동</td>\n",
       "      <td>2002.059524</td>\n",
       "      <td>125.678571</td>\n",
       "      <td>2127.738095</td>\n",
       "    </tr>\n",
       "    <tr>\n",
       "      <th>22</th>\n",
       "      <td>오라동</td>\n",
       "      <td>7549.654762</td>\n",
       "      <td>115.976190</td>\n",
       "      <td>7665.630952</td>\n",
       "    </tr>\n",
       "    <tr>\n",
       "      <th>23</th>\n",
       "      <td>외도동</td>\n",
       "      <td>10813.154762</td>\n",
       "      <td>146.583333</td>\n",
       "      <td>10959.738095</td>\n",
       "    </tr>\n",
       "    <tr>\n",
       "      <th>24</th>\n",
       "      <td>용담1동</td>\n",
       "      <td>3663.083333</td>\n",
       "      <td>43.916667</td>\n",
       "      <td>3707.000000</td>\n",
       "    </tr>\n",
       "    <tr>\n",
       "      <th>25</th>\n",
       "      <td>용담2동</td>\n",
       "      <td>7579.202381</td>\n",
       "      <td>118.226190</td>\n",
       "      <td>7697.428571</td>\n",
       "    </tr>\n",
       "    <tr>\n",
       "      <th>26</th>\n",
       "      <td>우도면</td>\n",
       "      <td>913.369048</td>\n",
       "      <td>15.630952</td>\n",
       "      <td>929.000000</td>\n",
       "    </tr>\n",
       "    <tr>\n",
       "      <th>27</th>\n",
       "      <td>이도1동</td>\n",
       "      <td>3864.571429</td>\n",
       "      <td>66.607143</td>\n",
       "      <td>3931.178571</td>\n",
       "    </tr>\n",
       "    <tr>\n",
       "      <th>28</th>\n",
       "      <td>이도2동</td>\n",
       "      <td>24937.047619</td>\n",
       "      <td>321.142857</td>\n",
       "      <td>25258.190476</td>\n",
       "    </tr>\n",
       "    <tr>\n",
       "      <th>29</th>\n",
       "      <td>이호동</td>\n",
       "      <td>2252.535714</td>\n",
       "      <td>83.880952</td>\n",
       "      <td>2336.416667</td>\n",
       "    </tr>\n",
       "    <tr>\n",
       "      <th>30</th>\n",
       "      <td>일도1동</td>\n",
       "      <td>1380.488095</td>\n",
       "      <td>44.773810</td>\n",
       "      <td>1425.261905</td>\n",
       "    </tr>\n",
       "    <tr>\n",
       "      <th>31</th>\n",
       "      <td>일도2동</td>\n",
       "      <td>16916.416667</td>\n",
       "      <td>149.952381</td>\n",
       "      <td>17066.369048</td>\n",
       "    </tr>\n",
       "    <tr>\n",
       "      <th>32</th>\n",
       "      <td>정방동</td>\n",
       "      <td>1144.035714</td>\n",
       "      <td>57.726190</td>\n",
       "      <td>1201.761905</td>\n",
       "    </tr>\n",
       "    <tr>\n",
       "      <th>33</th>\n",
       "      <td>조천읍</td>\n",
       "      <td>12291.023810</td>\n",
       "      <td>291.857143</td>\n",
       "      <td>12582.880952</td>\n",
       "    </tr>\n",
       "    <tr>\n",
       "      <th>34</th>\n",
       "      <td>중문동</td>\n",
       "      <td>5638.440476</td>\n",
       "      <td>155.297619</td>\n",
       "      <td>5793.738095</td>\n",
       "    </tr>\n",
       "    <tr>\n",
       "      <th>35</th>\n",
       "      <td>중앙동</td>\n",
       "      <td>1862.559524</td>\n",
       "      <td>47.095238</td>\n",
       "      <td>1909.654762</td>\n",
       "    </tr>\n",
       "    <tr>\n",
       "      <th>36</th>\n",
       "      <td>천지동</td>\n",
       "      <td>1773.940476</td>\n",
       "      <td>55.392857</td>\n",
       "      <td>1829.333333</td>\n",
       "    </tr>\n",
       "    <tr>\n",
       "      <th>37</th>\n",
       "      <td>추자면</td>\n",
       "      <td>869.940476</td>\n",
       "      <td>157.023810</td>\n",
       "      <td>1026.964286</td>\n",
       "    </tr>\n",
       "    <tr>\n",
       "      <th>38</th>\n",
       "      <td>표선면</td>\n",
       "      <td>6162.773810</td>\n",
       "      <td>204.642857</td>\n",
       "      <td>6367.416667</td>\n",
       "    </tr>\n",
       "    <tr>\n",
       "      <th>39</th>\n",
       "      <td>한경면</td>\n",
       "      <td>4533.119048</td>\n",
       "      <td>181.678571</td>\n",
       "      <td>4714.797619</td>\n",
       "    </tr>\n",
       "    <tr>\n",
       "      <th>40</th>\n",
       "      <td>한림읍</td>\n",
       "      <td>10625.154762</td>\n",
       "      <td>1788.083333</td>\n",
       "      <td>12413.238095</td>\n",
       "    </tr>\n",
       "    <tr>\n",
       "      <th>41</th>\n",
       "      <td>화북동</td>\n",
       "      <td>12400.773810</td>\n",
       "      <td>195.059524</td>\n",
       "      <td>12595.833333</td>\n",
       "    </tr>\n",
       "    <tr>\n",
       "      <th>42</th>\n",
       "      <td>효돈동</td>\n",
       "      <td>2643.547619</td>\n",
       "      <td>38.273810</td>\n",
       "      <td>2681.821429</td>\n",
       "    </tr>\n",
       "  </tbody>\n",
       "</table>\n",
       "</div>"
      ],
      "text/plain": [
       "   emd_nm  resid_reg_pop  foreign_pop     total_pop\n",
       "0     건입동    4682.333333   123.321429   4805.654762\n",
       "1     구좌읍    7786.404762   304.702381   8091.107143\n",
       "2     남원읍    9477.773810   364.833333   9842.607143\n",
       "3     노형동   27087.523810  1093.321429  28180.845238\n",
       "4     대륜동    7164.488095   101.119048   7265.607143\n",
       "5     대정읍   10721.642857   842.464286  11564.107143\n",
       "6     대천동    6848.726190   111.273810   6960.000000\n",
       "7     도두동    1580.535714    63.345238   1643.880952\n",
       "8     동홍동   11503.071429   595.059524  12098.130952\n",
       "9     봉개동    2453.630952    43.916667   2497.547619\n",
       "10   삼도1동    6958.250000    81.928571   7040.178571\n",
       "11   삼도2동    4123.154762   130.095238   4253.250000\n",
       "12    삼양동   12629.130952   123.750000  12752.880952\n",
       "13    서홍동    5283.761905    61.511905   5345.273810\n",
       "14    성산읍    7721.226190   845.761905   8566.988095\n",
       "15    송산동    2140.809524   276.571429   2417.380952\n",
       "16    아라동   17292.345238   567.535714  17859.880952\n",
       "17    안덕면    5955.511905   313.166667   6268.678571\n",
       "18    애월읍   17998.928571   522.916667  18521.845238\n",
       "19     연동   20792.500000   982.428571  21774.928571\n",
       "20    영천동    2625.714286    90.119048   2715.833333\n",
       "21    예래동    2002.059524   125.678571   2127.738095\n",
       "22    오라동    7549.654762   115.976190   7665.630952\n",
       "23    외도동   10813.154762   146.583333  10959.738095\n",
       "24   용담1동    3663.083333    43.916667   3707.000000\n",
       "25   용담2동    7579.202381   118.226190   7697.428571\n",
       "26    우도면     913.369048    15.630952    929.000000\n",
       "27   이도1동    3864.571429    66.607143   3931.178571\n",
       "28   이도2동   24937.047619   321.142857  25258.190476\n",
       "29    이호동    2252.535714    83.880952   2336.416667\n",
       "30   일도1동    1380.488095    44.773810   1425.261905\n",
       "31   일도2동   16916.416667   149.952381  17066.369048\n",
       "32    정방동    1144.035714    57.726190   1201.761905\n",
       "33    조천읍   12291.023810   291.857143  12582.880952\n",
       "34    중문동    5638.440476   155.297619   5793.738095\n",
       "35    중앙동    1862.559524    47.095238   1909.654762\n",
       "36    천지동    1773.940476    55.392857   1829.333333\n",
       "37    추자면     869.940476   157.023810   1026.964286\n",
       "38    표선면    6162.773810   204.642857   6367.416667\n",
       "39    한경면    4533.119048   181.678571   4714.797619\n",
       "40    한림읍   10625.154762  1788.083333  12413.238095\n",
       "41    화북동   12400.773810   195.059524  12595.833333\n",
       "42    효돈동    2643.547619    38.273810   2681.821429"
      ]
     },
     "execution_count": 92,
     "metadata": {},
     "output_type": "execute_result"
    }
   ],
   "source": [
    "rf"
   ]
  },
  {
   "cell_type": "code",
   "execution_count": 107,
   "id": "549e2b7c",
   "metadata": {
    "ExecuteTime": {
     "end_time": "2021-09-14T09:17:59.992601Z",
     "start_time": "2021-09-14T09:17:59.859822Z"
    }
   },
   "outputs": [
    {
     "data": {
      "image/png": "[encoded data removed]",
      "text/plain": [
       "<Figure size 432x288 with 1 Axes>"
      ]
     },
     "metadata": {
      "needs_background": "light"
     },
     "output_type": "display_data"
    }
   ],
   "source": [
    "y1 = rf.resid_reg_pop.sum()\n",
    "x1 = '내국인'\n",
    "x2 = '외국인' \n",
    "y2 = rf.foreign_pop.sum()\n",
    "plt.title('제주도 내/외국인 차이')\n",
    "plt.bar(x1,y1 , width = 0.5 , color = 'orange')\n",
    "plt.bar(x2,y2 , width = 0.5 , color = 'lightgreen')\n",
    "    \n",
    "plt.show()"
   ]
  }
 ],
 "metadata": {
  "kernelspec": {
   "display_name": "Python 3 (ipykernel)",
   "language": "python",
   "name": "python3"
  },
  "language_info": {
   "codemirror_mode": {
    "name": "ipython",
    "version": 3
   },
   "file_extension": ".py",
   "mimetype": "text/x-python",
   "name": "python",
   "nbconvert_exporter": "python",
   "pygments_lexer": "ipython3",
   "version": "3.9.6"
  },
  "toc": {
   "base_numbering": 1,
   "nav_menu": {},
   "number_sections": true,
   "sideBar": true,
   "skip_h1_title": false,
   "title_cell": "Table of Contents",
   "title_sidebar": "Contents",
   "toc_cell": false,
   "toc_position": {},
   "toc_section_display": true,
   "toc_window_display": false
  },
  "varInspector": {
   "cols": {
    "lenName": 16,
    "lenType": 16,
    "lenVar": 40
   },
   "kernels_config": {
    "python": {
     "delete_cmd_postfix": "",
     "delete_cmd_prefix": "del ",
     "library": "var_list.py",
     "varRefreshCmd": "print(var_dic_list())"
    },
    "r": {
     "delete_cmd_postfix": ") ",
     "delete_cmd_prefix": "rm(",
     "library": "var_list.r",
     "varRefreshCmd": "cat(var_dic_list()) "
    }
   },
   "types_to_exclude": [
    "module",
    "function",
    "builtin_function_or_method",
    "instance",
    "_Feature"
   ],
   "window_display": false
  }
 },
 "nbformat": 4,
 "nbformat_minor": 5
}
