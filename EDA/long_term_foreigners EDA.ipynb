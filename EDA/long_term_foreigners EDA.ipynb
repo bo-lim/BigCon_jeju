{
 "cells": [
  {
   "cell_type": "code",
   "execution_count": null,
   "id": "7347121a",
   "metadata": {},
   "outputs": [],
   "source": [
    "import pandas as pd\n",
    "import numpy as np\n",
    "import warnings\n",
    "import os\n",
    "from functools import reduce\n",
    "warnings.filterwarnings(action='ignore')\n",
    "\n",
    "import seaborn as sns\n",
    "import matplotlib\n",
    "sns.set_palette(\"pastel\")\n",
    "import matplotlib.pylab as plt\n",
    "from matplotlib import font_manager, rc\n",
    "%matplotlib inline\n",
    "\n",
    "sns.set(rc = {'figure.figsize':(15,7)})\n",
    "\n",
    "import platform\n",
    "your_os = platform.system()\n",
    "if your_os == 'Linux':\n",
    "    rc('font', family='NanumGothic')\n",
    "elif your_os == 'Windows':\n",
    "    ttf = \"c:/Windows/Fonts/malgun.ttf\"\n",
    "    font_name = font_manager.FontProperties(fname=ttf).get_name()\n",
    "    rc('font', family=font_name)\n",
    "elif your_os == 'Darwin':\n",
    "    rc('font', family='AppleGothic')\n",
    "rc('axes', unicode_minus=False)"
   ]
  },
  {
   "cell_type": "markdown",
   "id": "96715239",
   "metadata": {},
   "source": [
    "# 외국인 유동인구\n",
    "<br>\n",
    "기간 : 2018.1.1 ~ 6.30"
   ]
  },
  {
   "cell_type": "markdown",
   "id": "992bd043",
   "metadata": {},
   "source": [
    "- base_date : 기준일자\n",
    "- time : 시간\n",
    "- nationality : 외국인 국적코드\n",
    "- city\t시 구분\n",
    "- emd_cd : 행정동 코드\n",
    "- emd_nm : 행정동명\n",
    "- resd_pop_cnt : 거주인구\n",
    "- work_pop_cnt : 근무인구\n",
    "- visit_pop_cnt : 방문인구\n",
    "- resd : 거주지역 행정구역"
   ]
  },
  {
   "cell_type": "markdown",
   "id": "86cc390d",
   "metadata": {},
   "source": [
    "* 거주인구 : 1~24시 해당 시간 정각 측정 인구(거주지에 머문 시간(분)/60분)\n",
    "* 근무인구 : 1~24시 해당 시간 정각 측정 인구(근무지에 머문 시간(분)/60분)\n",
    "* 방문인구 : 1~24시 해당 시간 정각 측정 인구(거주지/근무지 외 지역에 머문 시간(분)/60분)"
   ]
  },
  {
   "cell_type": "markdown",
   "id": "8b4c2924",
   "metadata": {},
   "source": [
    "# Data Read"
   ]
  },
  {
   "cell_type": "code",
   "execution_count": null,
   "id": "6c5d3455",
   "metadata": {},
   "outputs": [],
   "source": [
    "#pd.read_csv('01_제공데이터/02-1_내국인유동인구_KOREAN.csv',low_memory=False)\n",
    "\n",
    "frgn = pd.read_pickle('01_제공데이터/02-2_장기체류 외국인 유동인구_LONG_TERM_FRGN.pickle')"
   ]
  },
  {
   "cell_type": "code",
   "execution_count": null,
   "id": "aba287ae",
   "metadata": {},
   "outputs": [],
   "source": [
    "frgn['base_date'] = pd.to_datetime(frgn['base_date'])"
   ]
  },
  {
   "cell_type": "code",
   "execution_count": null,
   "id": "94ff5c0e",
   "metadata": {},
   "outputs": [],
   "source": [
    "def get_season(x):\n",
    "    season = ''\n",
    "    if (x == 1) or (x == 2) or (x == 12):\n",
    "        season = 'winter'\n",
    "    elif (x == 3) or (x == 4) or (x == 5):\n",
    "        season = 'spring'\n",
    "    elif (x == 6) or (x == 7) or (x == 8):\n",
    "        season = 'summer'\n",
    "    elif (x == 9) or (x == 10) or (x == 11):\n",
    "        season = 'fall'\n",
    "    else:\n",
    "        season = ''\n",
    "    return season"
   ]
  },
  {
   "cell_type": "code",
   "execution_count": null,
   "id": "4bc9b37b",
   "metadata": {},
   "outputs": [],
   "source": [
    "frgn['month'] = frgn['base_date'].dt.month\n",
    "frgn['season'] = frgn['month'].apply(lambda x: get_season(x)).astype('category')"
   ]
  },
  {
   "cell_type": "code",
   "execution_count": null,
   "id": "68ad9320",
   "metadata": {},
   "outputs": [],
   "source": [
    "frgn['season'] = pd.Categorical(frgn['season'],['spring','summer','fall','winter'])"
   ]
  },
  {
   "cell_type": "code",
   "execution_count": null,
   "id": "d9471ca2",
   "metadata": {},
   "outputs": [],
   "source": [
    "nation_sort = frgn['nationality'].value_counts().index[:] # 인구 비중이 큰 국적부터 정렬"
   ]
  },
  {
   "cell_type": "code",
   "execution_count": null,
   "id": "18b51d16",
   "metadata": {},
   "outputs": [],
   "source": [
    "frgn.head()"
   ]
  },
  {
   "cell_type": "code",
   "execution_count": null,
   "id": "9e81e73a",
   "metadata": {},
   "outputs": [],
   "source": [
    "frgn.info()"
   ]
  },
  {
   "cell_type": "markdown",
   "id": "aaa27ca2",
   "metadata": {},
   "source": [
    "# Data preview(Total)"
   ]
  },
  {
   "cell_type": "code",
   "execution_count": null,
   "id": "2163b6d4",
   "metadata": {
    "scrolled": true
   },
   "outputs": [],
   "source": [
    "# na값 확인\n",
    "frgn.isna().sum()"
   ]
  },
  {
   "cell_type": "code",
   "execution_count": null,
   "id": "2be0d524",
   "metadata": {},
   "outputs": [],
   "source": [
    "frgn['city'].value_counts()"
   ]
  },
  {
   "cell_type": "markdown",
   "id": "1e46b765",
   "metadata": {},
   "source": [
    "국적 비중 : 중국 > 베트남 > 미국 > 인도 > 기타 > 네팔 > 필리핀 > 캐나다 > 캄보디아 > 스리랑카 > 미얀마 > 일본 > 몽골 ..."
   ]
  },
  {
   "cell_type": "code",
   "execution_count": null,
   "id": "d1800a76",
   "metadata": {},
   "outputs": [],
   "source": [
    "frgn['nationality'].value_counts().plot.pie(autopct = \"%.1f%%\",  startangle = 45, explode = (0,0,0,0,0,0,0,0,0,0,0,0,0,0,0,0,0,0,0,0,0,0,0,0.1,0.2,0.3,0.4,0.5,0.6,0.7,0.8))"
   ]
  },
  {
   "cell_type": "markdown",
   "id": "9d409029",
   "metadata": {},
   "source": [
    "# EDA\n",
    "- notation : 국적 별로 패턴이 매우 상이하기 때문에 외국인 장기 체류 안에서 살펴볼 경우 국적 별 유형화가 시급하다."
   ]
  },
  {
   "cell_type": "markdown",
   "id": "24552aa9",
   "metadata": {},
   "source": [
    "## 전체기간(일단위) resd / work / visit population"
   ]
  },
  {
   "cell_type": "code",
   "execution_count": null,
   "id": "ff610e4f",
   "metadata": {},
   "outputs": [],
   "source": [
    "frgn.groupby(['base_date'])['resd_pop_cnt','work_pop_cnt','visit_pop_cnt'].sum().reset_index().set_index('base_date').corr()"
   ]
  },
  {
   "cell_type": "markdown",
   "id": "55a2bc0a",
   "metadata": {},
   "source": [
    "### 전체 기간동안 거주지역에 따른 유형별 유동인구 추이\n",
    "- 방문인구의 경우 그외 거주 유동인구의 영향이 매우 큼(국내 유동인구보다 심하다)\n",
    "- 거주인구 > 방문인구 > 근무인구 : 방문인구의 정의가 거주지 혹은 근무지 이외의 유동인구이므로 **방문인구의 유형화**가 필요할 것으로 보임(관광지, 상권지역 등) => 방문인구는 관광하는 유동인구를 포함한 것이 기정사실.\n",
    "- 거주인구와 방문인구는 음의 상관관계\n",
    "- 거주지역과 그외 지역의 구분이 명확 : 거주지역에는 방문인구가 잡히지만, 그외지역에는 거주인구가 아예 잡히지 않음. => 단순히 거주지역으로의 방문객?"
   ]
  },
  {
   "cell_type": "code",
   "execution_count": null,
   "id": "58259b53",
   "metadata": {},
   "outputs": [],
   "source": [
    "# 거주 지역 상관 없이\n",
    "pop_cnt = frgn.groupby(['base_date'])['resd_pop_cnt','work_pop_cnt','visit_pop_cnt'].sum().reset_index()\n",
    "pop_cnt = pd.melt(pop_cnt, id_vars='base_date', var_name='pop', value_name='cnt')\n",
    "\n",
    "sns.lineplot(data=pop_cnt,x='base_date',y='cnt',hue='pop')\n",
    "plt.title('전 지역 population cnt')\n",
    "plt.tight_layout()\n",
    "plt.show()"
   ]
  },
  {
   "cell_type": "code",
   "execution_count": null,
   "id": "5374e18e",
   "metadata": {},
   "outputs": [],
   "source": [
    "# 제주 거주\n",
    "res_cnt = frgn[frgn['resd'] == '제주'].groupby(['base_date'])['resd_pop_cnt','work_pop_cnt','visit_pop_cnt'].sum().reset_index()\n",
    "res_cnt = pd.melt(res_cnt, id_vars='base_date', var_name='pop', value_name='cnt')\n",
    "res_cnt['base_date'] = pd.to_datetime(res_cnt['base_date'])\n",
    "\n",
    "sns.lineplot(data=res_cnt,x='base_date',y='cnt',hue='pop')\n",
    "plt.title('거주지역 제주 population cnt')\n",
    "plt.show()"
   ]
  },
  {
   "cell_type": "code",
   "execution_count": null,
   "id": "74f4a5dc",
   "metadata": {},
   "outputs": [],
   "source": [
    "# 그 외 거주\n",
    "etc_cnt = frgn[frgn['resd'] == '그외'].groupby(['base_date'])['resd_pop_cnt','work_pop_cnt','visit_pop_cnt'].sum().reset_index()\n",
    "etc_cnt = pd.melt(etc_cnt, id_vars='base_date', var_name='pop', value_name='cnt')\n",
    "etc_cnt['base_date'] = pd.to_datetime(etc_cnt['base_date'])\n",
    "\n",
    "sns.lineplot(data=etc_cnt,x='base_date',y='cnt',hue='pop')\n",
    "plt.title('거주지역 그 외 population cnt')\n",
    "plt.show()"
   ]
  },
  {
   "cell_type": "markdown",
   "id": "15c2191c",
   "metadata": {},
   "source": [
    "### 전체 기간동안 국적별 유동인구 추이\n",
    "- 국내 유동인구와 달리 국적에 해당하는 유동인구가 많은 순으로 봤을 때, 해당 국적의 유동인구가 많다고 어느 한 패턴으로 유지되지는 않는 듯.\n",
    "- 국적 별로 유동인구의 패턴과 추이가 상이함 => 거주/근무/방문인구가 우세한지에 따라 국적(나라)들을 패턴화 할 수 있지 않을까? => 관광(방문)이 많은 나라, 거주인구가 많은 나라 등..."
   ]
  },
  {
   "cell_type": "code",
   "execution_count": null,
   "id": "24b7f579",
   "metadata": {
    "scrolled": true
   },
   "outputs": [],
   "source": [
    "# 거주지 상관없이 국적별 전체 유동인구 추이\n",
    "for nation in nation_sort:\n",
    "    pop_cnt = frgn[frgn['nationality'] == nation].groupby(['base_date'])['resd_pop_cnt','work_pop_cnt','visit_pop_cnt'].sum().reset_index()\n",
    "    pop_cnt = pd.melt(pop_cnt, id_vars='base_date', var_name='pop', value_name='cnt')\n",
    "\n",
    "    sns.lineplot(data=pop_cnt,x='base_date',y='cnt',hue='pop')\n",
    "    plt.title('전 지역 국적 : {} population cnt'.format(nation))\n",
    "    plt.tight_layout()\n",
    "    plt.show()"
   ]
  },
  {
   "cell_type": "code",
   "execution_count": null,
   "id": "10ac5d80",
   "metadata": {
    "scrolled": true
   },
   "outputs": [],
   "source": [
    "# 제주 거주 국적별 전체 유동인구 추이\n",
    "for nation in nation_sort:\n",
    "    pop_cnt = frgn[(frgn['nationality'] == nation) & (frgn['resd'] == '제주')].groupby(['base_date'])['resd_pop_cnt','work_pop_cnt','visit_pop_cnt'].sum().reset_index()\n",
    "    pop_cnt = pd.melt(pop_cnt, id_vars='base_date', var_name='pop', value_name='cnt')\n",
    "\n",
    "    sns.lineplot(data=pop_cnt,x='base_date',y='cnt',hue='pop')\n",
    "    plt.title('제주 거주 국적 : {} population cnt'.format(nation))\n",
    "    plt.tight_layout()\n",
    "    plt.show()"
   ]
  },
  {
   "cell_type": "code",
   "execution_count": null,
   "id": "a3238633",
   "metadata": {
    "scrolled": true
   },
   "outputs": [],
   "source": [
    "# 그외 거주 국적별 전체 유동인구 추이 => 제주에 거주하지 않으므로 resd_pop_cnt는 포함하지 않음\n",
    "for nation in nation_sort:\n",
    "    pop_cnt = frgn[(frgn['nationality'] == nation) & (frgn['resd'] == '그외')].groupby(['base_date'])['work_pop_cnt','visit_pop_cnt'].sum().reset_index()\n",
    "    pop_cnt = pd.melt(pop_cnt, id_vars='base_date', var_name='pop', value_name='cnt')\n",
    "\n",
    "    sns.lineplot(data=pop_cnt,x='base_date',y='cnt',hue='pop')\n",
    "    plt.title('그외 거주 국적 : {} population cnt'.format(nation))\n",
    "    plt.tight_layout()\n",
    "    plt.show()"
   ]
  },
  {
   "cell_type": "markdown",
   "id": "132ce8c4",
   "metadata": {},
   "source": [
    "### 일평균 인구통계 특성별 유동인구 추이"
   ]
  },
  {
   "cell_type": "code",
   "execution_count": null,
   "id": "1f09fae1",
   "metadata": {},
   "outputs": [],
   "source": [
    "# 일평균 국적별 유동인구(중국)\n",
    "nat_pop = frgn[frgn['nationality'] == 'CHN'].groupby(['base_date','nationality','resd'])['visit_pop_cnt','resd_pop_cnt','work_pop_cnt'].sum().reset_index()\n",
    "nat_pop = (nat_pop.groupby(['nationality','resd'])['visit_pop_cnt','resd_pop_cnt','work_pop_cnt'].mean()).stack().reset_index()\n",
    "nat_pop.columns = ['nationality','resd','pop','cnt']\n",
    "\n",
    "figure, (ax1,ax2) = plt.subplots(ncols=2)\n",
    "figure.set_size_inches(18,7)\n",
    "sns.barplot(data = nat_pop[nat_pop['resd'] == '제주'].reset_index(drop=True),x = 'cnt',y='nationality',hue='pop',ax = ax1)\n",
    "sns.barplot(data = nat_pop[nat_pop['resd'] == '그외'].reset_index(drop=True),x = 'cnt',y='nationality',hue='pop',ax = ax2)\n",
    "ax1.set(title=\"거주지역이 제주인 중국 일평균 유동인구\")\n",
    "ax2.set(title=\"거주지역이 그외인 중국 일평균 유동인구\")"
   ]
  },
  {
   "cell_type": "code",
   "execution_count": null,
   "id": "cd193621",
   "metadata": {},
   "outputs": [],
   "source": [
    "# 일평균 국적별 유동인구(중국 제외)\n",
    "day_nat_pop = frgn[frgn['nationality'] != 'CHN'].groupby(['base_date','nationality','resd'])['visit_pop_cnt','resd_pop_cnt','work_pop_cnt'].sum().reset_index()\n",
    "day_nat_pop = (day_nat_pop.groupby(['nationality','resd'])['visit_pop_cnt','resd_pop_cnt','work_pop_cnt'].mean()).stack().reset_index()\n",
    "day_nat_pop.columns = ['nationality','resd','pop','cnt']\n",
    "\n",
    "figure, (ax1,ax2) = plt.subplots(ncols=2)\n",
    "figure.set_size_inches(18,20)\n",
    "sns.barplot(data = day_nat_pop[day_nat_pop['resd'] == '제주'].reset_index(drop=True),x = 'cnt',y='nationality',hue='pop',ax = ax1, orient='h')\n",
    "sns.barplot(data = day_nat_pop[day_nat_pop['resd'] == '그외'].reset_index(drop=True),x = 'cnt',y='nationality',hue='pop',ax = ax2, orient='h')\n",
    "ax1.set(title=\"거주지역이 제주인 국적별 일평균 유동인구\")\n",
    "ax2.set(title=\"거주지역이 그외인 국적별 일평균 유동인구\")"
   ]
  },
  {
   "cell_type": "markdown",
   "id": "efab230e",
   "metadata": {},
   "source": [
    "## 계절별 resd / work / visit popualation"
   ]
  },
  {
   "cell_type": "markdown",
   "id": "186c5f55",
   "metadata": {},
   "source": [
    "### 국적별 유동인구"
   ]
  },
  {
   "cell_type": "code",
   "execution_count": null,
   "id": "88ff72b7",
   "metadata": {},
   "outputs": [],
   "source": [
    "season_cnt = frgn.groupby(['nationality','season'])['resd_pop_cnt','work_pop_cnt','visit_pop_cnt'].sum().stack().reset_index()\n",
    "season_cnt.columns = ['nationality','season','pop','cnt']"
   ]
  },
  {
   "cell_type": "code",
   "execution_count": null,
   "id": "5c73dd73",
   "metadata": {
    "scrolled": true
   },
   "outputs": [],
   "source": [
    "for nat in frgn.nationality.unique():\n",
    "    season = season_cnt[season_cnt['nationality'] == nat]\n",
    "    sns.barplot(data = season,x = 'pop',y='cnt',hue='season')\n",
    "    plt.title('{} 계절별 방문인구'.format(nat))\n",
    "    plt.show()"
   ]
  },
  {
   "cell_type": "markdown",
   "id": "ca390acd",
   "metadata": {},
   "source": [
    "## 월별 resd / work / visit popualation "
   ]
  },
  {
   "cell_type": "markdown",
   "id": "934e4107",
   "metadata": {},
   "source": [
    "### 국적별 유동인구"
   ]
  },
  {
   "cell_type": "code",
   "execution_count": null,
   "id": "661ba4c2",
   "metadata": {},
   "outputs": [],
   "source": [
    "month_cnt = frgn.groupby(['nationality','month'])['resd_pop_cnt','work_pop_cnt','visit_pop_cnt'].sum().stack().reset_index()\n",
    "month_cnt.columns = ['nationality','month','pop','cnt']"
   ]
  },
  {
   "cell_type": "code",
   "execution_count": null,
   "id": "8b6b57d8",
   "metadata": {},
   "outputs": [],
   "source": [
    "for nat in frgn.nationality.unique():\n",
    "    monthly = month_cnt[month_cnt['nationality'] == nat]\n",
    "    sns.lineplot(data = monthly,x = 'month',y='cnt',hue='pop')\n",
    "    plt.title('{} 월별 방문인구'.format(nat))\n",
    "    plt.show()"
   ]
  },
  {
   "cell_type": "markdown",
   "id": "d5f44753",
   "metadata": {},
   "source": [
    "## 시간대별 resd / work / visit population"
   ]
  },
  {
   "cell_type": "markdown",
   "id": "7ce1cb5c",
   "metadata": {},
   "source": [
    "[인구 성격 별 시간당 유동인구 추이]\n",
    "- 근무인구보다 방문인구 쪽이 더 늦은 시간에 인구가 줄어든다 => 방문인구에 출퇴근 인구가 포함되어있을 가능성\n",
    "- 같은 visit_population이라도 지역 별로 시간당 인구 추이가 다름 => 해당 지역의 인구통계를 연관지어 생각할 필요 있음"
   ]
  },
  {
   "cell_type": "markdown",
   "id": "7ac773df",
   "metadata": {},
   "source": [
    "### 시간 당 계절 별 유동인구 추이"
   ]
  },
  {
   "cell_type": "markdown",
   "id": "f92ad393",
   "metadata": {},
   "source": [
    "resd_pop_cnt"
   ]
  },
  {
   "cell_type": "code",
   "execution_count": null,
   "id": "6d4f75b3",
   "metadata": {},
   "outputs": [],
   "source": [
    "# 거주지역이 제주인 resd_pop_cnt = 전체 지역 resd_pop_cnt\n",
    "m = frgn.groupby(['base_date','season','time'])['resd_pop_cnt'].sum().reset_index()\n",
    "m = m.groupby(['season','time'])['resd_pop_cnt'].mean().reset_index()\n",
    "m['time'] = m['time'].astype('category')\n",
    "#m['month'] = m['month'].astype('category')\n",
    "sns.lineplot(data=m,x='time',y='resd_pop_cnt',hue='season')\n",
    "plt.title('시간별 계절 평균 resd_pop_cnt')"
   ]
  },
  {
   "cell_type": "code",
   "execution_count": null,
   "id": "cb8725c4",
   "metadata": {},
   "outputs": [],
   "source": [
    "# 시간별 계절 평균 resd_pop_cnt(그외 거주)는 관측 데이터 없음."
   ]
  },
  {
   "cell_type": "markdown",
   "id": "329a5a76",
   "metadata": {},
   "source": [
    "work_pop_cnt"
   ]
  },
  {
   "cell_type": "code",
   "execution_count": null,
   "id": "0ba0d2af",
   "metadata": {},
   "outputs": [],
   "source": [
    "m = frgn.groupby(['base_date','season','time'])['work_pop_cnt'].sum().reset_index()\n",
    "m = m.groupby(['season','time'])['work_pop_cnt'].mean().reset_index()\n",
    "m['time'] = m['time'].astype('category')\n",
    "sns.lineplot(data=m,x='time',y='work_pop_cnt',hue='season')\n",
    "plt.title('시간별 계절 평균 work_pop_cnt')"
   ]
  },
  {
   "cell_type": "code",
   "execution_count": null,
   "id": "90485dfc",
   "metadata": {},
   "outputs": [],
   "source": [
    "m = frgn[frgn['resd'] == '제주'].groupby(['base_date','season','time'])['work_pop_cnt'].sum().reset_index()\n",
    "m = m.groupby(['season','time'])['work_pop_cnt'].mean().reset_index()\n",
    "m['time'] = m['time'].astype('category')\n",
    "#m['month'] = m['month'].astype('category')\n",
    "sns.lineplot(data=m,x='time',y='work_pop_cnt',hue='season')\n",
    "plt.title('시간별 계절 평균 work_pop_cnt(제주 거주)')"
   ]
  },
  {
   "cell_type": "code",
   "execution_count": null,
   "id": "ad8dabf7",
   "metadata": {},
   "outputs": [],
   "source": [
    "m = frgn[frgn['resd'] == '그외'].groupby(['base_date','season','time'])['work_pop_cnt'].sum().reset_index()\n",
    "m = m.groupby(['season','time'])['work_pop_cnt'].mean().reset_index()\n",
    "m['time'] = m['time'].astype('category')\n",
    "#m['month'] = m['month'].astype('category')\n",
    "sns.lineplot(data=m,x='time',y='work_pop_cnt',hue='season')\n",
    "plt.title('시간별 계절 평균 work_pop_cnt(그외 거주)')"
   ]
  },
  {
   "cell_type": "markdown",
   "id": "dab95da3",
   "metadata": {},
   "source": [
    "visit_pop_cnt"
   ]
  },
  {
   "cell_type": "code",
   "execution_count": null,
   "id": "d2916228",
   "metadata": {},
   "outputs": [],
   "source": [
    "m = frgn.groupby(['base_date','season','time'])['visit_pop_cnt'].sum().reset_index()\n",
    "m = m.groupby(['season','time'])['visit_pop_cnt'].mean().reset_index()\n",
    "m['time'] = m['time'].astype('category')\n",
    "#m['month'] = m['month'].astype('category')\n",
    "sns.lineplot(data=m,x='time',y='visit_pop_cnt',hue='season')\n",
    "plt.title('시간별 계절 평균 visit_pop_cnt')"
   ]
  },
  {
   "cell_type": "code",
   "execution_count": null,
   "id": "6a802b27",
   "metadata": {},
   "outputs": [],
   "source": [
    "m = frgn[frgn['resd'] == '제주'].groupby(['base_date','season','time'])['visit_pop_cnt'].sum().reset_index()\n",
    "m = m.groupby(['season','time'])['visit_pop_cnt'].mean().reset_index()\n",
    "m['time'] = m['time'].astype('category')\n",
    "#m['month'] = m['month'].astype('category')\n",
    "sns.lineplot(data=m,x='time',y='visit_pop_cnt',hue='season')\n",
    "plt.title('시간별 계절 평균 visit_pop_cnt(제주 거주)')"
   ]
  },
  {
   "cell_type": "code",
   "execution_count": null,
   "id": "4a5eb662",
   "metadata": {},
   "outputs": [],
   "source": [
    "m = frgn[frgn['resd'] == '그외'].groupby(['base_date','season','time'])['visit_pop_cnt'].sum().reset_index()\n",
    "m = m.groupby(['season','time'])['visit_pop_cnt'].mean().reset_index()\n",
    "m['time'] = m['time'].astype('category')\n",
    "#m['month'] = m['month'].astype('category')\n",
    "sns.lineplot(data=m,x='time',y='visit_pop_cnt',hue='season')\n",
    "plt.title('시간별 계절 평균 visit_pop_cnt(그외 거주)')"
   ]
  },
  {
   "cell_type": "markdown",
   "id": "e17fb8e4",
   "metadata": {},
   "source": [
    "### 시간 당 국적 별 유동인구 추이"
   ]
  },
  {
   "cell_type": "code",
   "execution_count": null,
   "id": "51a061ef",
   "metadata": {},
   "outputs": [],
   "source": [
    "m = frgn.groupby(['base_date','nationality','resd','time'])['resd_pop_cnt','visit_pop_cnt','work_pop_cnt'].sum().reset_index()\n",
    "m = m.groupby(['nationality','resd','time'])['resd_pop_cnt','visit_pop_cnt','work_pop_cnt'].mean().stack().reset_index()\n",
    "m['time'] = m['time'].astype('category')\n",
    "m['nationality'] = m['nationality'].astype('category')\n",
    "m.columns = ['nationality','resd','time','pop','cnt']"
   ]
  },
  {
   "cell_type": "code",
   "execution_count": null,
   "id": "6a469fa2",
   "metadata": {},
   "outputs": [],
   "source": [
    "# 그외 거주의 work_pop_cnt와 resd_pop_cnt는 값이 너무 작아서 시각화에서 제외.\n",
    "for nat in frgn.nationality.unique():\n",
    "    figure, (ax1,ax2) = plt.subplots(ncols=2)\n",
    "    figure.set_size_inches(18,7)\n",
    "    sns.lineplot(data=m[(m['nationality'] == nat) & (m['resd'] == '제주')],x='time',y='cnt',hue='pop',ax=ax1)\n",
    "    sns.lineplot(data=m[(m['nationality'] == nat) & (m['resd'] == '그외') & (m['pop'] == 'visit_pop_cnt')],x='time',y='cnt',hue='pop',ax=ax2)\n",
    "    plt.title('{} 시간당 평균 pop_cnt(제주 거주)'.format(nat))\n",
    "    ax1.set(title='{} 시간당 평균 pop_cnt(제주 거주)'.format(nat))\n",
    "    ax2.set(title='{} 시간당 평균 pop_cnt(그외 거주)'.format(nat))\n",
    "    plt.tight_layout()\n",
    "    plt.show()"
   ]
  },
  {
   "cell_type": "markdown",
   "id": "a874d61e",
   "metadata": {},
   "source": [
    "## TOP10 행정구역 선정\n",
    "- 세 가지의 인구 유형 별 유동인구 TOP10 행정동을 각각 선별\n",
    "- 보통 유동인구 유형별 전체 인구 TOP10을 따라가며, 인구특성별로 보면 하위권 지역은 잘 바뀌는데 상위권은 거의 고정"
   ]
  },
  {
   "cell_type": "code",
   "execution_count": null,
   "id": "dec0af10",
   "metadata": {},
   "outputs": [],
   "source": [
    "frgn_cnt = frgn.groupby(['emd_nm'])['visit_pop_cnt','work_pop_cnt', 'resd_pop_cnt'].sum().reset_index()\n",
    "\n",
    "# 인구 성격별 유동인구 top10 지역 추출\n",
    "visit_top10 = frgn_cnt.sort_values(ascending=False,by=['visit_pop_cnt'])[:10]\n",
    "work_top10 = frgn_cnt.sort_values(ascending=False,by=['work_pop_cnt'])[:10]\n",
    "resd_top10 = frgn_cnt.sort_values(ascending=False,by=['resd_pop_cnt'])[:10]"
   ]
  },
  {
   "cell_type": "code",
   "execution_count": null,
   "id": "238382f9",
   "metadata": {
    "scrolled": false
   },
   "outputs": [],
   "source": [
    "visit_top10.set_index('emd_nm').sort_values(by = 'visit_pop_cnt')['visit_pop_cnt'].plot(kind='barh',title = '방문인구 top10 지역', fontsize=13)"
   ]
  },
  {
   "cell_type": "code",
   "execution_count": null,
   "id": "a6b690c4",
   "metadata": {},
   "outputs": [],
   "source": [
    "work_top10.set_index('emd_nm').sort_values(by = 'work_pop_cnt')['work_pop_cnt'].plot(kind='barh',title = '근무 인구 top10 지역', fontsize=13)"
   ]
  },
  {
   "cell_type": "code",
   "execution_count": null,
   "id": "7728972a",
   "metadata": {
    "scrolled": false
   },
   "outputs": [],
   "source": [
    "resd_top10.set_index('emd_nm').sort_values(by = 'resd_pop_cnt')['resd_pop_cnt'].plot(kind='barh',title = '거주인구 top10 지역', fontsize=13)"
   ]
  },
  {
   "cell_type": "code",
   "execution_count": null,
   "id": "5d52b882",
   "metadata": {
    "scrolled": true
   },
   "outputs": [],
   "source": [
    "nation_sort = frgn['nationality'].value_counts().index[:]\n",
    "for nat in nation_sort:\n",
    "    nat_cnt = frgn[frgn['nationality'] == nat].groupby(['emd_nm'])['visit_pop_cnt','work_pop_cnt', 'resd_pop_cnt'].sum().reset_index()\n",
    "\n",
    "    # 인구 성격별 유동인구 top10 지역 추출\n",
    "    visit_top10 = nat_cnt.sort_values(ascending=False,by=['visit_pop_cnt'])[:10]\n",
    "    work_top10 = nat_cnt.sort_values(ascending=False,by=['work_pop_cnt'])[:10]\n",
    "    resd_top10 = nat_cnt.sort_values(ascending=False,by=['resd_pop_cnt'])[:10]\n",
    "    \n",
    "    figure, (ax1,ax2,ax3) = plt.subplots(ncols=3)\n",
    "    figure.set_size_inches(18,8)\n",
    "    \n",
    "    visit_top10.set_index('emd_nm').sort_values(by = 'visit_pop_cnt')['visit_pop_cnt'].plot(kind='barh',title = '방문인구 top10 지역', fontsize=13,ax=ax1)\n",
    "    work_top10.set_index('emd_nm').sort_values(by = 'work_pop_cnt')['work_pop_cnt'].plot(kind='barh',title = '근무 인구 top10 지역', fontsize=13,ax=ax2)\n",
    "    resd_top10.set_index('emd_nm').sort_values(by = 'resd_pop_cnt')['resd_pop_cnt'].plot(kind='barh',title = '거주인구 top10 지역', fontsize=13,ax=ax3)\n",
    "    \n",
    "    ax1.set(title='{} 방문인구 TOP10 지역'.format(nat))\n",
    "    ax2.set(title='{} 근무인구 TOP10 지역'.format(nat))\n",
    "    ax3.set(title='{} 거주인구 TOP10 지역'.format(nat))"
   ]
  },
  {
   "cell_type": "markdown",
   "id": "a79379e8",
   "metadata": {},
   "source": [
    "### 전체기간 동안 유동인구 TOP10(visit, work, resd) 추이 확인"
   ]
  },
  {
   "cell_type": "code",
   "execution_count": null,
   "id": "20068d6d",
   "metadata": {},
   "outputs": [],
   "source": [
    "V = frgn[frgn['emd_nm'].isin(visit_top10.emd_nm)].groupby(['emd_nm','base_date','resd'])['resd_pop_cnt', 'work_pop_cnt', 'visit_pop_cnt'].sum().stack().reset_index()\n",
    "W = frgn[frgn['emd_nm'].isin(work_top10.emd_nm)].groupby(['emd_nm','base_date','resd'])['resd_pop_cnt', 'work_pop_cnt', 'visit_pop_cnt'].sum().stack().reset_index()\n",
    "R = frgn[frgn['emd_nm'].isin(resd_top10.emd_nm)].groupby(['emd_nm','base_date','resd'])['resd_pop_cnt', 'work_pop_cnt', 'visit_pop_cnt'].sum().stack().reset_index()\n",
    "\n",
    "V.columns = ['emd_nm','base_date','resd','pop','cnt']\n",
    "W.columns = ['emd_nm','base_date','resd','pop','cnt']\n",
    "R.columns = ['emd_nm','base_date','resd','pop','cnt']"
   ]
  },
  {
   "cell_type": "markdown",
   "id": "780f025b",
   "metadata": {},
   "source": [
    "Visit TOP10"
   ]
  },
  {
   "cell_type": "code",
   "execution_count": null,
   "id": "6b7cd7e3",
   "metadata": {
    "scrolled": true
   },
   "outputs": [],
   "source": [
    "for nm in visit_top10['emd_nm']:\n",
    "    sns.lineplot(data=V[V['emd_nm'] == nm].groupby(['emd_nm','base_date','pop'])['cnt'].sum().reset_index(),x='base_date',y='cnt',hue='pop')\n",
    "    plt.title('전 거주지역 방문인구 TOP10 {} 유동인구 추이'.format(nm))\n",
    "    plt.show()"
   ]
  },
  {
   "cell_type": "markdown",
   "id": "1d0fff8a",
   "metadata": {},
   "source": [
    "Work TOP10"
   ]
  },
  {
   "cell_type": "code",
   "execution_count": null,
   "id": "482f6b2b",
   "metadata": {
    "scrolled": true
   },
   "outputs": [],
   "source": [
    "for nm in work_top10['emd_nm']:\n",
    "    sns.lineplot(data=W[W['emd_nm'] == nm].groupby(['emd_nm','base_date','pop'])['cnt'].sum().reset_index(),x='base_date',y='cnt',hue='pop')\n",
    "    plt.title('전 거주지역 근무인구 TOP10 {} 유동인구 추이'.format(nm))\n",
    "    plt.show()"
   ]
  },
  {
   "cell_type": "markdown",
   "id": "c779abba",
   "metadata": {},
   "source": [
    "Resd TOP10"
   ]
  },
  {
   "cell_type": "code",
   "execution_count": null,
   "id": "90821ca8",
   "metadata": {
    "scrolled": true
   },
   "outputs": [],
   "source": [
    "for nm in resd_top10['emd_nm']:\n",
    "    sns.lineplot(data=R[R['emd_nm'] == nm].groupby(['emd_nm','base_date','pop'])['cnt'].sum().reset_index(),x='base_date',y='cnt',hue='pop')\n",
    "    plt.title('전 거주지역 거주인구 TOP10 {} 유동인구 추이'.format(nm))\n",
    "    plt.show()"
   ]
  },
  {
   "cell_type": "markdown",
   "id": "012c94e7",
   "metadata": {},
   "source": [
    "### 시간 당 지역별 유동인구 TOP10(visit, work, resd) 추이 확인\n",
    "- 내국인 유동인구 결론과 동일.\n",
    "- 거주지가 제주인 경우와 아닌 경우의 시간당 유동인구 패턴이 다른 행정동이 있음\n",
    "- 유동인구 세 가지 유형별 top10 지역을 다 따로 보는 것보다, 행정동마다 거주 지역 여부에 따른 시간당 유동인구 패턴을 보아야 할 듯"
   ]
  },
  {
   "cell_type": "code",
   "execution_count": null,
   "id": "dfa0ee44",
   "metadata": {},
   "outputs": [],
   "source": [
    "v = frgn[frgn['emd_nm'].isin(visit_top10.emd_nm)].groupby(['emd_nm','resd','time'])['resd_pop_cnt', 'work_pop_cnt', 'visit_pop_cnt'].sum().stack().reset_index()\n",
    "w = frgn[frgn['emd_nm'].isin(work_top10.emd_nm)].groupby(['emd_nm','resd','time'])['resd_pop_cnt', 'work_pop_cnt', 'visit_pop_cnt'].sum().stack().reset_index()\n",
    "r = frgn[frgn['emd_nm'].isin(resd_top10.emd_nm)].groupby(['emd_nm','resd','time'])['resd_pop_cnt', 'work_pop_cnt', 'visit_pop_cnt'].sum().stack().reset_index()\n",
    "\n",
    "v.columns = ['emd_nm','resd','time','pop','cnt']\n",
    "w.columns = ['emd_nm','resd','time','pop','cnt']\n",
    "r.columns = ['emd_nm','resd','time','pop','cnt']"
   ]
  },
  {
   "cell_type": "markdown",
   "id": "984f03ca",
   "metadata": {},
   "source": [
    "Visit TOP10"
   ]
  },
  {
   "cell_type": "code",
   "execution_count": null,
   "id": "27d583f7",
   "metadata": {
    "scrolled": true
   },
   "outputs": [],
   "source": [
    "for nm in visit_top10['emd_nm']:\n",
    "    figure, (ax1,ax2,ax3) = plt.subplots(ncols=3)\n",
    "    figure.set_size_inches(18,5)\n",
    "    sns.lineplot(data = v[(v['emd_nm'] == nm) & (v['pop'] == 'visit_pop_cnt')].reset_index(drop=True),x = 'time',y='cnt',hue='resd',ax = ax1)\n",
    "    sns.lineplot(data = v[(v['emd_nm'] == nm) & (v['pop'] == 'work_pop_cnt')].reset_index(drop=True),x = 'time',y='cnt',hue='resd',ax = ax2)\n",
    "    sns.lineplot(data = v[(v['emd_nm'] == nm) & (v['pop'] == 'resd_pop_cnt')].reset_index(drop=True),x = 'time',y='cnt',hue='resd',ax = ax3)\n",
    "    ax1.set(title=\"방문인구 TOP 10 {}\\n 거주지 별 시간당 유동인구(visit_pop)\".format(nm))\n",
    "    ax2.set(title=\"방문인구 TOP 10 {}\\n 거주지 별 시간당 유동인구(work_pop)\".format(nm))\n",
    "    ax3.set(title=\"방문인구 TOP 10 {}\\n 거주지 별 시간당 유동인구(resd_pop)\".format(nm))"
   ]
  },
  {
   "cell_type": "markdown",
   "id": "94f7fa6a",
   "metadata": {},
   "source": [
    "Work TOP10"
   ]
  },
  {
   "cell_type": "code",
   "execution_count": null,
   "id": "e7d7782c",
   "metadata": {
    "scrolled": true
   },
   "outputs": [],
   "source": [
    "for nm in work_top10['emd_nm']:\n",
    "    figure, (ax1,ax2,ax3) = plt.subplots(ncols=3)\n",
    "    figure.set_size_inches(18,5)\n",
    "    sns.lineplot(data = w[(w['emd_nm'] == nm) & (w['pop'] == 'visit_pop_cnt')].reset_index(drop=True),x = 'time',y='cnt',hue='resd',ax = ax1)\n",
    "    sns.lineplot(data = w[(w['emd_nm'] == nm) & (w['pop'] == 'work_pop_cnt')].reset_index(drop=True),x = 'time',y='cnt',hue='resd',ax = ax2)\n",
    "    sns.lineplot(data = w[(w['emd_nm'] == nm) & (w['pop'] == 'resd_pop_cnt')].reset_index(drop=True),x = 'time',y='cnt',hue='resd',ax = ax3)\n",
    "    ax1.set(title=\"근무인구 TOP 10 {}\\n 거주지 별 시간당 유동인구(visit_pop)\".format(nm))\n",
    "    ax2.set(title=\"근무인구 TOP 10 {}\\n 거주지 별 시간당 유동인구(work_pop)\".format(nm))\n",
    "    ax3.set(title=\"근무인구 TOP 10 {}\\n 거주지 별 시간당 유동인구(resd_pop)\".format(nm))"
   ]
  },
  {
   "cell_type": "markdown",
   "id": "ab012302",
   "metadata": {},
   "source": [
    "Resd TOP10"
   ]
  },
  {
   "cell_type": "code",
   "execution_count": null,
   "id": "b3cd5055",
   "metadata": {
    "scrolled": true
   },
   "outputs": [],
   "source": [
    "for nm in resd_top10['emd_nm']:\n",
    "    figure, (ax1,ax2,ax3) = plt.subplots(ncols=3)\n",
    "    figure.set_size_inches(18,5)\n",
    "    sns.lineplot(data = r[(r['emd_nm'] == nm) & (r['pop'] == 'visit_pop_cnt')].reset_index(drop=True),x = 'time',y='cnt',hue='resd',ax = ax1)\n",
    "    sns.lineplot(data = r[(r['emd_nm'] == nm) & (r['pop'] == 'work_pop_cnt')].reset_index(drop=True),x = 'time',y='cnt',hue='resd',ax = ax2)\n",
    "    sns.lineplot(data = r[(r['emd_nm'] == nm) & (r['pop'] == 'resd_pop_cnt')].reset_index(drop=True),x = 'time',y='cnt',hue='resd',ax = ax3)\n",
    "    ax1.set(title=\"거주인구 TOP 10 {}\\n 거주지 별 시간당 유동인구(visit_pop)\".format(nm))\n",
    "    ax2.set(title=\"거주인구 TOP 10 {}\\n 거주지 별 시간당 유동인구(work_pop)\".format(nm))\n",
    "    ax3.set(title=\"거주인구 TOP 10 {}\\n 거주지 별 시간당 유동인구(resd_pop)\".format(nm))"
   ]
  }
 ],
 "metadata": {
  "kernelspec": {
   "display_name": "Python 3",
   "language": "python",
   "name": "python3"
  },
  "language_info": {
   "codemirror_mode": {
    "name": "ipython",
    "version": 3
   },
   "file_extension": ".py",
   "mimetype": "text/x-python",
   "name": "python",
   "nbconvert_exporter": "python",
   "pygments_lexer": "ipython3",
   "version": "3.8.8"
  }
 },
 "nbformat": 4,
 "nbformat_minor": 5
}
